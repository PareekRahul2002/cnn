{
 "cells": [
  {
   "cell_type": "code",
   "execution_count": 19,
   "id": "ea46f7a3",
   "metadata": {},
   "outputs": [
    {
     "name": "stderr",
     "output_type": "stream",
     "text": [
      "\r",
      "Processing Images:   0%|          | 0/600 [00:00<?, ?it/s]"
     ]
    },
    {
     "name": "stdout",
     "output_type": "stream",
     "text": [
      "1/1 [==============================] - 0s 31ms/step\n"
     ]
    },
    {
     "name": "stderr",
     "output_type": "stream",
     "text": [
      "\r",
      "Processing Images:   0%|          | 1/600 [00:00<01:57,  5.10it/s]"
     ]
    },
    {
     "name": "stdout",
     "output_type": "stream",
     "text": [
      "1/1 [==============================] - 0s 31ms/step\n"
     ]
    },
    {
     "name": "stderr",
     "output_type": "stream",
     "text": [
      "\r",
      "Processing Images:   0%|          | 2/600 [00:00<01:52,  5.30it/s]"
     ]
    },
    {
     "name": "stdout",
     "output_type": "stream",
     "text": [
      "1/1 [==============================] - 0s 31ms/step\n"
     ]
    },
    {
     "name": "stderr",
     "output_type": "stream",
     "text": [
      "\r",
      "Processing Images:   0%|          | 3/600 [00:00<01:55,  5.16it/s]"
     ]
    },
    {
     "name": "stdout",
     "output_type": "stream",
     "text": [
      "1/1 [==============================] - 0s 39ms/step\n"
     ]
    },
    {
     "name": "stderr",
     "output_type": "stream",
     "text": [
      "\r",
      "Processing Images:   1%|          | 4/600 [00:00<01:57,  5.09it/s]"
     ]
    },
    {
     "name": "stdout",
     "output_type": "stream",
     "text": [
      "1/1 [==============================] - 0s 53ms/step\n"
     ]
    },
    {
     "name": "stderr",
     "output_type": "stream",
     "text": [
      "\r",
      "Processing Images:   1%|          | 5/600 [00:00<01:59,  4.97it/s]"
     ]
    },
    {
     "name": "stdout",
     "output_type": "stream",
     "text": [
      "1/1 [==============================] - 0s 44ms/step\n"
     ]
    },
    {
     "name": "stderr",
     "output_type": "stream",
     "text": [
      "\r",
      "Processing Images:   1%|          | 6/600 [00:01<02:01,  4.90it/s]"
     ]
    },
    {
     "name": "stdout",
     "output_type": "stream",
     "text": [
      "1/1 [==============================] - 0s 33ms/step\n"
     ]
    },
    {
     "name": "stderr",
     "output_type": "stream",
     "text": [
      "\r",
      "Processing Images:   1%|          | 7/600 [00:01<01:57,  5.06it/s]"
     ]
    },
    {
     "name": "stdout",
     "output_type": "stream",
     "text": [
      "1/1 [==============================] - 0s 29ms/step\n"
     ]
    },
    {
     "name": "stderr",
     "output_type": "stream",
     "text": [
      "\r",
      "Processing Images:   1%|▏         | 8/600 [00:01<01:57,  5.05it/s]"
     ]
    },
    {
     "name": "stdout",
     "output_type": "stream",
     "text": [
      "1/1 [==============================] - 0s 31ms/step\n"
     ]
    },
    {
     "name": "stderr",
     "output_type": "stream",
     "text": [
      "\r",
      "Processing Images:   2%|▏         | 9/600 [00:01<01:52,  5.23it/s]"
     ]
    },
    {
     "name": "stdout",
     "output_type": "stream",
     "text": [
      "1/1 [==============================] - 0s 27ms/step\n"
     ]
    },
    {
     "name": "stderr",
     "output_type": "stream",
     "text": [
      "\r",
      "Processing Images:   2%|▏         | 10/600 [00:01<01:51,  5.31it/s]"
     ]
    },
    {
     "name": "stdout",
     "output_type": "stream",
     "text": [
      "1/1 [==============================] - 0s 27ms/step\n"
     ]
    },
    {
     "name": "stderr",
     "output_type": "stream",
     "text": [
      "\r",
      "Processing Images:   2%|▏         | 11/600 [00:02<01:45,  5.60it/s]"
     ]
    },
    {
     "name": "stdout",
     "output_type": "stream",
     "text": [
      "1/1 [==============================] - 0s 22ms/step\n"
     ]
    },
    {
     "name": "stderr",
     "output_type": "stream",
     "text": [
      "\r",
      "Processing Images:   2%|▏         | 12/600 [00:02<01:42,  5.73it/s]"
     ]
    },
    {
     "name": "stdout",
     "output_type": "stream",
     "text": [
      "1/1 [==============================] - 0s 47ms/step\n"
     ]
    },
    {
     "name": "stderr",
     "output_type": "stream",
     "text": [
      "\r",
      "Processing Images:   2%|▏         | 13/600 [00:02<01:46,  5.49it/s]"
     ]
    },
    {
     "name": "stdout",
     "output_type": "stream",
     "text": [
      "1/1 [==============================] - 0s 31ms/step\n"
     ]
    },
    {
     "name": "stderr",
     "output_type": "stream",
     "text": [
      "\r",
      "Processing Images:   2%|▏         | 14/600 [00:02<01:44,  5.62it/s]"
     ]
    },
    {
     "name": "stdout",
     "output_type": "stream",
     "text": [
      "1/1 [==============================] - 0s 31ms/step\n"
     ]
    },
    {
     "name": "stderr",
     "output_type": "stream",
     "text": [
      "\r",
      "Processing Images:   2%|▎         | 15/600 [00:02<01:42,  5.73it/s]"
     ]
    },
    {
     "name": "stdout",
     "output_type": "stream",
     "text": [
      "1/1 [==============================] - 0s 26ms/step\n"
     ]
    },
    {
     "name": "stderr",
     "output_type": "stream",
     "text": [
      "\r",
      "Processing Images:   3%|▎         | 16/600 [00:02<01:41,  5.74it/s]"
     ]
    },
    {
     "name": "stdout",
     "output_type": "stream",
     "text": [
      "1/1 [==============================] - 0s 19ms/step\n"
     ]
    },
    {
     "name": "stderr",
     "output_type": "stream",
     "text": [
      "\r",
      "Processing Images:   3%|▎         | 17/600 [00:03<01:44,  5.57it/s]"
     ]
    },
    {
     "name": "stdout",
     "output_type": "stream",
     "text": [
      "1/1 [==============================] - 0s 32ms/step\n"
     ]
    },
    {
     "name": "stderr",
     "output_type": "stream",
     "text": [
      "\r",
      "Processing Images:   3%|▎         | 18/600 [00:03<01:42,  5.68it/s]"
     ]
    },
    {
     "name": "stdout",
     "output_type": "stream",
     "text": [
      "1/1 [==============================] - 0s 16ms/step\n"
     ]
    },
    {
     "name": "stderr",
     "output_type": "stream",
     "text": [
      "\r",
      "Processing Images:   3%|▎         | 19/600 [00:03<01:40,  5.78it/s]"
     ]
    },
    {
     "name": "stdout",
     "output_type": "stream",
     "text": [
      "1/1 [==============================] - 0s 47ms/step\n"
     ]
    },
    {
     "name": "stderr",
     "output_type": "stream",
     "text": [
      "\r",
      "Processing Images:   3%|▎         | 20/600 [00:03<01:47,  5.38it/s]"
     ]
    },
    {
     "name": "stdout",
     "output_type": "stream",
     "text": [
      "1/1 [==============================] - 0s 31ms/step\n"
     ]
    },
    {
     "name": "stderr",
     "output_type": "stream",
     "text": [
      "\r",
      "Processing Images:   4%|▎         | 21/600 [00:03<01:44,  5.56it/s]"
     ]
    },
    {
     "name": "stdout",
     "output_type": "stream",
     "text": [
      "1/1 [==============================] - 0s 32ms/step\n"
     ]
    },
    {
     "name": "stderr",
     "output_type": "stream",
     "text": [
      "\r",
      "Processing Images:   4%|▎         | 22/600 [00:04<01:41,  5.68it/s]"
     ]
    },
    {
     "name": "stdout",
     "output_type": "stream",
     "text": [
      "1/1 [==============================] - 0s 31ms/step\n"
     ]
    },
    {
     "name": "stderr",
     "output_type": "stream",
     "text": [
      "\r",
      "Processing Images:   4%|▍         | 23/600 [00:04<01:39,  5.77it/s]"
     ]
    },
    {
     "name": "stdout",
     "output_type": "stream",
     "text": [
      "1/1 [==============================] - 0s 31ms/step\n"
     ]
    },
    {
     "name": "stderr",
     "output_type": "stream",
     "text": [
      "\r",
      "Processing Images:   4%|▍         | 24/600 [00:04<01:38,  5.84it/s]"
     ]
    },
    {
     "name": "stdout",
     "output_type": "stream",
     "text": [
      "1/1 [==============================] - 0s 29ms/step\n"
     ]
    },
    {
     "name": "stderr",
     "output_type": "stream",
     "text": [
      "\r",
      "Processing Images:   4%|▍         | 25/600 [00:04<01:35,  6.05it/s]"
     ]
    },
    {
     "name": "stdout",
     "output_type": "stream",
     "text": [
      "1/1 [==============================] - 0s 16ms/step\n"
     ]
    },
    {
     "name": "stderr",
     "output_type": "stream",
     "text": [
      "\r",
      "Processing Images:   4%|▍         | 26/600 [00:04<01:37,  5.87it/s]"
     ]
    },
    {
     "name": "stdout",
     "output_type": "stream",
     "text": [
      "1/1 [==============================] - 0s 31ms/step\n"
     ]
    },
    {
     "name": "stderr",
     "output_type": "stream",
     "text": [
      "\r",
      "Processing Images:   4%|▍         | 27/600 [00:04<01:40,  5.73it/s]"
     ]
    },
    {
     "name": "stdout",
     "output_type": "stream",
     "text": [
      "1/1 [==============================] - 0s 31ms/step\n"
     ]
    },
    {
     "name": "stderr",
     "output_type": "stream",
     "text": [
      "\r",
      "Processing Images:   5%|▍         | 28/600 [00:05<01:43,  5.50it/s]"
     ]
    },
    {
     "name": "stdout",
     "output_type": "stream",
     "text": [
      "1/1 [==============================] - 0s 31ms/step\n"
     ]
    },
    {
     "name": "stderr",
     "output_type": "stream",
     "text": [
      "\r",
      "Processing Images:   5%|▍         | 29/600 [00:05<01:41,  5.64it/s]"
     ]
    },
    {
     "name": "stdout",
     "output_type": "stream",
     "text": [
      "1/1 [==============================] - 0s 28ms/step\n"
     ]
    },
    {
     "name": "stderr",
     "output_type": "stream",
     "text": [
      "\r",
      "Processing Images:   5%|▌         | 30/600 [00:05<01:42,  5.56it/s]"
     ]
    },
    {
     "name": "stdout",
     "output_type": "stream",
     "text": [
      "1/1 [==============================] - 0s 19ms/step\n"
     ]
    },
    {
     "name": "stderr",
     "output_type": "stream",
     "text": [
      "\r",
      "Processing Images:   5%|▌         | 31/600 [00:05<01:39,  5.70it/s]"
     ]
    },
    {
     "name": "stdout",
     "output_type": "stream",
     "text": [
      "1/1 [==============================] - 0s 16ms/step\n"
     ]
    },
    {
     "name": "stderr",
     "output_type": "stream",
     "text": [
      "\r",
      "Processing Images:   5%|▌         | 32/600 [00:05<01:41,  5.61it/s]"
     ]
    },
    {
     "name": "stdout",
     "output_type": "stream",
     "text": [
      "1/1 [==============================] - 0s 17ms/step\n"
     ]
    },
    {
     "name": "stderr",
     "output_type": "stream",
     "text": [
      "\r",
      "Processing Images:   6%|▌         | 33/600 [00:05<01:39,  5.73it/s]"
     ]
    },
    {
     "name": "stdout",
     "output_type": "stream",
     "text": [
      "1/1 [==============================] - 0s 16ms/step\n"
     ]
    },
    {
     "name": "stderr",
     "output_type": "stream",
     "text": [
      "\r",
      "Processing Images:   6%|▌         | 34/600 [00:06<01:40,  5.65it/s]"
     ]
    },
    {
     "name": "stdout",
     "output_type": "stream",
     "text": [
      "1/1 [==============================] - 0s 32ms/step\n"
     ]
    },
    {
     "name": "stderr",
     "output_type": "stream",
     "text": [
      "\r",
      "Processing Images:   6%|▌         | 35/600 [00:06<01:43,  5.44it/s]"
     ]
    },
    {
     "name": "stdout",
     "output_type": "stream",
     "text": [
      "1/1 [==============================] - 0s 27ms/step\n"
     ]
    },
    {
     "name": "stderr",
     "output_type": "stream",
     "text": [
      "\r",
      "Processing Images:   6%|▌         | 36/600 [00:06<01:43,  5.46it/s]"
     ]
    },
    {
     "name": "stdout",
     "output_type": "stream",
     "text": [
      "1/1 [==============================] - 0s 31ms/step\n"
     ]
    },
    {
     "name": "stderr",
     "output_type": "stream",
     "text": [
      "\r",
      "Processing Images:   6%|▌         | 37/600 [00:06<01:40,  5.61it/s]"
     ]
    },
    {
     "name": "stdout",
     "output_type": "stream",
     "text": [
      "1/1 [==============================] - 0s 31ms/step\n"
     ]
    },
    {
     "name": "stderr",
     "output_type": "stream",
     "text": [
      "\r",
      "Processing Images:   6%|▋         | 38/600 [00:06<01:38,  5.72it/s]"
     ]
    },
    {
     "name": "stdout",
     "output_type": "stream",
     "text": [
      "1/1 [==============================] - 0s 31ms/step\n"
     ]
    },
    {
     "name": "stderr",
     "output_type": "stream",
     "text": [
      "\r",
      "Processing Images:   6%|▋         | 39/600 [00:07<01:36,  5.80it/s]"
     ]
    },
    {
     "name": "stdout",
     "output_type": "stream",
     "text": [
      "1/1 [==============================] - 0s 16ms/step\n"
     ]
    },
    {
     "name": "stderr",
     "output_type": "stream",
     "text": [
      "\r",
      "Processing Images:   7%|▋         | 40/600 [00:07<01:35,  5.85it/s]"
     ]
    },
    {
     "name": "stdout",
     "output_type": "stream",
     "text": [
      "1/1 [==============================] - 0s 31ms/step\n"
     ]
    },
    {
     "name": "stderr",
     "output_type": "stream",
     "text": [
      "\r",
      "Processing Images:   7%|▋         | 41/600 [00:07<01:37,  5.72it/s]"
     ]
    },
    {
     "name": "stdout",
     "output_type": "stream",
     "text": [
      "1/1 [==============================] - 0s 32ms/step\n"
     ]
    },
    {
     "name": "stderr",
     "output_type": "stream",
     "text": [
      "\r",
      "Processing Images:   7%|▋         | 42/600 [00:07<01:35,  5.82it/s]"
     ]
    },
    {
     "name": "stdout",
     "output_type": "stream",
     "text": [
      "1/1 [==============================] - 0s 31ms/step\n"
     ]
    },
    {
     "name": "stderr",
     "output_type": "stream",
     "text": [
      "\r",
      "Processing Images:   7%|▋         | 43/600 [00:07<01:34,  5.87it/s]"
     ]
    },
    {
     "name": "stdout",
     "output_type": "stream",
     "text": [
      "1/1 [==============================] - 0s 31ms/step\n"
     ]
    },
    {
     "name": "stderr",
     "output_type": "stream",
     "text": [
      "\r",
      "Processing Images:   7%|▋         | 44/600 [00:07<01:34,  5.91it/s]"
     ]
    },
    {
     "name": "stdout",
     "output_type": "stream",
     "text": [
      "1/1 [==============================] - 0s 31ms/step\n"
     ]
    },
    {
     "name": "stderr",
     "output_type": "stream",
     "text": [
      "\r",
      "Processing Images:   8%|▊         | 45/600 [00:08<01:33,  5.93it/s]"
     ]
    },
    {
     "name": "stdout",
     "output_type": "stream",
     "text": [
      "1/1 [==============================] - 0s 16ms/step\n"
     ]
    },
    {
     "name": "stderr",
     "output_type": "stream",
     "text": [
      "\r",
      "Processing Images:   8%|▊         | 46/600 [00:08<01:35,  5.82it/s]"
     ]
    },
    {
     "name": "stdout",
     "output_type": "stream",
     "text": [
      "1/1 [==============================] - 0s 38ms/step\n"
     ]
    },
    {
     "name": "stderr",
     "output_type": "stream",
     "text": [
      "\r",
      "Processing Images:   8%|▊         | 47/600 [00:08<01:39,  5.56it/s]"
     ]
    },
    {
     "name": "stdout",
     "output_type": "stream",
     "text": [
      "1/1 [==============================] - 0s 16ms/step\n"
     ]
    },
    {
     "name": "stderr",
     "output_type": "stream",
     "text": [
      "\r",
      "Processing Images:   8%|▊         | 48/600 [00:08<01:40,  5.48it/s]"
     ]
    },
    {
     "name": "stdout",
     "output_type": "stream",
     "text": [
      "1/1 [==============================] - 0s 42ms/step\n"
     ]
    },
    {
     "name": "stderr",
     "output_type": "stream",
     "text": [
      "\r",
      "Processing Images:   8%|▊         | 49/600 [00:08<01:41,  5.43it/s]"
     ]
    },
    {
     "name": "stdout",
     "output_type": "stream",
     "text": [
      "1/1 [==============================] - 0s 30ms/step\n"
     ]
    },
    {
     "name": "stderr",
     "output_type": "stream",
     "text": [
      "\r",
      "Processing Images:   8%|▊         | 50/600 [00:08<01:42,  5.39it/s]"
     ]
    },
    {
     "name": "stdout",
     "output_type": "stream",
     "text": [
      "1/1 [==============================] - 0s 32ms/step\n"
     ]
    },
    {
     "name": "stderr",
     "output_type": "stream",
     "text": [
      "\r",
      "Processing Images:   8%|▊         | 51/600 [00:09<01:37,  5.65it/s]"
     ]
    },
    {
     "name": "stdout",
     "output_type": "stream",
     "text": [
      "1/1 [==============================] - 0s 31ms/step\n"
     ]
    },
    {
     "name": "stderr",
     "output_type": "stream",
     "text": [
      "\r",
      "Processing Images:   9%|▊         | 52/600 [00:09<01:38,  5.54it/s]"
     ]
    },
    {
     "name": "stdout",
     "output_type": "stream",
     "text": [
      "1/1 [==============================] - 0s 31ms/step\n"
     ]
    },
    {
     "name": "stderr",
     "output_type": "stream",
     "text": [
      "\r",
      "Processing Images:   9%|▉         | 53/600 [00:09<01:34,  5.76it/s]"
     ]
    },
    {
     "name": "stdout",
     "output_type": "stream",
     "text": [
      "1/1 [==============================] - 0s 32ms/step\n"
     ]
    },
    {
     "name": "stderr",
     "output_type": "stream",
     "text": [
      "\r",
      "Processing Images:   9%|▉         | 54/600 [00:09<01:31,  5.94it/s]"
     ]
    },
    {
     "name": "stdout",
     "output_type": "stream",
     "text": [
      "1/1 [==============================] - 0s 16ms/step\n"
     ]
    },
    {
     "name": "stderr",
     "output_type": "stream",
     "text": [
      "\r",
      "Processing Images:   9%|▉         | 55/600 [00:09<01:32,  5.89it/s]"
     ]
    },
    {
     "name": "stdout",
     "output_type": "stream",
     "text": [
      "1/1 [==============================] - 0s 31ms/step\n"
     ]
    },
    {
     "name": "stderr",
     "output_type": "stream",
     "text": [
      "\r",
      "Processing Images:   9%|▉         | 56/600 [00:09<01:30,  6.02it/s]"
     ]
    },
    {
     "name": "stdout",
     "output_type": "stream",
     "text": [
      "1/1 [==============================] - 0s 31ms/step\n"
     ]
    },
    {
     "name": "stderr",
     "output_type": "stream",
     "text": [
      "\r",
      "Processing Images:  10%|▉         | 57/600 [00:10<01:31,  5.95it/s]"
     ]
    },
    {
     "name": "stdout",
     "output_type": "stream",
     "text": [
      "1/1 [==============================] - 0s 25ms/step\n"
     ]
    },
    {
     "name": "stderr",
     "output_type": "stream",
     "text": [
      "\r",
      "Processing Images:  10%|▉         | 58/600 [00:10<01:30,  5.99it/s]"
     ]
    },
    {
     "name": "stdout",
     "output_type": "stream",
     "text": [
      "1/1 [==============================] - 0s 31ms/step\n"
     ]
    },
    {
     "name": "stderr",
     "output_type": "stream",
     "text": [
      "\r",
      "Processing Images:  10%|▉         | 59/600 [00:10<01:31,  5.93it/s]"
     ]
    },
    {
     "name": "stdout",
     "output_type": "stream",
     "text": [
      "1/1 [==============================] - 0s 34ms/step\n"
     ]
    },
    {
     "name": "stderr",
     "output_type": "stream",
     "text": [
      "\r",
      "Processing Images:  10%|█         | 60/600 [00:10<01:29,  6.06it/s]"
     ]
    },
    {
     "name": "stdout",
     "output_type": "stream",
     "text": [
      "1/1 [==============================] - 0s 31ms/step\n"
     ]
    },
    {
     "name": "stderr",
     "output_type": "stream",
     "text": [
      "\r",
      "Processing Images:  10%|█         | 61/600 [00:10<01:30,  5.97it/s]"
     ]
    },
    {
     "name": "stdout",
     "output_type": "stream",
     "text": [
      "1/1 [==============================] - 0s 33ms/step\n"
     ]
    },
    {
     "name": "stderr",
     "output_type": "stream",
     "text": [
      "\r",
      "Processing Images:  10%|█         | 62/600 [00:10<01:29,  6.01it/s]"
     ]
    },
    {
     "name": "stdout",
     "output_type": "stream",
     "text": [
      "1/1 [==============================] - 0s 26ms/step\n"
     ]
    },
    {
     "name": "stderr",
     "output_type": "stream",
     "text": [
      "\r",
      "Processing Images:  10%|█         | 63/600 [00:11<01:30,  5.95it/s]"
     ]
    },
    {
     "name": "stdout",
     "output_type": "stream",
     "text": [
      "1/1 [==============================] - 0s 31ms/step\n"
     ]
    },
    {
     "name": "stderr",
     "output_type": "stream",
     "text": [
      "\r",
      "Processing Images:  11%|█         | 64/600 [00:11<01:28,  6.06it/s]"
     ]
    },
    {
     "name": "stdout",
     "output_type": "stream",
     "text": [
      "1/1 [==============================] - 0s 19ms/step\n"
     ]
    },
    {
     "name": "stderr",
     "output_type": "stream",
     "text": [
      "\r",
      "Processing Images:  11%|█         | 65/600 [00:11<01:27,  6.12it/s]"
     ]
    },
    {
     "name": "stdout",
     "output_type": "stream",
     "text": [
      "1/1 [==============================] - 0s 16ms/step\n"
     ]
    },
    {
     "name": "stderr",
     "output_type": "stream",
     "text": [
      "\r",
      "Processing Images:  11%|█         | 66/600 [00:11<01:28,  6.05it/s]"
     ]
    },
    {
     "name": "stdout",
     "output_type": "stream",
     "text": [
      "1/1 [==============================] - 0s 31ms/step\n"
     ]
    },
    {
     "name": "stderr",
     "output_type": "stream",
     "text": [
      "\r",
      "Processing Images:  11%|█         | 67/600 [00:11<01:26,  6.15it/s]"
     ]
    },
    {
     "name": "stdout",
     "output_type": "stream",
     "text": [
      "1/1 [==============================] - 0s 32ms/step\n"
     ]
    },
    {
     "name": "stderr",
     "output_type": "stream",
     "text": [
      "\r",
      "Processing Images:  11%|█▏        | 68/600 [00:11<01:28,  6.01it/s]"
     ]
    },
    {
     "name": "stdout",
     "output_type": "stream",
     "text": [
      "1/1 [==============================] - 0s 56ms/step\n"
     ]
    },
    {
     "name": "stderr",
     "output_type": "stream",
     "text": [
      "\r",
      "Processing Images:  12%|█▏        | 69/600 [00:12<01:31,  5.81it/s]"
     ]
    },
    {
     "name": "stdout",
     "output_type": "stream",
     "text": [
      "1/1 [==============================] - 0s 31ms/step\n"
     ]
    },
    {
     "name": "stderr",
     "output_type": "stream",
     "text": [
      "\r",
      "Processing Images:  12%|█▏        | 70/600 [00:12<01:28,  5.96it/s]"
     ]
    },
    {
     "name": "stdout",
     "output_type": "stream",
     "text": [
      "1/1 [==============================] - 0s 20ms/step\n"
     ]
    },
    {
     "name": "stderr",
     "output_type": "stream",
     "text": [
      "\r",
      "Processing Images:  12%|█▏        | 71/600 [00:12<01:27,  6.06it/s]"
     ]
    },
    {
     "name": "stdout",
     "output_type": "stream",
     "text": [
      "1/1 [==============================] - 0s 16ms/step\n"
     ]
    },
    {
     "name": "stderr",
     "output_type": "stream",
     "text": [
      "\r",
      "Processing Images:  12%|█▏        | 72/600 [00:12<01:28,  6.00it/s]"
     ]
    },
    {
     "name": "stdout",
     "output_type": "stream",
     "text": [
      "1/1 [==============================] - 0s 31ms/step\n"
     ]
    },
    {
     "name": "stderr",
     "output_type": "stream",
     "text": [
      "\r",
      "Processing Images:  12%|█▏        | 73/600 [00:12<01:26,  6.10it/s]"
     ]
    },
    {
     "name": "stdout",
     "output_type": "stream",
     "text": [
      "1/1 [==============================] - 0s 32ms/step\n"
     ]
    },
    {
     "name": "stderr",
     "output_type": "stream",
     "text": [
      "\r",
      "Processing Images:  12%|█▏        | 74/600 [00:12<01:27,  6.00it/s]"
     ]
    },
    {
     "name": "stdout",
     "output_type": "stream",
     "text": [
      "1/1 [==============================] - 0s 31ms/step\n"
     ]
    },
    {
     "name": "stderr",
     "output_type": "stream",
     "text": [
      "\r",
      "Processing Images:  12%|█▎        | 75/600 [00:13<01:30,  5.78it/s]"
     ]
    },
    {
     "name": "stdout",
     "output_type": "stream",
     "text": [
      "1/1 [==============================] - 0s 16ms/step\n"
     ]
    },
    {
     "name": "stderr",
     "output_type": "stream",
     "text": [
      "\r",
      "Processing Images:  13%|█▎        | 76/600 [00:13<01:33,  5.63it/s]"
     ]
    },
    {
     "name": "stdout",
     "output_type": "stream",
     "text": [
      "1/1 [==============================] - 0s 31ms/step\n"
     ]
    },
    {
     "name": "stderr",
     "output_type": "stream",
     "text": [
      "\r",
      "Processing Images:  13%|█▎        | 77/600 [00:13<01:29,  5.83it/s]"
     ]
    },
    {
     "name": "stdout",
     "output_type": "stream",
     "text": [
      "1/1 [==============================] - 0s 16ms/step\n"
     ]
    },
    {
     "name": "stderr",
     "output_type": "stream",
     "text": [
      "\r",
      "Processing Images:  13%|█▎        | 78/600 [00:13<01:29,  5.82it/s]"
     ]
    },
    {
     "name": "stdout",
     "output_type": "stream",
     "text": [
      "1/1 [==============================] - 0s 31ms/step\n"
     ]
    },
    {
     "name": "stderr",
     "output_type": "stream",
     "text": [
      "\r",
      "Processing Images:  13%|█▎        | 79/600 [00:13<01:27,  5.98it/s]"
     ]
    },
    {
     "name": "stdout",
     "output_type": "stream",
     "text": [
      "1/1 [==============================] - 0s 31ms/step\n"
     ]
    },
    {
     "name": "stderr",
     "output_type": "stream",
     "text": [
      "\r",
      "Processing Images:  13%|█▎        | 80/600 [00:13<01:25,  6.09it/s]"
     ]
    },
    {
     "name": "stdout",
     "output_type": "stream",
     "text": [
      "1/1 [==============================] - 0s 20ms/step\n"
     ]
    },
    {
     "name": "stderr",
     "output_type": "stream",
     "text": [
      "\r",
      "Processing Images:  14%|█▎        | 81/600 [00:14<01:26,  6.00it/s]"
     ]
    },
    {
     "name": "stdout",
     "output_type": "stream",
     "text": [
      "1/1 [==============================] - 0s 31ms/step\n"
     ]
    },
    {
     "name": "stderr",
     "output_type": "stream",
     "text": [
      "\r",
      "Processing Images:  14%|█▎        | 82/600 [00:14<01:24,  6.10it/s]"
     ]
    },
    {
     "name": "stdout",
     "output_type": "stream",
     "text": [
      "1/1 [==============================] - 0s 25ms/step\n"
     ]
    },
    {
     "name": "stderr",
     "output_type": "stream",
     "text": [
      "\r",
      "Processing Images:  14%|█▍        | 83/600 [00:14<01:23,  6.18it/s]"
     ]
    },
    {
     "name": "stdout",
     "output_type": "stream",
     "text": [
      "1/1 [==============================] - 0s 24ms/step\n"
     ]
    },
    {
     "name": "stderr",
     "output_type": "stream",
     "text": [
      "\r",
      "Processing Images:  14%|█▍        | 84/600 [00:14<01:24,  6.14it/s]"
     ]
    },
    {
     "name": "stdout",
     "output_type": "stream",
     "text": [
      "1/1 [==============================] - 0s 19ms/step\n"
     ]
    },
    {
     "name": "stderr",
     "output_type": "stream",
     "text": [
      "\r",
      "Processing Images:  14%|█▍        | 85/600 [00:14<01:25,  6.06it/s]"
     ]
    },
    {
     "name": "stdout",
     "output_type": "stream",
     "text": [
      "1/1 [==============================] - 0s 31ms/step\n"
     ]
    },
    {
     "name": "stderr",
     "output_type": "stream",
     "text": [
      "\r",
      "Processing Images:  14%|█▍        | 86/600 [00:15<01:30,  5.66it/s]"
     ]
    },
    {
     "name": "stdout",
     "output_type": "stream",
     "text": [
      "1/1 [==============================] - 0s 16ms/step\n"
     ]
    },
    {
     "name": "stderr",
     "output_type": "stream",
     "text": [
      "\r",
      "Processing Images:  14%|█▍        | 87/600 [00:15<01:30,  5.70it/s]"
     ]
    },
    {
     "name": "stdout",
     "output_type": "stream",
     "text": [
      "1/1 [==============================] - 0s 31ms/step\n"
     ]
    },
    {
     "name": "stderr",
     "output_type": "stream",
     "text": [
      "\r",
      "Processing Images:  15%|█▍        | 88/600 [00:15<01:26,  5.89it/s]"
     ]
    },
    {
     "name": "stdout",
     "output_type": "stream",
     "text": [
      "1/1 [==============================] - 0s 16ms/step\n"
     ]
    },
    {
     "name": "stderr",
     "output_type": "stream",
     "text": [
      "\r",
      "Processing Images:  15%|█▍        | 89/600 [00:15<01:27,  5.85it/s]"
     ]
    },
    {
     "name": "stdout",
     "output_type": "stream",
     "text": [
      "1/1 [==============================] - 0s 32ms/step\n"
     ]
    },
    {
     "name": "stderr",
     "output_type": "stream",
     "text": [
      "\r",
      "Processing Images:  15%|█▌        | 90/600 [00:15<01:25,  5.98it/s]"
     ]
    },
    {
     "name": "stdout",
     "output_type": "stream",
     "text": [
      "1/1 [==============================] - 0s 16ms/step\n"
     ]
    },
    {
     "name": "stderr",
     "output_type": "stream",
     "text": [
      "\r",
      "Processing Images:  15%|█▌        | 91/600 [00:15<01:23,  6.12it/s]"
     ]
    },
    {
     "name": "stdout",
     "output_type": "stream",
     "text": [
      "1/1 [==============================] - 0s 47ms/step\n"
     ]
    },
    {
     "name": "stderr",
     "output_type": "stream",
     "text": [
      "\r",
      "Processing Images:  15%|█▌        | 92/600 [00:16<01:27,  5.81it/s]"
     ]
    },
    {
     "name": "stdout",
     "output_type": "stream",
     "text": [
      "1/1 [==============================] - 0s 16ms/step\n"
     ]
    },
    {
     "name": "stderr",
     "output_type": "stream",
     "text": [
      "\r",
      "Processing Images:  16%|█▌        | 93/600 [00:16<01:27,  5.80it/s]"
     ]
    },
    {
     "name": "stdout",
     "output_type": "stream",
     "text": [
      "1/1 [==============================] - 0s 35ms/step\n"
     ]
    },
    {
     "name": "stderr",
     "output_type": "stream",
     "text": [
      "\r",
      "Processing Images:  16%|█▌        | 94/600 [00:16<01:24,  5.96it/s]"
     ]
    },
    {
     "name": "stdout",
     "output_type": "stream",
     "text": [
      "1/1 [==============================] - 0s 31ms/step\n"
     ]
    },
    {
     "name": "stderr",
     "output_type": "stream",
     "text": [
      "\r",
      "Processing Images:  16%|█▌        | 95/600 [00:16<01:25,  5.91it/s]"
     ]
    },
    {
     "name": "stdout",
     "output_type": "stream",
     "text": [
      "1/1 [==============================] - 0s 25ms/step\n"
     ]
    },
    {
     "name": "stderr",
     "output_type": "stream",
     "text": [
      "\r",
      "Processing Images:  16%|█▌        | 96/600 [00:16<01:23,  6.04it/s]"
     ]
    },
    {
     "name": "stdout",
     "output_type": "stream",
     "text": [
      "1/1 [==============================] - 0s 29ms/step\n"
     ]
    },
    {
     "name": "stderr",
     "output_type": "stream",
     "text": [
      "\r",
      "Processing Images:  16%|█▌        | 97/600 [00:16<01:31,  5.50it/s]"
     ]
    },
    {
     "name": "stdout",
     "output_type": "stream",
     "text": [
      "1/1 [==============================] - 0s 32ms/step\n"
     ]
    },
    {
     "name": "stderr",
     "output_type": "stream",
     "text": [
      "\r",
      "Processing Images:  16%|█▋        | 98/600 [00:17<01:27,  5.74it/s]"
     ]
    },
    {
     "name": "stdout",
     "output_type": "stream",
     "text": [
      "1/1 [==============================] - 0s 16ms/step\n"
     ]
    },
    {
     "name": "stderr",
     "output_type": "stream",
     "text": [
      "\r",
      "Processing Images:  16%|█▋        | 99/600 [00:17<01:24,  5.91it/s]"
     ]
    },
    {
     "name": "stdout",
     "output_type": "stream",
     "text": [
      "1/1 [==============================] - 0s 30ms/step\n"
     ]
    },
    {
     "name": "stderr",
     "output_type": "stream",
     "text": [
      "\r",
      "Processing Images:  17%|█▋        | 100/600 [00:17<01:25,  5.87it/s]"
     ]
    },
    {
     "name": "stdout",
     "output_type": "stream",
     "text": [
      "1/1 [==============================] - 0s 31ms/step\n"
     ]
    },
    {
     "name": "stderr",
     "output_type": "stream",
     "text": [
      "\r",
      "Processing Images:  17%|█▋        | 101/600 [00:17<01:22,  6.02it/s]"
     ]
    },
    {
     "name": "stdout",
     "output_type": "stream",
     "text": [
      "1/1 [==============================] - 0s 16ms/step\n"
     ]
    },
    {
     "name": "stderr",
     "output_type": "stream",
     "text": [
      "\r",
      "Processing Images:  17%|█▋        | 102/600 [00:17<01:21,  6.12it/s]"
     ]
    },
    {
     "name": "stdout",
     "output_type": "stream",
     "text": [
      "1/1 [==============================] - 0s 32ms/step\n"
     ]
    },
    {
     "name": "stderr",
     "output_type": "stream",
     "text": [
      "\r",
      "Processing Images:  17%|█▋        | 103/600 [00:17<01:22,  6.02it/s]"
     ]
    },
    {
     "name": "stdout",
     "output_type": "stream",
     "text": [
      "1/1 [==============================] - 0s 31ms/step\n"
     ]
    },
    {
     "name": "stderr",
     "output_type": "stream",
     "text": [
      "\r",
      "Processing Images:  17%|█▋        | 104/600 [00:18<01:21,  6.12it/s]"
     ]
    },
    {
     "name": "stdout",
     "output_type": "stream",
     "text": [
      "1/1 [==============================] - 0s 28ms/step\n"
     ]
    },
    {
     "name": "stderr",
     "output_type": "stream",
     "text": [
      "\r",
      "Processing Images:  18%|█▊        | 105/600 [00:18<01:19,  6.19it/s]"
     ]
    },
    {
     "name": "stdout",
     "output_type": "stream",
     "text": [
      "1/1 [==============================] - 0s 16ms/step\n"
     ]
    },
    {
     "name": "stderr",
     "output_type": "stream",
     "text": [
      "\r",
      "Processing Images:  18%|█▊        | 106/600 [00:18<01:21,  6.07it/s]"
     ]
    },
    {
     "name": "stdout",
     "output_type": "stream",
     "text": [
      "1/1 [==============================] - 0s 31ms/step\n"
     ]
    },
    {
     "name": "stderr",
     "output_type": "stream",
     "text": [
      "\r",
      "Processing Images:  18%|█▊        | 107/600 [00:18<01:20,  6.16it/s]"
     ]
    },
    {
     "name": "stdout",
     "output_type": "stream",
     "text": [
      "1/1 [==============================] - 0s 29ms/step\n"
     ]
    },
    {
     "name": "stderr",
     "output_type": "stream",
     "text": [
      "\r",
      "Processing Images:  18%|█▊        | 108/600 [00:18<01:21,  6.04it/s]"
     ]
    },
    {
     "name": "stdout",
     "output_type": "stream",
     "text": [
      "1/1 [==============================] - 0s 16ms/step\n"
     ]
    },
    {
     "name": "stderr",
     "output_type": "stream",
     "text": [
      "\r",
      "Processing Images:  18%|█▊        | 109/600 [00:18<01:22,  5.97it/s]"
     ]
    },
    {
     "name": "stdout",
     "output_type": "stream",
     "text": [
      "1/1 [==============================] - 0s 31ms/step\n"
     ]
    },
    {
     "name": "stderr",
     "output_type": "stream",
     "text": [
      "\r",
      "Processing Images:  18%|█▊        | 110/600 [00:19<01:20,  6.08it/s]"
     ]
    },
    {
     "name": "stdout",
     "output_type": "stream",
     "text": [
      "1/1 [==============================] - 0s 16ms/step\n"
     ]
    },
    {
     "name": "stderr",
     "output_type": "stream",
     "text": [
      "\r",
      "Processing Images:  18%|█▊        | 111/600 [00:19<01:20,  6.08it/s]"
     ]
    },
    {
     "name": "stdout",
     "output_type": "stream",
     "text": [
      "1/1 [==============================] - 0s 31ms/step\n"
     ]
    },
    {
     "name": "stderr",
     "output_type": "stream",
     "text": [
      "\r",
      "Processing Images:  19%|█▊        | 112/600 [00:19<01:20,  6.07it/s]"
     ]
    },
    {
     "name": "stdout",
     "output_type": "stream",
     "text": [
      "1/1 [==============================] - 0s 16ms/step\n"
     ]
    },
    {
     "name": "stderr",
     "output_type": "stream",
     "text": [
      "\r",
      "Processing Images:  19%|█▉        | 113/600 [00:19<01:21,  5.98it/s]"
     ]
    },
    {
     "name": "stdout",
     "output_type": "stream",
     "text": [
      "1/1 [==============================] - 0s 32ms/step\n"
     ]
    },
    {
     "name": "stderr",
     "output_type": "stream",
     "text": [
      "\r",
      "Processing Images:  19%|█▉        | 114/600 [00:19<01:20,  6.03it/s]"
     ]
    },
    {
     "name": "stdout",
     "output_type": "stream",
     "text": [
      "1/1 [==============================] - 0s 31ms/step\n"
     ]
    },
    {
     "name": "stderr",
     "output_type": "stream",
     "text": [
      "\r",
      "Processing Images:  19%|█▉        | 115/600 [00:19<01:20,  6.02it/s]"
     ]
    },
    {
     "name": "stdout",
     "output_type": "stream",
     "text": [
      "1/1 [==============================] - 0s 31ms/step\n"
     ]
    },
    {
     "name": "stderr",
     "output_type": "stream",
     "text": [
      "\r",
      "Processing Images:  19%|█▉        | 116/600 [00:20<01:19,  6.12it/s]"
     ]
    },
    {
     "name": "stdout",
     "output_type": "stream",
     "text": [
      "1/1 [==============================] - 0s 32ms/step\n"
     ]
    },
    {
     "name": "stderr",
     "output_type": "stream",
     "text": [
      "\r",
      "Processing Images:  20%|█▉        | 117/600 [00:20<01:17,  6.20it/s]"
     ]
    },
    {
     "name": "stdout",
     "output_type": "stream",
     "text": [
      "1/1 [==============================] - 0s 16ms/step\n"
     ]
    },
    {
     "name": "stderr",
     "output_type": "stream",
     "text": [
      "\r",
      "Processing Images:  20%|█▉        | 118/600 [00:20<01:17,  6.24it/s]"
     ]
    },
    {
     "name": "stdout",
     "output_type": "stream",
     "text": [
      "1/1 [==============================] - 0s 30ms/step\n"
     ]
    },
    {
     "name": "stderr",
     "output_type": "stream",
     "text": [
      "\r",
      "Processing Images:  20%|█▉        | 119/600 [00:20<01:18,  6.10it/s]"
     ]
    },
    {
     "name": "stdout",
     "output_type": "stream",
     "text": [
      "1/1 [==============================] - 0s 32ms/step\n"
     ]
    },
    {
     "name": "stderr",
     "output_type": "stream",
     "text": [
      "\r",
      "Processing Images:  20%|██        | 120/600 [00:20<01:19,  6.01it/s]"
     ]
    },
    {
     "name": "stdout",
     "output_type": "stream",
     "text": [
      "1/1 [==============================] - 0s 16ms/step\n"
     ]
    },
    {
     "name": "stderr",
     "output_type": "stream",
     "text": [
      "\r",
      "Processing Images:  20%|██        | 121/600 [00:20<01:18,  6.11it/s]"
     ]
    },
    {
     "name": "stdout",
     "output_type": "stream",
     "text": [
      "1/1 [==============================] - 0s 16ms/step\n"
     ]
    },
    {
     "name": "stderr",
     "output_type": "stream",
     "text": [
      "\r",
      "Processing Images:  20%|██        | 122/600 [00:21<01:19,  6.01it/s]"
     ]
    },
    {
     "name": "stdout",
     "output_type": "stream",
     "text": [
      "1/1 [==============================] - 0s 16ms/step\n"
     ]
    },
    {
     "name": "stderr",
     "output_type": "stream",
     "text": [
      "\r",
      "Processing Images:  20%|██        | 123/600 [00:21<01:22,  5.75it/s]"
     ]
    },
    {
     "name": "stdout",
     "output_type": "stream",
     "text": [
      "1/1 [==============================] - 0s 31ms/step\n"
     ]
    },
    {
     "name": "stderr",
     "output_type": "stream",
     "text": [
      "\r",
      "Processing Images:  21%|██        | 124/600 [00:21<01:22,  5.79it/s]"
     ]
    },
    {
     "name": "stdout",
     "output_type": "stream",
     "text": [
      "1/1 [==============================] - 0s 31ms/step\n"
     ]
    },
    {
     "name": "stderr",
     "output_type": "stream",
     "text": [
      "\r",
      "Processing Images:  21%|██        | 125/600 [00:21<01:22,  5.79it/s]"
     ]
    },
    {
     "name": "stdout",
     "output_type": "stream",
     "text": [
      "1/1 [==============================] - 0s 20ms/step\n"
     ]
    },
    {
     "name": "stderr",
     "output_type": "stream",
     "text": [
      "\r",
      "Processing Images:  21%|██        | 126/600 [00:21<01:21,  5.79it/s]"
     ]
    },
    {
     "name": "stdout",
     "output_type": "stream",
     "text": [
      "1/1 [==============================] - 0s 31ms/step\n"
     ]
    },
    {
     "name": "stderr",
     "output_type": "stream",
     "text": [
      "\r",
      "Processing Images:  21%|██        | 127/600 [00:21<01:19,  5.95it/s]"
     ]
    },
    {
     "name": "stdout",
     "output_type": "stream",
     "text": [
      "1/1 [==============================] - 0s 16ms/step\n"
     ]
    },
    {
     "name": "stderr",
     "output_type": "stream",
     "text": [
      "\r",
      "Processing Images:  21%|██▏       | 128/600 [00:22<01:19,  5.90it/s]"
     ]
    },
    {
     "name": "stdout",
     "output_type": "stream",
     "text": [
      "1/1 [==============================] - 0s 21ms/step\n"
     ]
    },
    {
     "name": "stderr",
     "output_type": "stream",
     "text": [
      "\r",
      "Processing Images:  22%|██▏       | 129/600 [00:22<01:18,  6.03it/s]"
     ]
    },
    {
     "name": "stdout",
     "output_type": "stream",
     "text": [
      "1/1 [==============================] - 0s 16ms/step\n"
     ]
    },
    {
     "name": "stderr",
     "output_type": "stream",
     "text": [
      "\r",
      "Processing Images:  22%|██▏       | 130/600 [00:22<01:18,  5.96it/s]"
     ]
    },
    {
     "name": "stdout",
     "output_type": "stream",
     "text": [
      "1/1 [==============================] - 0s 24ms/step\n"
     ]
    },
    {
     "name": "stderr",
     "output_type": "stream",
     "text": [
      "\r",
      "Processing Images:  22%|██▏       | 131/600 [00:22<01:19,  5.92it/s]"
     ]
    },
    {
     "name": "stdout",
     "output_type": "stream",
     "text": [
      "1/1 [==============================] - 0s 32ms/step\n"
     ]
    },
    {
     "name": "stderr",
     "output_type": "stream",
     "text": [
      "\r",
      "Processing Images:  22%|██▏       | 132/600 [00:23<01:59,  3.91it/s]"
     ]
    },
    {
     "name": "stdout",
     "output_type": "stream",
     "text": [
      "1/1 [==============================] - 0s 47ms/step\n"
     ]
    },
    {
     "name": "stderr",
     "output_type": "stream",
     "text": [
      "\r",
      "Processing Images:  22%|██▏       | 133/600 [00:23<01:51,  4.18it/s]"
     ]
    },
    {
     "name": "stdout",
     "output_type": "stream",
     "text": [
      "1/1 [==============================] - 0s 16ms/step\n"
     ]
    },
    {
     "name": "stderr",
     "output_type": "stream",
     "text": [
      "\r",
      "Processing Images:  22%|██▏       | 134/600 [00:23<01:42,  4.56it/s]"
     ]
    },
    {
     "name": "stdout",
     "output_type": "stream",
     "text": [
      "1/1 [==============================] - 0s 31ms/step\n"
     ]
    },
    {
     "name": "stderr",
     "output_type": "stream",
     "text": [
      "\r",
      "Processing Images:  22%|██▎       | 135/600 [00:23<01:35,  4.87it/s]"
     ]
    },
    {
     "name": "stdout",
     "output_type": "stream",
     "text": [
      "1/1 [==============================] - 0s 24ms/step\n"
     ]
    },
    {
     "name": "stderr",
     "output_type": "stream",
     "text": [
      "\r",
      "Processing Images:  23%|██▎       | 136/600 [00:23<01:28,  5.24it/s]"
     ]
    },
    {
     "name": "stdout",
     "output_type": "stream",
     "text": [
      "1/1 [==============================] - 0s 16ms/step\n"
     ]
    },
    {
     "name": "stderr",
     "output_type": "stream",
     "text": [
      "\r",
      "Processing Images:  23%|██▎       | 137/600 [00:23<01:25,  5.39it/s]"
     ]
    },
    {
     "name": "stdout",
     "output_type": "stream",
     "text": [
      "1/1 [==============================] - 0s 31ms/step\n"
     ]
    },
    {
     "name": "stderr",
     "output_type": "stream",
     "text": [
      "\r",
      "Processing Images:  23%|██▎       | 138/600 [00:24<01:21,  5.65it/s]"
     ]
    },
    {
     "name": "stdout",
     "output_type": "stream",
     "text": [
      "1/1 [==============================] - 0s 16ms/step\n"
     ]
    },
    {
     "name": "stderr",
     "output_type": "stream",
     "text": [
      "\r",
      "Processing Images:  23%|██▎       | 139/600 [00:24<01:21,  5.69it/s]"
     ]
    },
    {
     "name": "stdout",
     "output_type": "stream",
     "text": [
      "1/1 [==============================] - 0s 31ms/step\n"
     ]
    },
    {
     "name": "stderr",
     "output_type": "stream",
     "text": [
      "\r",
      "Processing Images:  23%|██▎       | 140/600 [00:24<01:18,  5.88it/s]"
     ]
    },
    {
     "name": "stdout",
     "output_type": "stream",
     "text": [
      "1/1 [==============================] - 0s 31ms/step\n"
     ]
    },
    {
     "name": "stderr",
     "output_type": "stream",
     "text": [
      "\r",
      "Processing Images:  24%|██▎       | 141/600 [00:24<01:18,  5.86it/s]"
     ]
    },
    {
     "name": "stdout",
     "output_type": "stream",
     "text": [
      "1/1 [==============================] - 0s 16ms/step\n"
     ]
    },
    {
     "name": "stderr",
     "output_type": "stream",
     "text": [
      "\r",
      "Processing Images:  24%|██▎       | 142/600 [00:24<01:18,  5.84it/s]"
     ]
    },
    {
     "name": "stdout",
     "output_type": "stream",
     "text": [
      "1/1 [==============================] - 0s 31ms/step\n"
     ]
    },
    {
     "name": "stderr",
     "output_type": "stream",
     "text": [
      "\r",
      "Processing Images:  24%|██▍       | 143/600 [00:24<01:16,  5.99it/s]"
     ]
    },
    {
     "name": "stdout",
     "output_type": "stream",
     "text": [
      "1/1 [==============================] - 0s 31ms/step\n"
     ]
    },
    {
     "name": "stderr",
     "output_type": "stream",
     "text": [
      "\r",
      "Processing Images:  24%|██▍       | 144/600 [00:25<01:16,  5.93it/s]"
     ]
    },
    {
     "name": "stdout",
     "output_type": "stream",
     "text": [
      "1/1 [==============================] - 0s 32ms/step\n"
     ]
    },
    {
     "name": "stderr",
     "output_type": "stream",
     "text": [
      "\r",
      "Processing Images:  24%|██▍       | 145/600 [00:25<01:15,  6.06it/s]"
     ]
    },
    {
     "name": "stdout",
     "output_type": "stream",
     "text": [
      "1/1 [==============================] - 0s 16ms/step\n"
     ]
    },
    {
     "name": "stderr",
     "output_type": "stream",
     "text": [
      "\r",
      "Processing Images:  24%|██▍       | 146/600 [00:25<01:18,  5.81it/s]"
     ]
    },
    {
     "name": "stdout",
     "output_type": "stream",
     "text": [
      "1/1 [==============================] - 0s 31ms/step\n"
     ]
    },
    {
     "name": "stderr",
     "output_type": "stream",
     "text": [
      "\r",
      "Processing Images:  24%|██▍       | 147/600 [00:25<01:15,  5.96it/s]"
     ]
    },
    {
     "name": "stdout",
     "output_type": "stream",
     "text": [
      "1/1 [==============================] - 0s 10ms/step\n"
     ]
    },
    {
     "name": "stderr",
     "output_type": "stream",
     "text": [
      "\r",
      "Processing Images:  25%|██▍       | 148/600 [00:25<01:18,  5.74it/s]"
     ]
    },
    {
     "name": "stdout",
     "output_type": "stream",
     "text": [
      "1/1 [==============================] - 0s 16ms/step\n"
     ]
    },
    {
     "name": "stderr",
     "output_type": "stream",
     "text": [
      "\r",
      "Processing Images:  25%|██▍       | 149/600 [00:25<01:19,  5.71it/s]"
     ]
    },
    {
     "name": "stdout",
     "output_type": "stream",
     "text": [
      "1/1 [==============================] - 0s 47ms/step\n"
     ]
    },
    {
     "name": "stderr",
     "output_type": "stream",
     "text": [
      "\r",
      "Processing Images:  25%|██▌       | 150/600 [00:26<01:22,  5.48it/s]"
     ]
    },
    {
     "name": "stdout",
     "output_type": "stream",
     "text": [
      "1/1 [==============================] - 0s 31ms/step\n"
     ]
    },
    {
     "name": "stderr",
     "output_type": "stream",
     "text": [
      "\r",
      "Processing Images:  25%|██▌       | 151/600 [00:26<01:18,  5.72it/s]"
     ]
    },
    {
     "name": "stdout",
     "output_type": "stream",
     "text": [
      "1/1 [==============================] - 0s 31ms/step\n"
     ]
    },
    {
     "name": "stderr",
     "output_type": "stream",
     "text": [
      "\r",
      "Processing Images:  25%|██▌       | 152/600 [00:26<01:20,  5.59it/s]"
     ]
    },
    {
     "name": "stdout",
     "output_type": "stream",
     "text": [
      "1/1 [==============================] - 0s 31ms/step\n"
     ]
    },
    {
     "name": "stderr",
     "output_type": "stream",
     "text": [
      "\r",
      "Processing Images:  26%|██▌       | 153/600 [00:26<01:19,  5.65it/s]"
     ]
    },
    {
     "name": "stdout",
     "output_type": "stream",
     "text": [
      "1/1 [==============================] - 0s 38ms/step\n"
     ]
    },
    {
     "name": "stderr",
     "output_type": "stream",
     "text": [
      "\r",
      "Processing Images:  26%|██▌       | 154/600 [00:26<01:16,  5.85it/s]"
     ]
    },
    {
     "name": "stdout",
     "output_type": "stream",
     "text": [
      "1/1 [==============================] - 0s 31ms/step\n"
     ]
    },
    {
     "name": "stderr",
     "output_type": "stream",
     "text": [
      "\r",
      "Processing Images:  26%|██▌       | 155/600 [00:26<01:16,  5.83it/s]"
     ]
    },
    {
     "name": "stdout",
     "output_type": "stream",
     "text": [
      "1/1 [==============================] - 0s 31ms/step\n"
     ]
    },
    {
     "name": "stderr",
     "output_type": "stream",
     "text": [
      "\r",
      "Processing Images:  26%|██▌       | 156/600 [00:27<01:16,  5.82it/s]"
     ]
    },
    {
     "name": "stdout",
     "output_type": "stream",
     "text": [
      "1/1 [==============================] - 0s 16ms/step\n"
     ]
    },
    {
     "name": "stderr",
     "output_type": "stream",
     "text": [
      "\r",
      "Processing Images:  26%|██▌       | 157/600 [00:27<01:20,  5.51it/s]"
     ]
    },
    {
     "name": "stdout",
     "output_type": "stream",
     "text": [
      "1/1 [==============================] - 0s 32ms/step\n"
     ]
    },
    {
     "name": "stderr",
     "output_type": "stream",
     "text": [
      "\r",
      "Processing Images:  26%|██▋       | 158/600 [00:27<01:19,  5.53it/s]"
     ]
    },
    {
     "name": "stdout",
     "output_type": "stream",
     "text": [
      "1/1 [==============================] - 0s 31ms/step\n"
     ]
    },
    {
     "name": "stderr",
     "output_type": "stream",
     "text": [
      "\r",
      "Processing Images:  26%|██▋       | 159/600 [00:27<01:17,  5.67it/s]"
     ]
    },
    {
     "name": "stdout",
     "output_type": "stream",
     "text": [
      "1/1 [==============================] - 0s 31ms/step\n"
     ]
    },
    {
     "name": "stderr",
     "output_type": "stream",
     "text": [
      "\r",
      "Processing Images:  27%|██▋       | 160/600 [00:27<01:15,  5.86it/s]"
     ]
    },
    {
     "name": "stdout",
     "output_type": "stream",
     "text": [
      "1/1 [==============================] - 0s 31ms/step\n"
     ]
    },
    {
     "name": "stderr",
     "output_type": "stream",
     "text": [
      "\r",
      "Processing Images:  27%|██▋       | 161/600 [00:28<01:15,  5.78it/s]"
     ]
    },
    {
     "name": "stdout",
     "output_type": "stream",
     "text": [
      "1/1 [==============================] - 0s 31ms/step\n"
     ]
    },
    {
     "name": "stderr",
     "output_type": "stream",
     "text": [
      "\r",
      "Processing Images:  27%|██▋       | 162/600 [00:28<01:12,  6.01it/s]"
     ]
    },
    {
     "name": "stdout",
     "output_type": "stream",
     "text": [
      "1/1 [==============================] - 0s 31ms/step\n"
     ]
    },
    {
     "name": "stderr",
     "output_type": "stream",
     "text": [
      "\r",
      "Processing Images:  27%|██▋       | 163/600 [00:28<01:17,  5.63it/s]"
     ]
    },
    {
     "name": "stdout",
     "output_type": "stream",
     "text": [
      "1/1 [==============================] - 0s 31ms/step\n"
     ]
    },
    {
     "name": "stderr",
     "output_type": "stream",
     "text": [
      "\r",
      "Processing Images:  27%|██▋       | 164/600 [00:28<01:18,  5.53it/s]"
     ]
    },
    {
     "name": "stdout",
     "output_type": "stream",
     "text": [
      "1/1 [==============================] - 0s 32ms/step\n"
     ]
    },
    {
     "name": "stderr",
     "output_type": "stream",
     "text": [
      "\r",
      "Processing Images:  28%|██▊       | 165/600 [00:28<01:15,  5.74it/s]"
     ]
    },
    {
     "name": "stdout",
     "output_type": "stream",
     "text": [
      "1/1 [==============================] - 0s 55ms/step\n"
     ]
    },
    {
     "name": "stderr",
     "output_type": "stream",
     "text": [
      "\r",
      "Processing Images:  28%|██▊       | 166/600 [00:28<01:17,  5.62it/s]"
     ]
    },
    {
     "name": "stdout",
     "output_type": "stream",
     "text": [
      "1/1 [==============================] - 0s 31ms/step\n"
     ]
    },
    {
     "name": "stderr",
     "output_type": "stream",
     "text": [
      "\r",
      "Processing Images:  28%|██▊       | 167/600 [00:29<01:14,  5.82it/s]"
     ]
    },
    {
     "name": "stdout",
     "output_type": "stream",
     "text": [
      "1/1 [==============================] - 0s 32ms/step\n"
     ]
    },
    {
     "name": "stderr",
     "output_type": "stream",
     "text": [
      "\r",
      "Processing Images:  28%|██▊       | 168/600 [00:29<01:12,  5.97it/s]"
     ]
    },
    {
     "name": "stdout",
     "output_type": "stream",
     "text": [
      "1/1 [==============================] - 0s 31ms/step\n"
     ]
    },
    {
     "name": "stderr",
     "output_type": "stream",
     "text": [
      "\r",
      "Processing Images:  28%|██▊       | 169/600 [00:29<01:10,  6.09it/s]"
     ]
    },
    {
     "name": "stdout",
     "output_type": "stream",
     "text": [
      "1/1 [==============================] - 0s 16ms/step\n"
     ]
    },
    {
     "name": "stderr",
     "output_type": "stream",
     "text": [
      "\r",
      "Processing Images:  28%|██▊       | 170/600 [00:29<01:11,  6.00it/s]"
     ]
    },
    {
     "name": "stdout",
     "output_type": "stream",
     "text": [
      "1/1 [==============================] - 0s 32ms/step\n"
     ]
    },
    {
     "name": "stderr",
     "output_type": "stream",
     "text": [
      "\r",
      "Processing Images:  28%|██▊       | 171/600 [00:29<01:10,  6.11it/s]"
     ]
    },
    {
     "name": "stdout",
     "output_type": "stream",
     "text": [
      "1/1 [==============================] - 0s 31ms/step\n"
     ]
    },
    {
     "name": "stderr",
     "output_type": "stream",
     "text": [
      "\r",
      "Processing Images:  29%|██▊       | 172/600 [00:29<01:09,  6.19it/s]"
     ]
    },
    {
     "name": "stdout",
     "output_type": "stream",
     "text": [
      "1/1 [==============================] - 0s 31ms/step\n"
     ]
    },
    {
     "name": "stderr",
     "output_type": "stream",
     "text": [
      "\r",
      "Processing Images:  29%|██▉       | 173/600 [00:30<01:10,  6.06it/s]"
     ]
    },
    {
     "name": "stdout",
     "output_type": "stream",
     "text": [
      "1/1 [==============================] - 0s 25ms/step\n"
     ]
    },
    {
     "name": "stderr",
     "output_type": "stream",
     "text": [
      "\r",
      "Processing Images:  29%|██▉       | 174/600 [00:30<01:11,  5.98it/s]"
     ]
    },
    {
     "name": "stdout",
     "output_type": "stream",
     "text": [
      "1/1 [==============================] - 0s 16ms/step\n"
     ]
    },
    {
     "name": "stderr",
     "output_type": "stream",
     "text": [
      "\r",
      "Processing Images:  29%|██▉       | 175/600 [00:30<01:13,  5.76it/s]"
     ]
    },
    {
     "name": "stdout",
     "output_type": "stream",
     "text": [
      "1/1 [==============================] - 0s 31ms/step\n"
     ]
    },
    {
     "name": "stderr",
     "output_type": "stream",
     "text": [
      "\r",
      "Processing Images:  29%|██▉       | 176/600 [00:30<01:13,  5.77it/s]"
     ]
    },
    {
     "name": "stdout",
     "output_type": "stream",
     "text": [
      "1/1 [==============================] - 0s 24ms/step\n"
     ]
    },
    {
     "name": "stderr",
     "output_type": "stream",
     "text": [
      "\r",
      "Processing Images:  30%|██▉       | 177/600 [00:30<01:11,  5.93it/s]"
     ]
    },
    {
     "name": "stdout",
     "output_type": "stream",
     "text": [
      "1/1 [==============================] - 0s 16ms/step\n"
     ]
    },
    {
     "name": "stderr",
     "output_type": "stream",
     "text": [
      "\r",
      "Processing Images:  30%|██▉       | 178/600 [00:30<01:11,  5.89it/s]"
     ]
    },
    {
     "name": "stdout",
     "output_type": "stream",
     "text": [
      "1/1 [==============================] - 0s 31ms/step\n"
     ]
    },
    {
     "name": "stderr",
     "output_type": "stream",
     "text": [
      "\r",
      "Processing Images:  30%|██▉       | 179/600 [00:31<01:09,  6.03it/s]"
     ]
    },
    {
     "name": "stdout",
     "output_type": "stream",
     "text": [
      "1/1 [==============================] - 0s 32ms/step\n"
     ]
    },
    {
     "name": "stderr",
     "output_type": "stream",
     "text": [
      "\r",
      "Processing Images:  30%|███       | 180/600 [00:31<01:10,  5.98it/s]"
     ]
    },
    {
     "name": "stdout",
     "output_type": "stream",
     "text": [
      "1/1 [==============================] - 0s 16ms/step\n"
     ]
    },
    {
     "name": "stderr",
     "output_type": "stream",
     "text": [
      "\r",
      "Processing Images:  30%|███       | 181/600 [00:31<01:07,  6.22it/s]"
     ]
    },
    {
     "name": "stdout",
     "output_type": "stream",
     "text": [
      "1/1 [==============================] - 0s 16ms/step\n"
     ]
    },
    {
     "name": "stderr",
     "output_type": "stream",
     "text": [
      "\r",
      "Processing Images:  30%|███       | 182/600 [00:31<01:08,  6.08it/s]"
     ]
    },
    {
     "name": "stdout",
     "output_type": "stream",
     "text": [
      "1/1 [==============================] - 0s 35ms/step\n"
     ]
    },
    {
     "name": "stderr",
     "output_type": "stream",
     "text": [
      "\r",
      "Processing Images:  30%|███       | 183/600 [00:31<01:07,  6.17it/s]"
     ]
    },
    {
     "name": "stdout",
     "output_type": "stream",
     "text": [
      "1/1 [==============================] - 0s 31ms/step\n"
     ]
    },
    {
     "name": "stderr",
     "output_type": "stream",
     "text": [
      "\r",
      "Processing Images:  31%|███       | 184/600 [00:31<01:08,  6.05it/s]"
     ]
    },
    {
     "name": "stdout",
     "output_type": "stream",
     "text": [
      "1/1 [==============================] - 0s 31ms/step\n"
     ]
    },
    {
     "name": "stderr",
     "output_type": "stream",
     "text": [
      "\r",
      "Processing Images:  31%|███       | 185/600 [00:32<01:09,  5.97it/s]"
     ]
    },
    {
     "name": "stdout",
     "output_type": "stream",
     "text": [
      "1/1 [==============================] - 0s 34ms/step\n"
     ]
    },
    {
     "name": "stderr",
     "output_type": "stream",
     "text": [
      "\r",
      "Processing Images:  31%|███       | 186/600 [00:32<01:08,  6.09it/s]"
     ]
    },
    {
     "name": "stdout",
     "output_type": "stream",
     "text": [
      "1/1 [==============================] - 0s 16ms/step\n"
     ]
    },
    {
     "name": "stderr",
     "output_type": "stream",
     "text": [
      "\r",
      "Processing Images:  31%|███       | 187/600 [00:32<01:08,  5.99it/s]"
     ]
    },
    {
     "name": "stdout",
     "output_type": "stream",
     "text": [
      "1/1 [==============================] - 0s 26ms/step\n"
     ]
    },
    {
     "name": "stderr",
     "output_type": "stream",
     "text": [
      "\r",
      "Processing Images:  31%|███▏      | 188/600 [00:32<01:07,  6.10it/s]"
     ]
    },
    {
     "name": "stdout",
     "output_type": "stream",
     "text": [
      "1/1 [==============================] - 0s 31ms/step\n"
     ]
    },
    {
     "name": "stderr",
     "output_type": "stream",
     "text": [
      "\r",
      "Processing Images:  32%|███▏      | 189/600 [00:32<01:08,  6.01it/s]"
     ]
    },
    {
     "name": "stdout",
     "output_type": "stream",
     "text": [
      "1/1 [==============================] - 0s 31ms/step\n"
     ]
    },
    {
     "name": "stderr",
     "output_type": "stream",
     "text": [
      "\r",
      "Processing Images:  32%|███▏      | 190/600 [00:32<01:07,  6.11it/s]"
     ]
    },
    {
     "name": "stdout",
     "output_type": "stream",
     "text": [
      "1/1 [==============================] - 0s 32ms/step\n"
     ]
    },
    {
     "name": "stderr",
     "output_type": "stream",
     "text": [
      "\r",
      "Processing Images:  32%|███▏      | 191/600 [00:33<01:07,  6.07it/s]"
     ]
    },
    {
     "name": "stdout",
     "output_type": "stream",
     "text": [
      "1/1 [==============================] - 0s 16ms/step\n"
     ]
    },
    {
     "name": "stderr",
     "output_type": "stream",
     "text": [
      "\r",
      "Processing Images:  32%|███▏      | 192/600 [00:33<01:05,  6.27it/s]"
     ]
    },
    {
     "name": "stdout",
     "output_type": "stream",
     "text": [
      "1/1 [==============================] - 0s 47ms/step\n"
     ]
    },
    {
     "name": "stderr",
     "output_type": "stream",
     "text": [
      "\r",
      "Processing Images:  32%|███▏      | 193/600 [00:33<01:10,  5.79it/s]"
     ]
    },
    {
     "name": "stdout",
     "output_type": "stream",
     "text": [
      "1/1 [==============================] - 0s 31ms/step\n"
     ]
    },
    {
     "name": "stderr",
     "output_type": "stream",
     "text": [
      "\r",
      "Processing Images:  32%|███▏      | 194/600 [00:33<01:12,  5.63it/s]"
     ]
    },
    {
     "name": "stdout",
     "output_type": "stream",
     "text": [
      "1/1 [==============================] - 0s 32ms/step\n"
     ]
    },
    {
     "name": "stderr",
     "output_type": "stream",
     "text": [
      "\r",
      "Processing Images:  32%|███▎      | 195/600 [00:33<01:10,  5.78it/s]"
     ]
    },
    {
     "name": "stdout",
     "output_type": "stream",
     "text": [
      "1/1 [==============================] - 0s 47ms/step\n"
     ]
    },
    {
     "name": "stderr",
     "output_type": "stream",
     "text": [
      "\r",
      "Processing Images:  33%|███▎      | 196/600 [00:33<01:13,  5.52it/s]"
     ]
    },
    {
     "name": "stdout",
     "output_type": "stream",
     "text": [
      "1/1 [==============================] - 0s 31ms/step\n"
     ]
    },
    {
     "name": "stderr",
     "output_type": "stream",
     "text": [
      "\r",
      "Processing Images:  33%|███▎      | 197/600 [00:34<01:09,  5.77it/s]"
     ]
    },
    {
     "name": "stdout",
     "output_type": "stream",
     "text": [
      "1/1 [==============================] - 0s 16ms/step\n"
     ]
    },
    {
     "name": "stderr",
     "output_type": "stream",
     "text": [
      "\r",
      "Processing Images:  33%|███▎      | 198/600 [00:34<01:09,  5.77it/s]"
     ]
    },
    {
     "name": "stdout",
     "output_type": "stream",
     "text": [
      "1/1 [==============================] - 0s 32ms/step\n"
     ]
    },
    {
     "name": "stderr",
     "output_type": "stream",
     "text": [
      "\r",
      "Processing Images:  33%|███▎      | 199/600 [00:34<01:07,  5.94it/s]"
     ]
    },
    {
     "name": "stdout",
     "output_type": "stream",
     "text": [
      "1/1 [==============================] - 0s 16ms/step\n"
     ]
    },
    {
     "name": "stderr",
     "output_type": "stream",
     "text": [
      "\r",
      "Processing Images:  33%|███▎      | 200/600 [00:34<01:08,  5.88it/s]"
     ]
    },
    {
     "name": "stdout",
     "output_type": "stream",
     "text": [
      "1/1 [==============================] - 0s 31ms/step\n"
     ]
    },
    {
     "name": "stderr",
     "output_type": "stream",
     "text": [
      "\r",
      "Processing Images:  34%|███▎      | 201/600 [00:34<01:08,  5.85it/s]"
     ]
    },
    {
     "name": "stdout",
     "output_type": "stream",
     "text": [
      "1/1 [==============================] - 0s 32ms/step\n"
     ]
    },
    {
     "name": "stderr",
     "output_type": "stream",
     "text": [
      "\r",
      "Processing Images:  34%|███▎      | 202/600 [00:34<01:06,  6.00it/s]"
     ]
    },
    {
     "name": "stdout",
     "output_type": "stream",
     "text": [
      "1/1 [==============================] - 0s 16ms/step\n"
     ]
    },
    {
     "name": "stderr",
     "output_type": "stream",
     "text": [
      "\r",
      "Processing Images:  34%|███▍      | 203/600 [00:35<01:06,  5.93it/s]"
     ]
    },
    {
     "name": "stdout",
     "output_type": "stream",
     "text": [
      "1/1 [==============================] - 0s 31ms/step\n"
     ]
    },
    {
     "name": "stderr",
     "output_type": "stream",
     "text": [
      "\r",
      "Processing Images:  34%|███▍      | 204/600 [00:35<01:05,  6.06it/s]"
     ]
    },
    {
     "name": "stdout",
     "output_type": "stream",
     "text": [
      "1/1 [==============================] - 0s 32ms/step\n"
     ]
    },
    {
     "name": "stderr",
     "output_type": "stream",
     "text": [
      "\r",
      "Processing Images:  34%|███▍      | 205/600 [00:35<01:06,  5.98it/s]"
     ]
    },
    {
     "name": "stdout",
     "output_type": "stream",
     "text": [
      "1/1 [==============================] - 0s 31ms/step\n"
     ]
    },
    {
     "name": "stderr",
     "output_type": "stream",
     "text": [
      "\r",
      "Processing Images:  34%|███▍      | 206/600 [00:35<01:04,  6.09it/s]"
     ]
    },
    {
     "name": "stdout",
     "output_type": "stream",
     "text": [
      "1/1 [==============================] - 0s 31ms/step\n"
     ]
    },
    {
     "name": "stderr",
     "output_type": "stream",
     "text": [
      "\r",
      "Processing Images:  34%|███▍      | 207/600 [00:35<01:05,  5.99it/s]"
     ]
    },
    {
     "name": "stdout",
     "output_type": "stream",
     "text": [
      "1/1 [==============================] - 0s 21ms/step\n"
     ]
    },
    {
     "name": "stderr",
     "output_type": "stream",
     "text": [
      "\r",
      "Processing Images:  35%|███▍      | 208/600 [00:35<01:04,  6.10it/s]"
     ]
    },
    {
     "name": "stdout",
     "output_type": "stream",
     "text": [
      "1/1 [==============================] - 0s 31ms/step\n"
     ]
    },
    {
     "name": "stderr",
     "output_type": "stream",
     "text": [
      "\r",
      "Processing Images:  35%|███▍      | 209/600 [00:36<01:05,  6.00it/s]"
     ]
    },
    {
     "name": "stdout",
     "output_type": "stream",
     "text": [
      "1/1 [==============================] - 0s 24ms/step\n"
     ]
    },
    {
     "name": "stderr",
     "output_type": "stream",
     "text": [
      "\r",
      "Processing Images:  35%|███▌      | 210/600 [00:36<01:03,  6.11it/s]"
     ]
    },
    {
     "name": "stdout",
     "output_type": "stream",
     "text": [
      "1/1 [==============================] - 0s 47ms/step\n"
     ]
    },
    {
     "name": "stderr",
     "output_type": "stream",
     "text": [
      "\r",
      "Processing Images:  35%|███▌      | 211/600 [00:36<01:08,  5.69it/s]"
     ]
    },
    {
     "name": "stdout",
     "output_type": "stream",
     "text": [
      "1/1 [==============================] - 0s 16ms/step\n"
     ]
    },
    {
     "name": "stderr",
     "output_type": "stream",
     "text": [
      "\r",
      "Processing Images:  35%|███▌      | 212/600 [00:36<01:07,  5.72it/s]"
     ]
    },
    {
     "name": "stdout",
     "output_type": "stream",
     "text": [
      "1/1 [==============================] - 0s 31ms/step\n"
     ]
    },
    {
     "name": "stderr",
     "output_type": "stream",
     "text": [
      "\r",
      "Processing Images:  36%|███▌      | 213/600 [00:36<01:05,  5.90it/s]"
     ]
    },
    {
     "name": "stdout",
     "output_type": "stream",
     "text": [
      "1/1 [==============================] - 0s 16ms/step\n"
     ]
    },
    {
     "name": "stderr",
     "output_type": "stream",
     "text": [
      "\r",
      "Processing Images:  36%|███▌      | 214/600 [00:36<01:05,  5.86it/s]"
     ]
    },
    {
     "name": "stdout",
     "output_type": "stream",
     "text": [
      "1/1 [==============================] - 0s 31ms/step\n"
     ]
    },
    {
     "name": "stderr",
     "output_type": "stream",
     "text": [
      "\r",
      "Processing Images:  36%|███▌      | 215/600 [00:37<01:03,  6.02it/s]"
     ]
    },
    {
     "name": "stdout",
     "output_type": "stream",
     "text": [
      "1/1 [==============================] - 0s 31ms/step\n"
     ]
    },
    {
     "name": "stderr",
     "output_type": "stream",
     "text": [
      "\r",
      "Processing Images:  36%|███▌      | 216/600 [00:37<01:04,  5.94it/s]"
     ]
    },
    {
     "name": "stdout",
     "output_type": "stream",
     "text": [
      "1/1 [==============================] - 0s 32ms/step\n"
     ]
    },
    {
     "name": "stderr",
     "output_type": "stream",
     "text": [
      "\r",
      "Processing Images:  36%|███▌      | 217/600 [00:37<01:04,  5.89it/s]"
     ]
    },
    {
     "name": "stdout",
     "output_type": "stream",
     "text": [
      "1/1 [==============================] - 0s 31ms/step\n"
     ]
    },
    {
     "name": "stderr",
     "output_type": "stream",
     "text": [
      "\r",
      "Processing Images:  36%|███▋      | 218/600 [00:37<01:03,  6.03it/s]"
     ]
    },
    {
     "name": "stdout",
     "output_type": "stream",
     "text": [
      "1/1 [==============================] - 0s 31ms/step\n"
     ]
    },
    {
     "name": "stderr",
     "output_type": "stream",
     "text": [
      "\r",
      "Processing Images:  36%|███▋      | 219/600 [00:37<01:03,  5.95it/s]"
     ]
    },
    {
     "name": "stdout",
     "output_type": "stream",
     "text": [
      "1/1 [==============================] - 0s 32ms/step\n"
     ]
    },
    {
     "name": "stderr",
     "output_type": "stream",
     "text": [
      "\r",
      "Processing Images:  37%|███▋      | 220/600 [00:37<01:03,  6.00it/s]"
     ]
    },
    {
     "name": "stdout",
     "output_type": "stream",
     "text": [
      "1/1 [==============================] - 0s 16ms/step\n"
     ]
    },
    {
     "name": "stderr",
     "output_type": "stream",
     "text": [
      "\r",
      "Processing Images:  37%|███▋      | 221/600 [00:38<01:03,  6.01it/s]"
     ]
    },
    {
     "name": "stdout",
     "output_type": "stream",
     "text": [
      "1/1 [==============================] - 0s 31ms/step\n"
     ]
    },
    {
     "name": "stderr",
     "output_type": "stream",
     "text": [
      "\r",
      "Processing Images:  37%|███▋      | 222/600 [00:38<01:01,  6.11it/s]"
     ]
    },
    {
     "name": "stdout",
     "output_type": "stream",
     "text": [
      "1/1 [==============================] - 0s 31ms/step\n"
     ]
    },
    {
     "name": "stderr",
     "output_type": "stream",
     "text": [
      "\r",
      "Processing Images:  37%|███▋      | 223/600 [00:38<01:00,  6.19it/s]"
     ]
    },
    {
     "name": "stdout",
     "output_type": "stream",
     "text": [
      "1/1 [==============================] - 0s 16ms/step\n"
     ]
    },
    {
     "name": "stderr",
     "output_type": "stream",
     "text": [
      "\r",
      "Processing Images:  37%|███▋      | 224/600 [00:38<01:00,  6.24it/s]"
     ]
    },
    {
     "name": "stdout",
     "output_type": "stream",
     "text": [
      "1/1 [==============================] - 0s 29ms/step\n"
     ]
    },
    {
     "name": "stderr",
     "output_type": "stream",
     "text": [
      "\r",
      "Processing Images:  38%|███▊      | 225/600 [00:38<01:01,  6.10it/s]"
     ]
    },
    {
     "name": "stdout",
     "output_type": "stream",
     "text": [
      "1/1 [==============================] - 0s 16ms/step\n"
     ]
    },
    {
     "name": "stderr",
     "output_type": "stream",
     "text": [
      "\r",
      "Processing Images:  38%|███▊      | 226/600 [00:38<01:02,  6.01it/s]"
     ]
    },
    {
     "name": "stdout",
     "output_type": "stream",
     "text": [
      "1/1 [==============================] - 0s 31ms/step\n"
     ]
    },
    {
     "name": "stderr",
     "output_type": "stream",
     "text": [
      "\r",
      "Processing Images:  38%|███▊      | 227/600 [00:39<01:01,  6.11it/s]"
     ]
    },
    {
     "name": "stdout",
     "output_type": "stream",
     "text": [
      "1/1 [==============================] - 0s 32ms/step\n"
     ]
    },
    {
     "name": "stderr",
     "output_type": "stream",
     "text": [
      "\r",
      "Processing Images:  38%|███▊      | 228/600 [00:39<01:00,  6.10it/s]"
     ]
    },
    {
     "name": "stdout",
     "output_type": "stream",
     "text": [
      "1/1 [==============================] - 0s 31ms/step\n"
     ]
    },
    {
     "name": "stderr",
     "output_type": "stream",
     "text": [
      "\r",
      "Processing Images:  38%|███▊      | 229/600 [00:39<01:02,  5.91it/s]"
     ]
    },
    {
     "name": "stdout",
     "output_type": "stream",
     "text": [
      "1/1 [==============================] - 0s 22ms/step\n"
     ]
    },
    {
     "name": "stderr",
     "output_type": "stream",
     "text": [
      "\r",
      "Processing Images:  38%|███▊      | 230/600 [00:39<00:59,  6.25it/s]"
     ]
    },
    {
     "name": "stdout",
     "output_type": "stream",
     "text": [
      "1/1 [==============================] - 0s 32ms/step\n"
     ]
    },
    {
     "name": "stderr",
     "output_type": "stream",
     "text": [
      "\r",
      "Processing Images:  38%|███▊      | 231/600 [00:39<01:00,  6.11it/s]"
     ]
    },
    {
     "name": "stdout",
     "output_type": "stream",
     "text": [
      "1/1 [==============================] - 0s 31ms/step\n"
     ]
    },
    {
     "name": "stderr",
     "output_type": "stream",
     "text": [
      "\r",
      "Processing Images:  39%|███▊      | 232/600 [00:39<01:02,  5.84it/s]"
     ]
    },
    {
     "name": "stdout",
     "output_type": "stream",
     "text": [
      "1/1 [==============================] - 0s 31ms/step\n"
     ]
    },
    {
     "name": "stderr",
     "output_type": "stream",
     "text": [
      "\r",
      "Processing Images:  39%|███▉      | 233/600 [00:40<01:04,  5.67it/s]"
     ]
    },
    {
     "name": "stdout",
     "output_type": "stream",
     "text": [
      "1/1 [==============================] - 0s 31ms/step\n"
     ]
    },
    {
     "name": "stderr",
     "output_type": "stream",
     "text": [
      "\r",
      "Processing Images:  39%|███▉      | 234/600 [00:40<01:02,  5.86it/s]"
     ]
    },
    {
     "name": "stdout",
     "output_type": "stream",
     "text": [
      "1/1 [==============================] - 0s 32ms/step\n"
     ]
    },
    {
     "name": "stderr",
     "output_type": "stream",
     "text": [
      "\r",
      "Processing Images:  39%|███▉      | 235/600 [00:40<01:00,  6.01it/s]"
     ]
    },
    {
     "name": "stdout",
     "output_type": "stream",
     "text": [
      "1/1 [==============================] - 0s 31ms/step\n"
     ]
    },
    {
     "name": "stderr",
     "output_type": "stream",
     "text": [
      "\r",
      "Processing Images:  39%|███▉      | 236/600 [00:40<01:01,  5.94it/s]"
     ]
    },
    {
     "name": "stdout",
     "output_type": "stream",
     "text": [
      "1/1 [==============================] - 0s 31ms/step\n"
     ]
    },
    {
     "name": "stderr",
     "output_type": "stream",
     "text": [
      "\r",
      "Processing Images:  40%|███▉      | 237/600 [00:40<00:59,  6.06it/s]"
     ]
    },
    {
     "name": "stdout",
     "output_type": "stream",
     "text": [
      "1/1 [==============================] - 0s 32ms/step\n"
     ]
    },
    {
     "name": "stderr",
     "output_type": "stream",
     "text": [
      "\r",
      "Processing Images:  40%|███▉      | 238/600 [00:40<01:00,  5.98it/s]"
     ]
    },
    {
     "name": "stdout",
     "output_type": "stream",
     "text": [
      "1/1 [==============================] - 0s 31ms/step\n"
     ]
    },
    {
     "name": "stderr",
     "output_type": "stream",
     "text": [
      "\r",
      "Processing Images:  40%|███▉      | 239/600 [00:41<01:00,  5.92it/s]"
     ]
    },
    {
     "name": "stdout",
     "output_type": "stream",
     "text": [
      "1/1 [==============================] - 0s 31ms/step\n"
     ]
    },
    {
     "name": "stderr",
     "output_type": "stream",
     "text": [
      "\r",
      "Processing Images:  40%|████      | 240/600 [00:41<01:01,  5.88it/s]"
     ]
    },
    {
     "name": "stdout",
     "output_type": "stream",
     "text": [
      "1/1 [==============================] - 0s 32ms/step\n"
     ]
    },
    {
     "name": "stderr",
     "output_type": "stream",
     "text": [
      "\r",
      "Processing Images:  40%|████      | 241/600 [00:41<01:01,  5.83it/s]"
     ]
    },
    {
     "name": "stdout",
     "output_type": "stream",
     "text": [
      "1/1 [==============================] - 0s 40ms/step\n"
     ]
    },
    {
     "name": "stderr",
     "output_type": "stream",
     "text": [
      "\r",
      "Processing Images:  40%|████      | 242/600 [00:41<01:01,  5.84it/s]"
     ]
    },
    {
     "name": "stdout",
     "output_type": "stream",
     "text": [
      "1/1 [==============================] - 0s 31ms/step\n"
     ]
    },
    {
     "name": "stderr",
     "output_type": "stream",
     "text": [
      "\r",
      "Processing Images:  40%|████      | 243/600 [00:41<01:02,  5.67it/s]"
     ]
    },
    {
     "name": "stdout",
     "output_type": "stream",
     "text": [
      "1/1 [==============================] - 0s 16ms/step\n"
     ]
    },
    {
     "name": "stderr",
     "output_type": "stream",
     "text": [
      "\r",
      "Processing Images:  41%|████      | 244/600 [00:41<01:02,  5.71it/s]"
     ]
    },
    {
     "name": "stdout",
     "output_type": "stream",
     "text": [
      "1/1 [==============================] - 0s 16ms/step\n"
     ]
    },
    {
     "name": "stderr",
     "output_type": "stream",
     "text": [
      "\r",
      "Processing Images:  41%|████      | 245/600 [00:42<01:01,  5.73it/s]"
     ]
    },
    {
     "name": "stdout",
     "output_type": "stream",
     "text": [
      "1/1 [==============================] - 0s 31ms/step\n"
     ]
    },
    {
     "name": "stderr",
     "output_type": "stream",
     "text": [
      "\r",
      "Processing Images:  41%|████      | 246/600 [00:42<00:59,  5.91it/s]"
     ]
    },
    {
     "name": "stdout",
     "output_type": "stream",
     "text": [
      "1/1 [==============================] - 0s 31ms/step\n"
     ]
    },
    {
     "name": "stderr",
     "output_type": "stream",
     "text": [
      "\r",
      "Processing Images:  41%|████      | 247/600 [00:42<01:00,  5.87it/s]"
     ]
    },
    {
     "name": "stdout",
     "output_type": "stream",
     "text": [
      "1/1 [==============================] - 0s 25ms/step\n"
     ]
    },
    {
     "name": "stderr",
     "output_type": "stream",
     "text": [
      "\r",
      "Processing Images:  41%|████▏     | 248/600 [00:42<01:00,  5.85it/s]"
     ]
    },
    {
     "name": "stdout",
     "output_type": "stream",
     "text": [
      "1/1 [==============================] - 0s 31ms/step\n"
     ]
    },
    {
     "name": "stderr",
     "output_type": "stream",
     "text": [
      "\r",
      "Processing Images:  42%|████▏     | 249/600 [00:42<01:01,  5.68it/s]"
     ]
    },
    {
     "name": "stdout",
     "output_type": "stream",
     "text": [
      "1/1 [==============================] - 0s 31ms/step\n"
     ]
    },
    {
     "name": "stderr",
     "output_type": "stream",
     "text": [
      "\r",
      "Processing Images:  42%|████▏     | 250/600 [00:43<01:01,  5.71it/s]"
     ]
    },
    {
     "name": "stdout",
     "output_type": "stream",
     "text": [
      "1/1 [==============================] - 0s 31ms/step\n"
     ]
    },
    {
     "name": "stderr",
     "output_type": "stream",
     "text": [
      "\r",
      "Processing Images:  42%|████▏     | 251/600 [00:43<01:00,  5.73it/s]"
     ]
    },
    {
     "name": "stdout",
     "output_type": "stream",
     "text": [
      "1/1 [==============================] - 0s 29ms/step\n"
     ]
    },
    {
     "name": "stderr",
     "output_type": "stream",
     "text": [
      "\r",
      "Processing Images:  42%|████▏     | 252/600 [00:43<01:00,  5.75it/s]"
     ]
    },
    {
     "name": "stdout",
     "output_type": "stream",
     "text": [
      "1/1 [==============================] - 0s 31ms/step\n"
     ]
    },
    {
     "name": "stderr",
     "output_type": "stream",
     "text": [
      "\r",
      "Processing Images:  42%|████▏     | 253/600 [00:43<00:58,  5.93it/s]"
     ]
    },
    {
     "name": "stdout",
     "output_type": "stream",
     "text": [
      "1/1 [==============================] - 0s 31ms/step\n"
     ]
    },
    {
     "name": "stderr",
     "output_type": "stream",
     "text": [
      "\r",
      "Processing Images:  42%|████▏     | 254/600 [00:43<00:58,  5.88it/s]"
     ]
    },
    {
     "name": "stdout",
     "output_type": "stream",
     "text": [
      "1/1 [==============================] - 0s 15ms/step\n"
     ]
    },
    {
     "name": "stderr",
     "output_type": "stream",
     "text": [
      "\r",
      "Processing Images:  42%|████▎     | 255/600 [00:43<00:58,  5.85it/s]"
     ]
    },
    {
     "name": "stdout",
     "output_type": "stream",
     "text": [
      "1/1 [==============================] - 0s 31ms/step\n"
     ]
    },
    {
     "name": "stderr",
     "output_type": "stream",
     "text": [
      "\r",
      "Processing Images:  43%|████▎     | 256/600 [00:44<00:57,  6.00it/s]"
     ]
    },
    {
     "name": "stdout",
     "output_type": "stream",
     "text": [
      "1/1 [==============================] - 0s 31ms/step\n"
     ]
    },
    {
     "name": "stderr",
     "output_type": "stream",
     "text": [
      "\r",
      "Processing Images:  43%|████▎     | 257/600 [00:44<00:57,  5.93it/s]"
     ]
    },
    {
     "name": "stdout",
     "output_type": "stream",
     "text": [
      "1/1 [==============================] - 0s 32ms/step\n"
     ]
    },
    {
     "name": "stderr",
     "output_type": "stream",
     "text": [
      "\r",
      "Processing Images:  43%|████▎     | 258/600 [00:44<00:57,  5.99it/s]"
     ]
    },
    {
     "name": "stdout",
     "output_type": "stream",
     "text": [
      "1/1 [==============================] - 0s 31ms/step\n"
     ]
    },
    {
     "name": "stderr",
     "output_type": "stream",
     "text": [
      "\r",
      "Processing Images:  43%|████▎     | 259/600 [00:44<00:56,  6.00it/s]"
     ]
    },
    {
     "name": "stdout",
     "output_type": "stream",
     "text": [
      "1/1 [==============================] - 0s 31ms/step\n"
     ]
    },
    {
     "name": "stderr",
     "output_type": "stream",
     "text": [
      "\r",
      "Processing Images:  43%|████▎     | 260/600 [00:44<00:55,  6.10it/s]"
     ]
    },
    {
     "name": "stdout",
     "output_type": "stream",
     "text": [
      "1/1 [==============================] - 0s 18ms/step\n"
     ]
    },
    {
     "name": "stderr",
     "output_type": "stream",
     "text": [
      "\r",
      "Processing Images:  44%|████▎     | 261/600 [00:44<00:56,  6.04it/s]"
     ]
    },
    {
     "name": "stdout",
     "output_type": "stream",
     "text": [
      "1/1 [==============================] - 0s 31ms/step\n"
     ]
    },
    {
     "name": "stderr",
     "output_type": "stream",
     "text": [
      "\r",
      "Processing Images:  44%|████▎     | 262/600 [00:45<00:55,  6.14it/s]"
     ]
    },
    {
     "name": "stdout",
     "output_type": "stream",
     "text": [
      "1/1 [==============================] - 0s 31ms/step\n"
     ]
    },
    {
     "name": "stderr",
     "output_type": "stream",
     "text": [
      "\r",
      "Processing Images:  44%|████▍     | 263/600 [00:45<00:55,  6.03it/s]"
     ]
    },
    {
     "name": "stdout",
     "output_type": "stream",
     "text": [
      "1/1 [==============================] - 0s 32ms/step\n"
     ]
    },
    {
     "name": "stderr",
     "output_type": "stream",
     "text": [
      "\r",
      "Processing Images:  44%|████▍     | 264/600 [00:45<00:57,  5.88it/s]"
     ]
    },
    {
     "name": "stdout",
     "output_type": "stream",
     "text": [
      "1/1 [==============================] - 0s 31ms/step\n"
     ]
    },
    {
     "name": "stderr",
     "output_type": "stream",
     "text": [
      "\r",
      "Processing Images:  44%|████▍     | 265/600 [00:45<00:54,  6.10it/s]"
     ]
    },
    {
     "name": "stdout",
     "output_type": "stream",
     "text": [
      "1/1 [==============================] - 0s 16ms/step\n"
     ]
    },
    {
     "name": "stderr",
     "output_type": "stream",
     "text": [
      "\r",
      "Processing Images:  44%|████▍     | 266/600 [00:45<00:55,  6.00it/s]"
     ]
    },
    {
     "name": "stdout",
     "output_type": "stream",
     "text": [
      "1/1 [==============================] - 0s 31ms/step\n"
     ]
    },
    {
     "name": "stderr",
     "output_type": "stream",
     "text": [
      "\r",
      "Processing Images:  44%|████▍     | 267/600 [00:45<00:54,  6.11it/s]"
     ]
    },
    {
     "name": "stdout",
     "output_type": "stream",
     "text": [
      "1/1 [==============================] - 0s 16ms/step\n"
     ]
    },
    {
     "name": "stderr",
     "output_type": "stream",
     "text": [
      "\r",
      "Processing Images:  45%|████▍     | 268/600 [00:46<00:55,  6.01it/s]"
     ]
    },
    {
     "name": "stdout",
     "output_type": "stream",
     "text": [
      "1/1 [==============================] - 0s 29ms/step\n"
     ]
    },
    {
     "name": "stderr",
     "output_type": "stream",
     "text": [
      "\r",
      "Processing Images:  45%|████▍     | 269/600 [00:46<00:54,  6.11it/s]"
     ]
    },
    {
     "name": "stdout",
     "output_type": "stream",
     "text": [
      "1/1 [==============================] - 0s 31ms/step\n"
     ]
    },
    {
     "name": "stderr",
     "output_type": "stream",
     "text": [
      "\r",
      "Processing Images:  45%|████▌     | 270/600 [00:46<00:53,  6.19it/s]"
     ]
    },
    {
     "name": "stdout",
     "output_type": "stream",
     "text": [
      "1/1 [==============================] - 0s 31ms/step\n"
     ]
    },
    {
     "name": "stderr",
     "output_type": "stream",
     "text": [
      "\r",
      "Processing Images:  45%|████▌     | 271/600 [00:46<00:54,  6.06it/s]"
     ]
    },
    {
     "name": "stdout",
     "output_type": "stream",
     "text": [
      "1/1 [==============================] - 0s 32ms/step\n"
     ]
    },
    {
     "name": "stderr",
     "output_type": "stream",
     "text": [
      "\r",
      "Processing Images:  45%|████▌     | 272/600 [00:46<00:54,  6.06it/s]"
     ]
    },
    {
     "name": "stdout",
     "output_type": "stream",
     "text": [
      "1/1 [==============================] - 0s 31ms/step\n"
     ]
    },
    {
     "name": "stderr",
     "output_type": "stream",
     "text": [
      "\r",
      "Processing Images:  46%|████▌     | 273/600 [00:46<00:53,  6.06it/s]"
     ]
    },
    {
     "name": "stdout",
     "output_type": "stream",
     "text": [
      "1/1 [==============================] - 0s 16ms/step\n"
     ]
    },
    {
     "name": "stderr",
     "output_type": "stream",
     "text": [
      "\r",
      "Processing Images:  46%|████▌     | 274/600 [00:47<00:54,  5.98it/s]"
     ]
    },
    {
     "name": "stdout",
     "output_type": "stream",
     "text": [
      "1/1 [==============================] - 0s 32ms/step\n"
     ]
    },
    {
     "name": "stderr",
     "output_type": "stream",
     "text": [
      "\r",
      "Processing Images:  46%|████▌     | 275/600 [00:47<00:53,  6.02it/s]"
     ]
    },
    {
     "name": "stdout",
     "output_type": "stream",
     "text": [
      "1/1 [==============================] - 0s 47ms/step\n"
     ]
    },
    {
     "name": "stderr",
     "output_type": "stream",
     "text": [
      "\r",
      "Processing Images:  46%|████▌     | 276/600 [00:47<00:55,  5.85it/s]"
     ]
    },
    {
     "name": "stdout",
     "output_type": "stream",
     "text": [
      "1/1 [==============================] - 0s 31ms/step\n"
     ]
    },
    {
     "name": "stderr",
     "output_type": "stream",
     "text": [
      "\r",
      "Processing Images:  46%|████▌     | 277/600 [00:47<00:53,  6.00it/s]"
     ]
    },
    {
     "name": "stdout",
     "output_type": "stream",
     "text": [
      "1/1 [==============================] - 0s 16ms/step\n"
     ]
    },
    {
     "name": "stderr",
     "output_type": "stream",
     "text": [
      "\r",
      "Processing Images:  46%|████▋     | 278/600 [00:47<00:54,  5.93it/s]"
     ]
    },
    {
     "name": "stdout",
     "output_type": "stream",
     "text": [
      "1/1 [==============================] - 0s 31ms/step\n"
     ]
    },
    {
     "name": "stderr",
     "output_type": "stream",
     "text": [
      "\r",
      "Processing Images:  46%|████▋     | 279/600 [00:47<00:52,  6.06it/s]"
     ]
    },
    {
     "name": "stdout",
     "output_type": "stream",
     "text": [
      "1/1 [==============================] - 0s 31ms/step\n"
     ]
    },
    {
     "name": "stderr",
     "output_type": "stream",
     "text": [
      "\r",
      "Processing Images:  47%|████▋     | 280/600 [00:47<00:52,  6.15it/s]"
     ]
    },
    {
     "name": "stdout",
     "output_type": "stream",
     "text": [
      "1/1 [==============================] - 0s 16ms/step\n"
     ]
    },
    {
     "name": "stderr",
     "output_type": "stream",
     "text": [
      "\r",
      "Processing Images:  47%|████▋     | 281/600 [00:48<00:52,  6.04it/s]"
     ]
    },
    {
     "name": "stdout",
     "output_type": "stream",
     "text": [
      "1/1 [==============================] - 0s 57ms/step\n"
     ]
    },
    {
     "name": "stderr",
     "output_type": "stream",
     "text": [
      "\r",
      "Processing Images:  47%|████▋     | 282/600 [00:48<00:54,  5.80it/s]"
     ]
    },
    {
     "name": "stdout",
     "output_type": "stream",
     "text": [
      "1/1 [==============================] - 0s 31ms/step\n"
     ]
    },
    {
     "name": "stderr",
     "output_type": "stream",
     "text": [
      "\r",
      "Processing Images:  47%|████▋     | 283/600 [00:48<00:54,  5.79it/s]"
     ]
    },
    {
     "name": "stdout",
     "output_type": "stream",
     "text": [
      "1/1 [==============================] - 0s 31ms/step\n"
     ]
    },
    {
     "name": "stderr",
     "output_type": "stream",
     "text": [
      "\r",
      "Processing Images:  47%|████▋     | 284/600 [00:48<00:56,  5.64it/s]"
     ]
    },
    {
     "name": "stdout",
     "output_type": "stream",
     "text": [
      "1/1 [==============================] - 0s 31ms/step\n"
     ]
    },
    {
     "name": "stderr",
     "output_type": "stream",
     "text": [
      "\r",
      "Processing Images:  48%|████▊     | 285/600 [00:48<00:58,  5.40it/s]"
     ]
    },
    {
     "name": "stdout",
     "output_type": "stream",
     "text": [
      "1/1 [==============================] - 0s 32ms/step\n"
     ]
    },
    {
     "name": "stderr",
     "output_type": "stream",
     "text": [
      "\r",
      "Processing Images:  48%|████▊     | 286/600 [00:49<00:55,  5.66it/s]"
     ]
    },
    {
     "name": "stdout",
     "output_type": "stream",
     "text": [
      "1/1 [==============================] - 0s 31ms/step\n"
     ]
    },
    {
     "name": "stderr",
     "output_type": "stream",
     "text": [
      "\r",
      "Processing Images:  48%|████▊     | 287/600 [00:49<00:53,  5.85it/s]"
     ]
    },
    {
     "name": "stdout",
     "output_type": "stream",
     "text": [
      "1/1 [==============================] - 0s 31ms/step\n"
     ]
    },
    {
     "name": "stderr",
     "output_type": "stream",
     "text": [
      "\r",
      "Processing Images:  48%|████▊     | 288/600 [00:49<00:52,  6.00it/s]"
     ]
    },
    {
     "name": "stdout",
     "output_type": "stream",
     "text": [
      "1/1 [==============================] - 0s 21ms/step\n"
     ]
    },
    {
     "name": "stderr",
     "output_type": "stream",
     "text": [
      "\r",
      "Processing Images:  48%|████▊     | 289/600 [00:49<00:50,  6.11it/s]"
     ]
    },
    {
     "name": "stdout",
     "output_type": "stream",
     "text": [
      "1/1 [==============================] - 0s 31ms/step\n"
     ]
    },
    {
     "name": "stderr",
     "output_type": "stream",
     "text": [
      "\r",
      "Processing Images:  48%|████▊     | 290/600 [00:49<00:51,  6.01it/s]"
     ]
    },
    {
     "name": "stdout",
     "output_type": "stream",
     "text": [
      "1/1 [==============================] - 0s 24ms/step\n"
     ]
    },
    {
     "name": "stderr",
     "output_type": "stream",
     "text": [
      "\r",
      "Processing Images:  48%|████▊     | 291/600 [00:49<00:50,  6.11it/s]"
     ]
    },
    {
     "name": "stdout",
     "output_type": "stream",
     "text": [
      "1/1 [==============================] - 0s 16ms/step\n"
     ]
    },
    {
     "name": "stderr",
     "output_type": "stream",
     "text": [
      "\r",
      "Processing Images:  49%|████▊     | 292/600 [00:50<00:49,  6.19it/s]"
     ]
    },
    {
     "name": "stdout",
     "output_type": "stream",
     "text": [
      "1/1 [==============================] - 0s 16ms/step\n"
     ]
    },
    {
     "name": "stderr",
     "output_type": "stream",
     "text": [
      "\r",
      "Processing Images:  49%|████▉     | 293/600 [00:50<00:50,  6.06it/s]"
     ]
    },
    {
     "name": "stdout",
     "output_type": "stream",
     "text": [
      "1/1 [==============================] - 0s 32ms/step\n"
     ]
    },
    {
     "name": "stderr",
     "output_type": "stream",
     "text": [
      "\r",
      "Processing Images:  49%|████▉     | 294/600 [00:50<00:49,  6.15it/s]"
     ]
    },
    {
     "name": "stdout",
     "output_type": "stream",
     "text": [
      "1/1 [==============================] - 0s 16ms/step\n"
     ]
    },
    {
     "name": "stderr",
     "output_type": "stream",
     "text": [
      "\r",
      "Processing Images:  49%|████▉     | 295/600 [00:50<00:50,  6.04it/s]"
     ]
    },
    {
     "name": "stdout",
     "output_type": "stream",
     "text": [
      "1/1 [==============================] - 0s 16ms/step\n"
     ]
    },
    {
     "name": "stderr",
     "output_type": "stream",
     "text": [
      "\r",
      "Processing Images:  49%|████▉     | 296/600 [00:50<00:50,  5.96it/s]"
     ]
    },
    {
     "name": "stdout",
     "output_type": "stream",
     "text": [
      "1/1 [==============================] - 0s 47ms/step\n"
     ]
    },
    {
     "name": "stderr",
     "output_type": "stream",
     "text": [
      "\r",
      "Processing Images:  50%|████▉     | 297/600 [00:50<00:52,  5.75it/s]"
     ]
    },
    {
     "name": "stdout",
     "output_type": "stream",
     "text": [
      "1/1 [==============================] - 0s 31ms/step\n"
     ]
    },
    {
     "name": "stderr",
     "output_type": "stream",
     "text": [
      "\r",
      "Processing Images:  50%|████▉     | 298/600 [00:51<00:50,  5.92it/s]"
     ]
    },
    {
     "name": "stdout",
     "output_type": "stream",
     "text": [
      "1/1 [==============================] - 0s 31ms/step\n"
     ]
    },
    {
     "name": "stderr",
     "output_type": "stream",
     "text": [
      "\r",
      "Processing Images:  50%|████▉     | 299/600 [00:51<00:49,  6.05it/s]"
     ]
    },
    {
     "name": "stdout",
     "output_type": "stream",
     "text": [
      "1/1 [==============================] - 0s 31ms/step\n"
     ]
    },
    {
     "name": "stderr",
     "output_type": "stream",
     "text": [
      "\r",
      "Processing Images:  50%|█████     | 300/600 [00:51<00:53,  5.65it/s]"
     ]
    },
    {
     "name": "stdout",
     "output_type": "stream",
     "text": [
      "1/1 [==============================] - 0s 32ms/step\n"
     ]
    },
    {
     "name": "stderr",
     "output_type": "stream",
     "text": [
      "\r",
      "Processing Images:  50%|█████     | 301/600 [00:51<00:51,  5.77it/s]"
     ]
    },
    {
     "name": "stdout",
     "output_type": "stream",
     "text": [
      "1/1 [==============================] - 0s 16ms/step\n"
     ]
    },
    {
     "name": "stderr",
     "output_type": "stream",
     "text": [
      "\r",
      "Processing Images:  50%|█████     | 302/600 [00:51<00:50,  5.86it/s]"
     ]
    },
    {
     "name": "stdout",
     "output_type": "stream",
     "text": [
      "1/1 [==============================] - 0s 31ms/step\n"
     ]
    },
    {
     "name": "stderr",
     "output_type": "stream",
     "text": [
      "\r",
      "Processing Images:  50%|█████     | 303/600 [00:51<00:49,  6.00it/s]"
     ]
    },
    {
     "name": "stdout",
     "output_type": "stream",
     "text": [
      "1/1 [==============================] - 0s 17ms/step\n"
     ]
    },
    {
     "name": "stderr",
     "output_type": "stream",
     "text": [
      "\r",
      "Processing Images:  51%|█████     | 304/600 [00:52<00:49,  6.04it/s]"
     ]
    },
    {
     "name": "stdout",
     "output_type": "stream",
     "text": [
      "1/1 [==============================] - 0s 31ms/step\n"
     ]
    },
    {
     "name": "stderr",
     "output_type": "stream",
     "text": [
      "\r",
      "Processing Images:  51%|█████     | 305/600 [00:52<00:48,  6.08it/s]"
     ]
    },
    {
     "name": "stdout",
     "output_type": "stream",
     "text": [
      "1/1 [==============================] - 0s 16ms/step\n"
     ]
    },
    {
     "name": "stderr",
     "output_type": "stream",
     "text": [
      "\r",
      "Processing Images:  51%|█████     | 306/600 [00:52<00:49,  5.98it/s]"
     ]
    },
    {
     "name": "stdout",
     "output_type": "stream",
     "text": [
      "1/1 [==============================] - 0s 32ms/step\n"
     ]
    },
    {
     "name": "stderr",
     "output_type": "stream",
     "text": [
      "\r",
      "Processing Images:  51%|█████     | 307/600 [00:52<00:50,  5.79it/s]"
     ]
    },
    {
     "name": "stdout",
     "output_type": "stream",
     "text": [
      "1/1 [==============================] - 0s 31ms/step\n"
     ]
    },
    {
     "name": "stderr",
     "output_type": "stream",
     "text": [
      "\r",
      "Processing Images:  51%|█████▏    | 308/600 [00:52<00:48,  6.01it/s]"
     ]
    },
    {
     "name": "stdout",
     "output_type": "stream",
     "text": [
      "1/1 [==============================] - 0s 16ms/step\n"
     ]
    },
    {
     "name": "stderr",
     "output_type": "stream",
     "text": [
      "\r",
      "Processing Images:  52%|█████▏    | 309/600 [00:52<00:48,  5.94it/s]"
     ]
    },
    {
     "name": "stdout",
     "output_type": "stream",
     "text": [
      "1/1 [==============================] - 0s 32ms/step\n"
     ]
    },
    {
     "name": "stderr",
     "output_type": "stream",
     "text": [
      "\r",
      "Processing Images:  52%|█████▏    | 310/600 [00:53<00:49,  5.89it/s]"
     ]
    },
    {
     "name": "stdout",
     "output_type": "stream",
     "text": [
      "1/1 [==============================] - 0s 31ms/step\n"
     ]
    },
    {
     "name": "stderr",
     "output_type": "stream",
     "text": [
      "\r",
      "Processing Images:  52%|█████▏    | 311/600 [00:53<00:47,  6.03it/s]"
     ]
    },
    {
     "name": "stdout",
     "output_type": "stream",
     "text": [
      "1/1 [==============================] - 0s 31ms/step\n"
     ]
    },
    {
     "name": "stderr",
     "output_type": "stream",
     "text": [
      "\r",
      "Processing Images:  52%|█████▏    | 312/600 [00:53<00:48,  5.96it/s]"
     ]
    },
    {
     "name": "stdout",
     "output_type": "stream",
     "text": [
      "1/1 [==============================] - 0s 16ms/step\n"
     ]
    },
    {
     "name": "stderr",
     "output_type": "stream",
     "text": [
      "\r",
      "Processing Images:  52%|█████▏    | 313/600 [00:53<00:48,  5.91it/s]"
     ]
    },
    {
     "name": "stdout",
     "output_type": "stream",
     "text": [
      "1/1 [==============================] - 0s 31ms/step\n"
     ]
    },
    {
     "name": "stderr",
     "output_type": "stream",
     "text": [
      "\r",
      "Processing Images:  52%|█████▏    | 314/600 [00:53<00:47,  6.05it/s]"
     ]
    },
    {
     "name": "stdout",
     "output_type": "stream",
     "text": [
      "1/1 [==============================] - 0s 16ms/step\n"
     ]
    },
    {
     "name": "stderr",
     "output_type": "stream",
     "text": [
      "\r",
      "Processing Images:  52%|█████▎    | 315/600 [00:53<00:47,  5.96it/s]"
     ]
    },
    {
     "name": "stdout",
     "output_type": "stream",
     "text": [
      "1/1 [==============================] - 0s 32ms/step\n"
     ]
    },
    {
     "name": "stderr",
     "output_type": "stream",
     "text": [
      "\r",
      "Processing Images:  53%|█████▎    | 316/600 [00:54<00:46,  6.08it/s]"
     ]
    },
    {
     "name": "stdout",
     "output_type": "stream",
     "text": [
      "1/1 [==============================] - 0s 31ms/step\n"
     ]
    },
    {
     "name": "stderr",
     "output_type": "stream",
     "text": [
      "\r",
      "Processing Images:  53%|█████▎    | 317/600 [00:54<00:47,  5.97it/s]"
     ]
    },
    {
     "name": "stdout",
     "output_type": "stream",
     "text": [
      "1/1 [==============================] - 0s 16ms/step\n"
     ]
    },
    {
     "name": "stderr",
     "output_type": "stream",
     "text": [
      "\r",
      "Processing Images:  53%|█████▎    | 318/600 [00:54<00:46,  6.10it/s]"
     ]
    },
    {
     "name": "stdout",
     "output_type": "stream",
     "text": [
      "1/1 [==============================] - 0s 32ms/step\n"
     ]
    },
    {
     "name": "stderr",
     "output_type": "stream",
     "text": [
      "\r",
      "Processing Images:  53%|█████▎    | 319/600 [00:54<00:47,  5.87it/s]"
     ]
    },
    {
     "name": "stdout",
     "output_type": "stream",
     "text": [
      "1/1 [==============================] - 0s 31ms/step\n"
     ]
    },
    {
     "name": "stderr",
     "output_type": "stream",
     "text": [
      "\r",
      "Processing Images:  53%|█████▎    | 320/600 [00:54<00:47,  5.85it/s]"
     ]
    },
    {
     "name": "stdout",
     "output_type": "stream",
     "text": [
      "1/1 [==============================] - 0s 31ms/step\n"
     ]
    },
    {
     "name": "stderr",
     "output_type": "stream",
     "text": [
      "\r",
      "Processing Images:  54%|█████▎    | 321/600 [00:54<00:49,  5.68it/s]"
     ]
    },
    {
     "name": "stdout",
     "output_type": "stream",
     "text": [
      "1/1 [==============================] - 0s 31ms/step\n"
     ]
    },
    {
     "name": "stderr",
     "output_type": "stream",
     "text": [
      "\r",
      "Processing Images:  54%|█████▎    | 322/600 [00:55<00:47,  5.87it/s]"
     ]
    },
    {
     "name": "stdout",
     "output_type": "stream",
     "text": [
      "1/1 [==============================] - 0s 32ms/step\n"
     ]
    },
    {
     "name": "stderr",
     "output_type": "stream",
     "text": [
      "\r",
      "Processing Images:  54%|█████▍    | 323/600 [00:55<00:47,  5.85it/s]"
     ]
    },
    {
     "name": "stdout",
     "output_type": "stream",
     "text": [
      "1/1 [==============================] - 0s 16ms/step\n"
     ]
    },
    {
     "name": "stderr",
     "output_type": "stream",
     "text": [
      "\r",
      "Processing Images:  54%|█████▍    | 324/600 [00:55<00:47,  5.83it/s]"
     ]
    },
    {
     "name": "stdout",
     "output_type": "stream",
     "text": [
      "1/1 [==============================] - 0s 31ms/step\n"
     ]
    },
    {
     "name": "stderr",
     "output_type": "stream",
     "text": [
      "\r",
      "Processing Images:  54%|█████▍    | 325/600 [00:55<00:45,  5.98it/s]"
     ]
    },
    {
     "name": "stdout",
     "output_type": "stream",
     "text": [
      "1/1 [==============================] - 0s 21ms/step\n"
     ]
    },
    {
     "name": "stderr",
     "output_type": "stream",
     "text": [
      "\r",
      "Processing Images:  54%|█████▍    | 326/600 [00:55<00:46,  5.93it/s]"
     ]
    },
    {
     "name": "stdout",
     "output_type": "stream",
     "text": [
      "1/1 [==============================] - 0s 31ms/step\n"
     ]
    },
    {
     "name": "stderr",
     "output_type": "stream",
     "text": [
      "\r",
      "Processing Images:  55%|█████▍    | 327/600 [00:55<00:45,  6.04it/s]"
     ]
    },
    {
     "name": "stdout",
     "output_type": "stream",
     "text": [
      "1/1 [==============================] - 0s 31ms/step\n"
     ]
    },
    {
     "name": "stderr",
     "output_type": "stream",
     "text": [
      "\r",
      "Processing Images:  55%|█████▍    | 328/600 [00:56<00:45,  5.96it/s]"
     ]
    },
    {
     "name": "stdout",
     "output_type": "stream",
     "text": [
      "1/1 [==============================] - 0s 19ms/step\n"
     ]
    },
    {
     "name": "stderr",
     "output_type": "stream",
     "text": [
      "\r",
      "Processing Images:  55%|█████▍    | 329/600 [00:56<00:45,  5.91it/s]"
     ]
    },
    {
     "name": "stdout",
     "output_type": "stream",
     "text": [
      "1/1 [==============================] - 0s 31ms/step\n"
     ]
    },
    {
     "name": "stderr",
     "output_type": "stream",
     "text": [
      "\r",
      "Processing Images:  55%|█████▌    | 330/600 [00:56<00:45,  5.88it/s]"
     ]
    },
    {
     "name": "stdout",
     "output_type": "stream",
     "text": [
      "1/1 [==============================] - 0s 31ms/step\n"
     ]
    },
    {
     "name": "stderr",
     "output_type": "stream",
     "text": [
      "\r",
      "Processing Images:  55%|█████▌    | 331/600 [00:56<00:45,  5.85it/s]"
     ]
    },
    {
     "name": "stdout",
     "output_type": "stream",
     "text": [
      "1/1 [==============================] - 0s 32ms/step\n"
     ]
    },
    {
     "name": "stderr",
     "output_type": "stream",
     "text": [
      "\r",
      "Processing Images:  55%|█████▌    | 332/600 [00:56<00:45,  5.91it/s]"
     ]
    },
    {
     "name": "stdout",
     "output_type": "stream",
     "text": [
      "1/1 [==============================] - 0s 16ms/step\n"
     ]
    },
    {
     "name": "stderr",
     "output_type": "stream",
     "text": [
      "\r",
      "Processing Images:  56%|█████▌    | 333/600 [00:56<00:44,  5.96it/s]"
     ]
    },
    {
     "name": "stdout",
     "output_type": "stream",
     "text": [
      "1/1 [==============================] - 0s 31ms/step\n"
     ]
    },
    {
     "name": "stderr",
     "output_type": "stream",
     "text": [
      "\r",
      "Processing Images:  56%|█████▌    | 334/600 [00:57<00:43,  6.07it/s]"
     ]
    },
    {
     "name": "stdout",
     "output_type": "stream",
     "text": [
      "1/1 [==============================] - 0s 32ms/step\n"
     ]
    },
    {
     "name": "stderr",
     "output_type": "stream",
     "text": [
      "\r",
      "Processing Images:  56%|█████▌    | 335/600 [00:57<00:44,  5.99it/s]"
     ]
    },
    {
     "name": "stdout",
     "output_type": "stream",
     "text": [
      "1/1 [==============================] - 0s 31ms/step\n"
     ]
    },
    {
     "name": "stderr",
     "output_type": "stream",
     "text": [
      "\r",
      "Processing Images:  56%|█████▌    | 336/600 [00:57<00:43,  6.10it/s]"
     ]
    },
    {
     "name": "stdout",
     "output_type": "stream",
     "text": [
      "1/1 [==============================] - 0s 31ms/step\n"
     ]
    },
    {
     "name": "stderr",
     "output_type": "stream",
     "text": [
      "\r",
      "Processing Images:  56%|█████▌    | 337/600 [00:57<00:43,  6.00it/s]"
     ]
    },
    {
     "name": "stdout",
     "output_type": "stream",
     "text": [
      "1/1 [==============================] - 0s 47ms/step\n"
     ]
    },
    {
     "name": "stderr",
     "output_type": "stream",
     "text": [
      "\r",
      "Processing Images:  56%|█████▋    | 338/600 [00:57<00:46,  5.66it/s]"
     ]
    },
    {
     "name": "stdout",
     "output_type": "stream",
     "text": [
      "1/1 [==============================] - 0s 24ms/step\n"
     ]
    },
    {
     "name": "stderr",
     "output_type": "stream",
     "text": [
      "\r",
      "Processing Images:  56%|█████▋    | 339/600 [00:57<00:45,  5.78it/s]"
     ]
    },
    {
     "name": "stdout",
     "output_type": "stream",
     "text": [
      "1/1 [==============================] - 0s 31ms/step\n"
     ]
    },
    {
     "name": "stderr",
     "output_type": "stream",
     "text": [
      "\r",
      "Processing Images:  57%|█████▋    | 340/600 [00:58<00:43,  5.94it/s]"
     ]
    },
    {
     "name": "stdout",
     "output_type": "stream",
     "text": [
      "1/1 [==============================] - 0s 47ms/step\n"
     ]
    },
    {
     "name": "stderr",
     "output_type": "stream",
     "text": [
      "\r",
      "Processing Images:  57%|█████▋    | 341/600 [00:58<00:46,  5.59it/s]"
     ]
    },
    {
     "name": "stdout",
     "output_type": "stream",
     "text": [
      "1/1 [==============================] - 0s 25ms/step\n"
     ]
    },
    {
     "name": "stderr",
     "output_type": "stream",
     "text": [
      "\r",
      "Processing Images:  57%|█████▋    | 342/600 [00:58<00:45,  5.65it/s]"
     ]
    },
    {
     "name": "stdout",
     "output_type": "stream",
     "text": [
      "1/1 [==============================] - 0s 34ms/step\n"
     ]
    },
    {
     "name": "stderr",
     "output_type": "stream",
     "text": [
      "\r",
      "Processing Images:  57%|█████▋    | 343/600 [00:58<00:43,  5.85it/s]"
     ]
    },
    {
     "name": "stdout",
     "output_type": "stream",
     "text": [
      "1/1 [==============================] - 0s 16ms/step\n"
     ]
    },
    {
     "name": "stderr",
     "output_type": "stream",
     "text": [
      "\r",
      "Processing Images:  57%|█████▋    | 344/600 [00:58<00:42,  5.99it/s]"
     ]
    },
    {
     "name": "stdout",
     "output_type": "stream",
     "text": [
      "1/1 [==============================] - 0s 26ms/step\n"
     ]
    },
    {
     "name": "stderr",
     "output_type": "stream",
     "text": [
      "\r",
      "Processing Images:  57%|█████▊    | 345/600 [00:59<00:43,  5.82it/s]"
     ]
    },
    {
     "name": "stdout",
     "output_type": "stream",
     "text": [
      "1/1 [==============================] - 0s 31ms/step\n"
     ]
    },
    {
     "name": "stderr",
     "output_type": "stream",
     "text": [
      "\r",
      "Processing Images:  58%|█████▊    | 346/600 [00:59<00:42,  6.03it/s]"
     ]
    },
    {
     "name": "stdout",
     "output_type": "stream",
     "text": [
      "1/1 [==============================] - 0s 31ms/step\n"
     ]
    },
    {
     "name": "stderr",
     "output_type": "stream",
     "text": [
      "\r",
      "Processing Images:  58%|█████▊    | 347/600 [00:59<00:42,  5.96it/s]"
     ]
    },
    {
     "name": "stdout",
     "output_type": "stream",
     "text": [
      "1/1 [==============================] - 0s 32ms/step\n"
     ]
    },
    {
     "name": "stderr",
     "output_type": "stream",
     "text": [
      "\r",
      "Processing Images:  58%|█████▊    | 348/600 [00:59<00:41,  6.02it/s]"
     ]
    },
    {
     "name": "stdout",
     "output_type": "stream",
     "text": [
      "1/1 [==============================] - 0s 16ms/step\n"
     ]
    },
    {
     "name": "stderr",
     "output_type": "stream",
     "text": [
      "\r",
      "Processing Images:  58%|█████▊    | 349/600 [00:59<00:41,  6.00it/s]"
     ]
    },
    {
     "name": "stdout",
     "output_type": "stream",
     "text": [
      "1/1 [==============================] - 0s 16ms/step\n"
     ]
    },
    {
     "name": "stderr",
     "output_type": "stream",
     "text": [
      "\r",
      "Processing Images:  58%|█████▊    | 350/600 [00:59<00:42,  5.94it/s]"
     ]
    },
    {
     "name": "stdout",
     "output_type": "stream",
     "text": [
      "1/1 [==============================] - 0s 32ms/step\n"
     ]
    },
    {
     "name": "stderr",
     "output_type": "stream",
     "text": [
      "\r",
      "Processing Images:  58%|█████▊    | 351/600 [01:00<00:42,  5.89it/s]"
     ]
    },
    {
     "name": "stdout",
     "output_type": "stream",
     "text": [
      "1/1 [==============================] - 0s 21ms/step\n"
     ]
    },
    {
     "name": "stderr",
     "output_type": "stream",
     "text": [
      "\r",
      "Processing Images:  59%|█████▊    | 352/600 [01:00<00:43,  5.70it/s]"
     ]
    },
    {
     "name": "stdout",
     "output_type": "stream",
     "text": [
      "1/1 [==============================] - 0s 31ms/step\n"
     ]
    },
    {
     "name": "stderr",
     "output_type": "stream",
     "text": [
      "\r",
      "Processing Images:  59%|█████▉    | 353/600 [01:00<00:43,  5.73it/s]"
     ]
    },
    {
     "name": "stdout",
     "output_type": "stream",
     "text": [
      "1/1 [==============================] - 0s 16ms/step\n"
     ]
    },
    {
     "name": "stderr",
     "output_type": "stream",
     "text": [
      "\r",
      "Processing Images:  59%|█████▉    | 354/600 [01:00<00:42,  5.75it/s]"
     ]
    },
    {
     "name": "stdout",
     "output_type": "stream",
     "text": [
      "1/1 [==============================] - 0s 32ms/step\n"
     ]
    },
    {
     "name": "stderr",
     "output_type": "stream",
     "text": [
      "\r",
      "Processing Images:  59%|█████▉    | 355/600 [01:00<00:41,  5.92it/s]"
     ]
    },
    {
     "name": "stdout",
     "output_type": "stream",
     "text": [
      "1/1 [==============================] - 0s 31ms/step\n"
     ]
    },
    {
     "name": "stderr",
     "output_type": "stream",
     "text": [
      "\r",
      "Processing Images:  59%|█████▉    | 356/600 [01:00<00:40,  6.05it/s]"
     ]
    },
    {
     "name": "stdout",
     "output_type": "stream",
     "text": [
      "1/1 [==============================] - 0s 16ms/step\n"
     ]
    },
    {
     "name": "stderr",
     "output_type": "stream",
     "text": [
      "\r",
      "Processing Images:  60%|█████▉    | 357/600 [01:01<00:40,  5.97it/s]"
     ]
    },
    {
     "name": "stdout",
     "output_type": "stream",
     "text": [
      "1/1 [==============================] - 0s 32ms/step\n"
     ]
    },
    {
     "name": "stderr",
     "output_type": "stream",
     "text": [
      "\r",
      "Processing Images:  60%|█████▉    | 358/600 [01:01<00:39,  6.09it/s]"
     ]
    },
    {
     "name": "stdout",
     "output_type": "stream",
     "text": [
      "1/1 [==============================] - 0s 31ms/step\n"
     ]
    },
    {
     "name": "stderr",
     "output_type": "stream",
     "text": [
      "\r",
      "Processing Images:  60%|█████▉    | 359/600 [01:01<00:40,  5.99it/s]"
     ]
    },
    {
     "name": "stdout",
     "output_type": "stream",
     "text": [
      "1/1 [==============================] - 0s 31ms/step\n"
     ]
    },
    {
     "name": "stderr",
     "output_type": "stream",
     "text": [
      "\r",
      "Processing Images:  60%|██████    | 360/600 [01:01<00:39,  6.10it/s]"
     ]
    },
    {
     "name": "stdout",
     "output_type": "stream",
     "text": [
      "1/1 [==============================] - 0s 32ms/step\n"
     ]
    },
    {
     "name": "stderr",
     "output_type": "stream",
     "text": [
      "\r",
      "Processing Images:  60%|██████    | 361/600 [01:01<00:39,  6.01it/s]"
     ]
    },
    {
     "name": "stdout",
     "output_type": "stream",
     "text": [
      "1/1 [==============================] - 0s 31ms/step\n"
     ]
    },
    {
     "name": "stderr",
     "output_type": "stream",
     "text": [
      "\r",
      "Processing Images:  60%|██████    | 362/600 [01:01<00:38,  6.11it/s]"
     ]
    },
    {
     "name": "stdout",
     "output_type": "stream",
     "text": [
      "1/1 [==============================] - 0s 31ms/step\n"
     ]
    },
    {
     "name": "stderr",
     "output_type": "stream",
     "text": [
      "\r",
      "Processing Images:  60%|██████    | 363/600 [01:02<00:39,  6.01it/s]"
     ]
    },
    {
     "name": "stdout",
     "output_type": "stream",
     "text": [
      "1/1 [==============================] - 0s 23ms/step\n"
     ]
    },
    {
     "name": "stderr",
     "output_type": "stream",
     "text": [
      "\r",
      "Processing Images:  61%|██████    | 364/600 [01:02<00:38,  6.12it/s]"
     ]
    },
    {
     "name": "stdout",
     "output_type": "stream",
     "text": [
      "1/1 [==============================] - 0s 31ms/step\n"
     ]
    },
    {
     "name": "stderr",
     "output_type": "stream",
     "text": [
      "\r",
      "Processing Images:  61%|██████    | 365/600 [01:02<00:39,  6.01it/s]"
     ]
    },
    {
     "name": "stdout",
     "output_type": "stream",
     "text": [
      "1/1 [==============================] - 0s 22ms/step\n"
     ]
    },
    {
     "name": "stderr",
     "output_type": "stream",
     "text": [
      "\r",
      "Processing Images:  61%|██████    | 366/600 [01:02<00:38,  6.12it/s]"
     ]
    },
    {
     "name": "stdout",
     "output_type": "stream",
     "text": [
      "1/1 [==============================] - 0s 63ms/step\n"
     ]
    },
    {
     "name": "stderr",
     "output_type": "stream",
     "text": [
      "\r",
      "Processing Images:  61%|██████    | 367/600 [01:02<00:39,  5.85it/s]"
     ]
    },
    {
     "name": "stdout",
     "output_type": "stream",
     "text": [
      "1/1 [==============================] - 0s 31ms/step\n"
     ]
    },
    {
     "name": "stderr",
     "output_type": "stream",
     "text": [
      "\r",
      "Processing Images:  61%|██████▏   | 368/600 [01:02<00:38,  6.00it/s]"
     ]
    },
    {
     "name": "stdout",
     "output_type": "stream",
     "text": [
      "1/1 [==============================] - 0s 16ms/step\n"
     ]
    },
    {
     "name": "stderr",
     "output_type": "stream",
     "text": [
      "\r",
      "Processing Images:  62%|██████▏   | 369/600 [01:03<00:38,  5.93it/s]"
     ]
    },
    {
     "name": "stdout",
     "output_type": "stream",
     "text": [
      "1/1 [==============================] - 0s 31ms/step\n"
     ]
    },
    {
     "name": "stderr",
     "output_type": "stream",
     "text": [
      "\r",
      "Processing Images:  62%|██████▏   | 370/600 [01:03<00:37,  6.06it/s]"
     ]
    },
    {
     "name": "stdout",
     "output_type": "stream",
     "text": [
      "1/1 [==============================] - 0s 31ms/step\n"
     ]
    },
    {
     "name": "stderr",
     "output_type": "stream",
     "text": [
      "\r",
      "Processing Images:  62%|██████▏   | 371/600 [01:03<00:37,  6.15it/s]"
     ]
    },
    {
     "name": "stdout",
     "output_type": "stream",
     "text": [
      "1/1 [==============================] - 0s 32ms/step\n"
     ]
    },
    {
     "name": "stderr",
     "output_type": "stream",
     "text": [
      "\r",
      "Processing Images:  62%|██████▏   | 372/600 [01:03<00:37,  6.03it/s]"
     ]
    },
    {
     "name": "stdout",
     "output_type": "stream",
     "text": [
      "1/1 [==============================] - 0s 31ms/step\n"
     ]
    },
    {
     "name": "stderr",
     "output_type": "stream",
     "text": [
      "\r",
      "Processing Images:  62%|██████▏   | 373/600 [01:03<00:37,  6.13it/s]"
     ]
    },
    {
     "name": "stdout",
     "output_type": "stream",
     "text": [
      "1/1 [==============================] - 0s 31ms/step\n"
     ]
    },
    {
     "name": "stderr",
     "output_type": "stream",
     "text": [
      "\r",
      "Processing Images:  62%|██████▏   | 374/600 [01:03<00:37,  6.03it/s]"
     ]
    },
    {
     "name": "stdout",
     "output_type": "stream",
     "text": [
      "1/1 [==============================] - 0s 16ms/step\n"
     ]
    },
    {
     "name": "stderr",
     "output_type": "stream",
     "text": [
      "\r",
      "Processing Images:  62%|██████▎   | 375/600 [01:04<00:37,  5.95it/s]"
     ]
    },
    {
     "name": "stdout",
     "output_type": "stream",
     "text": [
      "1/1 [==============================] - 0s 31ms/step\n"
     ]
    },
    {
     "name": "stderr",
     "output_type": "stream",
     "text": [
      "\r",
      "Processing Images:  63%|██████▎   | 376/600 [01:04<00:36,  6.07it/s]"
     ]
    },
    {
     "name": "stdout",
     "output_type": "stream",
     "text": [
      "1/1 [==============================] - 0s 31ms/step\n"
     ]
    },
    {
     "name": "stderr",
     "output_type": "stream",
     "text": [
      "\r",
      "Processing Images:  63%|██████▎   | 377/600 [01:04<00:36,  6.16it/s]"
     ]
    },
    {
     "name": "stdout",
     "output_type": "stream",
     "text": [
      "1/1 [==============================] - 0s 22ms/step\n"
     ]
    },
    {
     "name": "stderr",
     "output_type": "stream",
     "text": [
      "\r",
      "Processing Images:  63%|██████▎   | 378/600 [01:04<00:36,  6.05it/s]"
     ]
    },
    {
     "name": "stdout",
     "output_type": "stream",
     "text": [
      "1/1 [==============================] - 0s 31ms/step\n"
     ]
    },
    {
     "name": "stderr",
     "output_type": "stream",
     "text": [
      "\r",
      "Processing Images:  63%|██████▎   | 379/600 [01:04<00:36,  6.14it/s]"
     ]
    },
    {
     "name": "stdout",
     "output_type": "stream",
     "text": [
      "1/1 [==============================] - 0s 16ms/step\n"
     ]
    },
    {
     "name": "stderr",
     "output_type": "stream",
     "text": [
      "\r",
      "Processing Images:  63%|██████▎   | 380/600 [01:04<00:36,  6.04it/s]"
     ]
    },
    {
     "name": "stdout",
     "output_type": "stream",
     "text": [
      "1/1 [==============================] - 0s 38ms/step\n"
     ]
    },
    {
     "name": "stderr",
     "output_type": "stream",
     "text": [
      "\r",
      "Processing Images:  64%|██████▎   | 381/600 [01:04<00:35,  6.14it/s]"
     ]
    },
    {
     "name": "stdout",
     "output_type": "stream",
     "text": [
      "1/1 [==============================] - 0s 16ms/step\n"
     ]
    },
    {
     "name": "stderr",
     "output_type": "stream",
     "text": [
      "\r",
      "Processing Images:  64%|██████▎   | 382/600 [01:05<00:36,  6.03it/s]"
     ]
    },
    {
     "name": "stdout",
     "output_type": "stream",
     "text": [
      "1/1 [==============================] - 0s 23ms/step\n"
     ]
    },
    {
     "name": "stderr",
     "output_type": "stream",
     "text": [
      "\r",
      "Processing Images:  64%|██████▍   | 383/600 [01:05<00:35,  6.12it/s]"
     ]
    },
    {
     "name": "stdout",
     "output_type": "stream",
     "text": [
      "1/1 [==============================] - 0s 31ms/step\n"
     ]
    },
    {
     "name": "stderr",
     "output_type": "stream",
     "text": [
      "\r",
      "Processing Images:  64%|██████▍   | 384/600 [01:05<00:35,  6.02it/s]"
     ]
    },
    {
     "name": "stdout",
     "output_type": "stream",
     "text": [
      "1/1 [==============================] - 0s 31ms/step\n"
     ]
    },
    {
     "name": "stderr",
     "output_type": "stream",
     "text": [
      "\r",
      "Processing Images:  64%|██████▍   | 385/600 [01:05<00:36,  5.95it/s]"
     ]
    },
    {
     "name": "stdout",
     "output_type": "stream",
     "text": [
      "1/1 [==============================] - 0s 24ms/step\n"
     ]
    },
    {
     "name": "stderr",
     "output_type": "stream",
     "text": [
      "\r",
      "Processing Images:  64%|██████▍   | 386/600 [01:05<00:35,  6.07it/s]"
     ]
    },
    {
     "name": "stdout",
     "output_type": "stream",
     "text": [
      "1/1 [==============================] - 0s 31ms/step\n"
     ]
    },
    {
     "name": "stderr",
     "output_type": "stream",
     "text": [
      "\r",
      "Processing Images:  64%|██████▍   | 387/600 [01:06<00:37,  5.71it/s]"
     ]
    },
    {
     "name": "stdout",
     "output_type": "stream",
     "text": [
      "1/1 [==============================] - 0s 32ms/step\n"
     ]
    },
    {
     "name": "stderr",
     "output_type": "stream",
     "text": [
      "\r",
      "Processing Images:  65%|██████▍   | 388/600 [01:06<00:37,  5.67it/s]"
     ]
    },
    {
     "name": "stdout",
     "output_type": "stream",
     "text": [
      "1/1 [==============================] - 0s 31ms/step\n"
     ]
    },
    {
     "name": "stderr",
     "output_type": "stream",
     "text": [
      "\r",
      "Processing Images:  65%|██████▍   | 389/600 [01:06<00:36,  5.70it/s]"
     ]
    },
    {
     "name": "stdout",
     "output_type": "stream",
     "text": [
      "1/1 [==============================] - 0s 31ms/step\n"
     ]
    },
    {
     "name": "stderr",
     "output_type": "stream",
     "text": [
      "\r",
      "Processing Images:  65%|██████▌   | 390/600 [01:06<00:37,  5.58it/s]"
     ]
    },
    {
     "name": "stdout",
     "output_type": "stream",
     "text": [
      "1/1 [==============================] - 0s 16ms/step\n"
     ]
    },
    {
     "name": "stderr",
     "output_type": "stream",
     "text": [
      "\r",
      "Processing Images:  65%|██████▌   | 391/600 [01:06<00:37,  5.64it/s]"
     ]
    },
    {
     "name": "stdout",
     "output_type": "stream",
     "text": [
      "1/1 [==============================] - 0s 31ms/step\n"
     ]
    },
    {
     "name": "stderr",
     "output_type": "stream",
     "text": [
      "\r",
      "Processing Images:  65%|██████▌   | 392/600 [01:06<00:35,  5.84it/s]"
     ]
    },
    {
     "name": "stdout",
     "output_type": "stream",
     "text": [
      "1/1 [==============================] - 0s 31ms/step\n"
     ]
    },
    {
     "name": "stderr",
     "output_type": "stream",
     "text": [
      "\r",
      "Processing Images:  66%|██████▌   | 393/600 [01:07<00:35,  5.83it/s]"
     ]
    },
    {
     "name": "stdout",
     "output_type": "stream",
     "text": [
      "1/1 [==============================] - 0s 19ms/step\n"
     ]
    },
    {
     "name": "stderr",
     "output_type": "stream",
     "text": [
      "\r",
      "Processing Images:  66%|██████▌   | 394/600 [01:07<00:35,  5.81it/s]"
     ]
    },
    {
     "name": "stdout",
     "output_type": "stream",
     "text": [
      "1/1 [==============================] - 0s 31ms/step\n"
     ]
    },
    {
     "name": "stderr",
     "output_type": "stream",
     "text": [
      "\r",
      "Processing Images:  66%|██████▌   | 395/600 [01:07<00:34,  6.02it/s]"
     ]
    },
    {
     "name": "stdout",
     "output_type": "stream",
     "text": [
      "1/1 [==============================] - 0s 23ms/step\n"
     ]
    },
    {
     "name": "stderr",
     "output_type": "stream",
     "text": [
      "\r",
      "Processing Images:  66%|██████▌   | 396/600 [01:07<00:34,  5.98it/s]"
     ]
    },
    {
     "name": "stdout",
     "output_type": "stream",
     "text": [
      "1/1 [==============================] - 0s 30ms/step\n"
     ]
    },
    {
     "name": "stderr",
     "output_type": "stream",
     "text": [
      "\r",
      "Processing Images:  66%|██████▌   | 397/600 [01:07<00:34,  5.92it/s]"
     ]
    },
    {
     "name": "stdout",
     "output_type": "stream",
     "text": [
      "1/1 [==============================] - 0s 32ms/step\n"
     ]
    },
    {
     "name": "stderr",
     "output_type": "stream",
     "text": [
      "\r",
      "Processing Images:  66%|██████▋   | 398/600 [01:07<00:34,  5.88it/s]"
     ]
    },
    {
     "name": "stdout",
     "output_type": "stream",
     "text": [
      "1/1 [==============================] - 0s 31ms/step\n"
     ]
    },
    {
     "name": "stderr",
     "output_type": "stream",
     "text": [
      "\r",
      "Processing Images:  66%|██████▋   | 399/600 [01:08<00:34,  5.85it/s]"
     ]
    },
    {
     "name": "stdout",
     "output_type": "stream",
     "text": [
      "1/1 [==============================] - 0s 31ms/step\n"
     ]
    },
    {
     "name": "stderr",
     "output_type": "stream",
     "text": [
      "\r",
      "Processing Images:  67%|██████▋   | 400/600 [01:08<00:33,  6.00it/s]"
     ]
    },
    {
     "name": "stdout",
     "output_type": "stream",
     "text": [
      "1/1 [==============================] - 0s 31ms/step\n"
     ]
    },
    {
     "name": "stderr",
     "output_type": "stream",
     "text": [
      "\r",
      "Processing Images:  67%|██████▋   | 401/600 [01:08<00:33,  5.94it/s]"
     ]
    },
    {
     "name": "stdout",
     "output_type": "stream",
     "text": [
      "1/1 [==============================] - 0s 31ms/step\n"
     ]
    },
    {
     "name": "stderr",
     "output_type": "stream",
     "text": [
      "\r",
      "Processing Images:  67%|██████▋   | 402/600 [01:08<00:32,  6.06it/s]"
     ]
    },
    {
     "name": "stdout",
     "output_type": "stream",
     "text": [
      "1/1 [==============================] - 0s 16ms/step\n"
     ]
    },
    {
     "name": "stderr",
     "output_type": "stream",
     "text": [
      "\r",
      "Processing Images:  67%|██████▋   | 403/600 [01:08<00:32,  5.98it/s]"
     ]
    },
    {
     "name": "stdout",
     "output_type": "stream",
     "text": [
      "1/1 [==============================] - 0s 31ms/step\n"
     ]
    },
    {
     "name": "stderr",
     "output_type": "stream",
     "text": [
      "\r",
      "Processing Images:  67%|██████▋   | 404/600 [01:08<00:32,  6.09it/s]"
     ]
    },
    {
     "name": "stdout",
     "output_type": "stream",
     "text": [
      "1/1 [==============================] - 0s 31ms/step\n"
     ]
    },
    {
     "name": "stderr",
     "output_type": "stream",
     "text": [
      "\r",
      "Processing Images:  68%|██████▊   | 405/600 [01:09<00:31,  6.17it/s]"
     ]
    },
    {
     "name": "stdout",
     "output_type": "stream",
     "text": [
      "1/1 [==============================] - 0s 16ms/step\n"
     ]
    },
    {
     "name": "stderr",
     "output_type": "stream",
     "text": [
      "\r",
      "Processing Images:  68%|██████▊   | 406/600 [01:09<00:32,  6.06it/s]"
     ]
    },
    {
     "name": "stdout",
     "output_type": "stream",
     "text": [
      "1/1 [==============================] - 0s 43ms/step\n"
     ]
    },
    {
     "name": "stderr",
     "output_type": "stream",
     "text": [
      "\r",
      "Processing Images:  68%|██████▊   | 407/600 [01:09<00:33,  5.81it/s]"
     ]
    },
    {
     "name": "stdout",
     "output_type": "stream",
     "text": [
      "1/1 [==============================] - 0s 16ms/step\n"
     ]
    },
    {
     "name": "stderr",
     "output_type": "stream",
     "text": [
      "\r",
      "Processing Images:  68%|██████▊   | 408/600 [01:09<00:33,  5.80it/s]"
     ]
    },
    {
     "name": "stdout",
     "output_type": "stream",
     "text": [
      "1/1 [==============================] - 0s 31ms/step\n"
     ]
    },
    {
     "name": "stderr",
     "output_type": "stream",
     "text": [
      "\r",
      "Processing Images:  68%|██████▊   | 409/600 [01:09<00:32,  5.96it/s]"
     ]
    },
    {
     "name": "stdout",
     "output_type": "stream",
     "text": [
      "1/1 [==============================] - 0s 26ms/step\n"
     ]
    },
    {
     "name": "stderr",
     "output_type": "stream",
     "text": [
      "\r",
      "Processing Images:  68%|██████▊   | 410/600 [01:09<00:32,  5.91it/s]"
     ]
    },
    {
     "name": "stdout",
     "output_type": "stream",
     "text": [
      "1/1 [==============================] - 0s 31ms/step\n"
     ]
    },
    {
     "name": "stderr",
     "output_type": "stream",
     "text": [
      "\r",
      "Processing Images:  68%|██████▊   | 411/600 [01:10<00:31,  6.04it/s]"
     ]
    },
    {
     "name": "stdout",
     "output_type": "stream",
     "text": [
      "1/1 [==============================] - 0s 16ms/step\n"
     ]
    },
    {
     "name": "stderr",
     "output_type": "stream",
     "text": [
      "\r",
      "Processing Images:  69%|██████▊   | 412/600 [01:10<00:31,  5.96it/s]"
     ]
    },
    {
     "name": "stdout",
     "output_type": "stream",
     "text": [
      "1/1 [==============================] - 0s 31ms/step\n"
     ]
    },
    {
     "name": "stderr",
     "output_type": "stream",
     "text": [
      "\r",
      "Processing Images:  69%|██████▉   | 413/600 [01:10<00:30,  6.08it/s]"
     ]
    },
    {
     "name": "stdout",
     "output_type": "stream",
     "text": [
      "1/1 [==============================] - 0s 16ms/step\n"
     ]
    },
    {
     "name": "stderr",
     "output_type": "stream",
     "text": [
      "\r",
      "Processing Images:  69%|██████▉   | 414/600 [01:10<00:31,  5.99it/s]"
     ]
    },
    {
     "name": "stdout",
     "output_type": "stream",
     "text": [
      "1/1 [==============================] - 0s 32ms/step\n"
     ]
    },
    {
     "name": "stderr",
     "output_type": "stream",
     "text": [
      "\r",
      "Processing Images:  69%|██████▉   | 415/600 [01:10<00:30,  6.07it/s]"
     ]
    },
    {
     "name": "stdout",
     "output_type": "stream",
     "text": [
      "1/1 [==============================] - 0s 16ms/step\n"
     ]
    },
    {
     "name": "stderr",
     "output_type": "stream",
     "text": [
      "\r",
      "Processing Images:  69%|██████▉   | 416/600 [01:10<00:30,  6.01it/s]"
     ]
    },
    {
     "name": "stdout",
     "output_type": "stream",
     "text": [
      "1/1 [==============================] - 0s 31ms/step\n"
     ]
    },
    {
     "name": "stderr",
     "output_type": "stream",
     "text": [
      "\r",
      "Processing Images:  70%|██████▉   | 417/600 [01:11<00:29,  6.11it/s]"
     ]
    },
    {
     "name": "stdout",
     "output_type": "stream",
     "text": [
      "1/1 [==============================] - 0s 16ms/step\n"
     ]
    },
    {
     "name": "stderr",
     "output_type": "stream",
     "text": [
      "\r",
      "Processing Images:  70%|██████▉   | 418/600 [01:11<00:29,  6.19it/s]"
     ]
    },
    {
     "name": "stdout",
     "output_type": "stream",
     "text": [
      "1/1 [==============================] - 0s 16ms/step\n"
     ]
    },
    {
     "name": "stderr",
     "output_type": "stream",
     "text": [
      "\r",
      "Processing Images:  70%|██████▉   | 419/600 [01:11<00:30,  5.90it/s]"
     ]
    },
    {
     "name": "stdout",
     "output_type": "stream",
     "text": [
      "1/1 [==============================] - 0s 27ms/step\n"
     ]
    },
    {
     "name": "stderr",
     "output_type": "stream",
     "text": [
      "\r",
      "Processing Images:  70%|███████   | 420/600 [01:11<00:30,  5.92it/s]"
     ]
    },
    {
     "name": "stdout",
     "output_type": "stream",
     "text": [
      "1/1 [==============================] - 0s 18ms/step\n"
     ]
    },
    {
     "name": "stderr",
     "output_type": "stream",
     "text": [
      "\r",
      "Processing Images:  70%|███████   | 421/600 [01:11<00:29,  5.99it/s]"
     ]
    },
    {
     "name": "stdout",
     "output_type": "stream",
     "text": [
      "1/1 [==============================] - 0s 24ms/step\n"
     ]
    },
    {
     "name": "stderr",
     "output_type": "stream",
     "text": [
      "\r",
      "Processing Images:  70%|███████   | 422/600 [01:11<00:31,  5.65it/s]"
     ]
    },
    {
     "name": "stdout",
     "output_type": "stream",
     "text": [
      "1/1 [==============================] - 0s 39ms/step\n"
     ]
    },
    {
     "name": "stderr",
     "output_type": "stream",
     "text": [
      "\r",
      "Processing Images:  70%|███████   | 423/600 [01:12<00:33,  5.36it/s]"
     ]
    },
    {
     "name": "stdout",
     "output_type": "stream",
     "text": [
      "1/1 [==============================] - 0s 35ms/step\n"
     ]
    },
    {
     "name": "stderr",
     "output_type": "stream",
     "text": [
      "\r",
      "Processing Images:  71%|███████   | 424/600 [01:12<00:33,  5.28it/s]"
     ]
    },
    {
     "name": "stdout",
     "output_type": "stream",
     "text": [
      "1/1 [==============================] - 0s 24ms/step\n"
     ]
    },
    {
     "name": "stderr",
     "output_type": "stream",
     "text": [
      "\r",
      "Processing Images:  71%|███████   | 425/600 [01:12<00:30,  5.71it/s]"
     ]
    },
    {
     "name": "stdout",
     "output_type": "stream",
     "text": [
      "1/1 [==============================] - 0s 31ms/step\n"
     ]
    },
    {
     "name": "stderr",
     "output_type": "stream",
     "text": [
      "\r",
      "Processing Images:  71%|███████   | 426/600 [01:12<00:31,  5.49it/s]"
     ]
    },
    {
     "name": "stdout",
     "output_type": "stream",
     "text": [
      "1/1 [==============================] - 0s 47ms/step\n"
     ]
    },
    {
     "name": "stderr",
     "output_type": "stream",
     "text": [
      "\r",
      "Processing Images:  71%|███████   | 427/600 [01:12<00:32,  5.34it/s]"
     ]
    },
    {
     "name": "stdout",
     "output_type": "stream",
     "text": [
      "1/1 [==============================] - 0s 22ms/step\n"
     ]
    },
    {
     "name": "stderr",
     "output_type": "stream",
     "text": [
      "\r",
      "Processing Images:  71%|███████▏  | 428/600 [01:13<00:31,  5.52it/s]"
     ]
    },
    {
     "name": "stdout",
     "output_type": "stream",
     "text": [
      "1/1 [==============================] - 0s 32ms/step\n"
     ]
    },
    {
     "name": "stderr",
     "output_type": "stream",
     "text": [
      "\r",
      "Processing Images:  72%|███████▏  | 429/600 [01:13<00:31,  5.36it/s]"
     ]
    },
    {
     "name": "stdout",
     "output_type": "stream",
     "text": [
      "1/1 [==============================] - 0s 32ms/step\n"
     ]
    },
    {
     "name": "stderr",
     "output_type": "stream",
     "text": [
      "\r",
      "Processing Images:  72%|███████▏  | 430/600 [01:13<00:31,  5.32it/s]"
     ]
    },
    {
     "name": "stdout",
     "output_type": "stream",
     "text": [
      "1/1 [==============================] - 0s 16ms/step\n"
     ]
    },
    {
     "name": "stderr",
     "output_type": "stream",
     "text": [
      "\r",
      "Processing Images:  72%|███████▏  | 431/600 [01:13<00:31,  5.42it/s]"
     ]
    },
    {
     "name": "stdout",
     "output_type": "stream",
     "text": [
      "1/1 [==============================] - 0s 26ms/step\n"
     ]
    },
    {
     "name": "stderr",
     "output_type": "stream",
     "text": [
      "\r",
      "Processing Images:  72%|███████▏  | 432/600 [01:13<00:29,  5.61it/s]"
     ]
    },
    {
     "name": "stdout",
     "output_type": "stream",
     "text": [
      "1/1 [==============================] - 0s 23ms/step\n"
     ]
    },
    {
     "name": "stderr",
     "output_type": "stream",
     "text": [
      "\r",
      "Processing Images:  72%|███████▏  | 433/600 [01:13<00:29,  5.70it/s]"
     ]
    },
    {
     "name": "stdout",
     "output_type": "stream",
     "text": [
      "1/1 [==============================] - 0s 26ms/step\n"
     ]
    },
    {
     "name": "stderr",
     "output_type": "stream",
     "text": [
      "\r",
      "Processing Images:  72%|███████▏  | 434/600 [01:14<00:28,  5.80it/s]"
     ]
    },
    {
     "name": "stdout",
     "output_type": "stream",
     "text": [
      "1/1 [==============================] - 0s 31ms/step\n"
     ]
    },
    {
     "name": "stderr",
     "output_type": "stream",
     "text": [
      "\r",
      "Processing Images:  72%|███████▎  | 435/600 [01:14<00:28,  5.85it/s]"
     ]
    },
    {
     "name": "stdout",
     "output_type": "stream",
     "text": [
      "1/1 [==============================] - 0s 30ms/step\n"
     ]
    },
    {
     "name": "stderr",
     "output_type": "stream",
     "text": [
      "\r",
      "Processing Images:  73%|███████▎  | 436/600 [01:14<00:27,  5.88it/s]"
     ]
    },
    {
     "name": "stdout",
     "output_type": "stream",
     "text": [
      "1/1 [==============================] - 0s 16ms/step\n"
     ]
    },
    {
     "name": "stderr",
     "output_type": "stream",
     "text": [
      "\r",
      "Processing Images:  73%|███████▎  | 437/600 [01:14<00:29,  5.59it/s]"
     ]
    },
    {
     "name": "stdout",
     "output_type": "stream",
     "text": [
      "1/1 [==============================] - 0s 19ms/step\n"
     ]
    },
    {
     "name": "stderr",
     "output_type": "stream",
     "text": [
      "\r",
      "Processing Images:  73%|███████▎  | 438/600 [01:14<00:28,  5.70it/s]"
     ]
    },
    {
     "name": "stdout",
     "output_type": "stream",
     "text": [
      "1/1 [==============================] - 0s 28ms/step\n"
     ]
    },
    {
     "name": "stderr",
     "output_type": "stream",
     "text": [
      "\r",
      "Processing Images:  73%|███████▎  | 439/600 [01:15<00:29,  5.49it/s]"
     ]
    },
    {
     "name": "stdout",
     "output_type": "stream",
     "text": [
      "1/1 [==============================] - 0s 47ms/step\n"
     ]
    },
    {
     "name": "stderr",
     "output_type": "stream",
     "text": [
      "\r",
      "Processing Images:  73%|███████▎  | 440/600 [01:15<00:30,  5.33it/s]"
     ]
    },
    {
     "name": "stdout",
     "output_type": "stream",
     "text": [
      "1/1 [==============================] - 0s 31ms/step\n"
     ]
    },
    {
     "name": "stderr",
     "output_type": "stream",
     "text": [
      "\r",
      "Processing Images:  74%|███████▎  | 441/600 [01:15<00:30,  5.24it/s]"
     ]
    },
    {
     "name": "stdout",
     "output_type": "stream",
     "text": [
      "1/1 [==============================] - 0s 31ms/step\n"
     ]
    },
    {
     "name": "stderr",
     "output_type": "stream",
     "text": [
      "\r",
      "Processing Images:  74%|███████▎  | 442/600 [01:15<00:30,  5.16it/s]"
     ]
    },
    {
     "name": "stdout",
     "output_type": "stream",
     "text": [
      "1/1 [==============================] - 0s 31ms/step\n"
     ]
    },
    {
     "name": "stderr",
     "output_type": "stream",
     "text": [
      "\r",
      "Processing Images:  74%|███████▍  | 443/600 [01:15<00:30,  5.12it/s]"
     ]
    },
    {
     "name": "stdout",
     "output_type": "stream",
     "text": [
      "1/1 [==============================] - 0s 31ms/step\n"
     ]
    },
    {
     "name": "stderr",
     "output_type": "stream",
     "text": [
      "\r",
      "Processing Images:  74%|███████▍  | 444/600 [01:15<00:29,  5.20it/s]"
     ]
    },
    {
     "name": "stdout",
     "output_type": "stream",
     "text": [
      "1/1 [==============================] - 0s 19ms/step\n"
     ]
    },
    {
     "name": "stderr",
     "output_type": "stream",
     "text": [
      "\r",
      "Processing Images:  74%|███████▍  | 445/600 [01:16<00:29,  5.33it/s]"
     ]
    },
    {
     "name": "stdout",
     "output_type": "stream",
     "text": [
      "1/1 [==============================] - 0s 32ms/step\n"
     ]
    },
    {
     "name": "stderr",
     "output_type": "stream",
     "text": [
      "\r",
      "Processing Images:  74%|███████▍  | 446/600 [01:16<00:27,  5.66it/s]"
     ]
    },
    {
     "name": "stdout",
     "output_type": "stream",
     "text": [
      "1/1 [==============================] - 0s 16ms/step\n"
     ]
    },
    {
     "name": "stderr",
     "output_type": "stream",
     "text": [
      "\r",
      "Processing Images:  74%|███████▍  | 447/600 [01:16<00:26,  5.70it/s]"
     ]
    },
    {
     "name": "stdout",
     "output_type": "stream",
     "text": [
      "1/1 [==============================] - 0s 31ms/step\n"
     ]
    },
    {
     "name": "stderr",
     "output_type": "stream",
     "text": [
      "\r",
      "Processing Images:  75%|███████▍  | 448/600 [01:16<00:25,  5.89it/s]"
     ]
    },
    {
     "name": "stdout",
     "output_type": "stream",
     "text": [
      "1/1 [==============================] - 0s 28ms/step\n"
     ]
    },
    {
     "name": "stderr",
     "output_type": "stream",
     "text": [
      "\r",
      "Processing Images:  75%|███████▍  | 449/600 [01:16<00:25,  5.86it/s]"
     ]
    },
    {
     "name": "stdout",
     "output_type": "stream",
     "text": [
      "1/1 [==============================] - 0s 31ms/step\n"
     ]
    },
    {
     "name": "stderr",
     "output_type": "stream",
     "text": [
      "\r",
      "Processing Images:  75%|███████▌  | 450/600 [01:16<00:24,  6.00it/s]"
     ]
    },
    {
     "name": "stdout",
     "output_type": "stream",
     "text": [
      "1/1 [==============================] - 0s 17ms/step\n"
     ]
    },
    {
     "name": "stderr",
     "output_type": "stream",
     "text": [
      "\r",
      "Processing Images:  75%|███████▌  | 451/600 [01:17<00:25,  5.93it/s]"
     ]
    },
    {
     "name": "stdout",
     "output_type": "stream",
     "text": [
      "1/1 [==============================] - 0s 47ms/step\n"
     ]
    },
    {
     "name": "stderr",
     "output_type": "stream",
     "text": [
      "\r",
      "Processing Images:  75%|███████▌  | 452/600 [01:17<00:25,  5.73it/s]"
     ]
    },
    {
     "name": "stdout",
     "output_type": "stream",
     "text": [
      "1/1 [==============================] - 0s 16ms/step\n"
     ]
    },
    {
     "name": "stderr",
     "output_type": "stream",
     "text": [
      "\r",
      "Processing Images:  76%|███████▌  | 453/600 [01:17<00:25,  5.75it/s]"
     ]
    },
    {
     "name": "stdout",
     "output_type": "stream",
     "text": [
      "1/1 [==============================] - 0s 31ms/step\n"
     ]
    },
    {
     "name": "stderr",
     "output_type": "stream",
     "text": [
      "\r",
      "Processing Images:  76%|███████▌  | 454/600 [01:17<00:24,  5.92it/s]"
     ]
    },
    {
     "name": "stdout",
     "output_type": "stream",
     "text": [
      "1/1 [==============================] - 0s 32ms/step\n"
     ]
    },
    {
     "name": "stderr",
     "output_type": "stream",
     "text": [
      "\r",
      "Processing Images:  76%|███████▌  | 455/600 [01:17<00:24,  5.87it/s]"
     ]
    },
    {
     "name": "stdout",
     "output_type": "stream",
     "text": [
      "1/1 [==============================] - 0s 31ms/step\n"
     ]
    },
    {
     "name": "stderr",
     "output_type": "stream",
     "text": [
      "\r",
      "Processing Images:  76%|███████▌  | 456/600 [01:18<00:23,  6.02it/s]"
     ]
    },
    {
     "name": "stdout",
     "output_type": "stream",
     "text": [
      "1/1 [==============================] - 0s 31ms/step\n"
     ]
    },
    {
     "name": "stderr",
     "output_type": "stream",
     "text": [
      "\r",
      "Processing Images:  76%|███████▌  | 457/600 [01:18<00:24,  5.79it/s]"
     ]
    },
    {
     "name": "stdout",
     "output_type": "stream",
     "text": [
      "1/1 [==============================] - 0s 31ms/step\n"
     ]
    },
    {
     "name": "stderr",
     "output_type": "stream",
     "text": [
      "\r",
      "Processing Images:  76%|███████▋  | 458/600 [01:18<00:25,  5.64it/s]"
     ]
    },
    {
     "name": "stdout",
     "output_type": "stream",
     "text": [
      "1/1 [==============================] - 0s 31ms/step\n"
     ]
    },
    {
     "name": "stderr",
     "output_type": "stream",
     "text": [
      "\r",
      "Processing Images:  76%|███████▋  | 459/600 [01:18<00:25,  5.53it/s]"
     ]
    },
    {
     "name": "stdout",
     "output_type": "stream",
     "text": [
      "1/1 [==============================] - 0s 34ms/step\n"
     ]
    },
    {
     "name": "stderr",
     "output_type": "stream",
     "text": [
      "\r",
      "Processing Images:  77%|███████▋  | 460/600 [01:18<00:24,  5.76it/s]"
     ]
    },
    {
     "name": "stdout",
     "output_type": "stream",
     "text": [
      "1/1 [==============================] - 0s 16ms/step\n"
     ]
    },
    {
     "name": "stderr",
     "output_type": "stream",
     "text": [
      "\r",
      "Processing Images:  77%|███████▋  | 461/600 [01:18<00:24,  5.77it/s]"
     ]
    },
    {
     "name": "stdout",
     "output_type": "stream",
     "text": [
      "1/1 [==============================] - 0s 26ms/step\n"
     ]
    },
    {
     "name": "stderr",
     "output_type": "stream",
     "text": [
      "\r",
      "Processing Images:  77%|███████▋  | 462/600 [01:19<00:23,  5.93it/s]"
     ]
    },
    {
     "name": "stdout",
     "output_type": "stream",
     "text": [
      "1/1 [==============================] - 0s 31ms/step\n"
     ]
    },
    {
     "name": "stderr",
     "output_type": "stream",
     "text": [
      "\r",
      "Processing Images:  77%|███████▋  | 463/600 [01:19<00:22,  6.06it/s]"
     ]
    },
    {
     "name": "stdout",
     "output_type": "stream",
     "text": [
      "1/1 [==============================] - 0s 31ms/step\n"
     ]
    },
    {
     "name": "stderr",
     "output_type": "stream",
     "text": [
      "\r",
      "Processing Images:  77%|███████▋  | 464/600 [01:19<00:24,  5.66it/s]"
     ]
    },
    {
     "name": "stdout",
     "output_type": "stream",
     "text": [
      "1/1 [==============================] - 0s 16ms/step\n"
     ]
    },
    {
     "name": "stderr",
     "output_type": "stream",
     "text": [
      "\r",
      "Processing Images:  78%|███████▊  | 465/600 [01:19<00:23,  5.70it/s]"
     ]
    },
    {
     "name": "stdout",
     "output_type": "stream",
     "text": [
      "1/1 [==============================] - 0s 32ms/step\n"
     ]
    },
    {
     "name": "stderr",
     "output_type": "stream",
     "text": [
      "\r",
      "Processing Images:  78%|███████▊  | 466/600 [01:19<00:23,  5.82it/s]"
     ]
    },
    {
     "name": "stdout",
     "output_type": "stream",
     "text": [
      "1/1 [==============================] - 0s 31ms/step\n"
     ]
    },
    {
     "name": "stderr",
     "output_type": "stream",
     "text": [
      "\r",
      "Processing Images:  78%|███████▊  | 467/600 [01:19<00:22,  6.04it/s]"
     ]
    },
    {
     "name": "stdout",
     "output_type": "stream",
     "text": [
      "1/1 [==============================] - 0s 31ms/step\n"
     ]
    },
    {
     "name": "stderr",
     "output_type": "stream",
     "text": [
      "\r",
      "Processing Images:  78%|███████▊  | 468/600 [01:20<00:22,  5.96it/s]"
     ]
    },
    {
     "name": "stdout",
     "output_type": "stream",
     "text": [
      "1/1 [==============================] - 0s 32ms/step\n"
     ]
    },
    {
     "name": "stderr",
     "output_type": "stream",
     "text": [
      "\r",
      "Processing Images:  78%|███████▊  | 469/600 [01:20<00:21,  6.08it/s]"
     ]
    },
    {
     "name": "stdout",
     "output_type": "stream",
     "text": [
      "1/1 [==============================] - 0s 16ms/step\n"
     ]
    },
    {
     "name": "stderr",
     "output_type": "stream",
     "text": [
      "\r",
      "Processing Images:  78%|███████▊  | 470/600 [01:20<00:21,  6.16it/s]"
     ]
    },
    {
     "name": "stdout",
     "output_type": "stream",
     "text": [
      "1/1 [==============================] - 0s 14ms/step\n"
     ]
    },
    {
     "name": "stderr",
     "output_type": "stream",
     "text": [
      "\r",
      "Processing Images:  78%|███████▊  | 471/600 [01:20<00:21,  6.04it/s]"
     ]
    },
    {
     "name": "stdout",
     "output_type": "stream",
     "text": [
      "1/1 [==============================] - 0s 31ms/step\n"
     ]
    },
    {
     "name": "stderr",
     "output_type": "stream",
     "text": [
      "\r",
      "Processing Images:  79%|███████▊  | 472/600 [01:20<00:20,  6.14it/s]"
     ]
    },
    {
     "name": "stdout",
     "output_type": "stream",
     "text": [
      "1/1 [==============================] - 0s 47ms/step\n"
     ]
    },
    {
     "name": "stderr",
     "output_type": "stream",
     "text": [
      "\r",
      "Processing Images:  79%|███████▉  | 473/600 [01:20<00:21,  5.86it/s]"
     ]
    },
    {
     "name": "stdout",
     "output_type": "stream",
     "text": [
      "1/1 [==============================] - 0s 31ms/step\n"
     ]
    },
    {
     "name": "stderr",
     "output_type": "stream",
     "text": [
      "\r",
      "Processing Images:  79%|███████▉  | 474/600 [01:21<00:20,  6.01it/s]"
     ]
    },
    {
     "name": "stdout",
     "output_type": "stream",
     "text": [
      "1/1 [==============================] - 0s 31ms/step\n"
     ]
    },
    {
     "name": "stderr",
     "output_type": "stream",
     "text": [
      "\r",
      "Processing Images:  79%|███████▉  | 475/600 [01:21<00:22,  5.62it/s]"
     ]
    },
    {
     "name": "stdout",
     "output_type": "stream",
     "text": [
      "1/1 [==============================] - 0s 47ms/step\n"
     ]
    },
    {
     "name": "stderr",
     "output_type": "stream",
     "text": [
      "\r",
      "Processing Images:  79%|███████▉  | 476/600 [01:21<00:23,  5.39it/s]"
     ]
    },
    {
     "name": "stdout",
     "output_type": "stream",
     "text": [
      "1/1 [==============================] - 0s 32ms/step\n"
     ]
    },
    {
     "name": "stderr",
     "output_type": "stream",
     "text": [
      "\r",
      "Processing Images:  80%|███████▉  | 477/600 [01:21<00:22,  5.36it/s]"
     ]
    },
    {
     "name": "stdout",
     "output_type": "stream",
     "text": [
      "1/1 [==============================] - 0s 31ms/step\n"
     ]
    },
    {
     "name": "stderr",
     "output_type": "stream",
     "text": [
      "\r",
      "Processing Images:  80%|███████▉  | 478/600 [01:21<00:21,  5.63it/s]"
     ]
    },
    {
     "name": "stdout",
     "output_type": "stream",
     "text": [
      "1/1 [==============================] - 0s 16ms/step\n"
     ]
    },
    {
     "name": "stderr",
     "output_type": "stream",
     "text": [
      "\r",
      "Processing Images:  80%|███████▉  | 479/600 [01:21<00:21,  5.68it/s]"
     ]
    },
    {
     "name": "stdout",
     "output_type": "stream",
     "text": [
      "1/1 [==============================] - 0s 32ms/step\n"
     ]
    },
    {
     "name": "stderr",
     "output_type": "stream",
     "text": [
      "\r",
      "Processing Images:  80%|████████  | 480/600 [01:22<00:20,  5.75it/s]"
     ]
    },
    {
     "name": "stdout",
     "output_type": "stream",
     "text": [
      "1/1 [==============================] - 0s 31ms/step\n"
     ]
    },
    {
     "name": "stderr",
     "output_type": "stream",
     "text": [
      "\r",
      "Processing Images:  80%|████████  | 481/600 [01:22<00:20,  5.88it/s]"
     ]
    },
    {
     "name": "stdout",
     "output_type": "stream",
     "text": [
      "1/1 [==============================] - 0s 31ms/step\n"
     ]
    },
    {
     "name": "stderr",
     "output_type": "stream",
     "text": [
      "\r",
      "Processing Images:  80%|████████  | 482/600 [01:22<00:19,  6.02it/s]"
     ]
    },
    {
     "name": "stdout",
     "output_type": "stream",
     "text": [
      "1/1 [==============================] - 0s 20ms/step\n"
     ]
    },
    {
     "name": "stderr",
     "output_type": "stream",
     "text": [
      "\r",
      "Processing Images:  80%|████████  | 483/600 [01:22<00:19,  5.95it/s]"
     ]
    },
    {
     "name": "stdout",
     "output_type": "stream",
     "text": [
      "1/1 [==============================] - 0s 31ms/step\n"
     ]
    },
    {
     "name": "stderr",
     "output_type": "stream",
     "text": [
      "\r",
      "Processing Images:  81%|████████  | 484/600 [01:22<00:19,  6.07it/s]"
     ]
    },
    {
     "name": "stdout",
     "output_type": "stream",
     "text": [
      "1/1 [==============================] - 0s 31ms/step\n"
     ]
    },
    {
     "name": "stderr",
     "output_type": "stream",
     "text": [
      "\r",
      "Processing Images:  81%|████████  | 485/600 [01:22<00:19,  5.98it/s]"
     ]
    },
    {
     "name": "stdout",
     "output_type": "stream",
     "text": [
      "1/1 [==============================] - 0s 32ms/step\n"
     ]
    },
    {
     "name": "stderr",
     "output_type": "stream",
     "text": [
      "\r",
      "Processing Images:  81%|████████  | 486/600 [01:23<00:19,  5.83it/s]"
     ]
    },
    {
     "name": "stdout",
     "output_type": "stream",
     "text": [
      "1/1 [==============================] - 0s 31ms/step\n"
     ]
    },
    {
     "name": "stderr",
     "output_type": "stream",
     "text": [
      "\r",
      "Processing Images:  81%|████████  | 487/600 [01:23<00:18,  6.09it/s]"
     ]
    },
    {
     "name": "stdout",
     "output_type": "stream",
     "text": [
      "1/1 [==============================] - 0s 16ms/step\n"
     ]
    },
    {
     "name": "stderr",
     "output_type": "stream",
     "text": [
      "\r",
      "Processing Images:  81%|████████▏ | 488/600 [01:23<00:18,  5.99it/s]"
     ]
    },
    {
     "name": "stdout",
     "output_type": "stream",
     "text": [
      "1/1 [==============================] - 0s 19ms/step\n"
     ]
    },
    {
     "name": "stderr",
     "output_type": "stream",
     "text": [
      "\r",
      "Processing Images:  82%|████████▏ | 489/600 [01:23<00:18,  6.10it/s]"
     ]
    },
    {
     "name": "stdout",
     "output_type": "stream",
     "text": [
      "1/1 [==============================] - 0s 16ms/step\n"
     ]
    },
    {
     "name": "stderr",
     "output_type": "stream",
     "text": [
      "\r",
      "Processing Images:  82%|████████▏ | 490/600 [01:23<00:18,  6.00it/s]"
     ]
    },
    {
     "name": "stdout",
     "output_type": "stream",
     "text": [
      "1/1 [==============================] - 0s 26ms/step\n"
     ]
    },
    {
     "name": "stderr",
     "output_type": "stream",
     "text": [
      "\r",
      "Processing Images:  82%|████████▏ | 491/600 [01:23<00:17,  6.11it/s]"
     ]
    },
    {
     "name": "stdout",
     "output_type": "stream",
     "text": [
      "1/1 [==============================] - 0s 16ms/step\n"
     ]
    },
    {
     "name": "stderr",
     "output_type": "stream",
     "text": [
      "\r",
      "Processing Images:  82%|████████▏ | 492/600 [01:24<00:17,  6.01it/s]"
     ]
    },
    {
     "name": "stdout",
     "output_type": "stream",
     "text": [
      "1/1 [==============================] - 0s 31ms/step\n"
     ]
    },
    {
     "name": "stderr",
     "output_type": "stream",
     "text": [
      "\r",
      "Processing Images:  82%|████████▏ | 493/600 [01:24<00:19,  5.63it/s]"
     ]
    },
    {
     "name": "stdout",
     "output_type": "stream",
     "text": [
      "1/1 [==============================] - 0s 31ms/step\n"
     ]
    },
    {
     "name": "stderr",
     "output_type": "stream",
     "text": [
      "\r",
      "Processing Images:  82%|████████▏ | 494/600 [01:24<00:18,  5.83it/s]"
     ]
    },
    {
     "name": "stdout",
     "output_type": "stream",
     "text": [
      "1/1 [==============================] - 0s 31ms/step\n"
     ]
    },
    {
     "name": "stderr",
     "output_type": "stream",
     "text": [
      "\r",
      "Processing Images:  82%|████████▎ | 495/600 [01:24<00:18,  5.82it/s]"
     ]
    },
    {
     "name": "stdout",
     "output_type": "stream",
     "text": [
      "1/1 [==============================] - 0s 31ms/step\n"
     ]
    },
    {
     "name": "stderr",
     "output_type": "stream",
     "text": [
      "\r",
      "Processing Images:  83%|████████▎ | 496/600 [01:24<00:17,  5.81it/s]"
     ]
    },
    {
     "name": "stdout",
     "output_type": "stream",
     "text": [
      "1/1 [==============================] - 0s 31ms/step\n"
     ]
    },
    {
     "name": "stderr",
     "output_type": "stream",
     "text": [
      "\r",
      "Processing Images:  83%|████████▎ | 497/600 [01:25<00:17,  5.86it/s]"
     ]
    },
    {
     "name": "stdout",
     "output_type": "stream",
     "text": [
      "1/1 [==============================] - 0s 16ms/step\n"
     ]
    },
    {
     "name": "stderr",
     "output_type": "stream",
     "text": [
      "\r",
      "Processing Images:  83%|████████▎ | 498/600 [01:25<00:17,  5.84it/s]"
     ]
    },
    {
     "name": "stdout",
     "output_type": "stream",
     "text": [
      "1/1 [==============================] - 0s 34ms/step\n"
     ]
    },
    {
     "name": "stderr",
     "output_type": "stream",
     "text": [
      "\r",
      "Processing Images:  83%|████████▎ | 499/600 [01:25<00:16,  5.99it/s]"
     ]
    },
    {
     "name": "stdout",
     "output_type": "stream",
     "text": [
      "1/1 [==============================] - 0s 31ms/step\n"
     ]
    },
    {
     "name": "stderr",
     "output_type": "stream",
     "text": [
      "\r",
      "Processing Images:  83%|████████▎ | 500/600 [01:25<00:16,  5.93it/s]"
     ]
    },
    {
     "name": "stdout",
     "output_type": "stream",
     "text": [
      "1/1 [==============================] - 0s 27ms/step\n"
     ]
    },
    {
     "name": "stderr",
     "output_type": "stream",
     "text": [
      "\r",
      "Processing Images:  84%|████████▎ | 501/600 [01:25<00:16,  6.05it/s]"
     ]
    },
    {
     "name": "stdout",
     "output_type": "stream",
     "text": [
      "1/1 [==============================] - 0s 33ms/step\n"
     ]
    },
    {
     "name": "stderr",
     "output_type": "stream",
     "text": [
      "\r",
      "Processing Images:  84%|████████▎ | 502/600 [01:25<00:16,  5.97it/s]"
     ]
    },
    {
     "name": "stdout",
     "output_type": "stream",
     "text": [
      "1/1 [==============================] - 0s 16ms/step\n"
     ]
    },
    {
     "name": "stderr",
     "output_type": "stream",
     "text": [
      "\r",
      "Processing Images:  84%|████████▍ | 503/600 [01:26<00:15,  6.08it/s]"
     ]
    },
    {
     "name": "stdout",
     "output_type": "stream",
     "text": [
      "1/1 [==============================] - 0s 28ms/step\n"
     ]
    },
    {
     "name": "stderr",
     "output_type": "stream",
     "text": [
      "\r",
      "Processing Images:  84%|████████▍ | 504/600 [01:26<00:16,  5.99it/s]"
     ]
    },
    {
     "name": "stdout",
     "output_type": "stream",
     "text": [
      "1/1 [==============================] - 0s 31ms/step\n"
     ]
    },
    {
     "name": "stderr",
     "output_type": "stream",
     "text": [
      "\r",
      "Processing Images:  84%|████████▍ | 505/600 [01:26<00:15,  6.10it/s]"
     ]
    },
    {
     "name": "stdout",
     "output_type": "stream",
     "text": [
      "1/1 [==============================] - 0s 47ms/step\n"
     ]
    },
    {
     "name": "stderr",
     "output_type": "stream",
     "text": [
      "\r",
      "Processing Images:  84%|████████▍ | 506/600 [01:26<00:16,  5.68it/s]"
     ]
    },
    {
     "name": "stdout",
     "output_type": "stream",
     "text": [
      "1/1 [==============================] - 0s 31ms/step\n"
     ]
    },
    {
     "name": "stderr",
     "output_type": "stream",
     "text": [
      "\r",
      "Processing Images:  84%|████████▍ | 507/600 [01:26<00:15,  5.87it/s]"
     ]
    },
    {
     "name": "stdout",
     "output_type": "stream",
     "text": [
      "1/1 [==============================] - 0s 16ms/step\n"
     ]
    },
    {
     "name": "stderr",
     "output_type": "stream",
     "text": [
      "\r",
      "Processing Images:  85%|████████▍ | 508/600 [01:26<00:15,  5.79it/s]"
     ]
    },
    {
     "name": "stdout",
     "output_type": "stream",
     "text": [
      "1/1 [==============================] - 0s 31ms/step\n"
     ]
    },
    {
     "name": "stderr",
     "output_type": "stream",
     "text": [
      "\r",
      "Processing Images:  85%|████████▍ | 509/600 [01:27<00:15,  5.85it/s]"
     ]
    },
    {
     "name": "stdout",
     "output_type": "stream",
     "text": [
      "1/1 [==============================] - 0s 16ms/step\n"
     ]
    },
    {
     "name": "stderr",
     "output_type": "stream",
     "text": [
      "\r",
      "Processing Images:  85%|████████▌ | 510/600 [01:27<00:15,  5.83it/s]"
     ]
    },
    {
     "name": "stdout",
     "output_type": "stream",
     "text": [
      "1/1 [==============================] - 0s 31ms/step\n"
     ]
    },
    {
     "name": "stderr",
     "output_type": "stream",
     "text": [
      "\r",
      "Processing Images:  85%|████████▌ | 511/600 [01:27<00:15,  5.66it/s]"
     ]
    },
    {
     "name": "stdout",
     "output_type": "stream",
     "text": [
      "1/1 [==============================] - 0s 32ms/step\n"
     ]
    },
    {
     "name": "stderr",
     "output_type": "stream",
     "text": [
      "\r",
      "Processing Images:  85%|████████▌ | 512/600 [01:27<00:15,  5.70it/s]"
     ]
    },
    {
     "name": "stdout",
     "output_type": "stream",
     "text": [
      "1/1 [==============================] - 0s 31ms/step\n"
     ]
    },
    {
     "name": "stderr",
     "output_type": "stream",
     "text": [
      "\r",
      "Processing Images:  86%|████████▌ | 513/600 [01:27<00:14,  5.89it/s]"
     ]
    },
    {
     "name": "stdout",
     "output_type": "stream",
     "text": [
      "1/1 [==============================] - 0s 16ms/step\n"
     ]
    },
    {
     "name": "stderr",
     "output_type": "stream",
     "text": [
      "\r",
      "Processing Images:  86%|████████▌ | 514/600 [01:27<00:15,  5.70it/s]"
     ]
    },
    {
     "name": "stdout",
     "output_type": "stream",
     "text": [
      "1/1 [==============================] - 0s 22ms/step\n"
     ]
    },
    {
     "name": "stderr",
     "output_type": "stream",
     "text": [
      "\r",
      "Processing Images:  86%|████████▌ | 515/600 [01:28<00:14,  5.89it/s]"
     ]
    },
    {
     "name": "stdout",
     "output_type": "stream",
     "text": [
      "1/1 [==============================] - 0s 16ms/step\n"
     ]
    },
    {
     "name": "stderr",
     "output_type": "stream",
     "text": [
      "\r",
      "Processing Images:  86%|████████▌ | 516/600 [01:28<00:14,  5.86it/s]"
     ]
    },
    {
     "name": "stdout",
     "output_type": "stream",
     "text": [
      "1/1 [==============================] - 0s 31ms/step\n"
     ]
    },
    {
     "name": "stderr",
     "output_type": "stream",
     "text": [
      "\r",
      "Processing Images:  86%|████████▌ | 517/600 [01:28<00:13,  6.00it/s]"
     ]
    },
    {
     "name": "stdout",
     "output_type": "stream",
     "text": [
      "1/1 [==============================] - 0s 32ms/step\n"
     ]
    },
    {
     "name": "stderr",
     "output_type": "stream",
     "text": [
      "\r",
      "Processing Images:  86%|████████▋ | 518/600 [01:28<00:13,  5.93it/s]"
     ]
    },
    {
     "name": "stdout",
     "output_type": "stream",
     "text": [
      "1/1 [==============================] - 0s 31ms/step\n"
     ]
    },
    {
     "name": "stderr",
     "output_type": "stream",
     "text": [
      "\r",
      "Processing Images:  86%|████████▋ | 519/600 [01:28<00:13,  6.06it/s]"
     ]
    },
    {
     "name": "stdout",
     "output_type": "stream",
     "text": [
      "1/1 [==============================] - 0s 47ms/step\n"
     ]
    },
    {
     "name": "stderr",
     "output_type": "stream",
     "text": [
      "\r",
      "Processing Images:  87%|████████▋ | 520/600 [01:28<00:13,  5.81it/s]"
     ]
    },
    {
     "name": "stdout",
     "output_type": "stream",
     "text": [
      "1/1 [==============================] - 0s 31ms/step\n"
     ]
    },
    {
     "name": "stderr",
     "output_type": "stream",
     "text": [
      "\r",
      "Processing Images:  87%|████████▋ | 521/600 [01:29<00:13,  5.80it/s]"
     ]
    },
    {
     "name": "stdout",
     "output_type": "stream",
     "text": [
      "1/1 [==============================] - 0s 36ms/step\n"
     ]
    },
    {
     "name": "stderr",
     "output_type": "stream",
     "text": [
      "\r",
      "Processing Images:  87%|████████▋ | 522/600 [01:29<00:13,  5.97it/s]"
     ]
    },
    {
     "name": "stdout",
     "output_type": "stream",
     "text": [
      "1/1 [==============================] - 0s 31ms/step\n"
     ]
    },
    {
     "name": "stderr",
     "output_type": "stream",
     "text": [
      "\r",
      "Processing Images:  87%|████████▋ | 523/600 [01:29<00:13,  5.91it/s]"
     ]
    },
    {
     "name": "stdout",
     "output_type": "stream",
     "text": [
      "1/1 [==============================] - 0s 25ms/step\n"
     ]
    },
    {
     "name": "stderr",
     "output_type": "stream",
     "text": [
      "\r",
      "Processing Images:  87%|████████▋ | 524/600 [01:29<00:12,  6.04it/s]"
     ]
    },
    {
     "name": "stdout",
     "output_type": "stream",
     "text": [
      "1/1 [==============================] - 0s 16ms/step\n"
     ]
    },
    {
     "name": "stderr",
     "output_type": "stream",
     "text": [
      "\r",
      "Processing Images:  88%|████████▊ | 525/600 [01:29<00:12,  6.14it/s]"
     ]
    },
    {
     "name": "stdout",
     "output_type": "stream",
     "text": [
      "1/1 [==============================] - 0s 31ms/step\n"
     ]
    },
    {
     "name": "stderr",
     "output_type": "stream",
     "text": [
      "\r",
      "Processing Images:  88%|████████▊ | 526/600 [01:29<00:12,  6.03it/s]"
     ]
    },
    {
     "name": "stdout",
     "output_type": "stream",
     "text": [
      "1/1 [==============================] - 0s 32ms/step\n"
     ]
    },
    {
     "name": "stderr",
     "output_type": "stream",
     "text": [
      "\r",
      "Processing Images:  88%|████████▊ | 527/600 [01:30<00:12,  5.99it/s]"
     ]
    },
    {
     "name": "stdout",
     "output_type": "stream",
     "text": [
      "1/1 [==============================] - 0s 16ms/step\n"
     ]
    },
    {
     "name": "stderr",
     "output_type": "stream",
     "text": [
      "\r",
      "Processing Images:  88%|████████▊ | 528/600 [01:30<00:11,  6.06it/s]"
     ]
    },
    {
     "name": "stdout",
     "output_type": "stream",
     "text": [
      "1/1 [==============================] - 0s 31ms/step\n"
     ]
    },
    {
     "name": "stderr",
     "output_type": "stream",
     "text": [
      "\r",
      "Processing Images:  88%|████████▊ | 529/600 [01:30<00:11,  6.15it/s]"
     ]
    },
    {
     "name": "stdout",
     "output_type": "stream",
     "text": [
      "1/1 [==============================] - 0s 47ms/step\n"
     ]
    },
    {
     "name": "stderr",
     "output_type": "stream",
     "text": [
      "\r",
      "Processing Images:  88%|████████▊ | 530/600 [01:30<00:11,  5.87it/s]"
     ]
    },
    {
     "name": "stdout",
     "output_type": "stream",
     "text": [
      "1/1 [==============================] - 0s 32ms/step\n"
     ]
    },
    {
     "name": "stderr",
     "output_type": "stream",
     "text": [
      "\r",
      "Processing Images:  88%|████████▊ | 531/600 [01:30<00:12,  5.62it/s]"
     ]
    },
    {
     "name": "stdout",
     "output_type": "stream",
     "text": [
      "1/1 [==============================] - 0s 16ms/step\n"
     ]
    },
    {
     "name": "stderr",
     "output_type": "stream",
     "text": [
      "\r",
      "Processing Images:  89%|████████▊ | 532/600 [01:30<00:11,  5.74it/s]"
     ]
    },
    {
     "name": "stdout",
     "output_type": "stream",
     "text": [
      "1/1 [==============================] - 0s 31ms/step\n"
     ]
    },
    {
     "name": "stderr",
     "output_type": "stream",
     "text": [
      "\r",
      "Processing Images:  89%|████████▉ | 533/600 [01:31<00:11,  5.91it/s]"
     ]
    },
    {
     "name": "stdout",
     "output_type": "stream",
     "text": [
      "1/1 [==============================] - 0s 32ms/step\n"
     ]
    },
    {
     "name": "stderr",
     "output_type": "stream",
     "text": [
      "\r",
      "Processing Images:  89%|████████▉ | 534/600 [01:31<00:11,  5.88it/s]"
     ]
    },
    {
     "name": "stdout",
     "output_type": "stream",
     "text": [
      "1/1 [==============================] - 0s 31ms/step\n"
     ]
    },
    {
     "name": "stderr",
     "output_type": "stream",
     "text": [
      "\r",
      "Processing Images:  89%|████████▉ | 535/600 [01:31<00:10,  6.02it/s]"
     ]
    },
    {
     "name": "stdout",
     "output_type": "stream",
     "text": [
      "1/1 [==============================] - 0s 28ms/step\n"
     ]
    },
    {
     "name": "stderr",
     "output_type": "stream",
     "text": [
      "\r",
      "Processing Images:  89%|████████▉ | 536/600 [01:31<00:10,  5.94it/s]"
     ]
    },
    {
     "name": "stdout",
     "output_type": "stream",
     "text": [
      "1/1 [==============================] - 0s 31ms/step\n"
     ]
    },
    {
     "name": "stderr",
     "output_type": "stream",
     "text": [
      "\r",
      "Processing Images:  90%|████████▉ | 537/600 [01:31<00:10,  6.07it/s]"
     ]
    },
    {
     "name": "stdout",
     "output_type": "stream",
     "text": [
      "1/1 [==============================] - 0s 16ms/step\n"
     ]
    },
    {
     "name": "stderr",
     "output_type": "stream",
     "text": [
      "\r",
      "Processing Images:  90%|████████▉ | 538/600 [01:31<00:10,  5.98it/s]"
     ]
    },
    {
     "name": "stdout",
     "output_type": "stream",
     "text": [
      "1/1 [==============================] - 0s 29ms/step\n"
     ]
    },
    {
     "name": "stderr",
     "output_type": "stream",
     "text": [
      "\r",
      "Processing Images:  90%|████████▉ | 539/600 [01:32<00:10,  6.09it/s]"
     ]
    },
    {
     "name": "stdout",
     "output_type": "stream",
     "text": [
      "1/1 [==============================] - 0s 31ms/step\n"
     ]
    },
    {
     "name": "stderr",
     "output_type": "stream",
     "text": [
      "\r",
      "Processing Images:  90%|█████████ | 540/600 [01:32<00:09,  6.00it/s]"
     ]
    },
    {
     "name": "stdout",
     "output_type": "stream",
     "text": [
      "1/1 [==============================] - 0s 31ms/step\n"
     ]
    },
    {
     "name": "stderr",
     "output_type": "stream",
     "text": [
      "\r",
      "Processing Images:  90%|█████████ | 541/600 [01:32<00:09,  6.10it/s]"
     ]
    },
    {
     "name": "stdout",
     "output_type": "stream",
     "text": [
      "1/1 [==============================] - 0s 30ms/step\n"
     ]
    },
    {
     "name": "stderr",
     "output_type": "stream",
     "text": [
      "\r",
      "Processing Images:  90%|█████████ | 542/600 [01:32<00:09,  6.00it/s]"
     ]
    },
    {
     "name": "stdout",
     "output_type": "stream",
     "text": [
      "1/1 [==============================] - 0s 16ms/step\n"
     ]
    },
    {
     "name": "stderr",
     "output_type": "stream",
     "text": [
      "\r",
      "Processing Images:  90%|█████████ | 543/600 [01:32<00:09,  5.94it/s]"
     ]
    },
    {
     "name": "stdout",
     "output_type": "stream",
     "text": [
      "1/1 [==============================] - 0s 31ms/step\n"
     ]
    },
    {
     "name": "stderr",
     "output_type": "stream",
     "text": [
      "\r",
      "Processing Images:  91%|█████████ | 544/600 [01:32<00:09,  6.06it/s]"
     ]
    },
    {
     "name": "stdout",
     "output_type": "stream",
     "text": [
      "1/1 [==============================] - 0s 32ms/step\n"
     ]
    },
    {
     "name": "stderr",
     "output_type": "stream",
     "text": [
      "\r",
      "Processing Images:  91%|█████████ | 545/600 [01:33<00:09,  6.08it/s]"
     ]
    },
    {
     "name": "stdout",
     "output_type": "stream",
     "text": [
      "1/1 [==============================] - 0s 16ms/step\n"
     ]
    },
    {
     "name": "stderr",
     "output_type": "stream",
     "text": [
      "\r",
      "Processing Images:  91%|█████████ | 546/600 [01:33<00:08,  6.06it/s]"
     ]
    },
    {
     "name": "stdout",
     "output_type": "stream",
     "text": [
      "1/1 [==============================] - 0s 47ms/step\n"
     ]
    },
    {
     "name": "stderr",
     "output_type": "stream",
     "text": [
      "\r",
      "Processing Images:  91%|█████████ | 547/600 [01:33<00:08,  5.97it/s]"
     ]
    },
    {
     "name": "stdout",
     "output_type": "stream",
     "text": [
      "1/1 [==============================] - 0s 31ms/step\n"
     ]
    },
    {
     "name": "stderr",
     "output_type": "stream",
     "text": [
      "\r",
      "Processing Images:  91%|█████████▏| 548/600 [01:33<00:08,  6.02it/s]"
     ]
    },
    {
     "name": "stdout",
     "output_type": "stream",
     "text": [
      "1/1 [==============================] - 0s 31ms/step\n"
     ]
    },
    {
     "name": "stderr",
     "output_type": "stream",
     "text": [
      "\r",
      "Processing Images:  92%|█████████▏| 549/600 [01:33<00:08,  6.02it/s]"
     ]
    },
    {
     "name": "stdout",
     "output_type": "stream",
     "text": [
      "1/1 [==============================] - 0s 31ms/step\n"
     ]
    },
    {
     "name": "stderr",
     "output_type": "stream",
     "text": [
      "\r",
      "Processing Images:  92%|█████████▏| 550/600 [01:33<00:08,  6.12it/s]"
     ]
    },
    {
     "name": "stdout",
     "output_type": "stream",
     "text": [
      "1/1 [==============================] - 0s 16ms/step\n"
     ]
    },
    {
     "name": "stderr",
     "output_type": "stream",
     "text": [
      "\r",
      "Processing Images:  92%|█████████▏| 551/600 [01:34<00:08,  6.02it/s]"
     ]
    },
    {
     "name": "stdout",
     "output_type": "stream",
     "text": [
      "1/1 [==============================] - 0s 31ms/step\n"
     ]
    },
    {
     "name": "stderr",
     "output_type": "stream",
     "text": [
      "\r",
      "Processing Images:  92%|█████████▏| 552/600 [01:34<00:07,  6.12it/s]"
     ]
    },
    {
     "name": "stdout",
     "output_type": "stream",
     "text": [
      "1/1 [==============================] - 0s 31ms/step\n"
     ]
    },
    {
     "name": "stderr",
     "output_type": "stream",
     "text": [
      "\r",
      "Processing Images:  92%|█████████▏| 553/600 [01:34<00:08,  5.85it/s]"
     ]
    },
    {
     "name": "stdout",
     "output_type": "stream",
     "text": [
      "1/1 [==============================] - 0s 32ms/step\n"
     ]
    },
    {
     "name": "stderr",
     "output_type": "stream",
     "text": [
      "\r",
      "Processing Images:  92%|█████████▏| 554/600 [01:34<00:07,  5.95it/s]"
     ]
    },
    {
     "name": "stdout",
     "output_type": "stream",
     "text": [
      "1/1 [==============================] - 0s 31ms/step\n"
     ]
    },
    {
     "name": "stderr",
     "output_type": "stream",
     "text": [
      "\r",
      "Processing Images:  92%|█████████▎| 555/600 [01:34<00:07,  5.94it/s]"
     ]
    },
    {
     "name": "stdout",
     "output_type": "stream",
     "text": [
      "1/1 [==============================] - 0s 16ms/step\n"
     ]
    },
    {
     "name": "stderr",
     "output_type": "stream",
     "text": [
      "\r",
      "Processing Images:  93%|█████████▎| 556/600 [01:34<00:07,  5.90it/s]"
     ]
    },
    {
     "name": "stdout",
     "output_type": "stream",
     "text": [
      "1/1 [==============================] - 0s 32ms/step\n"
     ]
    },
    {
     "name": "stderr",
     "output_type": "stream",
     "text": [
      "\r",
      "Processing Images:  93%|█████████▎| 557/600 [01:35<00:07,  6.00it/s]"
     ]
    },
    {
     "name": "stdout",
     "output_type": "stream",
     "text": [
      "1/1 [==============================] - 0s 31ms/step\n"
     ]
    },
    {
     "name": "stderr",
     "output_type": "stream",
     "text": [
      "\r",
      "Processing Images:  93%|█████████▎| 558/600 [01:35<00:06,  6.14it/s]"
     ]
    },
    {
     "name": "stdout",
     "output_type": "stream",
     "text": [
      "1/1 [==============================] - 0s 31ms/step\n"
     ]
    },
    {
     "name": "stderr",
     "output_type": "stream",
     "text": [
      "\r",
      "Processing Images:  93%|█████████▎| 559/600 [01:35<00:06,  6.02it/s]"
     ]
    },
    {
     "name": "stdout",
     "output_type": "stream",
     "text": [
      "1/1 [==============================] - 0s 32ms/step\n"
     ]
    },
    {
     "name": "stderr",
     "output_type": "stream",
     "text": [
      "\r",
      "Processing Images:  93%|█████████▎| 560/600 [01:35<00:06,  6.13it/s]"
     ]
    },
    {
     "name": "stdout",
     "output_type": "stream",
     "text": [
      "1/1 [==============================] - 0s 16ms/step\n"
     ]
    },
    {
     "name": "stderr",
     "output_type": "stream",
     "text": [
      "\r",
      "Processing Images:  94%|█████████▎| 561/600 [01:35<00:06,  6.02it/s]"
     ]
    },
    {
     "name": "stdout",
     "output_type": "stream",
     "text": [
      "1/1 [==============================] - 0s 31ms/step\n"
     ]
    },
    {
     "name": "stderr",
     "output_type": "stream",
     "text": [
      "\r",
      "Processing Images:  94%|█████████▎| 562/600 [01:35<00:06,  6.12it/s]"
     ]
    },
    {
     "name": "stdout",
     "output_type": "stream",
     "text": [
      "1/1 [==============================] - 0s 32ms/step\n"
     ]
    },
    {
     "name": "stderr",
     "output_type": "stream",
     "text": [
      "\r",
      "Processing Images:  94%|█████████▍| 563/600 [01:36<00:06,  6.02it/s]"
     ]
    },
    {
     "name": "stdout",
     "output_type": "stream",
     "text": [
      "1/1 [==============================] - 0s 31ms/step\n"
     ]
    },
    {
     "name": "stderr",
     "output_type": "stream",
     "text": [
      "\r",
      "Processing Images:  94%|█████████▍| 564/600 [01:36<00:05,  6.12it/s]"
     ]
    },
    {
     "name": "stdout",
     "output_type": "stream",
     "text": [
      "1/1 [==============================] - 0s 31ms/step\n"
     ]
    },
    {
     "name": "stderr",
     "output_type": "stream",
     "text": [
      "\r",
      "Processing Images:  94%|█████████▍| 565/600 [01:36<00:05,  5.85it/s]"
     ]
    },
    {
     "name": "stdout",
     "output_type": "stream",
     "text": [
      "1/1 [==============================] - 0s 32ms/step\n"
     ]
    },
    {
     "name": "stderr",
     "output_type": "stream",
     "text": [
      "\r",
      "Processing Images:  94%|█████████▍| 566/600 [01:36<00:05,  6.00it/s]"
     ]
    },
    {
     "name": "stdout",
     "output_type": "stream",
     "text": [
      "1/1 [==============================] - 0s 47ms/step\n"
     ]
    },
    {
     "name": "stderr",
     "output_type": "stream",
     "text": [
      "\r",
      "Processing Images:  94%|█████████▍| 567/600 [01:36<00:05,  5.77it/s]"
     ]
    },
    {
     "name": "stdout",
     "output_type": "stream",
     "text": [
      "1/1 [==============================] - 0s 16ms/step\n"
     ]
    },
    {
     "name": "stderr",
     "output_type": "stream",
     "text": [
      "\r",
      "Processing Images:  95%|█████████▍| 568/600 [01:36<00:05,  5.78it/s]"
     ]
    },
    {
     "name": "stdout",
     "output_type": "stream",
     "text": [
      "1/1 [==============================] - 0s 24ms/step\n"
     ]
    },
    {
     "name": "stderr",
     "output_type": "stream",
     "text": [
      "\r",
      "Processing Images:  95%|█████████▍| 569/600 [01:37<00:05,  5.94it/s]"
     ]
    },
    {
     "name": "stdout",
     "output_type": "stream",
     "text": [
      "1/1 [==============================] - 0s 31ms/step\n"
     ]
    },
    {
     "name": "stderr",
     "output_type": "stream",
     "text": [
      "\r",
      "Processing Images:  95%|█████████▌| 570/600 [01:37<00:05,  5.90it/s]"
     ]
    },
    {
     "name": "stdout",
     "output_type": "stream",
     "text": [
      "1/1 [==============================] - 0s 31ms/step\n"
     ]
    },
    {
     "name": "stderr",
     "output_type": "stream",
     "text": [
      "\r",
      "Processing Images:  95%|█████████▌| 571/600 [01:37<00:04,  6.07it/s]"
     ]
    },
    {
     "name": "stdout",
     "output_type": "stream",
     "text": [
      "1/1 [==============================] - 0s 16ms/step\n"
     ]
    },
    {
     "name": "stderr",
     "output_type": "stream",
     "text": [
      "\r",
      "Processing Images:  95%|█████████▌| 572/600 [01:37<00:04,  5.98it/s]"
     ]
    },
    {
     "name": "stdout",
     "output_type": "stream",
     "text": [
      "1/1 [==============================] - 0s 31ms/step\n"
     ]
    },
    {
     "name": "stderr",
     "output_type": "stream",
     "text": [
      "\r",
      "Processing Images:  96%|█████████▌| 573/600 [01:37<00:04,  6.10it/s]"
     ]
    },
    {
     "name": "stdout",
     "output_type": "stream",
     "text": [
      "1/1 [==============================] - 0s 16ms/step\n"
     ]
    },
    {
     "name": "stderr",
     "output_type": "stream",
     "text": [
      "\r",
      "Processing Images:  96%|█████████▌| 574/600 [01:37<00:04,  6.00it/s]"
     ]
    },
    {
     "name": "stdout",
     "output_type": "stream",
     "text": [
      "1/1 [==============================] - 0s 32ms/step\n"
     ]
    },
    {
     "name": "stderr",
     "output_type": "stream",
     "text": [
      "\r",
      "Processing Images:  96%|█████████▌| 575/600 [01:38<00:04,  6.11it/s]"
     ]
    },
    {
     "name": "stdout",
     "output_type": "stream",
     "text": [
      "1/1 [==============================] - 0s 31ms/step\n"
     ]
    },
    {
     "name": "stderr",
     "output_type": "stream",
     "text": [
      "\r",
      "Processing Images:  96%|█████████▌| 576/600 [01:38<00:03,  6.01it/s]"
     ]
    },
    {
     "name": "stdout",
     "output_type": "stream",
     "text": [
      "1/1 [==============================] - 0s 31ms/step\n"
     ]
    },
    {
     "name": "stderr",
     "output_type": "stream",
     "text": [
      "\r",
      "Processing Images:  96%|█████████▌| 577/600 [01:38<00:03,  5.94it/s]"
     ]
    },
    {
     "name": "stdout",
     "output_type": "stream",
     "text": [
      "1/1 [==============================] - 0s 32ms/step\n"
     ]
    },
    {
     "name": "stderr",
     "output_type": "stream",
     "text": [
      "\r",
      "Processing Images:  96%|█████████▋| 578/600 [01:38<00:03,  6.07it/s]"
     ]
    },
    {
     "name": "stdout",
     "output_type": "stream",
     "text": [
      "1/1 [==============================] - 0s 16ms/step\n"
     ]
    },
    {
     "name": "stderr",
     "output_type": "stream",
     "text": [
      "\r",
      "Processing Images:  96%|█████████▋| 579/600 [01:38<00:03,  5.98it/s]"
     ]
    },
    {
     "name": "stdout",
     "output_type": "stream",
     "text": [
      "1/1 [==============================] - 0s 31ms/step\n"
     ]
    },
    {
     "name": "stderr",
     "output_type": "stream",
     "text": [
      "\r",
      "Processing Images:  97%|█████████▋| 580/600 [01:38<00:03,  6.09it/s]"
     ]
    },
    {
     "name": "stdout",
     "output_type": "stream",
     "text": [
      "1/1 [==============================] - 0s 23ms/step\n"
     ]
    },
    {
     "name": "stderr",
     "output_type": "stream",
     "text": [
      "\r",
      "Processing Images:  97%|█████████▋| 581/600 [01:39<00:03,  6.00it/s]"
     ]
    },
    {
     "name": "stdout",
     "output_type": "stream",
     "text": [
      "1/1 [==============================] - 0s 31ms/step\n"
     ]
    },
    {
     "name": "stderr",
     "output_type": "stream",
     "text": [
      "\r",
      "Processing Images:  97%|█████████▋| 582/600 [01:39<00:02,  6.10it/s]"
     ]
    },
    {
     "name": "stdout",
     "output_type": "stream",
     "text": [
      "1/1 [==============================] - 0s 31ms/step\n"
     ]
    },
    {
     "name": "stderr",
     "output_type": "stream",
     "text": [
      "\r",
      "Processing Images:  97%|█████████▋| 583/600 [01:39<00:02,  6.00it/s]"
     ]
    },
    {
     "name": "stdout",
     "output_type": "stream",
     "text": [
      "1/1 [==============================] - 0s 16ms/step\n"
     ]
    },
    {
     "name": "stderr",
     "output_type": "stream",
     "text": [
      "\r",
      "Processing Images:  97%|█████████▋| 584/600 [01:39<00:02,  5.62it/s]"
     ]
    },
    {
     "name": "stdout",
     "output_type": "stream",
     "text": [
      "1/1 [==============================] - 0s 34ms/step\n"
     ]
    },
    {
     "name": "stderr",
     "output_type": "stream",
     "text": [
      "\r",
      "Processing Images:  98%|█████████▊| 585/600 [01:39<00:02,  5.83it/s]"
     ]
    },
    {
     "name": "stdout",
     "output_type": "stream",
     "text": [
      "1/1 [==============================] - 0s 16ms/step\n"
     ]
    },
    {
     "name": "stderr",
     "output_type": "stream",
     "text": [
      "\r",
      "Processing Images:  98%|█████████▊| 586/600 [01:39<00:02,  5.82it/s]"
     ]
    },
    {
     "name": "stdout",
     "output_type": "stream",
     "text": [
      "1/1 [==============================] - 0s 31ms/step\n"
     ]
    },
    {
     "name": "stderr",
     "output_type": "stream",
     "text": [
      "\r",
      "Processing Images:  98%|█████████▊| 587/600 [01:40<00:02,  5.51it/s]"
     ]
    },
    {
     "name": "stdout",
     "output_type": "stream",
     "text": [
      "1/1 [==============================] - 0s 31ms/step\n"
     ]
    },
    {
     "name": "stderr",
     "output_type": "stream",
     "text": [
      "\r",
      "Processing Images:  98%|█████████▊| 588/600 [01:40<00:02,  5.31it/s]"
     ]
    },
    {
     "name": "stdout",
     "output_type": "stream",
     "text": [
      "1/1 [==============================] - 0s 31ms/step\n"
     ]
    },
    {
     "name": "stderr",
     "output_type": "stream",
     "text": [
      "\r",
      "Processing Images:  98%|█████████▊| 589/600 [01:40<00:01,  5.59it/s]"
     ]
    },
    {
     "name": "stdout",
     "output_type": "stream",
     "text": [
      "1/1 [==============================] - 0s 31ms/step\n"
     ]
    },
    {
     "name": "stderr",
     "output_type": "stream",
     "text": [
      "\r",
      "Processing Images:  98%|█████████▊| 590/600 [01:40<00:01,  5.80it/s]"
     ]
    },
    {
     "name": "stdout",
     "output_type": "stream",
     "text": [
      "1/1 [==============================] - 0s 31ms/step\n"
     ]
    },
    {
     "name": "stderr",
     "output_type": "stream",
     "text": [
      "\r",
      "Processing Images:  98%|█████████▊| 591/600 [01:40<00:01,  5.80it/s]"
     ]
    },
    {
     "name": "stdout",
     "output_type": "stream",
     "text": [
      "1/1 [==============================] - 0s 32ms/step\n"
     ]
    },
    {
     "name": "stderr",
     "output_type": "stream",
     "text": [
      "\r",
      "Processing Images:  99%|█████████▊| 592/600 [01:41<00:01,  5.93it/s]"
     ]
    },
    {
     "name": "stdout",
     "output_type": "stream",
     "text": [
      "1/1 [==============================] - 0s 31ms/step\n"
     ]
    },
    {
     "name": "stderr",
     "output_type": "stream",
     "text": [
      "\r",
      "Processing Images:  99%|█████████▉| 593/600 [01:41<00:01,  5.92it/s]"
     ]
    },
    {
     "name": "stdout",
     "output_type": "stream",
     "text": [
      "1/1 [==============================] - 0s 31ms/step\n"
     ]
    },
    {
     "name": "stderr",
     "output_type": "stream",
     "text": [
      "\r",
      "Processing Images:  99%|█████████▉| 594/600 [01:41<00:01,  5.88it/s]"
     ]
    },
    {
     "name": "stdout",
     "output_type": "stream",
     "text": [
      "1/1 [==============================] - 0s 32ms/step\n"
     ]
    },
    {
     "name": "stderr",
     "output_type": "stream",
     "text": [
      "\r",
      "Processing Images:  99%|█████████▉| 595/600 [01:41<00:00,  6.00it/s]"
     ]
    },
    {
     "name": "stdout",
     "output_type": "stream",
     "text": [
      "1/1 [==============================] - 0s 31ms/step\n"
     ]
    },
    {
     "name": "stderr",
     "output_type": "stream",
     "text": [
      "\r",
      "Processing Images:  99%|█████████▉| 596/600 [01:41<00:00,  5.95it/s]"
     ]
    },
    {
     "name": "stdout",
     "output_type": "stream",
     "text": [
      "1/1 [==============================] - 0s 31ms/step\n"
     ]
    },
    {
     "name": "stderr",
     "output_type": "stream",
     "text": [
      "\r",
      "Processing Images: 100%|█████████▉| 597/600 [01:41<00:00,  6.07it/s]"
     ]
    },
    {
     "name": "stdout",
     "output_type": "stream",
     "text": [
      "1/1 [==============================] - 0s 32ms/step\n"
     ]
    },
    {
     "name": "stderr",
     "output_type": "stream",
     "text": [
      "\r",
      "Processing Images: 100%|█████████▉| 598/600 [01:42<00:00,  5.97it/s]"
     ]
    },
    {
     "name": "stdout",
     "output_type": "stream",
     "text": [
      "1/1 [==============================] - 0s 47ms/step\n"
     ]
    },
    {
     "name": "stderr",
     "output_type": "stream",
     "text": [
      "\r",
      "Processing Images: 100%|█████████▉| 599/600 [01:42<00:00,  5.77it/s]"
     ]
    },
    {
     "name": "stdout",
     "output_type": "stream",
     "text": [
      "1/1 [==============================] - 0s 16ms/step\n"
     ]
    },
    {
     "name": "stderr",
     "output_type": "stream",
     "text": [
      "Processing Images: 100%|██████████| 600/600 [01:42<00:00,  5.86it/s]\n"
     ]
    }
   ],
   "source": [
    "import os\n",
    "import numpy as np\n",
    "import tensorflow as tf\n",
    "from tensorflow.keras.models import Sequential\n",
    "from tensorflow.keras.layers import UpSampling2D\n",
    "from tensorflow.keras.preprocessing.image import load_img, img_to_array, array_to_img\n",
    "from tqdm import tqdm\n",
    "\n",
    "# Define a simple upscaling model\n",
    "model = Sequential()\n",
    "model.add(UpSampling2D((2, 2), input_shape=(None, None, 3)))\n",
    "\n",
    "# Function to load and preprocess images\n",
    "def load_and_preprocess_image(image_path):\n",
    "    img = load_img(image_path)\n",
    "    img_array = img_to_array(img)\n",
    "    img_array = img_array / 255.0  # Normalize pixel values to the range [0, 1]\n",
    "    return img_array\n",
    "\n",
    "# Define the directories\n",
    "lr_folder = 'lrimg'\n",
    "hr_folder = 'hr_image'\n",
    "\n",
    "# Create the hr_image folder if it doesn't exist\n",
    "if not os.path.exists(hr_folder):\n",
    "    os.makedirs(hr_folder)\n",
    "\n",
    "# Get the list of image files in lr_image folder\n",
    "image_files = os.listdir(lr_folder)\n",
    "\n",
    "# Iterate through the images and perform super-resolution\n",
    "for image_file in tqdm(image_files, desc='Processing Images'):\n",
    "    lr_image_path = os.path.join(lr_folder, image_file)\n",
    "    \n",
    "    # Load and preprocess the low-resolution image\n",
    "    lr_img_array = load_and_preprocess_image(lr_image_path)\n",
    "    \n",
    "    # Expand dimensions to match the model input shape\n",
    "    lr_img_array = np.expand_dims(lr_img_array, axis=0)\n",
    "\n",
    "    # Generate high-resolution image\n",
    "    hr_img_array = model.predict(lr_img_array)\n",
    "    \n",
    "    # Reshape and save the high-resolution image\n",
    "    hr_img_array = hr_img_array.reshape(hr_img_array.shape[1], hr_img_array.shape[2], hr_img_array.shape[3])\n",
    "    hr_img = array_to_img(hr_img_array * 255.0)  # De-normalize before saving\n",
    "    hr_img.save(os.path.join(hr_folder, image_file))\n"
   ]
  },
  {
   "cell_type": "code",
   "execution_count": 2,
   "id": "5de83e13",
   "metadata": {},
   "outputs": [
    {
     "name": "stdout",
     "output_type": "stream",
     "text": [
      "Collecting tensorflow\n",
      "  Obtaining dependency information for tensorflow from https://files.pythonhosted.org/packages/93/21/9b035a4f823d6aee2917c75415be9a95861ff3d73a0a65e48edbf210cec1/tensorflow-2.15.0-cp311-cp311-win_amd64.whl.metadata\n",
      "  Downloading tensorflow-2.15.0-cp311-cp311-win_amd64.whl.metadata (3.6 kB)\n",
      "Collecting tensorflow-intel==2.15.0 (from tensorflow)\n",
      "  Obtaining dependency information for tensorflow-intel==2.15.0 from https://files.pythonhosted.org/packages/4c/48/1a5a15517f18eaa4ff8d598b1c000300b20c1bb0e624539d702117a0c369/tensorflow_intel-2.15.0-cp311-cp311-win_amd64.whl.metadata\n",
      "  Downloading tensorflow_intel-2.15.0-cp311-cp311-win_amd64.whl.metadata (5.1 kB)\n",
      "Collecting absl-py>=1.0.0 (from tensorflow-intel==2.15.0->tensorflow)\n",
      "  Obtaining dependency information for absl-py>=1.0.0 from https://files.pythonhosted.org/packages/01/e4/dc0a1dcc4e74e08d7abedab278c795eef54a224363bb18f5692f416d834f/absl_py-2.0.0-py3-none-any.whl.metadata\n",
      "  Downloading absl_py-2.0.0-py3-none-any.whl.metadata (2.3 kB)\n",
      "Collecting astunparse>=1.6.0 (from tensorflow-intel==2.15.0->tensorflow)\n",
      "  Downloading astunparse-1.6.3-py2.py3-none-any.whl (12 kB)\n",
      "Collecting flatbuffers>=23.5.26 (from tensorflow-intel==2.15.0->tensorflow)\n",
      "  Obtaining dependency information for flatbuffers>=23.5.26 from https://files.pythonhosted.org/packages/6f/12/d5c79ee252793ffe845d58a913197bfa02ae9a0b5c9bc3dc4b58d477b9e7/flatbuffers-23.5.26-py2.py3-none-any.whl.metadata\n",
      "  Downloading flatbuffers-23.5.26-py2.py3-none-any.whl.metadata (850 bytes)\n",
      "Collecting gast!=0.5.0,!=0.5.1,!=0.5.2,>=0.2.1 (from tensorflow-intel==2.15.0->tensorflow)\n",
      "  Downloading gast-0.5.4-py3-none-any.whl (19 kB)\n",
      "Collecting google-pasta>=0.1.1 (from tensorflow-intel==2.15.0->tensorflow)\n",
      "  Downloading google_pasta-0.2.0-py3-none-any.whl (57 kB)\n",
      "     ---------------------------------------- 0.0/57.5 kB ? eta -:--:--\n",
      "     ---------------------------------------- 57.5/57.5 kB 1.5 MB/s eta 0:00:00\n",
      "Requirement already satisfied: h5py>=2.9.0 in c:\\users\\user\\anaconda3\\lib\\site-packages (from tensorflow-intel==2.15.0->tensorflow) (3.9.0)\n",
      "Collecting libclang>=13.0.0 (from tensorflow-intel==2.15.0->tensorflow)\n",
      "  Obtaining dependency information for libclang>=13.0.0 from https://files.pythonhosted.org/packages/02/8c/dc970bc00867fe290e8c8a7befa1635af716a9ebdfe3fb9dce0ca4b522ce/libclang-16.0.6-py2.py3-none-win_amd64.whl.metadata\n",
      "  Downloading libclang-16.0.6-py2.py3-none-win_amd64.whl.metadata (5.3 kB)\n",
      "Collecting ml-dtypes~=0.2.0 (from tensorflow-intel==2.15.0->tensorflow)\n",
      "  Obtaining dependency information for ml-dtypes~=0.2.0 from https://files.pythonhosted.org/packages/08/89/c727fde1a3d12586e0b8c01abf53754707d76beaa9987640e70807d4545f/ml_dtypes-0.2.0-cp311-cp311-win_amd64.whl.metadata\n",
      "  Downloading ml_dtypes-0.2.0-cp311-cp311-win_amd64.whl.metadata (20 kB)\n",
      "Requirement already satisfied: numpy<2.0.0,>=1.23.5 in c:\\users\\user\\anaconda3\\lib\\site-packages (from tensorflow-intel==2.15.0->tensorflow) (1.24.3)\n",
      "Collecting opt-einsum>=2.3.2 (from tensorflow-intel==2.15.0->tensorflow)\n",
      "  Downloading opt_einsum-3.3.0-py3-none-any.whl (65 kB)\n",
      "     ---------------------------------------- 0.0/65.5 kB ? eta -:--:--\n",
      "     ---------------------------------------- 65.5/65.5 kB ? eta 0:00:00\n",
      "Requirement already satisfied: packaging in c:\\users\\user\\anaconda3\\lib\\site-packages (from tensorflow-intel==2.15.0->tensorflow) (23.1)\n",
      "Collecting protobuf!=4.21.0,!=4.21.1,!=4.21.2,!=4.21.3,!=4.21.4,!=4.21.5,<5.0.0dev,>=3.20.3 (from tensorflow-intel==2.15.0->tensorflow)\n",
      "  Obtaining dependency information for protobuf!=4.21.0,!=4.21.1,!=4.21.2,!=4.21.3,!=4.21.4,!=4.21.5,<5.0.0dev,>=3.20.3 from https://files.pythonhosted.org/packages/c1/00/c3ae19cabb36cfabc94ff0b102aac21b471c9f91a1357f8aafffb9efe8e0/protobuf-4.25.2-cp310-abi3-win_amd64.whl.metadata\n",
      "  Downloading protobuf-4.25.2-cp310-abi3-win_amd64.whl.metadata (541 bytes)\n",
      "Requirement already satisfied: setuptools in c:\\users\\user\\anaconda3\\lib\\site-packages (from tensorflow-intel==2.15.0->tensorflow) (68.0.0)\n",
      "Requirement already satisfied: six>=1.12.0 in c:\\users\\user\\anaconda3\\lib\\site-packages (from tensorflow-intel==2.15.0->tensorflow) (1.16.0)\n",
      "Collecting termcolor>=1.1.0 (from tensorflow-intel==2.15.0->tensorflow)\n",
      "  Obtaining dependency information for termcolor>=1.1.0 from https://files.pythonhosted.org/packages/d9/5f/8c716e47b3a50cbd7c146f45881e11d9414def768b7cd9c5e6650ec2a80a/termcolor-2.4.0-py3-none-any.whl.metadata\n",
      "  Downloading termcolor-2.4.0-py3-none-any.whl.metadata (6.1 kB)\n",
      "Requirement already satisfied: typing-extensions>=3.6.6 in c:\\users\\user\\anaconda3\\lib\\site-packages (from tensorflow-intel==2.15.0->tensorflow) (4.7.1)\n",
      "Requirement already satisfied: wrapt<1.15,>=1.11.0 in c:\\users\\user\\anaconda3\\lib\\site-packages (from tensorflow-intel==2.15.0->tensorflow) (1.14.1)\n",
      "Collecting tensorflow-io-gcs-filesystem>=0.23.1 (from tensorflow-intel==2.15.0->tensorflow)\n",
      "  Downloading tensorflow_io_gcs_filesystem-0.31.0-cp311-cp311-win_amd64.whl (1.5 MB)\n",
      "     ---------------------------------------- 0.0/1.5 MB ? eta -:--:--\n",
      "     ------ --------------------------------- 0.3/1.5 MB 7.9 MB/s eta 0:00:01\n",
      "     ------------- -------------------------- 0.5/1.5 MB 5.3 MB/s eta 0:00:01\n",
      "     ------------------ --------------------- 0.7/1.5 MB 4.9 MB/s eta 0:00:01\n",
      "     ------------------------- -------------- 0.9/1.5 MB 5.4 MB/s eta 0:00:01\n",
      "     ------------------------------- -------- 1.2/1.5 MB 5.0 MB/s eta 0:00:01\n",
      "     ------------------------------------- -- 1.4/1.5 MB 4.9 MB/s eta 0:00:01\n",
      "     ---------------------------------------- 1.5/1.5 MB 4.7 MB/s eta 0:00:00\n",
      "Collecting grpcio<2.0,>=1.24.3 (from tensorflow-intel==2.15.0->tensorflow)\n",
      "  Obtaining dependency information for grpcio<2.0,>=1.24.3 from https://files.pythonhosted.org/packages/6a/b9/f94bea4c6f0e322a239f7ba66ba3b0ce766d1c6a2d50055f7c8acf0fba38/grpcio-1.60.0-cp311-cp311-win_amd64.whl.metadata\n",
      "  Downloading grpcio-1.60.0-cp311-cp311-win_amd64.whl.metadata (4.2 kB)\n",
      "Collecting tensorboard<2.16,>=2.15 (from tensorflow-intel==2.15.0->tensorflow)\n",
      "  Obtaining dependency information for tensorboard<2.16,>=2.15 from https://files.pythonhosted.org/packages/6e/0c/1059a6682cf2cc1fcc0d5327837b5672fe4f5574255fa5430d0a8ceb75e9/tensorboard-2.15.1-py3-none-any.whl.metadata\n",
      "  Downloading tensorboard-2.15.1-py3-none-any.whl.metadata (1.7 kB)\n",
      "Collecting tensorflow-estimator<2.16,>=2.15.0 (from tensorflow-intel==2.15.0->tensorflow)\n",
      "  Obtaining dependency information for tensorflow-estimator<2.16,>=2.15.0 from https://files.pythonhosted.org/packages/b6/c8/2f823c8958d5342eafc6dd3e922f0cc4fcf8c2e0460284cc462dae3b60a0/tensorflow_estimator-2.15.0-py2.py3-none-any.whl.metadata\n",
      "  Downloading tensorflow_estimator-2.15.0-py2.py3-none-any.whl.metadata (1.3 kB)\n",
      "Collecting keras<2.16,>=2.15.0 (from tensorflow-intel==2.15.0->tensorflow)\n",
      "  Obtaining dependency information for keras<2.16,>=2.15.0 from https://files.pythonhosted.org/packages/fc/a7/0d4490de967a67f68a538cc9cdb259bff971c4b5787f7765dc7c8f118f71/keras-2.15.0-py3-none-any.whl.metadata\n",
      "  Downloading keras-2.15.0-py3-none-any.whl.metadata (2.4 kB)\n",
      "Requirement already satisfied: wheel<1.0,>=0.23.0 in c:\\users\\user\\anaconda3\\lib\\site-packages (from astunparse>=1.6.0->tensorflow-intel==2.15.0->tensorflow) (0.38.4)\n",
      "Collecting google-auth<3,>=1.6.3 (from tensorboard<2.16,>=2.15->tensorflow-intel==2.15.0->tensorflow)\n",
      "  Obtaining dependency information for google-auth<3,>=1.6.3 from https://files.pythonhosted.org/packages/aa/42/c3873f5a4369d28eb0006bfc80837f28b18bd4e04526f55cc9c8eac7a803/google_auth-2.26.2-py2.py3-none-any.whl.metadata\n",
      "  Downloading google_auth-2.26.2-py2.py3-none-any.whl.metadata (4.7 kB)\n",
      "Collecting google-auth-oauthlib<2,>=0.5 (from tensorboard<2.16,>=2.15->tensorflow-intel==2.15.0->tensorflow)\n",
      "  Obtaining dependency information for google-auth-oauthlib<2,>=0.5 from https://files.pythonhosted.org/packages/71/bf/9e125754d1adb3bc4bd206c4e5df756513b1d23675ac06caa471278d1f3f/google_auth_oauthlib-1.2.0-py2.py3-none-any.whl.metadata\n",
      "  Downloading google_auth_oauthlib-1.2.0-py2.py3-none-any.whl.metadata (2.7 kB)\n",
      "Requirement already satisfied: markdown>=2.6.8 in c:\\users\\user\\anaconda3\\lib\\site-packages (from tensorboard<2.16,>=2.15->tensorflow-intel==2.15.0->tensorflow) (3.4.1)\n",
      "Collecting protobuf!=4.21.0,!=4.21.1,!=4.21.2,!=4.21.3,!=4.21.4,!=4.21.5,<5.0.0dev,>=3.20.3 (from tensorflow-intel==2.15.0->tensorflow)\n",
      "  Obtaining dependency information for protobuf!=4.21.0,!=4.21.1,!=4.21.2,!=4.21.3,!=4.21.4,!=4.21.5,<5.0.0dev,>=3.20.3 from https://files.pythonhosted.org/packages/80/70/dc63d340d27b8ff22022d7dd14b8d6d68b479a003eacdc4507150a286d9a/protobuf-4.23.4-cp310-abi3-win_amd64.whl.metadata\n",
      "  Downloading protobuf-4.23.4-cp310-abi3-win_amd64.whl.metadata (540 bytes)\n",
      "Requirement already satisfied: requests<3,>=2.21.0 in c:\\users\\user\\anaconda3\\lib\\site-packages (from tensorboard<2.16,>=2.15->tensorflow-intel==2.15.0->tensorflow) (2.31.0)\n",
      "Collecting tensorboard-data-server<0.8.0,>=0.7.0 (from tensorboard<2.16,>=2.15->tensorflow-intel==2.15.0->tensorflow)\n",
      "  Obtaining dependency information for tensorboard-data-server<0.8.0,>=0.7.0 from https://files.pythonhosted.org/packages/7a/13/e503968fefabd4c6b2650af21e110aa8466fe21432cd7c43a84577a89438/tensorboard_data_server-0.7.2-py3-none-any.whl.metadata\n",
      "  Downloading tensorboard_data_server-0.7.2-py3-none-any.whl.metadata (1.1 kB)\n",
      "Requirement already satisfied: werkzeug>=1.0.1 in c:\\users\\user\\anaconda3\\lib\\site-packages (from tensorboard<2.16,>=2.15->tensorflow-intel==2.15.0->tensorflow) (2.2.3)\n",
      "Collecting cachetools<6.0,>=2.0.0 (from google-auth<3,>=1.6.3->tensorboard<2.16,>=2.15->tensorflow-intel==2.15.0->tensorflow)\n",
      "  Obtaining dependency information for cachetools<6.0,>=2.0.0 from https://files.pythonhosted.org/packages/a2/91/2d843adb9fbd911e0da45fbf6f18ca89d07a087c3daa23e955584f90ebf4/cachetools-5.3.2-py3-none-any.whl.metadata\n",
      "  Downloading cachetools-5.3.2-py3-none-any.whl.metadata (5.2 kB)\n",
      "Requirement already satisfied: pyasn1-modules>=0.2.1 in c:\\users\\user\\anaconda3\\lib\\site-packages (from google-auth<3,>=1.6.3->tensorboard<2.16,>=2.15->tensorflow-intel==2.15.0->tensorflow) (0.2.8)\n",
      "Collecting rsa<5,>=3.1.4 (from google-auth<3,>=1.6.3->tensorboard<2.16,>=2.15->tensorflow-intel==2.15.0->tensorflow)\n",
      "  Downloading rsa-4.9-py3-none-any.whl (34 kB)\n",
      "Collecting requests-oauthlib>=0.7.0 (from google-auth-oauthlib<2,>=0.5->tensorboard<2.16,>=2.15->tensorflow-intel==2.15.0->tensorflow)\n",
      "  Downloading requests_oauthlib-1.3.1-py2.py3-none-any.whl (23 kB)\n",
      "Requirement already satisfied: charset-normalizer<4,>=2 in c:\\users\\user\\anaconda3\\lib\\site-packages (from requests<3,>=2.21.0->tensorboard<2.16,>=2.15->tensorflow-intel==2.15.0->tensorflow) (2.0.4)\n",
      "Requirement already satisfied: idna<4,>=2.5 in c:\\users\\user\\anaconda3\\lib\\site-packages (from requests<3,>=2.21.0->tensorboard<2.16,>=2.15->tensorflow-intel==2.15.0->tensorflow) (3.4)\n",
      "Requirement already satisfied: urllib3<3,>=1.21.1 in c:\\users\\user\\anaconda3\\lib\\site-packages (from requests<3,>=2.21.0->tensorboard<2.16,>=2.15->tensorflow-intel==2.15.0->tensorflow) (1.26.16)\n",
      "Requirement already satisfied: certifi>=2017.4.17 in c:\\users\\user\\anaconda3\\lib\\site-packages (from requests<3,>=2.21.0->tensorboard<2.16,>=2.15->tensorflow-intel==2.15.0->tensorflow) (2023.7.22)\n",
      "Requirement already satisfied: MarkupSafe>=2.1.1 in c:\\users\\user\\anaconda3\\lib\\site-packages (from werkzeug>=1.0.1->tensorboard<2.16,>=2.15->tensorflow-intel==2.15.0->tensorflow) (2.1.1)\n",
      "Requirement already satisfied: pyasn1<0.5.0,>=0.4.6 in c:\\users\\user\\anaconda3\\lib\\site-packages (from pyasn1-modules>=0.2.1->google-auth<3,>=1.6.3->tensorboard<2.16,>=2.15->tensorflow-intel==2.15.0->tensorflow) (0.4.8)\n",
      "Collecting oauthlib>=3.0.0 (from requests-oauthlib>=0.7.0->google-auth-oauthlib<2,>=0.5->tensorboard<2.16,>=2.15->tensorflow-intel==2.15.0->tensorflow)\n",
      "  Downloading oauthlib-3.2.2-py3-none-any.whl (151 kB)\n",
      "     ---------------------------------------- 0.0/151.7 kB ? eta -:--:--\n",
      "     -------------------------------------- 151.7/151.7 kB 4.6 MB/s eta 0:00:00\n",
      "Downloading tensorflow-2.15.0-cp311-cp311-win_amd64.whl (2.1 kB)\n",
      "Downloading tensorflow_intel-2.15.0-cp311-cp311-win_amd64.whl (300.9 MB)\n",
      "   ---------------------------------------- 0.0/300.9 MB ? eta -:--:--\n",
      "   ---------------------------------------- 0.2/300.9 MB 7.3 MB/s eta 0:00:42\n",
      "   ---------------------------------------- 0.5/300.9 MB 5.9 MB/s eta 0:00:51\n",
      "   ---------------------------------------- 0.7/300.9 MB 5.2 MB/s eta 0:00:59\n",
      "   ---------------------------------------- 0.9/300.9 MB 5.1 MB/s eta 0:01:00\n",
      "   ---------------------------------------- 1.1/300.9 MB 5.1 MB/s eta 0:00:59\n",
      "   ---------------------------------------- 1.3/300.9 MB 4.7 MB/s eta 0:01:04\n",
      "   ---------------------------------------- 1.6/300.9 MB 4.7 MB/s eta 0:01:04\n",
      "   ---------------------------------------- 1.8/300.9 MB 5.0 MB/s eta 0:01:00\n",
      "   ---------------------------------------- 2.1/300.9 MB 4.9 MB/s eta 0:01:02\n",
      "   ---------------------------------------- 2.3/300.9 MB 4.9 MB/s eta 0:01:02\n",
      "   ---------------------------------------- 2.5/300.9 MB 4.9 MB/s eta 0:01:02\n",
      "   ---------------------------------------- 2.7/300.9 MB 4.8 MB/s eta 0:01:02\n",
      "   ---------------------------------------- 2.9/300.9 MB 4.8 MB/s eta 0:01:02\n",
      "   ---------------------------------------- 3.2/300.9 MB 4.9 MB/s eta 0:01:02\n",
      "   ---------------------------------------- 3.4/300.9 MB 4.9 MB/s eta 0:01:01\n",
      "   ---------------------------------------- 3.6/300.9 MB 4.8 MB/s eta 0:01:02\n",
      "    --------------------------------------- 3.9/300.9 MB 4.8 MB/s eta 0:01:02\n",
      "    --------------------------------------- 4.1/300.9 MB 4.8 MB/s eta 0:01:02\n",
      "    --------------------------------------- 4.3/300.9 MB 4.8 MB/s eta 0:01:02\n",
      "    --------------------------------------- 4.5/300.9 MB 4.8 MB/s eta 0:01:02\n",
      "    --------------------------------------- 4.8/300.9 MB 4.8 MB/s eta 0:01:02\n",
      "    --------------------------------------- 5.0/300.9 MB 4.8 MB/s eta 0:01:02\n",
      "    --------------------------------------- 5.2/300.9 MB 4.8 MB/s eta 0:01:02\n",
      "    --------------------------------------- 5.5/300.9 MB 4.9 MB/s eta 0:01:01\n",
      "    --------------------------------------- 5.7/300.9 MB 4.8 MB/s eta 0:01:01\n",
      "    --------------------------------------- 5.9/300.9 MB 4.8 MB/s eta 0:01:01\n",
      "    --------------------------------------- 6.1/300.9 MB 4.8 MB/s eta 0:01:01\n",
      "    --------------------------------------- 6.4/300.9 MB 4.8 MB/s eta 0:01:02\n",
      "    --------------------------------------- 6.6/300.9 MB 4.8 MB/s eta 0:01:02\n",
      "    --------------------------------------- 6.8/300.9 MB 4.8 MB/s eta 0:01:01\n",
      "    --------------------------------------- 7.0/300.9 MB 4.8 MB/s eta 0:01:01\n",
      "    --------------------------------------- 7.3/300.9 MB 4.8 MB/s eta 0:01:02\n",
      "    --------------------------------------- 7.5/300.9 MB 4.8 MB/s eta 0:01:02\n",
      "   - -------------------------------------- 7.7/300.9 MB 4.8 MB/s eta 0:01:02\n",
      "   - -------------------------------------- 7.9/300.9 MB 4.8 MB/s eta 0:01:01\n",
      "   - -------------------------------------- 8.2/300.9 MB 4.8 MB/s eta 0:01:01\n",
      "   - -------------------------------------- 8.4/300.9 MB 4.8 MB/s eta 0:01:01\n",
      "   - -------------------------------------- 8.6/300.9 MB 4.8 MB/s eta 0:01:02\n",
      "   - -------------------------------------- 8.8/300.9 MB 4.8 MB/s eta 0:01:02\n",
      "   - -------------------------------------- 9.0/300.9 MB 4.8 MB/s eta 0:01:02\n",
      "   - -------------------------------------- 9.3/300.9 MB 4.8 MB/s eta 0:01:02\n",
      "   - -------------------------------------- 9.5/300.9 MB 4.8 MB/s eta 0:01:02\n",
      "   - -------------------------------------- 9.7/300.9 MB 4.7 MB/s eta 0:01:02\n",
      "   - -------------------------------------- 9.9/300.9 MB 4.7 MB/s eta 0:01:02\n",
      "   - -------------------------------------- 10.2/300.9 MB 4.7 MB/s eta 0:01:02\n",
      "   - -------------------------------------- 10.3/300.9 MB 4.7 MB/s eta 0:01:02\n",
      "   - -------------------------------------- 10.5/300.9 MB 4.7 MB/s eta 0:01:02\n",
      "   - -------------------------------------- 10.8/300.9 MB 4.7 MB/s eta 0:01:02\n",
      "   - -------------------------------------- 11.0/300.9 MB 4.7 MB/s eta 0:01:02\n",
      "   - -------------------------------------- 11.2/300.9 MB 4.7 MB/s eta 0:01:02\n",
      "   - -------------------------------------- 11.4/300.9 MB 4.7 MB/s eta 0:01:02\n",
      "   - -------------------------------------- 11.6/300.9 MB 4.7 MB/s eta 0:01:02\n",
      "   - -------------------------------------- 11.8/300.9 MB 4.7 MB/s eta 0:01:02\n",
      "   - -------------------------------------- 12.0/300.9 MB 4.6 MB/s eta 0:01:03\n",
      "   - -------------------------------------- 12.3/300.9 MB 4.6 MB/s eta 0:01:03\n",
      "   - -------------------------------------- 12.4/300.9 MB 4.6 MB/s eta 0:01:03\n",
      "   - -------------------------------------- 12.6/300.9 MB 4.6 MB/s eta 0:01:03\n",
      "   - -------------------------------------- 12.8/300.9 MB 4.6 MB/s eta 0:01:03\n",
      "   - -------------------------------------- 13.0/300.9 MB 4.6 MB/s eta 0:01:03\n",
      "   - -------------------------------------- 13.2/300.9 MB 4.6 MB/s eta 0:01:03\n",
      "   - -------------------------------------- 13.5/300.9 MB 4.6 MB/s eta 0:01:03\n",
      "   - -------------------------------------- 13.6/300.9 MB 4.5 MB/s eta 0:01:04\n",
      "   - -------------------------------------- 13.8/300.9 MB 4.5 MB/s eta 0:01:04\n",
      "   - -------------------------------------- 14.1/300.9 MB 4.5 MB/s eta 0:01:04\n",
      "   - -------------------------------------- 14.2/300.9 MB 4.5 MB/s eta 0:01:04\n",
      "   - -------------------------------------- 14.3/300.9 MB 4.5 MB/s eta 0:01:04\n",
      "   - -------------------------------------- 14.6/300.9 MB 4.5 MB/s eta 0:01:04\n",
      "   - -------------------------------------- 14.8/300.9 MB 4.5 MB/s eta 0:01:04\n",
      "   - -------------------------------------- 15.0/300.9 MB 4.5 MB/s eta 0:01:04\n",
      "   -- ------------------------------------- 15.2/300.9 MB 4.5 MB/s eta 0:01:05\n",
      "   -- ------------------------------------- 15.4/300.9 MB 4.5 MB/s eta 0:01:04\n",
      "   -- ------------------------------------- 15.6/300.9 MB 4.5 MB/s eta 0:01:05\n",
      "   -- ------------------------------------- 15.8/300.9 MB 4.5 MB/s eta 0:01:05\n",
      "   -- ------------------------------------- 16.0/300.9 MB 4.5 MB/s eta 0:01:04\n",
      "   -- ------------------------------------- 16.3/300.9 MB 4.5 MB/s eta 0:01:04\n",
      "   -- ------------------------------------- 16.4/300.9 MB 4.4 MB/s eta 0:01:05\n",
      "   -- ------------------------------------- 16.7/300.9 MB 4.5 MB/s eta 0:01:04\n",
      "   -- ------------------------------------- 16.9/300.9 MB 4.5 MB/s eta 0:01:04\n",
      "   -- ------------------------------------- 17.1/300.9 MB 4.5 MB/s eta 0:01:04\n",
      "   -- ------------------------------------- 17.3/300.9 MB 4.4 MB/s eta 0:01:05\n",
      "   -- ------------------------------------- 17.5/300.9 MB 4.4 MB/s eta 0:01:05\n",
      "   -- ------------------------------------- 17.8/300.9 MB 4.4 MB/s eta 0:01:05\n",
      "   -- ------------------------------------- 18.0/300.9 MB 4.4 MB/s eta 0:01:04\n",
      "   -- ------------------------------------- 18.2/300.9 MB 4.4 MB/s eta 0:01:04\n",
      "   -- ------------------------------------- 18.4/300.9 MB 4.4 MB/s eta 0:01:04\n",
      "   -- ------------------------------------- 18.6/300.9 MB 4.4 MB/s eta 0:01:04\n",
      "   -- ------------------------------------- 18.8/300.9 MB 4.5 MB/s eta 0:01:04\n",
      "   -- ------------------------------------- 19.0/300.9 MB 4.4 MB/s eta 0:01:04\n",
      "   -- ------------------------------------- 19.3/300.9 MB 4.5 MB/s eta 0:01:04\n",
      "   -- ------------------------------------- 19.5/300.9 MB 4.4 MB/s eta 0:01:04\n",
      "   -- ------------------------------------- 19.7/300.9 MB 4.4 MB/s eta 0:01:04\n",
      "   -- ------------------------------------- 19.9/300.9 MB 4.5 MB/s eta 0:01:03\n",
      "   -- ------------------------------------- 20.1/300.9 MB 4.4 MB/s eta 0:01:04\n",
      "   -- ------------------------------------- 20.3/300.9 MB 4.5 MB/s eta 0:01:04\n",
      "   -- ------------------------------------- 20.6/300.9 MB 4.5 MB/s eta 0:01:03\n",
      "   -- ------------------------------------- 20.8/300.9 MB 4.5 MB/s eta 0:01:03\n",
      "   -- ------------------------------------- 21.0/300.9 MB 4.5 MB/s eta 0:01:03\n",
      "   -- ------------------------------------- 21.2/300.9 MB 4.5 MB/s eta 0:01:03\n",
      "   -- ------------------------------------- 21.4/300.9 MB 4.5 MB/s eta 0:01:03\n",
      "   -- ------------------------------------- 21.7/300.9 MB 4.5 MB/s eta 0:01:03\n",
      "   -- ------------------------------------- 21.9/300.9 MB 4.5 MB/s eta 0:01:03\n",
      "   -- ------------------------------------- 22.1/300.9 MB 4.5 MB/s eta 0:01:03\n",
      "   -- ------------------------------------- 22.3/300.9 MB 4.5 MB/s eta 0:01:03\n",
      "   -- ------------------------------------- 22.5/300.9 MB 4.5 MB/s eta 0:01:03\n",
      "   --- ------------------------------------ 22.7/300.9 MB 4.5 MB/s eta 0:01:02\n",
      "   --- ------------------------------------ 22.9/300.9 MB 4.5 MB/s eta 0:01:02\n",
      "   --- ------------------------------------ 23.2/300.9 MB 4.5 MB/s eta 0:01:02\n",
      "   --- ------------------------------------ 23.4/300.9 MB 4.5 MB/s eta 0:01:02\n",
      "   --- ------------------------------------ 23.7/300.9 MB 4.5 MB/s eta 0:01:02\n",
      "   --- ------------------------------------ 23.8/300.9 MB 4.5 MB/s eta 0:01:02\n",
      "   --- ------------------------------------ 24.1/300.9 MB 4.5 MB/s eta 0:01:02\n",
      "   --- ------------------------------------ 24.3/300.9 MB 4.6 MB/s eta 0:01:01\n",
      "   --- ------------------------------------ 24.5/300.9 MB 4.6 MB/s eta 0:01:01\n",
      "   --- ------------------------------------ 24.7/300.9 MB 4.6 MB/s eta 0:01:00\n",
      "   --- ------------------------------------ 24.9/300.9 MB 4.6 MB/s eta 0:01:01\n",
      "   --- ------------------------------------ 25.2/300.9 MB 4.6 MB/s eta 0:01:00\n",
      "   --- ------------------------------------ 25.4/300.9 MB 4.6 MB/s eta 0:01:00\n",
      "   --- ------------------------------------ 25.6/300.9 MB 4.6 MB/s eta 0:01:00\n",
      "   --- ------------------------------------ 25.8/300.9 MB 4.6 MB/s eta 0:01:00\n",
      "   --- ------------------------------------ 26.0/300.9 MB 4.6 MB/s eta 0:01:00\n",
      "   --- ------------------------------------ 26.2/300.9 MB 4.6 MB/s eta 0:01:01\n",
      "   --- ------------------------------------ 26.5/300.9 MB 4.6 MB/s eta 0:01:00\n",
      "   --- ------------------------------------ 26.7/300.9 MB 4.6 MB/s eta 0:01:00\n",
      "   --- ------------------------------------ 26.9/300.9 MB 4.6 MB/s eta 0:01:00\n",
      "   --- ------------------------------------ 27.1/300.9 MB 4.6 MB/s eta 0:01:00\n",
      "   --- ------------------------------------ 27.4/300.9 MB 4.6 MB/s eta 0:01:00\n",
      "   --- ------------------------------------ 27.5/300.9 MB 4.5 MB/s eta 0:01:01\n",
      "   --- ------------------------------------ 27.8/300.9 MB 4.6 MB/s eta 0:01:00\n",
      "   --- ------------------------------------ 28.0/300.9 MB 4.6 MB/s eta 0:01:00\n",
      "   --- ------------------------------------ 28.2/300.9 MB 4.6 MB/s eta 0:01:00\n",
      "   --- ------------------------------------ 28.4/300.9 MB 4.6 MB/s eta 0:01:00\n",
      "   --- ------------------------------------ 28.6/300.9 MB 4.6 MB/s eta 0:01:00\n",
      "   --- ------------------------------------ 28.8/300.9 MB 4.6 MB/s eta 0:01:00\n",
      "   --- ------------------------------------ 29.1/300.9 MB 4.6 MB/s eta 0:01:00\n",
      "   --- ------------------------------------ 29.2/300.9 MB 4.6 MB/s eta 0:01:00\n",
      "   --- ------------------------------------ 29.4/300.9 MB 4.6 MB/s eta 0:01:00\n",
      "   --- ------------------------------------ 29.7/300.9 MB 4.6 MB/s eta 0:00:59\n",
      "   --- ------------------------------------ 29.9/300.9 MB 4.6 MB/s eta 0:01:00\n",
      "   ---- ----------------------------------- 30.1/300.9 MB 4.6 MB/s eta 0:01:00\n",
      "   ---- ----------------------------------- 30.3/300.9 MB 4.6 MB/s eta 0:01:00\n",
      "   ---- ----------------------------------- 30.5/300.9 MB 4.6 MB/s eta 0:01:00\n",
      "   ---- ----------------------------------- 30.8/300.9 MB 4.6 MB/s eta 0:00:59\n",
      "   ---- ----------------------------------- 30.9/300.9 MB 4.6 MB/s eta 0:00:59\n",
      "   ---- ----------------------------------- 31.2/300.9 MB 4.6 MB/s eta 0:00:59\n",
      "   ---- ----------------------------------- 31.3/300.9 MB 4.6 MB/s eta 0:00:59\n",
      "   ---- ----------------------------------- 31.6/300.9 MB 4.6 MB/s eta 0:00:59\n",
      "   ---- ----------------------------------- 31.8/300.9 MB 4.6 MB/s eta 0:00:59\n",
      "   ---- ----------------------------------- 32.0/300.9 MB 4.6 MB/s eta 0:00:59\n",
      "   ---- ----------------------------------- 32.2/300.9 MB 4.6 MB/s eta 0:00:59\n",
      "   ---- ----------------------------------- 32.4/300.9 MB 4.6 MB/s eta 0:00:58\n",
      "   ---- ----------------------------------- 32.6/300.9 MB 4.6 MB/s eta 0:00:59\n",
      "   ---- ----------------------------------- 32.8/300.9 MB 4.6 MB/s eta 0:00:59\n",
      "   ---- ----------------------------------- 33.0/300.9 MB 4.6 MB/s eta 0:00:59\n",
      "   ---- ----------------------------------- 33.2/300.9 MB 4.6 MB/s eta 0:00:59\n",
      "   ---- ----------------------------------- 33.4/300.9 MB 4.6 MB/s eta 0:00:59\n",
      "   ---- ----------------------------------- 33.7/300.9 MB 4.6 MB/s eta 0:00:58\n",
      "   ---- ----------------------------------- 33.9/300.9 MB 4.6 MB/s eta 0:00:58\n",
      "   ---- ----------------------------------- 34.1/300.9 MB 4.6 MB/s eta 0:00:58\n",
      "   ---- ----------------------------------- 34.3/300.9 MB 4.6 MB/s eta 0:00:58\n",
      "   ---- ----------------------------------- 34.6/300.9 MB 4.6 MB/s eta 0:00:58\n",
      "   ---- ----------------------------------- 34.8/300.9 MB 4.6 MB/s eta 0:00:58\n",
      "   ---- ----------------------------------- 35.0/300.9 MB 4.6 MB/s eta 0:00:58\n",
      "   ---- ----------------------------------- 35.2/300.9 MB 4.6 MB/s eta 0:00:58\n",
      "   ---- ----------------------------------- 35.4/300.9 MB 4.6 MB/s eta 0:00:58\n",
      "   ---- ----------------------------------- 35.7/300.9 MB 4.6 MB/s eta 0:00:58\n",
      "   ---- ----------------------------------- 35.9/300.9 MB 4.6 MB/s eta 0:00:58\n",
      "   ---- ----------------------------------- 36.1/300.9 MB 4.6 MB/s eta 0:00:58\n",
      "   ---- ----------------------------------- 36.4/300.9 MB 4.6 MB/s eta 0:00:57\n",
      "   ---- ----------------------------------- 36.6/300.9 MB 4.6 MB/s eta 0:00:57\n",
      "   ---- ----------------------------------- 36.8/300.9 MB 4.6 MB/s eta 0:00:57\n",
      "   ---- ----------------------------------- 37.0/300.9 MB 4.6 MB/s eta 0:00:57\n",
      "   ---- ----------------------------------- 37.3/300.9 MB 4.6 MB/s eta 0:00:58\n",
      "   ---- ----------------------------------- 37.4/300.9 MB 4.6 MB/s eta 0:00:57\n",
      "   ----- ---------------------------------- 37.7/300.9 MB 4.6 MB/s eta 0:00:58\n",
      "   ----- ---------------------------------- 37.8/300.9 MB 4.6 MB/s eta 0:00:58\n",
      "   ----- ---------------------------------- 38.1/300.9 MB 4.6 MB/s eta 0:00:58\n",
      "   ----- ---------------------------------- 38.2/300.9 MB 4.6 MB/s eta 0:00:57\n",
      "   ----- ---------------------------------- 38.4/300.9 MB 4.6 MB/s eta 0:00:58\n",
      "   ----- ---------------------------------- 38.6/300.9 MB 4.6 MB/s eta 0:00:57\n",
      "   ----- ---------------------------------- 38.8/300.9 MB 4.6 MB/s eta 0:00:58\n",
      "   ----- ---------------------------------- 39.0/300.9 MB 4.6 MB/s eta 0:00:58\n",
      "   ----- ---------------------------------- 39.2/300.9 MB 4.6 MB/s eta 0:00:57\n",
      "   ----- ---------------------------------- 39.5/300.9 MB 4.6 MB/s eta 0:00:57\n",
      "   ----- ---------------------------------- 39.7/300.9 MB 4.6 MB/s eta 0:00:57\n",
      "   ----- ---------------------------------- 39.9/300.9 MB 4.6 MB/s eta 0:00:58\n",
      "   ----- ---------------------------------- 40.1/300.9 MB 4.6 MB/s eta 0:00:57\n",
      "   ----- ---------------------------------- 40.4/300.9 MB 4.6 MB/s eta 0:00:57\n",
      "   ----- ---------------------------------- 40.5/300.9 MB 4.6 MB/s eta 0:00:57\n",
      "   ----- ---------------------------------- 40.8/300.9 MB 4.6 MB/s eta 0:00:57\n",
      "   ----- ---------------------------------- 41.0/300.9 MB 4.6 MB/s eta 0:00:57\n",
      "   ----- ---------------------------------- 41.2/300.9 MB 4.6 MB/s eta 0:00:57\n",
      "   ----- ---------------------------------- 41.4/300.9 MB 4.5 MB/s eta 0:00:58\n",
      "   ----- ---------------------------------- 41.6/300.9 MB 4.6 MB/s eta 0:00:57\n",
      "   ----- ---------------------------------- 41.8/300.9 MB 4.6 MB/s eta 0:00:57\n",
      "   ----- ---------------------------------- 42.1/300.9 MB 4.6 MB/s eta 0:00:57\n",
      "   ----- ---------------------------------- 42.3/300.9 MB 4.6 MB/s eta 0:00:57\n",
      "   ----- ---------------------------------- 42.5/300.9 MB 4.6 MB/s eta 0:00:57\n",
      "   ----- ---------------------------------- 42.7/300.9 MB 4.5 MB/s eta 0:00:57\n",
      "   ----- ---------------------------------- 42.9/300.9 MB 4.6 MB/s eta 0:00:57\n",
      "   ----- ---------------------------------- 43.1/300.9 MB 4.6 MB/s eta 0:00:57\n",
      "   ----- ---------------------------------- 43.3/300.9 MB 4.6 MB/s eta 0:00:56\n",
      "   ----- ---------------------------------- 43.6/300.9 MB 4.6 MB/s eta 0:00:57\n",
      "   ----- ---------------------------------- 43.7/300.9 MB 4.5 MB/s eta 0:00:57\n",
      "   ----- ---------------------------------- 44.0/300.9 MB 4.5 MB/s eta 0:00:57\n",
      "   ----- ---------------------------------- 44.2/300.9 MB 4.6 MB/s eta 0:00:57\n",
      "   ----- ---------------------------------- 44.4/300.9 MB 4.6 MB/s eta 0:00:57\n",
      "   ----- ---------------------------------- 44.7/300.9 MB 4.6 MB/s eta 0:00:56\n",
      "   ----- ---------------------------------- 44.8/300.9 MB 4.5 MB/s eta 0:00:57\n",
      "   ----- ---------------------------------- 45.0/300.9 MB 4.6 MB/s eta 0:00:56\n",
      "   ------ --------------------------------- 45.3/300.9 MB 4.6 MB/s eta 0:00:56\n",
      "   ------ --------------------------------- 45.5/300.9 MB 4.5 MB/s eta 0:00:57\n",
      "   ------ --------------------------------- 45.6/300.9 MB 4.5 MB/s eta 0:00:57\n",
      "   ------ --------------------------------- 45.9/300.9 MB 4.5 MB/s eta 0:00:57\n",
      "   ------ --------------------------------- 46.0/300.9 MB 4.5 MB/s eta 0:00:57\n",
      "   ------ --------------------------------- 46.3/300.9 MB 4.5 MB/s eta 0:00:57\n",
      "   ------ --------------------------------- 46.5/300.9 MB 4.5 MB/s eta 0:00:57\n",
      "   ------ --------------------------------- 46.7/300.9 MB 4.5 MB/s eta 0:00:57\n",
      "   ------ --------------------------------- 46.9/300.9 MB 4.5 MB/s eta 0:00:57\n",
      "   ------ --------------------------------- 47.2/300.9 MB 4.5 MB/s eta 0:00:57\n",
      "   ------ --------------------------------- 47.4/300.9 MB 4.5 MB/s eta 0:00:57\n",
      "   ------ --------------------------------- 47.6/300.9 MB 4.5 MB/s eta 0:00:57\n",
      "   ------ --------------------------------- 47.8/300.9 MB 4.5 MB/s eta 0:00:57\n",
      "   ------ --------------------------------- 48.0/300.9 MB 4.5 MB/s eta 0:00:57\n",
      "   ------ --------------------------------- 48.2/300.9 MB 4.5 MB/s eta 0:00:56\n",
      "   ------ --------------------------------- 48.4/300.9 MB 4.5 MB/s eta 0:00:57\n",
      "   ------ --------------------------------- 48.6/300.9 MB 4.5 MB/s eta 0:00:56\n",
      "   ------ --------------------------------- 48.8/300.9 MB 4.5 MB/s eta 0:00:57\n",
      "   ------ --------------------------------- 49.0/300.9 MB 4.5 MB/s eta 0:00:56\n",
      "   ------ --------------------------------- 49.2/300.9 MB 4.5 MB/s eta 0:00:56\n",
      "   ------ --------------------------------- 49.5/300.9 MB 4.5 MB/s eta 0:00:57\n",
      "   ------ --------------------------------- 49.6/300.9 MB 4.5 MB/s eta 0:00:57\n",
      "   ------ --------------------------------- 49.9/300.9 MB 4.5 MB/s eta 0:00:57\n",
      "   ------ --------------------------------- 50.1/300.9 MB 4.5 MB/s eta 0:00:56\n",
      "   ------ --------------------------------- 50.3/300.9 MB 4.5 MB/s eta 0:00:56\n",
      "   ------ --------------------------------- 50.5/300.9 MB 4.5 MB/s eta 0:00:56\n",
      "   ------ --------------------------------- 50.7/300.9 MB 4.5 MB/s eta 0:00:56\n",
      "   ------ --------------------------------- 50.9/300.9 MB 4.5 MB/s eta 0:00:56\n",
      "   ------ --------------------------------- 51.1/300.9 MB 4.5 MB/s eta 0:00:57\n",
      "   ------ --------------------------------- 51.4/300.9 MB 4.5 MB/s eta 0:00:56\n",
      "   ------ --------------------------------- 51.6/300.9 MB 4.5 MB/s eta 0:00:56\n",
      "   ------ --------------------------------- 51.8/300.9 MB 4.5 MB/s eta 0:00:56\n",
      "   ------ --------------------------------- 52.0/300.9 MB 4.5 MB/s eta 0:00:56\n",
      "   ------ --------------------------------- 52.2/300.9 MB 4.5 MB/s eta 0:00:56\n",
      "   ------ --------------------------------- 52.4/300.9 MB 4.5 MB/s eta 0:00:56\n",
      "   ------ --------------------------------- 52.6/300.9 MB 4.5 MB/s eta 0:00:56\n",
      "   ------- -------------------------------- 52.8/300.9 MB 4.5 MB/s eta 0:00:56\n",
      "   ------- -------------------------------- 53.0/300.9 MB 4.5 MB/s eta 0:00:56\n",
      "   ------- -------------------------------- 53.2/300.9 MB 4.5 MB/s eta 0:00:55\n",
      "   ------- -------------------------------- 53.4/300.9 MB 4.5 MB/s eta 0:00:56\n",
      "   ------- -------------------------------- 53.6/300.9 MB 4.5 MB/s eta 0:00:56\n",
      "   ------- -------------------------------- 53.9/300.9 MB 4.5 MB/s eta 0:00:56\n",
      "   ------- -------------------------------- 54.1/300.9 MB 4.5 MB/s eta 0:00:56\n",
      "   ------- -------------------------------- 54.3/300.9 MB 4.5 MB/s eta 0:00:55\n",
      "   ------- -------------------------------- 54.5/300.9 MB 4.5 MB/s eta 0:00:55\n",
      "   ------- -------------------------------- 54.7/300.9 MB 4.5 MB/s eta 0:00:55\n",
      "   ------- -------------------------------- 55.0/300.9 MB 4.5 MB/s eta 0:00:55\n",
      "   ------- -------------------------------- 55.2/300.9 MB 4.5 MB/s eta 0:00:55\n",
      "   ------- -------------------------------- 55.4/300.9 MB 4.5 MB/s eta 0:00:55\n",
      "   ------- -------------------------------- 55.6/300.9 MB 4.5 MB/s eta 0:00:55\n",
      "   ------- -------------------------------- 55.8/300.9 MB 4.5 MB/s eta 0:00:55\n",
      "   ------- -------------------------------- 56.0/300.9 MB 4.5 MB/s eta 0:00:55\n",
      "   ------- -------------------------------- 56.2/300.9 MB 4.5 MB/s eta 0:00:54\n",
      "   ------- -------------------------------- 56.4/300.9 MB 4.5 MB/s eta 0:00:55\n",
      "   ------- -------------------------------- 56.7/300.9 MB 4.5 MB/s eta 0:00:54\n",
      "   ------- -------------------------------- 56.9/300.9 MB 4.5 MB/s eta 0:00:54\n",
      "   ------- -------------------------------- 57.1/300.9 MB 4.5 MB/s eta 0:00:54\n",
      "   ------- -------------------------------- 57.3/300.9 MB 4.5 MB/s eta 0:00:54\n",
      "   ------- -------------------------------- 57.6/300.9 MB 4.6 MB/s eta 0:00:54\n",
      "   ------- -------------------------------- 57.8/300.9 MB 4.5 MB/s eta 0:00:54\n",
      "   ------- -------------------------------- 58.0/300.9 MB 4.5 MB/s eta 0:00:54\n",
      "   ------- -------------------------------- 58.2/300.9 MB 4.5 MB/s eta 0:00:54\n",
      "   ------- -------------------------------- 58.4/300.9 MB 4.5 MB/s eta 0:00:54\n",
      "   ------- -------------------------------- 58.6/300.9 MB 4.5 MB/s eta 0:00:54\n",
      "   ------- -------------------------------- 58.9/300.9 MB 4.6 MB/s eta 0:00:53\n",
      "   ------- -------------------------------- 59.1/300.9 MB 4.6 MB/s eta 0:00:53\n",
      "   ------- -------------------------------- 59.3/300.9 MB 4.6 MB/s eta 0:00:53\n",
      "   ------- -------------------------------- 59.4/300.9 MB 4.6 MB/s eta 0:00:53\n",
      "   ------- -------------------------------- 59.6/300.9 MB 4.5 MB/s eta 0:00:54\n",
      "   ------- -------------------------------- 59.8/300.9 MB 4.5 MB/s eta 0:00:54\n",
      "   ------- -------------------------------- 60.0/300.9 MB 4.6 MB/s eta 0:00:53\n",
      "   -------- ------------------------------- 60.2/300.9 MB 4.5 MB/s eta 0:00:53\n",
      "   -------- ------------------------------- 60.4/300.9 MB 4.6 MB/s eta 0:00:53\n",
      "   -------- ------------------------------- 60.6/300.9 MB 4.6 MB/s eta 0:00:53\n",
      "   -------- ------------------------------- 60.8/300.9 MB 4.5 MB/s eta 0:00:54\n",
      "   -------- ------------------------------- 61.1/300.9 MB 4.5 MB/s eta 0:00:53\n",
      "   -------- ------------------------------- 61.3/300.9 MB 4.5 MB/s eta 0:00:53\n",
      "   -------- ------------------------------- 61.5/300.9 MB 4.6 MB/s eta 0:00:53\n",
      "   -------- ------------------------------- 61.7/300.9 MB 4.5 MB/s eta 0:00:53\n",
      "   -------- ------------------------------- 61.9/300.9 MB 4.5 MB/s eta 0:00:53\n",
      "   -------- ------------------------------- 62.1/300.9 MB 4.5 MB/s eta 0:00:53\n",
      "   -------- ------------------------------- 62.3/300.9 MB 4.5 MB/s eta 0:00:53\n",
      "   -------- ------------------------------- 62.5/300.9 MB 4.5 MB/s eta 0:00:53\n",
      "   -------- ------------------------------- 62.8/300.9 MB 4.5 MB/s eta 0:00:53\n",
      "   -------- ------------------------------- 63.0/300.9 MB 4.5 MB/s eta 0:00:53\n",
      "   -------- ------------------------------- 63.2/300.9 MB 4.5 MB/s eta 0:00:53\n",
      "   -------- ------------------------------- 63.4/300.9 MB 4.5 MB/s eta 0:00:53\n",
      "   -------- ------------------------------- 63.6/300.9 MB 4.5 MB/s eta 0:00:53\n",
      "   -------- ------------------------------- 63.8/300.9 MB 4.5 MB/s eta 0:00:53\n",
      "   -------- ------------------------------- 64.1/300.9 MB 4.5 MB/s eta 0:00:53\n",
      "   -------- ------------------------------- 64.3/300.9 MB 4.5 MB/s eta 0:00:53\n",
      "   -------- ------------------------------- 64.5/300.9 MB 4.5 MB/s eta 0:00:53\n",
      "   -------- ------------------------------- 64.7/300.9 MB 4.5 MB/s eta 0:00:53\n",
      "   -------- ------------------------------- 64.9/300.9 MB 4.5 MB/s eta 0:00:52\n",
      "   -------- ------------------------------- 65.2/300.9 MB 4.5 MB/s eta 0:00:53\n",
      "   -------- ------------------------------- 65.4/300.9 MB 4.5 MB/s eta 0:00:53\n",
      "   -------- ------------------------------- 65.6/300.9 MB 4.5 MB/s eta 0:00:52\n",
      "   -------- ------------------------------- 65.7/300.9 MB 4.5 MB/s eta 0:00:53\n",
      "   -------- ------------------------------- 65.8/300.9 MB 4.4 MB/s eta 0:00:54\n",
      "   -------- ------------------------------- 66.1/300.9 MB 4.5 MB/s eta 0:00:52\n",
      "   -------- ------------------------------- 66.3/300.9 MB 4.5 MB/s eta 0:00:53\n",
      "   -------- ------------------------------- 66.5/300.9 MB 4.5 MB/s eta 0:00:53\n",
      "   -------- ------------------------------- 66.7/300.9 MB 4.5 MB/s eta 0:00:53\n",
      "   -------- ------------------------------- 67.0/300.9 MB 4.5 MB/s eta 0:00:53\n",
      "   -------- ------------------------------- 67.1/300.9 MB 4.5 MB/s eta 0:00:53\n",
      "   -------- ------------------------------- 67.4/300.9 MB 4.5 MB/s eta 0:00:53\n",
      "   -------- ------------------------------- 67.6/300.9 MB 4.5 MB/s eta 0:00:53\n",
      "   --------- ------------------------------ 67.8/300.9 MB 4.4 MB/s eta 0:00:53\n",
      "   --------- ------------------------------ 68.0/300.9 MB 4.5 MB/s eta 0:00:53\n",
      "   --------- ------------------------------ 68.2/300.9 MB 4.5 MB/s eta 0:00:53\n",
      "   --------- ------------------------------ 68.4/300.9 MB 4.5 MB/s eta 0:00:52\n",
      "   --------- ------------------------------ 68.6/300.9 MB 4.5 MB/s eta 0:00:53\n",
      "   --------- ------------------------------ 68.8/300.9 MB 4.5 MB/s eta 0:00:53\n",
      "   --------- ------------------------------ 68.9/300.9 MB 4.4 MB/s eta 0:00:53\n",
      "   --------- ------------------------------ 69.2/300.9 MB 4.4 MB/s eta 0:00:53\n",
      "   --------- ------------------------------ 69.4/300.9 MB 4.4 MB/s eta 0:00:53\n",
      "   --------- ------------------------------ 69.6/300.9 MB 4.5 MB/s eta 0:00:52\n",
      "   --------- ------------------------------ 69.8/300.9 MB 4.4 MB/s eta 0:00:53\n",
      "   --------- ------------------------------ 70.0/300.9 MB 4.5 MB/s eta 0:00:52\n",
      "   --------- ------------------------------ 70.2/300.9 MB 4.5 MB/s eta 0:00:52\n",
      "   --------- ------------------------------ 70.4/300.9 MB 4.4 MB/s eta 0:00:53\n",
      "   --------- ------------------------------ 70.6/300.9 MB 4.5 MB/s eta 0:00:52\n",
      "   --------- ------------------------------ 70.8/300.9 MB 4.4 MB/s eta 0:00:53\n",
      "   --------- ------------------------------ 71.0/300.9 MB 4.4 MB/s eta 0:00:52\n",
      "   --------- ------------------------------ 71.2/300.9 MB 4.5 MB/s eta 0:00:52\n",
      "   --------- ------------------------------ 71.4/300.9 MB 4.4 MB/s eta 0:00:52\n",
      "   --------- ------------------------------ 71.7/300.9 MB 4.5 MB/s eta 0:00:52\n",
      "   --------- ------------------------------ 71.8/300.9 MB 4.5 MB/s eta 0:00:52\n",
      "   --------- ------------------------------ 72.1/300.9 MB 4.5 MB/s eta 0:00:52\n",
      "   --------- ------------------------------ 72.3/300.9 MB 4.5 MB/s eta 0:00:52\n",
      "   --------- ------------------------------ 72.5/300.9 MB 4.5 MB/s eta 0:00:52\n",
      "   --------- ------------------------------ 72.7/300.9 MB 4.5 MB/s eta 0:00:52\n",
      "   --------- ------------------------------ 72.9/300.9 MB 4.5 MB/s eta 0:00:52\n",
      "   --------- ------------------------------ 73.1/300.9 MB 4.4 MB/s eta 0:00:52\n",
      "   --------- ------------------------------ 73.4/300.9 MB 4.5 MB/s eta 0:00:52\n",
      "   --------- ------------------------------ 73.6/300.9 MB 4.5 MB/s eta 0:00:51\n",
      "   --------- ------------------------------ 73.8/300.9 MB 4.5 MB/s eta 0:00:51\n",
      "   --------- ------------------------------ 74.1/300.9 MB 4.5 MB/s eta 0:00:51\n",
      "   --------- ------------------------------ 74.2/300.9 MB 4.5 MB/s eta 0:00:51\n",
      "   --------- ------------------------------ 74.5/300.9 MB 4.5 MB/s eta 0:00:51\n",
      "   --------- ------------------------------ 74.6/300.9 MB 4.4 MB/s eta 0:00:52\n",
      "   --------- ------------------------------ 74.9/300.9 MB 4.5 MB/s eta 0:00:51\n",
      "   --------- ------------------------------ 75.1/300.9 MB 4.5 MB/s eta 0:00:51\n",
      "   ---------- ----------------------------- 75.4/300.9 MB 4.5 MB/s eta 0:00:51\n",
      "   ---------- ----------------------------- 75.6/300.9 MB 4.5 MB/s eta 0:00:51\n",
      "   ---------- ----------------------------- 75.8/300.9 MB 4.5 MB/s eta 0:00:51\n",
      "   ---------- ----------------------------- 76.0/300.9 MB 4.5 MB/s eta 0:00:51\n",
      "   ---------- ----------------------------- 76.2/300.9 MB 4.5 MB/s eta 0:00:51\n",
      "   ---------- ----------------------------- 76.4/300.9 MB 4.5 MB/s eta 0:00:51\n",
      "   ---------- ----------------------------- 76.6/300.9 MB 4.5 MB/s eta 0:00:50\n",
      "   ---------- ----------------------------- 76.8/300.9 MB 4.5 MB/s eta 0:00:50\n",
      "   ---------- ----------------------------- 77.0/300.9 MB 4.5 MB/s eta 0:00:50\n",
      "   ---------- ----------------------------- 77.2/300.9 MB 4.5 MB/s eta 0:00:50\n",
      "   ---------- ----------------------------- 77.4/300.9 MB 4.5 MB/s eta 0:00:50\n",
      "   ---------- ----------------------------- 77.6/300.9 MB 4.5 MB/s eta 0:00:50\n",
      "   ---------- ----------------------------- 77.8/300.9 MB 4.5 MB/s eta 0:00:50\n",
      "   ---------- ----------------------------- 78.1/300.9 MB 4.5 MB/s eta 0:00:50\n",
      "   ---------- ----------------------------- 78.3/300.9 MB 4.5 MB/s eta 0:00:50\n",
      "   ---------- ----------------------------- 78.5/300.9 MB 4.5 MB/s eta 0:00:50\n",
      "   ---------- ----------------------------- 78.7/300.9 MB 4.5 MB/s eta 0:00:49\n",
      "   ---------- ----------------------------- 78.9/300.9 MB 4.5 MB/s eta 0:00:49\n",
      "   ---------- ----------------------------- 79.1/300.9 MB 4.6 MB/s eta 0:00:49\n",
      "   ---------- ----------------------------- 79.3/300.9 MB 4.5 MB/s eta 0:00:49\n",
      "   ---------- ----------------------------- 79.5/300.9 MB 4.5 MB/s eta 0:00:49\n",
      "   ---------- ----------------------------- 79.8/300.9 MB 4.5 MB/s eta 0:00:49\n",
      "   ---------- ----------------------------- 80.0/300.9 MB 4.6 MB/s eta 0:00:49\n",
      "   ---------- ----------------------------- 80.2/300.9 MB 4.5 MB/s eta 0:00:49\n",
      "   ---------- ----------------------------- 80.4/300.9 MB 4.5 MB/s eta 0:00:49\n",
      "   ---------- ----------------------------- 80.6/300.9 MB 4.5 MB/s eta 0:00:49\n",
      "   ---------- ----------------------------- 80.8/300.9 MB 4.5 MB/s eta 0:00:49\n",
      "   ---------- ----------------------------- 81.1/300.9 MB 4.6 MB/s eta 0:00:49\n",
      "   ---------- ----------------------------- 81.3/300.9 MB 4.6 MB/s eta 0:00:48\n",
      "   ---------- ----------------------------- 81.5/300.9 MB 4.6 MB/s eta 0:00:48\n",
      "   ---------- ----------------------------- 81.7/300.9 MB 4.6 MB/s eta 0:00:48\n",
      "   ---------- ----------------------------- 81.9/300.9 MB 4.6 MB/s eta 0:00:48\n",
      "   ---------- ----------------------------- 82.1/300.9 MB 4.6 MB/s eta 0:00:48\n",
      "   ---------- ----------------------------- 82.4/300.9 MB 4.6 MB/s eta 0:00:48\n",
      "   ---------- ----------------------------- 82.6/300.9 MB 4.6 MB/s eta 0:00:48\n",
      "   ----------- ---------------------------- 82.8/300.9 MB 4.6 MB/s eta 0:00:48\n",
      "   ----------- ---------------------------- 83.0/300.9 MB 4.6 MB/s eta 0:00:48\n",
      "   ----------- ---------------------------- 83.2/300.9 MB 4.6 MB/s eta 0:00:48\n",
      "   ----------- ---------------------------- 83.5/300.9 MB 4.6 MB/s eta 0:00:48\n",
      "   ----------- ---------------------------- 83.7/300.9 MB 4.6 MB/s eta 0:00:48\n",
      "   ----------- ---------------------------- 83.9/300.9 MB 4.6 MB/s eta 0:00:48\n",
      "   ----------- ---------------------------- 84.1/300.9 MB 4.6 MB/s eta 0:00:48\n",
      "   ----------- ---------------------------- 84.4/300.9 MB 4.6 MB/s eta 0:00:47\n",
      "   ----------- ---------------------------- 84.6/300.9 MB 4.6 MB/s eta 0:00:48\n",
      "   ----------- ---------------------------- 84.8/300.9 MB 4.6 MB/s eta 0:00:47\n",
      "   ----------- ---------------------------- 85.0/300.9 MB 4.5 MB/s eta 0:00:48\n",
      "   ----------- ---------------------------- 85.2/300.9 MB 4.6 MB/s eta 0:00:47\n",
      "   ----------- ---------------------------- 85.4/300.9 MB 4.6 MB/s eta 0:00:48\n",
      "   ----------- ---------------------------- 85.6/300.9 MB 4.6 MB/s eta 0:00:48\n",
      "   ----------- ---------------------------- 85.9/300.9 MB 4.6 MB/s eta 0:00:47\n",
      "   ----------- ---------------------------- 86.1/300.9 MB 4.6 MB/s eta 0:00:47\n",
      "   ----------- ---------------------------- 86.3/300.9 MB 4.6 MB/s eta 0:00:47\n",
      "   ----------- ---------------------------- 86.5/300.9 MB 4.6 MB/s eta 0:00:47\n",
      "   ----------- ---------------------------- 86.7/300.9 MB 4.6 MB/s eta 0:00:47\n",
      "   ----------- ---------------------------- 86.9/300.9 MB 4.6 MB/s eta 0:00:47\n",
      "   ----------- ---------------------------- 87.1/300.9 MB 4.6 MB/s eta 0:00:47\n",
      "   ----------- ---------------------------- 87.3/300.9 MB 4.6 MB/s eta 0:00:47\n",
      "   ----------- ---------------------------- 87.5/300.9 MB 4.6 MB/s eta 0:00:47\n",
      "   ----------- ---------------------------- 87.7/300.9 MB 4.6 MB/s eta 0:00:47\n",
      "   ----------- ---------------------------- 87.9/300.9 MB 4.6 MB/s eta 0:00:47\n",
      "   ----------- ---------------------------- 88.1/300.9 MB 4.6 MB/s eta 0:00:47\n",
      "   ----------- ---------------------------- 88.4/300.9 MB 4.6 MB/s eta 0:00:47\n",
      "   ----------- ---------------------------- 88.5/300.9 MB 4.6 MB/s eta 0:00:47\n",
      "   ----------- ---------------------------- 88.7/300.9 MB 4.6 MB/s eta 0:00:47\n",
      "   ----------- ---------------------------- 89.0/300.9 MB 4.6 MB/s eta 0:00:46\n",
      "   ----------- ---------------------------- 89.2/300.9 MB 4.6 MB/s eta 0:00:47\n",
      "   ----------- ---------------------------- 89.4/300.9 MB 4.6 MB/s eta 0:00:46\n",
      "   ----------- ---------------------------- 89.7/300.9 MB 4.6 MB/s eta 0:00:46\n",
      "   ----------- ---------------------------- 89.8/300.9 MB 4.6 MB/s eta 0:00:46\n",
      "   ----------- ---------------------------- 90.1/300.9 MB 4.6 MB/s eta 0:00:46\n",
      "   ----------- ---------------------------- 90.3/300.9 MB 4.6 MB/s eta 0:00:46\n",
      "   ------------ --------------------------- 90.5/300.9 MB 4.6 MB/s eta 0:00:46\n",
      "   ------------ --------------------------- 90.7/300.9 MB 4.6 MB/s eta 0:00:46\n",
      "   ------------ --------------------------- 90.9/300.9 MB 4.6 MB/s eta 0:00:46\n",
      "   ------------ --------------------------- 91.1/300.9 MB 4.6 MB/s eta 0:00:46\n",
      "   ------------ --------------------------- 91.4/300.9 MB 4.6 MB/s eta 0:00:46\n",
      "   ------------ --------------------------- 91.6/300.9 MB 4.6 MB/s eta 0:00:46\n",
      "   ------------ --------------------------- 91.8/300.9 MB 4.6 MB/s eta 0:00:46\n",
      "   ------------ --------------------------- 92.0/300.9 MB 4.6 MB/s eta 0:00:46\n",
      "   ------------ --------------------------- 92.3/300.9 MB 4.6 MB/s eta 0:00:45\n",
      "   ------------ --------------------------- 92.4/300.9 MB 4.6 MB/s eta 0:00:45\n",
      "   ------------ --------------------------- 92.7/300.9 MB 4.6 MB/s eta 0:00:46\n",
      "   ------------ --------------------------- 92.9/300.9 MB 4.6 MB/s eta 0:00:46\n",
      "   ------------ --------------------------- 93.1/300.9 MB 4.6 MB/s eta 0:00:45\n",
      "   ------------ --------------------------- 93.3/300.9 MB 4.6 MB/s eta 0:00:45\n",
      "   ------------ --------------------------- 93.5/300.9 MB 4.6 MB/s eta 0:00:45\n",
      "   ------------ --------------------------- 93.7/300.9 MB 4.6 MB/s eta 0:00:45\n",
      "   ------------ --------------------------- 94.0/300.9 MB 4.7 MB/s eta 0:00:45\n",
      "   ------------ --------------------------- 94.2/300.9 MB 4.6 MB/s eta 0:00:45\n",
      "   ------------ --------------------------- 94.4/300.9 MB 4.6 MB/s eta 0:00:45\n",
      "   ------------ --------------------------- 94.7/300.9 MB 4.6 MB/s eta 0:00:45\n",
      "   ------------ --------------------------- 94.9/300.9 MB 4.7 MB/s eta 0:00:45\n",
      "   ------------ --------------------------- 95.1/300.9 MB 4.6 MB/s eta 0:00:45\n",
      "   ------------ --------------------------- 95.3/300.9 MB 4.6 MB/s eta 0:00:45\n",
      "   ------------ --------------------------- 95.5/300.9 MB 4.6 MB/s eta 0:00:45\n",
      "   ------------ --------------------------- 95.8/300.9 MB 4.6 MB/s eta 0:00:45\n",
      "   ------------ --------------------------- 96.0/300.9 MB 4.6 MB/s eta 0:00:45\n",
      "   ------------ --------------------------- 96.2/300.9 MB 4.7 MB/s eta 0:00:44\n",
      "   ------------ --------------------------- 96.4/300.9 MB 4.6 MB/s eta 0:00:45\n",
      "   ------------ --------------------------- 96.6/300.9 MB 4.6 MB/s eta 0:00:45\n",
      "   ------------ --------------------------- 96.8/300.9 MB 4.6 MB/s eta 0:00:44\n",
      "   ------------ --------------------------- 97.1/300.9 MB 4.7 MB/s eta 0:00:44\n",
      "   ------------ --------------------------- 97.2/300.9 MB 4.6 MB/s eta 0:00:44\n",
      "   ------------ --------------------------- 97.5/300.9 MB 4.6 MB/s eta 0:00:44\n",
      "   ------------ --------------------------- 97.7/300.9 MB 4.6 MB/s eta 0:00:44\n",
      "   ------------- -------------------------- 97.9/300.9 MB 4.6 MB/s eta 0:00:45\n",
      "   ------------- -------------------------- 98.1/300.9 MB 4.7 MB/s eta 0:00:44\n",
      "   ------------- -------------------------- 98.3/300.9 MB 4.6 MB/s eta 0:00:44\n",
      "   ------------- -------------------------- 98.5/300.9 MB 4.7 MB/s eta 0:00:44\n",
      "   ------------- -------------------------- 98.7/300.9 MB 4.6 MB/s eta 0:00:44\n",
      "   ------------- -------------------------- 98.9/300.9 MB 4.6 MB/s eta 0:00:44\n",
      "   ------------- -------------------------- 99.2/300.9 MB 4.6 MB/s eta 0:00:44\n",
      "   ------------- -------------------------- 99.3/300.9 MB 4.6 MB/s eta 0:00:44\n",
      "   ------------- -------------------------- 99.6/300.9 MB 4.6 MB/s eta 0:00:44\n",
      "   ------------- -------------------------- 99.7/300.9 MB 4.6 MB/s eta 0:00:44\n",
      "   ------------- -------------------------- 99.9/300.9 MB 4.6 MB/s eta 0:00:44\n",
      "   ------------- -------------------------- 100.1/300.9 MB 4.6 MB/s eta 0:00:44\n",
      "   ------------- -------------------------- 100.3/300.9 MB 4.6 MB/s eta 0:00:44\n",
      "   ------------- -------------------------- 100.6/300.9 MB 4.6 MB/s eta 0:00:44\n",
      "   ------------- -------------------------- 100.8/300.9 MB 4.6 MB/s eta 0:00:44\n",
      "   ------------- -------------------------- 101.0/300.9 MB 4.6 MB/s eta 0:00:44\n",
      "   ------------- -------------------------- 101.2/300.9 MB 4.6 MB/s eta 0:00:44\n",
      "   ------------- -------------------------- 101.4/300.9 MB 4.6 MB/s eta 0:00:44\n",
      "   ------------- -------------------------- 101.6/300.9 MB 4.6 MB/s eta 0:00:44\n",
      "   ------------- -------------------------- 101.8/300.9 MB 4.6 MB/s eta 0:00:43\n",
      "   ------------- -------------------------- 102.0/300.9 MB 4.6 MB/s eta 0:00:44\n",
      "   ------------- -------------------------- 102.3/300.9 MB 4.6 MB/s eta 0:00:44\n",
      "   ------------- -------------------------- 102.5/300.9 MB 4.6 MB/s eta 0:00:43\n",
      "   ------------- -------------------------- 102.7/300.9 MB 4.6 MB/s eta 0:00:43\n",
      "   ------------- -------------------------- 102.9/300.9 MB 4.6 MB/s eta 0:00:43\n",
      "   ------------- -------------------------- 103.1/300.9 MB 4.6 MB/s eta 0:00:43\n",
      "   ------------- -------------------------- 103.4/300.9 MB 4.6 MB/s eta 0:00:43\n",
      "   ------------- -------------------------- 103.6/300.9 MB 4.6 MB/s eta 0:00:43\n",
      "   ------------- -------------------------- 103.8/300.9 MB 4.6 MB/s eta 0:00:43\n",
      "   ------------- -------------------------- 104.0/300.9 MB 4.6 MB/s eta 0:00:43\n",
      "   ------------- -------------------------- 104.3/300.9 MB 4.6 MB/s eta 0:00:43\n",
      "   ------------- -------------------------- 104.5/300.9 MB 4.6 MB/s eta 0:00:43\n",
      "   ------------- -------------------------- 104.7/300.9 MB 4.6 MB/s eta 0:00:43\n",
      "   ------------- -------------------------- 104.9/300.9 MB 4.6 MB/s eta 0:00:43\n",
      "   ------------- -------------------------- 105.1/300.9 MB 4.6 MB/s eta 0:00:43\n",
      "   -------------- ------------------------- 105.3/300.9 MB 4.6 MB/s eta 0:00:43\n",
      "   -------------- ------------------------- 105.6/300.9 MB 4.6 MB/s eta 0:00:43\n",
      "   -------------- ------------------------- 105.8/300.9 MB 4.6 MB/s eta 0:00:43\n",
      "   -------------- ------------------------- 106.0/300.9 MB 4.6 MB/s eta 0:00:43\n",
      "   -------------- ------------------------- 106.2/300.9 MB 4.6 MB/s eta 0:00:43\n",
      "   -------------- ------------------------- 106.4/300.9 MB 4.6 MB/s eta 0:00:43\n",
      "   -------------- ------------------------- 106.6/300.9 MB 4.6 MB/s eta 0:00:43\n",
      "   -------------- ------------------------- 106.9/300.9 MB 4.6 MB/s eta 0:00:42\n",
      "   -------------- ------------------------- 107.1/300.9 MB 4.6 MB/s eta 0:00:43\n",
      "   -------------- ------------------------- 107.3/300.9 MB 4.6 MB/s eta 0:00:43\n",
      "   -------------- ------------------------- 107.5/300.9 MB 4.6 MB/s eta 0:00:42\n",
      "   -------------- ------------------------- 107.7/300.9 MB 4.6 MB/s eta 0:00:42\n",
      "   -------------- ------------------------- 107.9/300.9 MB 4.6 MB/s eta 0:00:43\n",
      "   -------------- ------------------------- 108.2/300.9 MB 4.6 MB/s eta 0:00:42\n",
      "   -------------- ------------------------- 108.4/300.9 MB 4.6 MB/s eta 0:00:43\n",
      "   -------------- ------------------------- 108.6/300.9 MB 4.6 MB/s eta 0:00:42\n",
      "   -------------- ------------------------- 108.8/300.9 MB 4.6 MB/s eta 0:00:42\n",
      "   -------------- ------------------------- 109.0/300.9 MB 4.6 MB/s eta 0:00:42\n",
      "   -------------- ------------------------- 109.2/300.9 MB 4.6 MB/s eta 0:00:42\n",
      "   -------------- ------------------------- 109.5/300.9 MB 4.6 MB/s eta 0:00:42\n",
      "   -------------- ------------------------- 109.7/300.9 MB 4.6 MB/s eta 0:00:42\n",
      "   -------------- ------------------------- 109.9/300.9 MB 4.6 MB/s eta 0:00:42\n",
      "   -------------- ------------------------- 110.1/300.9 MB 4.6 MB/s eta 0:00:42\n",
      "   -------------- ------------------------- 110.3/300.9 MB 4.6 MB/s eta 0:00:42\n",
      "   -------------- ------------------------- 110.6/300.9 MB 4.6 MB/s eta 0:00:42\n",
      "   -------------- ------------------------- 110.8/300.9 MB 4.6 MB/s eta 0:00:42\n",
      "   -------------- ------------------------- 111.0/300.9 MB 4.6 MB/s eta 0:00:42\n",
      "   -------------- ------------------------- 111.2/300.9 MB 4.6 MB/s eta 0:00:42\n",
      "   -------------- ------------------------- 111.4/300.9 MB 4.6 MB/s eta 0:00:41\n",
      "   -------------- ------------------------- 111.7/300.9 MB 4.6 MB/s eta 0:00:42\n",
      "   -------------- ------------------------- 111.9/300.9 MB 4.6 MB/s eta 0:00:41\n",
      "   -------------- ------------------------- 112.1/300.9 MB 4.6 MB/s eta 0:00:42\n",
      "   -------------- ------------------------- 112.3/300.9 MB 4.6 MB/s eta 0:00:41\n",
      "   -------------- ------------------------- 112.6/300.9 MB 4.6 MB/s eta 0:00:41\n",
      "   -------------- ------------------------- 112.8/300.9 MB 4.6 MB/s eta 0:00:42\n",
      "   --------------- ------------------------ 113.0/300.9 MB 4.6 MB/s eta 0:00:42\n",
      "   --------------- ------------------------ 113.2/300.9 MB 4.6 MB/s eta 0:00:42\n",
      "   --------------- ------------------------ 113.5/300.9 MB 4.6 MB/s eta 0:00:41\n",
      "   --------------- ------------------------ 113.7/300.9 MB 4.6 MB/s eta 0:00:41\n",
      "   --------------- ------------------------ 113.9/300.9 MB 4.6 MB/s eta 0:00:41\n",
      "   --------------- ------------------------ 114.1/300.9 MB 4.6 MB/s eta 0:00:41\n",
      "   --------------- ------------------------ 114.3/300.9 MB 4.6 MB/s eta 0:00:41\n",
      "   --------------- ------------------------ 114.5/300.9 MB 4.6 MB/s eta 0:00:41\n",
      "   --------------- ------------------------ 114.8/300.9 MB 4.6 MB/s eta 0:00:41\n",
      "   --------------- ------------------------ 115.0/300.9 MB 4.6 MB/s eta 0:00:41\n",
      "   --------------- ------------------------ 115.2/300.9 MB 4.6 MB/s eta 0:00:41\n",
      "   --------------- ------------------------ 115.4/300.9 MB 4.6 MB/s eta 0:00:41\n",
      "   --------------- ------------------------ 115.6/300.9 MB 4.6 MB/s eta 0:00:41\n",
      "   --------------- ------------------------ 115.8/300.9 MB 4.6 MB/s eta 0:00:41\n",
      "   --------------- ------------------------ 116.0/300.9 MB 4.6 MB/s eta 0:00:41\n",
      "   --------------- ------------------------ 116.3/300.9 MB 4.6 MB/s eta 0:00:41\n",
      "   --------------- ------------------------ 116.5/300.9 MB 4.6 MB/s eta 0:00:41\n",
      "   --------------- ------------------------ 116.7/300.9 MB 4.6 MB/s eta 0:00:40\n",
      "   --------------- ------------------------ 117.0/300.9 MB 4.6 MB/s eta 0:00:40\n",
      "   --------------- ------------------------ 117.1/300.9 MB 4.6 MB/s eta 0:00:40\n",
      "   --------------- ------------------------ 117.4/300.9 MB 4.6 MB/s eta 0:00:40\n",
      "   --------------- ------------------------ 117.6/300.9 MB 4.6 MB/s eta 0:00:41\n",
      "   --------------- ------------------------ 117.8/300.9 MB 4.6 MB/s eta 0:00:40\n",
      "   --------------- ------------------------ 118.0/300.9 MB 4.6 MB/s eta 0:00:40\n",
      "   --------------- ------------------------ 118.2/300.9 MB 4.6 MB/s eta 0:00:40\n",
      "   --------------- ------------------------ 118.4/300.9 MB 4.6 MB/s eta 0:00:40\n",
      "   --------------- ------------------------ 118.6/300.9 MB 4.6 MB/s eta 0:00:40\n",
      "   --------------- ------------------------ 118.7/300.9 MB 4.5 MB/s eta 0:00:41\n",
      "   --------------- ------------------------ 119.0/300.9 MB 4.5 MB/s eta 0:00:41\n",
      "   --------------- ------------------------ 119.2/300.9 MB 4.5 MB/s eta 0:00:40\n",
      "   --------------- ------------------------ 119.4/300.9 MB 4.6 MB/s eta 0:00:40\n",
      "   --------------- ------------------------ 119.6/300.9 MB 4.6 MB/s eta 0:00:40\n",
      "   --------------- ------------------------ 119.9/300.9 MB 4.6 MB/s eta 0:00:40\n",
      "   --------------- ------------------------ 120.1/300.9 MB 4.6 MB/s eta 0:00:40\n",
      "   --------------- ------------------------ 120.3/300.9 MB 4.6 MB/s eta 0:00:40\n",
      "   ---------------- ----------------------- 120.6/300.9 MB 4.6 MB/s eta 0:00:40\n",
      "   ---------------- ----------------------- 120.8/300.9 MB 4.6 MB/s eta 0:00:40\n",
      "   ---------------- ----------------------- 121.1/300.9 MB 4.6 MB/s eta 0:00:40\n",
      "   ---------------- ----------------------- 121.3/300.9 MB 4.6 MB/s eta 0:00:40\n",
      "   ---------------- ----------------------- 121.5/300.9 MB 4.6 MB/s eta 0:00:39\n",
      "   ---------------- ----------------------- 121.7/300.9 MB 4.6 MB/s eta 0:00:39\n",
      "   ---------------- ----------------------- 122.0/300.9 MB 4.6 MB/s eta 0:00:39\n",
      "   ---------------- ----------------------- 122.2/300.9 MB 4.6 MB/s eta 0:00:39\n",
      "   ---------------- ----------------------- 122.4/300.9 MB 4.6 MB/s eta 0:00:39\n",
      "   ---------------- ----------------------- 122.7/300.9 MB 4.6 MB/s eta 0:00:39\n",
      "   ---------------- ----------------------- 122.9/300.9 MB 4.6 MB/s eta 0:00:39\n",
      "   ---------------- ----------------------- 123.1/300.9 MB 4.6 MB/s eta 0:00:39\n",
      "   ---------------- ----------------------- 123.3/300.9 MB 4.6 MB/s eta 0:00:39\n",
      "   ---------------- ----------------------- 123.6/300.9 MB 4.7 MB/s eta 0:00:38\n",
      "   ---------------- ----------------------- 123.8/300.9 MB 4.6 MB/s eta 0:00:39\n",
      "   ---------------- ----------------------- 124.0/300.9 MB 4.6 MB/s eta 0:00:39\n",
      "   ---------------- ----------------------- 124.3/300.9 MB 4.7 MB/s eta 0:00:38\n",
      "   ---------------- ----------------------- 124.5/300.9 MB 4.7 MB/s eta 0:00:38\n",
      "   ---------------- ----------------------- 124.7/300.9 MB 4.6 MB/s eta 0:00:38\n",
      "   ---------------- ----------------------- 125.0/300.9 MB 4.7 MB/s eta 0:00:38\n",
      "   ---------------- ----------------------- 125.2/300.9 MB 4.7 MB/s eta 0:00:38\n",
      "   ---------------- ----------------------- 125.4/300.9 MB 4.7 MB/s eta 0:00:38\n",
      "   ---------------- ----------------------- 125.5/300.9 MB 4.6 MB/s eta 0:00:38\n",
      "   ---------------- ----------------------- 125.7/300.9 MB 4.6 MB/s eta 0:00:38\n",
      "   ---------------- ----------------------- 126.0/300.9 MB 4.6 MB/s eta 0:00:38\n",
      "   ---------------- ----------------------- 126.2/300.9 MB 4.6 MB/s eta 0:00:38\n",
      "   ---------------- ----------------------- 126.4/300.9 MB 4.6 MB/s eta 0:00:38\n",
      "   ---------------- ----------------------- 126.6/300.9 MB 4.6 MB/s eta 0:00:38\n",
      "   ---------------- ----------------------- 126.9/300.9 MB 4.7 MB/s eta 0:00:38\n",
      "   ---------------- ----------------------- 127.1/300.9 MB 4.7 MB/s eta 0:00:38\n",
      "   ---------------- ----------------------- 127.3/300.9 MB 4.7 MB/s eta 0:00:38\n",
      "   ---------------- ----------------------- 127.6/300.9 MB 4.7 MB/s eta 0:00:38\n",
      "   ---------------- ----------------------- 127.8/300.9 MB 4.7 MB/s eta 0:00:37\n",
      "   ----------------- ---------------------- 128.0/300.9 MB 4.7 MB/s eta 0:00:37\n",
      "   ----------------- ---------------------- 128.3/300.9 MB 4.6 MB/s eta 0:00:38\n",
      "   ----------------- ---------------------- 128.5/300.9 MB 4.7 MB/s eta 0:00:37\n",
      "   ----------------- ---------------------- 128.7/300.9 MB 4.8 MB/s eta 0:00:36\n",
      "   ----------------- ---------------------- 129.0/300.9 MB 4.8 MB/s eta 0:00:36\n",
      "   ----------------- ---------------------- 129.2/300.9 MB 4.8 MB/s eta 0:00:36\n",
      "   ----------------- ---------------------- 129.4/300.9 MB 4.8 MB/s eta 0:00:36\n",
      "   ----------------- ---------------------- 129.6/300.9 MB 4.8 MB/s eta 0:00:36\n",
      "   ----------------- ---------------------- 129.9/300.9 MB 4.8 MB/s eta 0:00:36\n",
      "   ----------------- ---------------------- 130.1/300.9 MB 4.8 MB/s eta 0:00:36\n",
      "   ----------------- ---------------------- 130.3/300.9 MB 4.8 MB/s eta 0:00:36\n",
      "   ----------------- ---------------------- 130.6/300.9 MB 4.9 MB/s eta 0:00:36\n",
      "   ----------------- ---------------------- 130.8/300.9 MB 4.8 MB/s eta 0:00:36\n",
      "   ----------------- ---------------------- 131.0/300.9 MB 4.8 MB/s eta 0:00:36\n",
      "   ----------------- ---------------------- 131.3/300.9 MB 4.8 MB/s eta 0:00:36\n",
      "   ----------------- ---------------------- 131.5/300.9 MB 4.8 MB/s eta 0:00:36\n",
      "   ----------------- ---------------------- 131.7/300.9 MB 4.8 MB/s eta 0:00:36\n",
      "   ----------------- ---------------------- 132.0/300.9 MB 4.8 MB/s eta 0:00:36\n",
      "   ----------------- ---------------------- 132.2/300.9 MB 4.8 MB/s eta 0:00:36\n",
      "   ----------------- ---------------------- 132.4/300.9 MB 4.8 MB/s eta 0:00:36\n",
      "   ----------------- ---------------------- 132.6/300.9 MB 4.8 MB/s eta 0:00:36\n",
      "   ----------------- ---------------------- 132.9/300.9 MB 4.7 MB/s eta 0:00:36\n",
      "   ----------------- ---------------------- 133.1/300.9 MB 4.8 MB/s eta 0:00:36\n",
      "   ----------------- ---------------------- 133.3/300.9 MB 4.8 MB/s eta 0:00:35\n",
      "   ----------------- ---------------------- 133.6/300.9 MB 4.8 MB/s eta 0:00:35\n",
      "   ----------------- ---------------------- 133.8/300.9 MB 4.8 MB/s eta 0:00:35\n",
      "   ----------------- ---------------------- 134.0/300.9 MB 4.8 MB/s eta 0:00:35\n",
      "   ----------------- ---------------------- 134.3/300.9 MB 4.8 MB/s eta 0:00:35\n",
      "   ----------------- ---------------------- 134.5/300.9 MB 4.8 MB/s eta 0:00:35\n",
      "   ----------------- ---------------------- 134.7/300.9 MB 4.8 MB/s eta 0:00:35\n",
      "   ----------------- ---------------------- 134.9/300.9 MB 4.8 MB/s eta 0:00:35\n",
      "   ----------------- ---------------------- 135.2/300.9 MB 4.8 MB/s eta 0:00:35\n",
      "   ----------------- ---------------------- 135.4/300.9 MB 4.8 MB/s eta 0:00:35\n",
      "   ------------------ --------------------- 135.7/300.9 MB 4.9 MB/s eta 0:00:34\n",
      "   ------------------ --------------------- 135.9/300.9 MB 4.8 MB/s eta 0:00:35\n",
      "   ------------------ --------------------- 136.1/300.9 MB 4.9 MB/s eta 0:00:34\n",
      "   ------------------ --------------------- 136.3/300.9 MB 4.9 MB/s eta 0:00:34\n",
      "   ------------------ --------------------- 136.6/300.9 MB 4.9 MB/s eta 0:00:34\n",
      "   ------------------ --------------------- 136.8/300.9 MB 4.9 MB/s eta 0:00:34\n",
      "   ------------------ --------------------- 137.0/300.9 MB 4.9 MB/s eta 0:00:34\n",
      "   ------------------ --------------------- 137.3/300.9 MB 4.8 MB/s eta 0:00:34\n",
      "   ------------------ --------------------- 137.5/300.9 MB 4.8 MB/s eta 0:00:34\n",
      "   ------------------ --------------------- 137.7/300.9 MB 4.8 MB/s eta 0:00:34\n",
      "   ------------------ --------------------- 138.0/300.9 MB 4.9 MB/s eta 0:00:34\n",
      "   ------------------ --------------------- 138.2/300.9 MB 4.9 MB/s eta 0:00:34\n",
      "   ------------------ --------------------- 138.4/300.9 MB 4.9 MB/s eta 0:00:34\n",
      "   ------------------ --------------------- 138.6/300.9 MB 4.8 MB/s eta 0:00:34\n",
      "   ------------------ --------------------- 138.9/300.9 MB 4.9 MB/s eta 0:00:34\n",
      "   ------------------ --------------------- 139.1/300.9 MB 4.8 MB/s eta 0:00:34\n",
      "   ------------------ --------------------- 139.3/300.9 MB 4.9 MB/s eta 0:00:34\n",
      "   ------------------ --------------------- 139.6/300.9 MB 4.8 MB/s eta 0:00:34\n",
      "   ------------------ --------------------- 139.8/300.9 MB 4.8 MB/s eta 0:00:34\n",
      "   ------------------ --------------------- 140.0/300.9 MB 4.9 MB/s eta 0:00:34\n",
      "   ------------------ --------------------- 140.3/300.9 MB 4.9 MB/s eta 0:00:33\n",
      "   ------------------ --------------------- 140.5/300.9 MB 4.8 MB/s eta 0:00:34\n",
      "   ------------------ --------------------- 140.7/300.9 MB 4.9 MB/s eta 0:00:34\n",
      "   ------------------ --------------------- 140.9/300.9 MB 4.8 MB/s eta 0:00:33\n",
      "   ------------------ --------------------- 141.1/300.9 MB 4.8 MB/s eta 0:00:34\n",
      "   ------------------ --------------------- 141.4/300.9 MB 4.8 MB/s eta 0:00:33\n",
      "   ------------------ --------------------- 141.6/300.9 MB 4.8 MB/s eta 0:00:34\n",
      "   ------------------ --------------------- 141.8/300.9 MB 4.9 MB/s eta 0:00:33\n",
      "   ------------------ --------------------- 142.0/300.9 MB 4.8 MB/s eta 0:00:34\n",
      "   ------------------ --------------------- 142.3/300.9 MB 4.8 MB/s eta 0:00:33\n",
      "   ------------------ --------------------- 142.5/300.9 MB 4.8 MB/s eta 0:00:33\n",
      "   ------------------ --------------------- 142.7/300.9 MB 4.8 MB/s eta 0:00:33\n",
      "   ------------------- -------------------- 143.0/300.9 MB 4.8 MB/s eta 0:00:33\n",
      "   ------------------- -------------------- 143.2/300.9 MB 4.8 MB/s eta 0:00:33\n",
      "   ------------------- -------------------- 143.4/300.9 MB 4.8 MB/s eta 0:00:33\n",
      "   ------------------- -------------------- 143.6/300.9 MB 4.8 MB/s eta 0:00:33\n",
      "   ------------------- -------------------- 143.9/300.9 MB 4.8 MB/s eta 0:00:33\n",
      "   ------------------- -------------------- 144.1/300.9 MB 4.8 MB/s eta 0:00:33\n",
      "   ------------------- -------------------- 144.4/300.9 MB 4.8 MB/s eta 0:00:33\n",
      "   ------------------- -------------------- 144.6/300.9 MB 4.9 MB/s eta 0:00:33\n",
      "   ------------------- -------------------- 144.8/300.9 MB 4.9 MB/s eta 0:00:33\n",
      "   ------------------- -------------------- 145.0/300.9 MB 4.8 MB/s eta 0:00:33\n",
      "   ------------------- -------------------- 145.3/300.9 MB 4.8 MB/s eta 0:00:33\n",
      "   ------------------- -------------------- 145.5/300.9 MB 4.9 MB/s eta 0:00:33\n",
      "   ------------------- -------------------- 145.7/300.9 MB 4.8 MB/s eta 0:00:33\n",
      "   ------------------- -------------------- 146.0/300.9 MB 4.8 MB/s eta 0:00:32\n",
      "   ------------------- -------------------- 146.2/300.9 MB 4.8 MB/s eta 0:00:33\n",
      "   ------------------- -------------------- 146.4/300.9 MB 4.8 MB/s eta 0:00:33\n",
      "   ------------------- -------------------- 146.7/300.9 MB 4.9 MB/s eta 0:00:32\n",
      "   ------------------- -------------------- 146.9/300.9 MB 4.8 MB/s eta 0:00:32\n",
      "   ------------------- -------------------- 147.1/300.9 MB 4.8 MB/s eta 0:00:32\n",
      "   ------------------- -------------------- 147.4/300.9 MB 4.8 MB/s eta 0:00:32\n",
      "   ------------------- -------------------- 147.6/300.9 MB 4.8 MB/s eta 0:00:32\n",
      "   ------------------- -------------------- 147.8/300.9 MB 4.8 MB/s eta 0:00:32\n",
      "   ------------------- -------------------- 148.1/300.9 MB 4.9 MB/s eta 0:00:32\n",
      "   ------------------- -------------------- 148.3/300.9 MB 4.8 MB/s eta 0:00:32\n",
      "   ------------------- -------------------- 148.6/300.9 MB 4.9 MB/s eta 0:00:32\n",
      "   ------------------- -------------------- 148.8/300.9 MB 4.8 MB/s eta 0:00:32\n",
      "   ------------------- -------------------- 149.0/300.9 MB 4.8 MB/s eta 0:00:32\n",
      "   ------------------- -------------------- 149.2/300.9 MB 4.8 MB/s eta 0:00:32\n",
      "   ------------------- -------------------- 149.4/300.9 MB 4.9 MB/s eta 0:00:32\n",
      "   ------------------- -------------------- 149.7/300.9 MB 4.9 MB/s eta 0:00:32\n",
      "   ------------------- -------------------- 149.9/300.9 MB 4.9 MB/s eta 0:00:32\n",
      "   ------------------- -------------------- 150.1/300.9 MB 4.9 MB/s eta 0:00:32\n",
      "   ------------------- -------------------- 150.4/300.9 MB 4.9 MB/s eta 0:00:32\n",
      "   -------------------- ------------------- 150.6/300.9 MB 4.8 MB/s eta 0:00:32\n",
      "   -------------------- ------------------- 150.8/300.9 MB 4.9 MB/s eta 0:00:31\n",
      "   -------------------- ------------------- 151.1/300.9 MB 4.9 MB/s eta 0:00:31\n",
      "   -------------------- ------------------- 151.3/300.9 MB 4.9 MB/s eta 0:00:31\n",
      "   -------------------- ------------------- 151.5/300.9 MB 4.9 MB/s eta 0:00:31\n",
      "   -------------------- ------------------- 151.8/300.9 MB 4.9 MB/s eta 0:00:31\n",
      "   -------------------- ------------------- 152.0/300.9 MB 4.8 MB/s eta 0:00:31\n",
      "   -------------------- ------------------- 152.2/300.9 MB 4.8 MB/s eta 0:00:31\n",
      "   -------------------- ------------------- 152.5/300.9 MB 4.9 MB/s eta 0:00:31\n",
      "   -------------------- ------------------- 152.7/300.9 MB 4.9 MB/s eta 0:00:31\n",
      "   -------------------- ------------------- 152.9/300.9 MB 4.9 MB/s eta 0:00:31\n",
      "   -------------------- ------------------- 153.2/300.9 MB 4.9 MB/s eta 0:00:31\n",
      "   -------------------- ------------------- 153.4/300.9 MB 4.9 MB/s eta 0:00:31\n",
      "   -------------------- ------------------- 153.6/300.9 MB 4.9 MB/s eta 0:00:30\n",
      "   -------------------- ------------------- 153.8/300.9 MB 4.9 MB/s eta 0:00:31\n",
      "   -------------------- ------------------- 154.0/300.9 MB 4.9 MB/s eta 0:00:31\n",
      "   -------------------- ------------------- 154.3/300.9 MB 4.9 MB/s eta 0:00:31\n",
      "   -------------------- ------------------- 154.5/300.9 MB 4.9 MB/s eta 0:00:31\n",
      "   -------------------- ------------------- 154.7/300.9 MB 4.9 MB/s eta 0:00:31\n",
      "   -------------------- ------------------- 154.9/300.9 MB 4.9 MB/s eta 0:00:31\n",
      "   -------------------- ------------------- 155.2/300.9 MB 4.9 MB/s eta 0:00:31\n",
      "   -------------------- ------------------- 155.4/300.9 MB 4.8 MB/s eta 0:00:31\n",
      "   -------------------- ------------------- 155.6/300.9 MB 4.8 MB/s eta 0:00:30\n",
      "   -------------------- ------------------- 155.8/300.9 MB 4.8 MB/s eta 0:00:30\n",
      "   -------------------- ------------------- 156.1/300.9 MB 4.9 MB/s eta 0:00:30\n",
      "   -------------------- ------------------- 156.3/300.9 MB 4.9 MB/s eta 0:00:30\n",
      "   -------------------- ------------------- 156.5/300.9 MB 4.8 MB/s eta 0:00:30\n",
      "   -------------------- ------------------- 156.8/300.9 MB 4.9 MB/s eta 0:00:30\n",
      "   -------------------- ------------------- 156.9/300.9 MB 4.8 MB/s eta 0:00:30\n",
      "   -------------------- ------------------- 157.0/300.9 MB 4.7 MB/s eta 0:00:31\n",
      "   -------------------- ------------------- 157.3/300.9 MB 4.8 MB/s eta 0:00:31\n",
      "   -------------------- ------------------- 157.5/300.9 MB 4.7 MB/s eta 0:00:31\n",
      "   -------------------- ------------------- 157.7/300.9 MB 4.7 MB/s eta 0:00:31\n",
      "   -------------------- ------------------- 157.9/300.9 MB 4.8 MB/s eta 0:00:30\n",
      "   --------------------- ------------------ 158.2/300.9 MB 4.7 MB/s eta 0:00:31\n",
      "   --------------------- ------------------ 158.4/300.9 MB 4.7 MB/s eta 0:00:31\n",
      "   --------------------- ------------------ 158.6/300.9 MB 4.7 MB/s eta 0:00:30\n",
      "   --------------------- ------------------ 158.9/300.9 MB 4.7 MB/s eta 0:00:30\n",
      "   --------------------- ------------------ 159.1/300.9 MB 4.8 MB/s eta 0:00:30\n",
      "   --------------------- ------------------ 159.3/300.9 MB 4.7 MB/s eta 0:00:30\n",
      "   --------------------- ------------------ 159.6/300.9 MB 4.7 MB/s eta 0:00:30\n",
      "   --------------------- ------------------ 159.8/300.9 MB 4.7 MB/s eta 0:00:30\n",
      "   --------------------- ------------------ 160.0/300.9 MB 4.7 MB/s eta 0:00:30\n",
      "   --------------------- ------------------ 160.3/300.9 MB 4.7 MB/s eta 0:00:30\n",
      "   --------------------- ------------------ 160.5/300.9 MB 4.7 MB/s eta 0:00:30\n",
      "   --------------------- ------------------ 160.7/300.9 MB 4.7 MB/s eta 0:00:30\n",
      "   --------------------- ------------------ 160.9/300.9 MB 4.7 MB/s eta 0:00:30\n",
      "   --------------------- ------------------ 161.2/300.9 MB 4.7 MB/s eta 0:00:30\n",
      "   --------------------- ------------------ 161.4/300.9 MB 4.7 MB/s eta 0:00:30\n",
      "   --------------------- ------------------ 161.6/300.9 MB 4.7 MB/s eta 0:00:30\n",
      "   --------------------- ------------------ 161.9/300.9 MB 4.7 MB/s eta 0:00:30\n",
      "   --------------------- ------------------ 162.1/300.9 MB 4.7 MB/s eta 0:00:30\n",
      "   --------------------- ------------------ 162.3/300.9 MB 4.7 MB/s eta 0:00:30\n",
      "   --------------------- ------------------ 162.6/300.9 MB 4.7 MB/s eta 0:00:30\n",
      "   --------------------- ------------------ 162.8/300.9 MB 4.7 MB/s eta 0:00:30\n",
      "   --------------------- ------------------ 163.0/300.9 MB 4.7 MB/s eta 0:00:30\n",
      "   --------------------- ------------------ 163.3/300.9 MB 4.7 MB/s eta 0:00:30\n",
      "   --------------------- ------------------ 163.5/300.9 MB 4.7 MB/s eta 0:00:29\n",
      "   --------------------- ------------------ 163.7/300.9 MB 4.8 MB/s eta 0:00:29\n",
      "   --------------------- ------------------ 164.0/300.9 MB 4.7 MB/s eta 0:00:29\n",
      "   --------------------- ------------------ 164.2/300.9 MB 4.7 MB/s eta 0:00:29\n",
      "   --------------------- ------------------ 164.4/300.9 MB 4.7 MB/s eta 0:00:29\n",
      "   --------------------- ------------------ 164.7/300.9 MB 4.8 MB/s eta 0:00:29\n",
      "   --------------------- ------------------ 164.9/300.9 MB 4.8 MB/s eta 0:00:29\n",
      "   --------------------- ------------------ 165.1/300.9 MB 4.8 MB/s eta 0:00:29\n",
      "   --------------------- ------------------ 165.4/300.9 MB 4.8 MB/s eta 0:00:29\n",
      "   ---------------------- ----------------- 165.6/300.9 MB 4.8 MB/s eta 0:00:29\n",
      "   ---------------------- ----------------- 165.8/300.9 MB 4.8 MB/s eta 0:00:29\n",
      "   ---------------------- ----------------- 166.0/300.9 MB 4.8 MB/s eta 0:00:29\n",
      "   ---------------------- ----------------- 166.3/300.9 MB 4.8 MB/s eta 0:00:29\n",
      "   ---------------------- ----------------- 166.5/300.9 MB 4.8 MB/s eta 0:00:29\n",
      "   ---------------------- ----------------- 166.7/300.9 MB 4.8 MB/s eta 0:00:29\n",
      "   ---------------------- ----------------- 167.0/300.9 MB 4.8 MB/s eta 0:00:29\n",
      "   ---------------------- ----------------- 167.2/300.9 MB 4.9 MB/s eta 0:00:28\n",
      "   ---------------------- ----------------- 167.4/300.9 MB 4.9 MB/s eta 0:00:28\n",
      "   ---------------------- ----------------- 167.7/300.9 MB 4.9 MB/s eta 0:00:28\n",
      "   ---------------------- ----------------- 167.9/300.9 MB 4.9 MB/s eta 0:00:28\n",
      "   ---------------------- ----------------- 168.2/300.9 MB 4.9 MB/s eta 0:00:28\n",
      "   ---------------------- ----------------- 168.4/300.9 MB 4.9 MB/s eta 0:00:27\n",
      "   ---------------------- ----------------- 168.6/300.9 MB 4.9 MB/s eta 0:00:28\n",
      "   ---------------------- ----------------- 168.8/300.9 MB 4.9 MB/s eta 0:00:28\n",
      "   ---------------------- ----------------- 169.1/300.9 MB 4.9 MB/s eta 0:00:27\n",
      "   ---------------------- ----------------- 169.3/300.9 MB 4.9 MB/s eta 0:00:27\n",
      "   ---------------------- ----------------- 169.5/300.9 MB 4.9 MB/s eta 0:00:27\n",
      "   ---------------------- ----------------- 169.8/300.9 MB 4.9 MB/s eta 0:00:27\n",
      "   ---------------------- ----------------- 170.0/300.9 MB 4.9 MB/s eta 0:00:27\n",
      "   ---------------------- ----------------- 170.2/300.9 MB 4.9 MB/s eta 0:00:27\n",
      "   ---------------------- ----------------- 170.5/300.9 MB 4.9 MB/s eta 0:00:27\n",
      "   ---------------------- ----------------- 170.7/300.9 MB 4.9 MB/s eta 0:00:27\n",
      "   ---------------------- ----------------- 170.9/300.9 MB 4.9 MB/s eta 0:00:27\n",
      "   ---------------------- ----------------- 171.2/300.9 MB 4.9 MB/s eta 0:00:27\n",
      "   ---------------------- ----------------- 171.4/300.9 MB 5.0 MB/s eta 0:00:27\n",
      "   ---------------------- ----------------- 171.6/300.9 MB 4.9 MB/s eta 0:00:27\n",
      "   ---------------------- ----------------- 171.9/300.9 MB 4.9 MB/s eta 0:00:27\n",
      "   ---------------------- ----------------- 172.1/300.9 MB 4.9 MB/s eta 0:00:27\n",
      "   ---------------------- ----------------- 172.3/300.9 MB 4.9 MB/s eta 0:00:27\n",
      "   ---------------------- ----------------- 172.6/300.9 MB 4.9 MB/s eta 0:00:27\n",
      "   ---------------------- ----------------- 172.8/300.9 MB 4.9 MB/s eta 0:00:27\n",
      "   ---------------------- ----------------- 173.0/300.9 MB 4.9 MB/s eta 0:00:27\n",
      "   ----------------------- ---------------- 173.3/300.9 MB 4.9 MB/s eta 0:00:27\n",
      "   ----------------------- ---------------- 173.5/300.9 MB 4.9 MB/s eta 0:00:26\n",
      "   ----------------------- ---------------- 173.7/300.9 MB 4.9 MB/s eta 0:00:27\n",
      "   ----------------------- ---------------- 173.9/300.9 MB 4.9 MB/s eta 0:00:26\n",
      "   ----------------------- ---------------- 174.1/300.9 MB 4.9 MB/s eta 0:00:26\n",
      "   ----------------------- ---------------- 174.4/300.9 MB 4.9 MB/s eta 0:00:26\n",
      "   ----------------------- ---------------- 174.6/300.9 MB 4.9 MB/s eta 0:00:26\n",
      "   ----------------------- ---------------- 174.9/300.9 MB 4.9 MB/s eta 0:00:26\n",
      "   ----------------------- ---------------- 175.1/300.9 MB 4.9 MB/s eta 0:00:26\n",
      "   ----------------------- ---------------- 175.3/300.9 MB 4.9 MB/s eta 0:00:26\n",
      "   ----------------------- ---------------- 175.6/300.9 MB 4.9 MB/s eta 0:00:26\n",
      "   ----------------------- ---------------- 175.8/300.9 MB 4.9 MB/s eta 0:00:26\n",
      "   ----------------------- ---------------- 176.0/300.9 MB 4.9 MB/s eta 0:00:26\n",
      "   ----------------------- ---------------- 176.3/300.9 MB 4.9 MB/s eta 0:00:26\n",
      "   ----------------------- ---------------- 176.5/300.9 MB 4.9 MB/s eta 0:00:26\n",
      "   ----------------------- ---------------- 176.7/300.9 MB 4.9 MB/s eta 0:00:26\n",
      "   ----------------------- ---------------- 177.0/300.9 MB 4.9 MB/s eta 0:00:26\n",
      "   ----------------------- ---------------- 177.2/300.9 MB 4.9 MB/s eta 0:00:26\n",
      "   ----------------------- ---------------- 177.4/300.9 MB 4.9 MB/s eta 0:00:26\n",
      "   ----------------------- ---------------- 177.7/300.9 MB 4.9 MB/s eta 0:00:26\n",
      "   ----------------------- ---------------- 177.9/300.9 MB 4.9 MB/s eta 0:00:25\n",
      "   ----------------------- ---------------- 178.1/300.9 MB 4.9 MB/s eta 0:00:26\n",
      "   ----------------------- ---------------- 178.4/300.9 MB 4.9 MB/s eta 0:00:26\n",
      "   ----------------------- ---------------- 178.6/300.9 MB 4.9 MB/s eta 0:00:25\n",
      "   ----------------------- ---------------- 178.8/300.9 MB 4.9 MB/s eta 0:00:25\n",
      "   ----------------------- ---------------- 179.1/300.9 MB 4.9 MB/s eta 0:00:25\n",
      "   ----------------------- ---------------- 179.3/300.9 MB 4.9 MB/s eta 0:00:25\n",
      "   ----------------------- ---------------- 179.5/300.9 MB 4.9 MB/s eta 0:00:25\n",
      "   ----------------------- ---------------- 179.7/300.9 MB 4.9 MB/s eta 0:00:25\n",
      "   ----------------------- ---------------- 180.0/300.9 MB 4.9 MB/s eta 0:00:25\n",
      "   ----------------------- ---------------- 180.2/300.9 MB 4.9 MB/s eta 0:00:25\n",
      "   ----------------------- ---------------- 180.4/300.9 MB 4.9 MB/s eta 0:00:25\n",
      "   ------------------------ --------------- 180.6/300.9 MB 4.8 MB/s eta 0:00:25\n",
      "   ------------------------ --------------- 180.8/300.9 MB 4.9 MB/s eta 0:00:25\n",
      "   ------------------------ --------------- 181.1/300.9 MB 4.9 MB/s eta 0:00:25\n",
      "   ------------------------ --------------- 181.3/300.9 MB 4.9 MB/s eta 0:00:25\n",
      "   ------------------------ --------------- 181.5/300.9 MB 4.9 MB/s eta 0:00:25\n",
      "   ------------------------ --------------- 181.8/300.9 MB 4.9 MB/s eta 0:00:25\n",
      "   ------------------------ --------------- 182.0/300.9 MB 4.9 MB/s eta 0:00:25\n",
      "   ------------------------ --------------- 182.3/300.9 MB 4.9 MB/s eta 0:00:25\n",
      "   ------------------------ --------------- 182.5/300.9 MB 4.9 MB/s eta 0:00:25\n",
      "   ------------------------ --------------- 182.7/300.9 MB 4.9 MB/s eta 0:00:25\n",
      "   ------------------------ --------------- 182.9/300.9 MB 4.9 MB/s eta 0:00:25\n",
      "   ------------------------ --------------- 183.2/300.9 MB 4.9 MB/s eta 0:00:25\n",
      "   ------------------------ --------------- 183.4/300.9 MB 4.9 MB/s eta 0:00:25\n",
      "   ------------------------ --------------- 183.6/300.9 MB 4.9 MB/s eta 0:00:25\n",
      "   ------------------------ --------------- 183.9/300.9 MB 4.9 MB/s eta 0:00:24\n",
      "   ------------------------ --------------- 184.1/300.9 MB 4.9 MB/s eta 0:00:24\n",
      "   ------------------------ --------------- 184.3/300.9 MB 4.9 MB/s eta 0:00:24\n",
      "   ------------------------ --------------- 184.6/300.9 MB 4.9 MB/s eta 0:00:24\n",
      "   ------------------------ --------------- 184.8/300.9 MB 4.9 MB/s eta 0:00:24\n",
      "   ------------------------ --------------- 185.0/300.9 MB 4.8 MB/s eta 0:00:24\n",
      "   ------------------------ --------------- 185.3/300.9 MB 4.9 MB/s eta 0:00:24\n",
      "   ------------------------ --------------- 185.5/300.9 MB 4.9 MB/s eta 0:00:24\n",
      "   ------------------------ --------------- 185.7/300.9 MB 4.9 MB/s eta 0:00:24\n",
      "   ------------------------ --------------- 186.0/300.9 MB 4.9 MB/s eta 0:00:24\n",
      "   ------------------------ --------------- 186.2/300.9 MB 4.9 MB/s eta 0:00:24\n",
      "   ------------------------ --------------- 186.4/300.9 MB 4.9 MB/s eta 0:00:24\n",
      "   ------------------------ --------------- 186.6/300.9 MB 4.9 MB/s eta 0:00:24\n",
      "   ------------------------ --------------- 186.8/300.9 MB 4.8 MB/s eta 0:00:24\n",
      "   ------------------------ --------------- 187.1/300.9 MB 4.8 MB/s eta 0:00:24\n",
      "   ------------------------ --------------- 187.3/300.9 MB 4.8 MB/s eta 0:00:24\n",
      "   ------------------------ --------------- 187.5/300.9 MB 4.9 MB/s eta 0:00:24\n",
      "   ------------------------ --------------- 187.8/300.9 MB 4.9 MB/s eta 0:00:24\n",
      "   ------------------------ --------------- 188.0/300.9 MB 4.9 MB/s eta 0:00:24\n",
      "   ------------------------- -------------- 188.2/300.9 MB 4.9 MB/s eta 0:00:24\n",
      "   ------------------------- -------------- 188.5/300.9 MB 4.9 MB/s eta 0:00:24\n",
      "   ------------------------- -------------- 188.7/300.9 MB 4.8 MB/s eta 0:00:24\n",
      "   ------------------------- -------------- 188.9/300.9 MB 4.8 MB/s eta 0:00:24\n",
      "   ------------------------- -------------- 189.2/300.9 MB 4.8 MB/s eta 0:00:24\n",
      "   ------------------------- -------------- 189.4/300.9 MB 4.9 MB/s eta 0:00:23\n",
      "   ------------------------- -------------- 189.6/300.9 MB 4.9 MB/s eta 0:00:23\n",
      "   ------------------------- -------------- 189.8/300.9 MB 4.8 MB/s eta 0:00:24\n",
      "   ------------------------- -------------- 190.0/300.9 MB 4.9 MB/s eta 0:00:23\n",
      "   ------------------------- -------------- 190.3/300.9 MB 4.8 MB/s eta 0:00:23\n",
      "   ------------------------- -------------- 190.5/300.9 MB 4.8 MB/s eta 0:00:23\n",
      "   ------------------------- -------------- 190.8/300.9 MB 4.8 MB/s eta 0:00:23\n",
      "   ------------------------- -------------- 191.0/300.9 MB 4.9 MB/s eta 0:00:23\n",
      "   ------------------------- -------------- 191.2/300.9 MB 4.9 MB/s eta 0:00:23\n",
      "   ------------------------- -------------- 191.4/300.9 MB 4.9 MB/s eta 0:00:23\n",
      "   ------------------------- -------------- 191.7/300.9 MB 4.8 MB/s eta 0:00:23\n",
      "   ------------------------- -------------- 191.9/300.9 MB 4.8 MB/s eta 0:00:23\n",
      "   ------------------------- -------------- 192.1/300.9 MB 4.8 MB/s eta 0:00:23\n",
      "   ------------------------- -------------- 192.4/300.9 MB 4.9 MB/s eta 0:00:23\n",
      "   ------------------------- -------------- 192.6/300.9 MB 4.9 MB/s eta 0:00:23\n",
      "   ------------------------- -------------- 192.8/300.9 MB 4.9 MB/s eta 0:00:23\n",
      "   ------------------------- -------------- 193.1/300.9 MB 4.9 MB/s eta 0:00:23\n",
      "   ------------------------- -------------- 193.3/300.9 MB 4.9 MB/s eta 0:00:23\n",
      "   ------------------------- -------------- 193.5/300.9 MB 4.8 MB/s eta 0:00:23\n",
      "   ------------------------- -------------- 193.8/300.9 MB 4.8 MB/s eta 0:00:23\n",
      "   ------------------------- -------------- 194.0/300.9 MB 4.8 MB/s eta 0:00:23\n",
      "   ------------------------- -------------- 194.2/300.9 MB 4.9 MB/s eta 0:00:22\n",
      "   ------------------------- -------------- 194.5/300.9 MB 4.9 MB/s eta 0:00:22\n",
      "   ------------------------- -------------- 194.7/300.9 MB 4.9 MB/s eta 0:00:22\n",
      "   ------------------------- -------------- 194.9/300.9 MB 4.9 MB/s eta 0:00:22\n",
      "   ------------------------- -------------- 195.2/300.9 MB 4.8 MB/s eta 0:00:22\n",
      "   ------------------------- -------------- 195.4/300.9 MB 4.8 MB/s eta 0:00:22\n",
      "   -------------------------- ------------- 195.6/300.9 MB 4.9 MB/s eta 0:00:22\n",
      "   -------------------------- ------------- 195.9/300.9 MB 4.8 MB/s eta 0:00:22\n",
      "   -------------------------- ------------- 196.1/300.9 MB 4.9 MB/s eta 0:00:22\n",
      "   -------------------------- ------------- 196.3/300.9 MB 4.9 MB/s eta 0:00:22\n",
      "   -------------------------- ------------- 196.6/300.9 MB 4.8 MB/s eta 0:00:22\n",
      "   -------------------------- ------------- 196.8/300.9 MB 4.9 MB/s eta 0:00:22\n",
      "   -------------------------- ------------- 197.0/300.9 MB 4.9 MB/s eta 0:00:22\n",
      "   -------------------------- ------------- 197.3/300.9 MB 4.9 MB/s eta 0:00:22\n",
      "   -------------------------- ------------- 197.5/300.9 MB 4.9 MB/s eta 0:00:22\n",
      "   -------------------------- ------------- 197.7/300.9 MB 4.9 MB/s eta 0:00:22\n",
      "   -------------------------- ------------- 197.9/300.9 MB 4.9 MB/s eta 0:00:22\n",
      "   -------------------------- ------------- 198.2/300.9 MB 4.9 MB/s eta 0:00:22\n",
      "   -------------------------- ------------- 198.4/300.9 MB 4.9 MB/s eta 0:00:21\n",
      "   -------------------------- ------------- 198.7/300.9 MB 4.9 MB/s eta 0:00:21\n",
      "   -------------------------- ------------- 198.9/300.9 MB 4.9 MB/s eta 0:00:21\n",
      "   -------------------------- ------------- 199.1/300.9 MB 4.9 MB/s eta 0:00:21\n",
      "   -------------------------- ------------- 199.4/300.9 MB 4.9 MB/s eta 0:00:21\n",
      "   -------------------------- ------------- 199.6/300.9 MB 4.9 MB/s eta 0:00:21\n",
      "   -------------------------- ------------- 199.8/300.9 MB 4.9 MB/s eta 0:00:21\n",
      "   -------------------------- ------------- 200.1/300.9 MB 4.9 MB/s eta 0:00:21\n",
      "   -------------------------- ------------- 200.3/300.9 MB 4.9 MB/s eta 0:00:21\n",
      "   -------------------------- ------------- 200.5/300.9 MB 4.9 MB/s eta 0:00:21\n",
      "   -------------------------- ------------- 200.7/300.9 MB 4.9 MB/s eta 0:00:21\n",
      "   -------------------------- ------------- 201.0/300.9 MB 4.9 MB/s eta 0:00:21\n",
      "   -------------------------- ------------- 201.2/300.9 MB 4.9 MB/s eta 0:00:21\n",
      "   -------------------------- ------------- 201.4/300.9 MB 4.9 MB/s eta 0:00:21\n",
      "   -------------------------- ------------- 201.7/300.9 MB 4.9 MB/s eta 0:00:21\n",
      "   -------------------------- ------------- 201.9/300.9 MB 4.9 MB/s eta 0:00:21\n",
      "   -------------------------- ------------- 202.1/300.9 MB 4.9 MB/s eta 0:00:21\n",
      "   -------------------------- ------------- 202.3/300.9 MB 4.9 MB/s eta 0:00:21\n",
      "   -------------------------- ------------- 202.6/300.9 MB 4.9 MB/s eta 0:00:21\n",
      "   -------------------------- ------------- 202.8/300.9 MB 4.9 MB/s eta 0:00:21\n",
      "   -------------------------- ------------- 203.0/300.9 MB 4.9 MB/s eta 0:00:21\n",
      "   --------------------------- ------------ 203.3/300.9 MB 4.9 MB/s eta 0:00:20\n",
      "   --------------------------- ------------ 203.5/300.9 MB 4.8 MB/s eta 0:00:21\n",
      "   --------------------------- ------------ 203.7/300.9 MB 4.9 MB/s eta 0:00:20\n",
      "   --------------------------- ------------ 204.0/300.9 MB 4.9 MB/s eta 0:00:20\n",
      "   --------------------------- ------------ 204.2/300.9 MB 4.9 MB/s eta 0:00:20\n",
      "   --------------------------- ------------ 204.4/300.9 MB 4.9 MB/s eta 0:00:20\n",
      "   --------------------------- ------------ 204.6/300.9 MB 4.9 MB/s eta 0:00:20\n",
      "   --------------------------- ------------ 204.8/300.9 MB 4.9 MB/s eta 0:00:20\n",
      "   --------------------------- ------------ 205.1/300.9 MB 4.8 MB/s eta 0:00:20\n",
      "   --------------------------- ------------ 205.3/300.9 MB 4.8 MB/s eta 0:00:20\n",
      "   --------------------------- ------------ 205.5/300.9 MB 4.8 MB/s eta 0:00:20\n",
      "   --------------------------- ------------ 205.7/300.9 MB 4.9 MB/s eta 0:00:20\n",
      "   --------------------------- ------------ 206.0/300.9 MB 4.9 MB/s eta 0:00:20\n",
      "   --------------------------- ------------ 206.2/300.9 MB 4.9 MB/s eta 0:00:20\n",
      "   --------------------------- ------------ 206.4/300.9 MB 4.9 MB/s eta 0:00:20\n",
      "   --------------------------- ------------ 206.6/300.9 MB 4.8 MB/s eta 0:00:20\n",
      "   --------------------------- ------------ 206.8/300.9 MB 4.8 MB/s eta 0:00:20\n",
      "   --------------------------- ------------ 207.1/300.9 MB 4.8 MB/s eta 0:00:20\n",
      "   --------------------------- ------------ 207.3/300.9 MB 4.8 MB/s eta 0:00:20\n",
      "   --------------------------- ------------ 207.5/300.9 MB 4.9 MB/s eta 0:00:20\n",
      "   --------------------------- ------------ 207.7/300.9 MB 4.8 MB/s eta 0:00:20\n",
      "   --------------------------- ------------ 207.9/300.9 MB 4.8 MB/s eta 0:00:20\n",
      "   --------------------------- ------------ 208.2/300.9 MB 4.8 MB/s eta 0:00:20\n",
      "   --------------------------- ------------ 208.4/300.9 MB 4.8 MB/s eta 0:00:20\n",
      "   --------------------------- ------------ 208.6/300.9 MB 4.8 MB/s eta 0:00:20\n",
      "   --------------------------- ------------ 208.8/300.9 MB 4.8 MB/s eta 0:00:20\n",
      "   --------------------------- ------------ 209.1/300.9 MB 4.8 MB/s eta 0:00:20\n",
      "   --------------------------- ------------ 209.3/300.9 MB 4.8 MB/s eta 0:00:20\n",
      "   --------------------------- ------------ 209.5/300.9 MB 4.8 MB/s eta 0:00:20\n",
      "   --------------------------- ------------ 209.7/300.9 MB 4.7 MB/s eta 0:00:20\n",
      "   --------------------------- ------------ 210.0/300.9 MB 4.7 MB/s eta 0:00:20\n",
      "   --------------------------- ------------ 210.2/300.9 MB 4.8 MB/s eta 0:00:19\n",
      "   --------------------------- ------------ 210.4/300.9 MB 4.7 MB/s eta 0:00:20\n",
      "   ---------------------------- ----------- 210.7/300.9 MB 4.7 MB/s eta 0:00:20\n",
      "   ---------------------------- ----------- 210.9/300.9 MB 4.7 MB/s eta 0:00:19\n",
      "   ---------------------------- ----------- 211.1/300.9 MB 4.7 MB/s eta 0:00:19\n",
      "   ---------------------------- ----------- 211.3/300.9 MB 4.7 MB/s eta 0:00:19\n",
      "   ---------------------------- ----------- 211.5/300.9 MB 4.7 MB/s eta 0:00:19\n",
      "   ---------------------------- ----------- 211.7/300.9 MB 4.8 MB/s eta 0:00:19\n",
      "   ---------------------------- ----------- 212.0/300.9 MB 4.7 MB/s eta 0:00:19\n",
      "   ---------------------------- ----------- 212.2/300.9 MB 4.7 MB/s eta 0:00:19\n",
      "   ---------------------------- ----------- 212.4/300.9 MB 4.7 MB/s eta 0:00:19\n",
      "   ---------------------------- ----------- 212.6/300.9 MB 4.7 MB/s eta 0:00:19\n",
      "   ---------------------------- ----------- 212.8/300.9 MB 4.7 MB/s eta 0:00:19\n",
      "   ---------------------------- ----------- 213.1/300.9 MB 4.7 MB/s eta 0:00:19\n",
      "   ---------------------------- ----------- 213.3/300.9 MB 4.7 MB/s eta 0:00:19\n",
      "   ---------------------------- ----------- 213.5/300.9 MB 4.7 MB/s eta 0:00:19\n",
      "   ---------------------------- ----------- 213.8/300.9 MB 4.7 MB/s eta 0:00:19\n",
      "   ---------------------------- ----------- 214.0/300.9 MB 4.7 MB/s eta 0:00:19\n",
      "   ---------------------------- ----------- 214.2/300.9 MB 4.7 MB/s eta 0:00:19\n",
      "   ---------------------------- ----------- 214.4/300.9 MB 4.7 MB/s eta 0:00:19\n",
      "   ---------------------------- ----------- 214.7/300.9 MB 4.7 MB/s eta 0:00:19\n",
      "   ---------------------------- ----------- 214.9/300.9 MB 4.7 MB/s eta 0:00:19\n",
      "   ---------------------------- ----------- 215.1/300.9 MB 4.7 MB/s eta 0:00:19\n",
      "   ---------------------------- ----------- 215.4/300.9 MB 4.7 MB/s eta 0:00:19\n",
      "   ---------------------------- ----------- 215.6/300.9 MB 4.8 MB/s eta 0:00:18\n",
      "   ---------------------------- ----------- 215.8/300.9 MB 4.7 MB/s eta 0:00:18\n",
      "   ---------------------------- ----------- 216.1/300.9 MB 4.7 MB/s eta 0:00:18\n",
      "   ---------------------------- ----------- 216.3/300.9 MB 4.7 MB/s eta 0:00:18\n",
      "   ---------------------------- ----------- 216.5/300.9 MB 4.7 MB/s eta 0:00:18\n",
      "   ---------------------------- ----------- 216.8/300.9 MB 4.8 MB/s eta 0:00:18\n",
      "   ---------------------------- ----------- 217.0/300.9 MB 4.8 MB/s eta 0:00:18\n",
      "   ---------------------------- ----------- 217.3/300.9 MB 4.8 MB/s eta 0:00:18\n",
      "   ---------------------------- ----------- 217.5/300.9 MB 4.8 MB/s eta 0:00:18\n",
      "   ---------------------------- ----------- 217.7/300.9 MB 4.8 MB/s eta 0:00:18\n",
      "   ---------------------------- ----------- 217.9/300.9 MB 4.8 MB/s eta 0:00:18\n",
      "   ----------------------------- ---------- 218.2/300.9 MB 4.8 MB/s eta 0:00:18\n",
      "   ----------------------------- ---------- 218.4/300.9 MB 4.8 MB/s eta 0:00:18\n",
      "   ----------------------------- ---------- 218.6/300.9 MB 4.8 MB/s eta 0:00:18\n",
      "   ----------------------------- ---------- 218.9/300.9 MB 4.8 MB/s eta 0:00:18\n",
      "   ----------------------------- ---------- 219.1/300.9 MB 4.8 MB/s eta 0:00:17\n",
      "   ----------------------------- ---------- 219.3/300.9 MB 4.8 MB/s eta 0:00:17\n",
      "   ----------------------------- ---------- 219.6/300.9 MB 4.8 MB/s eta 0:00:17\n",
      "   ----------------------------- ---------- 219.7/300.9 MB 4.8 MB/s eta 0:00:17\n",
      "   ----------------------------- ---------- 219.9/300.9 MB 4.8 MB/s eta 0:00:17\n",
      "   ----------------------------- ---------- 220.2/300.9 MB 4.8 MB/s eta 0:00:17\n",
      "   ----------------------------- ---------- 220.4/300.9 MB 4.8 MB/s eta 0:00:17\n",
      "   ----------------------------- ---------- 220.6/300.9 MB 4.8 MB/s eta 0:00:17\n",
      "   ----------------------------- ---------- 220.8/300.9 MB 4.8 MB/s eta 0:00:17\n",
      "   ----------------------------- ---------- 221.1/300.9 MB 4.8 MB/s eta 0:00:17\n",
      "   ----------------------------- ---------- 221.3/300.9 MB 4.8 MB/s eta 0:00:17\n",
      "   ----------------------------- ---------- 221.6/300.9 MB 4.8 MB/s eta 0:00:17\n",
      "   ----------------------------- ---------- 221.8/300.9 MB 4.8 MB/s eta 0:00:17\n",
      "   ----------------------------- ---------- 222.0/300.9 MB 4.8 MB/s eta 0:00:17\n",
      "   ----------------------------- ---------- 222.3/300.9 MB 4.8 MB/s eta 0:00:17\n",
      "   ----------------------------- ---------- 222.5/300.9 MB 4.9 MB/s eta 0:00:17\n",
      "   ----------------------------- ---------- 222.7/300.9 MB 4.9 MB/s eta 0:00:17\n",
      "   ----------------------------- ---------- 222.9/300.9 MB 4.8 MB/s eta 0:00:17\n",
      "   ----------------------------- ---------- 223.2/300.9 MB 4.8 MB/s eta 0:00:17\n",
      "   ----------------------------- ---------- 223.4/300.9 MB 4.8 MB/s eta 0:00:16\n",
      "   ----------------------------- ---------- 223.6/300.9 MB 4.8 MB/s eta 0:00:17\n",
      "   ----------------------------- ---------- 223.8/300.9 MB 4.9 MB/s eta 0:00:16\n",
      "   ----------------------------- ---------- 224.1/300.9 MB 4.9 MB/s eta 0:00:16\n",
      "   ----------------------------- ---------- 224.3/300.9 MB 4.9 MB/s eta 0:00:16\n",
      "   ----------------------------- ---------- 224.5/300.9 MB 4.9 MB/s eta 0:00:16\n",
      "   ----------------------------- ---------- 224.7/300.9 MB 4.8 MB/s eta 0:00:16\n",
      "   ----------------------------- ---------- 225.0/300.9 MB 4.8 MB/s eta 0:00:16\n",
      "   ----------------------------- ---------- 225.2/300.9 MB 4.8 MB/s eta 0:00:16\n",
      "   ----------------------------- ---------- 225.3/300.9 MB 4.8 MB/s eta 0:00:16\n",
      "   ----------------------------- ---------- 225.3/300.9 MB 4.8 MB/s eta 0:00:16\n",
      "   ----------------------------- ---------- 225.3/300.9 MB 4.8 MB/s eta 0:00:16\n",
      "   ----------------------------- ---------- 225.3/300.9 MB 4.8 MB/s eta 0:00:16\n",
      "   ----------------------------- ---------- 225.3/300.9 MB 4.8 MB/s eta 0:00:16\n",
      "   ----------------------------- ---------- 225.3/300.9 MB 4.8 MB/s eta 0:00:16\n",
      "   ----------------------------- ---------- 225.3/300.9 MB 4.8 MB/s eta 0:00:16\n",
      "   ----------------------------- ---------- 225.3/300.9 MB 4.8 MB/s eta 0:00:16\n",
      "   ----------------------------- ---------- 225.3/300.9 MB 4.8 MB/s eta 0:00:16\n",
      "   ----------------------------- ---------- 225.3/300.9 MB 4.8 MB/s eta 0:00:16\n",
      "   ----------------------------- ---------- 225.3/300.9 MB 4.8 MB/s eta 0:00:16\n",
      "   ----------------------------- ---------- 225.3/300.9 MB 4.8 MB/s eta 0:00:16\n",
      "   ----------------------------- ---------- 225.3/300.9 MB 4.8 MB/s eta 0:00:16\n",
      "   ----------------------------- ---------- 225.3/300.9 MB 4.8 MB/s eta 0:00:16\n",
      "   ----------------------------- ---------- 225.3/300.9 MB 4.8 MB/s eta 0:00:16\n",
      "   ----------------------------- ---------- 225.3/300.9 MB 4.8 MB/s eta 0:00:16\n",
      "   ----------------------------- ---------- 225.5/300.9 MB 3.6 MB/s eta 0:00:22\n",
      "   ----------------------------- ---------- 225.7/300.9 MB 3.6 MB/s eta 0:00:22\n",
      "   ------------------------------ --------- 225.9/300.9 MB 3.5 MB/s eta 0:00:22\n",
      "   ------------------------------ --------- 226.1/300.9 MB 3.5 MB/s eta 0:00:22\n",
      "   ------------------------------ --------- 226.3/300.9 MB 3.5 MB/s eta 0:00:22\n",
      "   ------------------------------ --------- 226.6/300.9 MB 3.5 MB/s eta 0:00:22\n",
      "   ------------------------------ --------- 226.8/300.9 MB 3.5 MB/s eta 0:00:22\n",
      "   ------------------------------ --------- 227.0/300.9 MB 3.5 MB/s eta 0:00:21\n",
      "   ------------------------------ --------- 227.2/300.9 MB 3.5 MB/s eta 0:00:21\n",
      "   ------------------------------ --------- 227.5/300.9 MB 3.5 MB/s eta 0:00:21\n",
      "   ------------------------------ --------- 227.7/300.9 MB 3.5 MB/s eta 0:00:21\n",
      "   ------------------------------ --------- 227.9/300.9 MB 3.5 MB/s eta 0:00:21\n",
      "   ------------------------------ --------- 228.1/300.9 MB 3.5 MB/s eta 0:00:21\n",
      "   ------------------------------ --------- 228.4/300.9 MB 3.5 MB/s eta 0:00:21\n",
      "   ------------------------------ --------- 228.6/300.9 MB 3.5 MB/s eta 0:00:21\n",
      "   ------------------------------ --------- 228.8/300.9 MB 3.5 MB/s eta 0:00:21\n",
      "   ------------------------------ --------- 229.1/300.9 MB 3.5 MB/s eta 0:00:21\n",
      "   ------------------------------ --------- 229.3/300.9 MB 3.5 MB/s eta 0:00:21\n",
      "   ------------------------------ --------- 229.5/300.9 MB 3.5 MB/s eta 0:00:21\n",
      "   ------------------------------ --------- 229.7/300.9 MB 3.5 MB/s eta 0:00:21\n",
      "   ------------------------------ --------- 230.0/300.9 MB 3.5 MB/s eta 0:00:21\n",
      "   ------------------------------ --------- 230.2/300.9 MB 3.5 MB/s eta 0:00:20\n",
      "   ------------------------------ --------- 230.4/300.9 MB 3.5 MB/s eta 0:00:21\n",
      "   ------------------------------ --------- 230.6/300.9 MB 3.5 MB/s eta 0:00:20\n",
      "   ------------------------------ --------- 230.9/300.9 MB 3.5 MB/s eta 0:00:20\n",
      "   ------------------------------ --------- 231.1/300.9 MB 3.5 MB/s eta 0:00:20\n",
      "   ------------------------------ --------- 231.3/300.9 MB 3.5 MB/s eta 0:00:20\n",
      "   ------------------------------ --------- 231.5/300.9 MB 3.5 MB/s eta 0:00:20\n",
      "   ------------------------------ --------- 231.7/300.9 MB 3.5 MB/s eta 0:00:20\n",
      "   ------------------------------ --------- 232.0/300.9 MB 3.5 MB/s eta 0:00:20\n",
      "   ------------------------------ --------- 232.2/300.9 MB 3.5 MB/s eta 0:00:20\n",
      "   ------------------------------ --------- 232.5/300.9 MB 3.5 MB/s eta 0:00:20\n",
      "   ------------------------------ --------- 232.7/300.9 MB 3.5 MB/s eta 0:00:20\n",
      "   ------------------------------ --------- 232.9/300.9 MB 3.5 MB/s eta 0:00:20\n",
      "   ------------------------------ --------- 233.1/300.9 MB 3.5 MB/s eta 0:00:20\n",
      "   ------------------------------- -------- 233.4/300.9 MB 3.5 MB/s eta 0:00:20\n",
      "   ------------------------------- -------- 233.6/300.9 MB 3.5 MB/s eta 0:00:20\n",
      "   ------------------------------- -------- 233.8/300.9 MB 3.6 MB/s eta 0:00:19\n",
      "   ------------------------------- -------- 234.1/300.9 MB 3.5 MB/s eta 0:00:19\n",
      "   ------------------------------- -------- 234.3/300.9 MB 3.5 MB/s eta 0:00:19\n",
      "   ------------------------------- -------- 234.5/300.9 MB 3.5 MB/s eta 0:00:19\n",
      "   ------------------------------- -------- 234.8/300.9 MB 3.5 MB/s eta 0:00:19\n",
      "   ------------------------------- -------- 235.0/300.9 MB 3.5 MB/s eta 0:00:19\n",
      "   ------------------------------- -------- 235.2/300.9 MB 3.5 MB/s eta 0:00:19\n",
      "   ------------------------------- -------- 235.5/300.9 MB 3.5 MB/s eta 0:00:19\n",
      "   ------------------------------- -------- 235.7/300.9 MB 4.8 MB/s eta 0:00:14\n",
      "   ------------------------------- -------- 235.9/300.9 MB 4.8 MB/s eta 0:00:14\n",
      "   ------------------------------- -------- 236.1/300.9 MB 4.8 MB/s eta 0:00:14\n",
      "   ------------------------------- -------- 236.4/300.9 MB 4.8 MB/s eta 0:00:14\n",
      "   ------------------------------- -------- 236.6/300.9 MB 4.8 MB/s eta 0:00:14\n",
      "   ------------------------------- -------- 236.8/300.9 MB 4.8 MB/s eta 0:00:14\n",
      "   ------------------------------- -------- 237.0/300.9 MB 4.8 MB/s eta 0:00:14\n",
      "   ------------------------------- -------- 237.3/300.9 MB 4.8 MB/s eta 0:00:14\n",
      "   ------------------------------- -------- 237.5/300.9 MB 4.8 MB/s eta 0:00:14\n",
      "   ------------------------------- -------- 237.7/300.9 MB 4.8 MB/s eta 0:00:14\n",
      "   ------------------------------- -------- 237.9/300.9 MB 4.8 MB/s eta 0:00:14\n",
      "   ------------------------------- -------- 238.2/300.9 MB 4.8 MB/s eta 0:00:14\n",
      "   ------------------------------- -------- 238.4/300.9 MB 4.8 MB/s eta 0:00:13\n",
      "   ------------------------------- -------- 238.6/300.9 MB 4.8 MB/s eta 0:00:13\n",
      "   ------------------------------- -------- 238.8/300.9 MB 4.8 MB/s eta 0:00:13\n",
      "   ------------------------------- -------- 239.1/300.9 MB 4.8 MB/s eta 0:00:13\n",
      "   ------------------------------- -------- 239.2/300.9 MB 4.8 MB/s eta 0:00:13\n",
      "   ------------------------------- -------- 239.5/300.9 MB 4.7 MB/s eta 0:00:13\n",
      "   ------------------------------- -------- 239.6/300.9 MB 4.7 MB/s eta 0:00:13\n",
      "   ------------------------------- -------- 239.8/300.9 MB 4.7 MB/s eta 0:00:13\n",
      "   ------------------------------- -------- 240.0/300.9 MB 4.7 MB/s eta 0:00:13\n",
      "   ------------------------------- -------- 240.2/300.9 MB 4.7 MB/s eta 0:00:13\n",
      "   ------------------------------- -------- 240.4/300.9 MB 4.6 MB/s eta 0:00:14\n",
      "   ------------------------------- -------- 240.5/300.9 MB 4.6 MB/s eta 0:00:14\n",
      "   -------------------------------- ------- 240.8/300.9 MB 4.7 MB/s eta 0:00:13\n",
      "   -------------------------------- ------- 241.0/300.9 MB 4.6 MB/s eta 0:00:14\n",
      "   -------------------------------- ------- 241.1/300.9 MB 4.6 MB/s eta 0:00:13\n",
      "   -------------------------------- ------- 241.3/300.9 MB 4.6 MB/s eta 0:00:14\n",
      "   -------------------------------- ------- 241.5/300.9 MB 4.6 MB/s eta 0:00:13\n",
      "   -------------------------------- ------- 241.7/300.9 MB 4.6 MB/s eta 0:00:13\n",
      "   -------------------------------- ------- 241.8/300.9 MB 4.5 MB/s eta 0:00:14\n",
      "   -------------------------------- ------- 242.0/300.9 MB 4.5 MB/s eta 0:00:14\n",
      "   -------------------------------- ------- 242.2/300.9 MB 4.5 MB/s eta 0:00:13\n",
      "   -------------------------------- ------- 242.4/300.9 MB 4.5 MB/s eta 0:00:13\n",
      "   -------------------------------- ------- 242.6/300.9 MB 4.5 MB/s eta 0:00:14\n",
      "   -------------------------------- ------- 242.8/300.9 MB 4.5 MB/s eta 0:00:14\n",
      "   -------------------------------- ------- 243.0/300.9 MB 4.4 MB/s eta 0:00:14\n",
      "   -------------------------------- ------- 243.2/300.9 MB 4.4 MB/s eta 0:00:14\n",
      "   -------------------------------- ------- 243.4/300.9 MB 4.4 MB/s eta 0:00:14\n",
      "   -------------------------------- ------- 243.6/300.9 MB 4.4 MB/s eta 0:00:14\n",
      "   -------------------------------- ------- 243.8/300.9 MB 4.4 MB/s eta 0:00:14\n",
      "   -------------------------------- ------- 244.0/300.9 MB 4.4 MB/s eta 0:00:14\n",
      "   -------------------------------- ------- 244.2/300.9 MB 4.3 MB/s eta 0:00:14\n",
      "   -------------------------------- ------- 244.4/300.9 MB 4.4 MB/s eta 0:00:13\n",
      "   -------------------------------- ------- 244.6/300.9 MB 4.4 MB/s eta 0:00:13\n",
      "   -------------------------------- ------- 244.8/300.9 MB 4.3 MB/s eta 0:00:14\n",
      "   -------------------------------- ------- 245.0/300.9 MB 4.3 MB/s eta 0:00:13\n",
      "   -------------------------------- ------- 245.2/300.9 MB 4.3 MB/s eta 0:00:13\n",
      "   -------------------------------- ------- 245.4/300.9 MB 4.3 MB/s eta 0:00:13\n",
      "   -------------------------------- ------- 245.6/300.9 MB 4.3 MB/s eta 0:00:13\n",
      "   -------------------------------- ------- 245.8/300.9 MB 4.3 MB/s eta 0:00:13\n",
      "   -------------------------------- ------- 246.0/300.9 MB 4.3 MB/s eta 0:00:13\n",
      "   -------------------------------- ------- 246.2/300.9 MB 4.3 MB/s eta 0:00:13\n",
      "   -------------------------------- ------- 246.4/300.9 MB 4.3 MB/s eta 0:00:13\n",
      "   -------------------------------- ------- 246.7/300.9 MB 4.3 MB/s eta 0:00:13\n",
      "   -------------------------------- ------- 246.9/300.9 MB 4.2 MB/s eta 0:00:13\n",
      "   -------------------------------- ------- 247.1/300.9 MB 4.2 MB/s eta 0:00:13\n",
      "   -------------------------------- ------- 247.3/300.9 MB 4.3 MB/s eta 0:00:13\n",
      "   -------------------------------- ------- 247.5/300.9 MB 4.2 MB/s eta 0:00:13\n",
      "   -------------------------------- ------- 247.7/300.9 MB 4.2 MB/s eta 0:00:13\n",
      "   -------------------------------- ------- 247.9/300.9 MB 4.2 MB/s eta 0:00:13\n",
      "   -------------------------------- ------- 248.1/300.9 MB 4.2 MB/s eta 0:00:13\n",
      "   --------------------------------- ------ 248.3/300.9 MB 4.2 MB/s eta 0:00:13\n",
      "   --------------------------------- ------ 248.5/300.9 MB 4.2 MB/s eta 0:00:13\n",
      "   --------------------------------- ------ 248.7/300.9 MB 4.2 MB/s eta 0:00:13\n",
      "   --------------------------------- ------ 248.9/300.9 MB 4.2 MB/s eta 0:00:13\n",
      "   --------------------------------- ------ 249.1/300.9 MB 4.1 MB/s eta 0:00:13\n",
      "   --------------------------------- ------ 249.2/300.9 MB 4.1 MB/s eta 0:00:13\n",
      "   --------------------------------- ------ 249.5/300.9 MB 4.1 MB/s eta 0:00:13\n",
      "   --------------------------------- ------ 249.7/300.9 MB 4.1 MB/s eta 0:00:13\n",
      "   --------------------------------- ------ 249.8/300.9 MB 4.1 MB/s eta 0:00:13\n",
      "   --------------------------------- ------ 250.1/300.9 MB 4.1 MB/s eta 0:00:13\n",
      "   --------------------------------- ------ 250.3/300.9 MB 4.2 MB/s eta 0:00:13\n",
      "   --------------------------------- ------ 250.5/300.9 MB 4.2 MB/s eta 0:00:13\n",
      "   --------------------------------- ------ 250.7/300.9 MB 4.2 MB/s eta 0:00:12\n",
      "   --------------------------------- ------ 250.9/300.9 MB 4.2 MB/s eta 0:00:12\n",
      "   --------------------------------- ------ 251.1/300.9 MB 4.2 MB/s eta 0:00:12\n",
      "   --------------------------------- ------ 251.3/300.9 MB 4.2 MB/s eta 0:00:12\n",
      "   --------------------------------- ------ 251.5/300.9 MB 4.2 MB/s eta 0:00:12\n",
      "   --------------------------------- ------ 251.7/300.9 MB 4.2 MB/s eta 0:00:12\n",
      "   --------------------------------- ------ 251.9/300.9 MB 4.2 MB/s eta 0:00:12\n",
      "   --------------------------------- ------ 252.1/300.9 MB 4.2 MB/s eta 0:00:12\n",
      "   --------------------------------- ------ 252.3/300.9 MB 4.3 MB/s eta 0:00:12\n",
      "   --------------------------------- ------ 252.5/300.9 MB 4.2 MB/s eta 0:00:12\n",
      "   --------------------------------- ------ 252.6/300.9 MB 4.2 MB/s eta 0:00:12\n",
      "   --------------------------------- ------ 252.9/300.9 MB 4.3 MB/s eta 0:00:12\n",
      "   --------------------------------- ------ 253.1/300.9 MB 4.2 MB/s eta 0:00:12\n",
      "   --------------------------------- ------ 253.2/300.9 MB 4.2 MB/s eta 0:00:12\n",
      "   --------------------------------- ------ 253.4/300.9 MB 4.2 MB/s eta 0:00:12\n",
      "   --------------------------------- ------ 253.7/300.9 MB 4.3 MB/s eta 0:00:12\n",
      "   --------------------------------- ------ 253.9/300.9 MB 4.3 MB/s eta 0:00:11\n",
      "   --------------------------------- ------ 254.1/300.9 MB 4.3 MB/s eta 0:00:11\n",
      "   --------------------------------- ------ 254.4/300.9 MB 4.3 MB/s eta 0:00:11\n",
      "   --------------------------------- ------ 254.6/300.9 MB 4.3 MB/s eta 0:00:11\n",
      "   --------------------------------- ------ 254.8/300.9 MB 4.3 MB/s eta 0:00:11\n",
      "   --------------------------------- ------ 255.0/300.9 MB 4.3 MB/s eta 0:00:11\n",
      "   --------------------------------- ------ 255.2/300.9 MB 4.3 MB/s eta 0:00:11\n",
      "   --------------------------------- ------ 255.4/300.9 MB 4.3 MB/s eta 0:00:11\n",
      "   --------------------------------- ------ 255.7/300.9 MB 4.3 MB/s eta 0:00:11\n",
      "   ---------------------------------- ----- 255.9/300.9 MB 4.3 MB/s eta 0:00:11\n",
      "   ---------------------------------- ----- 256.1/300.9 MB 4.3 MB/s eta 0:00:11\n",
      "   ---------------------------------- ----- 256.3/300.9 MB 4.4 MB/s eta 0:00:11\n",
      "   ---------------------------------- ----- 256.5/300.9 MB 4.3 MB/s eta 0:00:11\n",
      "   ---------------------------------- ----- 256.8/300.9 MB 4.3 MB/s eta 0:00:11\n",
      "   ---------------------------------- ----- 257.0/300.9 MB 4.4 MB/s eta 0:00:11\n",
      "   ---------------------------------- ----- 257.2/300.9 MB 4.4 MB/s eta 0:00:11\n",
      "   ---------------------------------- ----- 257.4/300.9 MB 4.4 MB/s eta 0:00:10\n",
      "   ---------------------------------- ----- 257.7/300.9 MB 4.4 MB/s eta 0:00:10\n",
      "   ---------------------------------- ----- 257.9/300.9 MB 4.4 MB/s eta 0:00:10\n",
      "   ---------------------------------- ----- 258.1/300.9 MB 4.4 MB/s eta 0:00:10\n",
      "   ---------------------------------- ----- 258.3/300.9 MB 4.4 MB/s eta 0:00:10\n",
      "   ---------------------------------- ----- 258.5/300.9 MB 4.4 MB/s eta 0:00:10\n",
      "   ---------------------------------- ----- 258.7/300.9 MB 4.5 MB/s eta 0:00:10\n",
      "   ---------------------------------- ----- 259.0/300.9 MB 4.4 MB/s eta 0:00:10\n",
      "   ---------------------------------- ----- 259.2/300.9 MB 4.5 MB/s eta 0:00:10\n",
      "   ---------------------------------- ----- 259.4/300.9 MB 4.5 MB/s eta 0:00:10\n",
      "   ---------------------------------- ----- 259.7/300.9 MB 4.5 MB/s eta 0:00:10\n",
      "   ---------------------------------- ----- 259.9/300.9 MB 4.5 MB/s eta 0:00:10\n",
      "   ---------------------------------- ----- 260.1/300.9 MB 4.5 MB/s eta 0:00:10\n",
      "   ---------------------------------- ----- 260.3/300.9 MB 4.5 MB/s eta 0:00:09\n",
      "   ---------------------------------- ----- 260.5/300.9 MB 4.5 MB/s eta 0:00:10\n",
      "   ---------------------------------- ----- 260.7/300.9 MB 4.5 MB/s eta 0:00:09\n",
      "   ---------------------------------- ----- 260.9/300.9 MB 4.5 MB/s eta 0:00:09\n",
      "   ---------------------------------- ----- 261.2/300.9 MB 4.5 MB/s eta 0:00:09\n",
      "   ---------------------------------- ----- 261.4/300.9 MB 4.5 MB/s eta 0:00:09\n",
      "   ---------------------------------- ----- 261.4/300.9 MB 4.5 MB/s eta 0:00:09\n",
      "   ---------------------------------- ----- 261.6/300.9 MB 4.4 MB/s eta 0:00:09\n",
      "   ---------------------------------- ----- 261.8/300.9 MB 4.4 MB/s eta 0:00:09\n",
      "   ---------------------------------- ----- 262.1/300.9 MB 4.5 MB/s eta 0:00:09\n",
      "   ---------------------------------- ----- 262.2/300.9 MB 4.5 MB/s eta 0:00:09\n",
      "   ---------------------------------- ----- 262.5/300.9 MB 4.5 MB/s eta 0:00:09\n",
      "   ---------------------------------- ----- 262.7/300.9 MB 4.5 MB/s eta 0:00:09\n",
      "   ---------------------------------- ----- 262.9/300.9 MB 4.5 MB/s eta 0:00:09\n",
      "   ---------------------------------- ----- 263.1/300.9 MB 4.5 MB/s eta 0:00:09\n",
      "   ---------------------------------- ----- 263.3/300.9 MB 4.5 MB/s eta 0:00:09\n",
      "   ----------------------------------- ---- 263.4/300.9 MB 4.5 MB/s eta 0:00:09\n",
      "   ----------------------------------- ---- 263.6/300.9 MB 4.5 MB/s eta 0:00:09\n",
      "   ----------------------------------- ---- 263.8/300.9 MB 4.5 MB/s eta 0:00:09\n",
      "   ----------------------------------- ---- 264.0/300.9 MB 4.5 MB/s eta 0:00:09\n",
      "   ----------------------------------- ---- 264.2/300.9 MB 4.5 MB/s eta 0:00:09\n",
      "   ----------------------------------- ---- 264.4/300.9 MB 4.4 MB/s eta 0:00:09\n",
      "   ----------------------------------- ---- 264.6/300.9 MB 4.4 MB/s eta 0:00:09\n",
      "   ----------------------------------- ---- 264.8/300.9 MB 4.4 MB/s eta 0:00:09\n",
      "   ----------------------------------- ---- 265.0/300.9 MB 4.4 MB/s eta 0:00:09\n",
      "   ----------------------------------- ---- 265.2/300.9 MB 4.4 MB/s eta 0:00:09\n",
      "   ----------------------------------- ---- 265.3/300.9 MB 4.4 MB/s eta 0:00:09\n",
      "   ----------------------------------- ---- 265.5/300.9 MB 4.4 MB/s eta 0:00:09\n",
      "   ----------------------------------- ---- 265.7/300.9 MB 4.3 MB/s eta 0:00:09\n",
      "   ----------------------------------- ---- 265.8/300.9 MB 4.3 MB/s eta 0:00:09\n",
      "   ----------------------------------- ---- 266.0/300.9 MB 4.3 MB/s eta 0:00:09\n",
      "   ----------------------------------- ---- 266.2/300.9 MB 4.3 MB/s eta 0:00:09\n",
      "   ----------------------------------- ---- 266.4/300.9 MB 4.3 MB/s eta 0:00:09\n",
      "   ----------------------------------- ---- 266.6/300.9 MB 4.2 MB/s eta 0:00:09\n",
      "   ----------------------------------- ---- 266.7/300.9 MB 4.2 MB/s eta 0:00:09\n",
      "   ----------------------------------- ---- 266.9/300.9 MB 4.2 MB/s eta 0:00:09\n",
      "   ----------------------------------- ---- 267.1/300.9 MB 4.2 MB/s eta 0:00:09\n",
      "   ----------------------------------- ---- 267.3/300.9 MB 4.2 MB/s eta 0:00:09\n",
      "   ----------------------------------- ---- 267.5/300.9 MB 4.2 MB/s eta 0:00:09\n",
      "   ----------------------------------- ---- 267.7/300.9 MB 4.1 MB/s eta 0:00:09\n",
      "   ----------------------------------- ---- 267.9/300.9 MB 4.2 MB/s eta 0:00:08\n",
      "   ----------------------------------- ---- 268.1/300.9 MB 4.1 MB/s eta 0:00:08\n",
      "   ----------------------------------- ---- 268.3/300.9 MB 4.1 MB/s eta 0:00:08\n",
      "   ----------------------------------- ---- 268.5/300.9 MB 4.1 MB/s eta 0:00:08\n",
      "   ----------------------------------- ---- 268.6/300.9 MB 4.1 MB/s eta 0:00:08\n",
      "   ----------------------------------- ---- 268.9/300.9 MB 4.1 MB/s eta 0:00:08\n",
      "   ----------------------------------- ---- 269.0/300.9 MB 4.1 MB/s eta 0:00:08\n",
      "   ----------------------------------- ---- 269.2/300.9 MB 4.1 MB/s eta 0:00:08\n",
      "   ----------------------------------- ---- 269.5/300.9 MB 4.1 MB/s eta 0:00:08\n",
      "   ----------------------------------- ---- 269.7/300.9 MB 4.1 MB/s eta 0:00:08\n",
      "   ----------------------------------- ---- 269.9/300.9 MB 4.0 MB/s eta 0:00:08\n",
      "   ----------------------------------- ---- 270.1/300.9 MB 4.1 MB/s eta 0:00:08\n",
      "   ----------------------------------- ---- 270.3/300.9 MB 4.0 MB/s eta 0:00:08\n",
      "   ----------------------------------- ---- 270.5/300.9 MB 4.0 MB/s eta 0:00:08\n",
      "   ----------------------------------- ---- 270.7/300.9 MB 4.1 MB/s eta 0:00:08\n",
      "   ------------------------------------ --- 271.0/300.9 MB 4.1 MB/s eta 0:00:08\n",
      "   ------------------------------------ --- 271.2/300.9 MB 4.1 MB/s eta 0:00:08\n",
      "   ------------------------------------ --- 271.4/300.9 MB 4.0 MB/s eta 0:00:08\n",
      "   ------------------------------------ --- 271.6/300.9 MB 4.2 MB/s eta 0:00:08\n",
      "   ------------------------------------ --- 271.8/300.9 MB 4.1 MB/s eta 0:00:08\n",
      "   ------------------------------------ --- 272.0/300.9 MB 4.1 MB/s eta 0:00:08\n",
      "   ------------------------------------ --- 272.2/300.9 MB 4.1 MB/s eta 0:00:07\n",
      "   ------------------------------------ --- 272.4/300.9 MB 4.1 MB/s eta 0:00:07\n",
      "   ------------------------------------ --- 272.6/300.9 MB 4.1 MB/s eta 0:00:07\n",
      "   ------------------------------------ --- 272.8/300.9 MB 4.1 MB/s eta 0:00:07\n",
      "   ------------------------------------ --- 273.0/300.9 MB 4.1 MB/s eta 0:00:07\n",
      "   ------------------------------------ --- 273.2/300.9 MB 4.1 MB/s eta 0:00:07\n",
      "   ------------------------------------ --- 273.4/300.9 MB 4.1 MB/s eta 0:00:07\n",
      "   ------------------------------------ --- 273.6/300.9 MB 4.1 MB/s eta 0:00:07\n",
      "   ------------------------------------ --- 273.8/300.9 MB 4.1 MB/s eta 0:00:07\n",
      "   ------------------------------------ --- 274.1/300.9 MB 4.2 MB/s eta 0:00:07\n",
      "   ------------------------------------ --- 274.3/300.9 MB 4.1 MB/s eta 0:00:07\n",
      "   ------------------------------------ --- 274.5/300.9 MB 4.2 MB/s eta 0:00:07\n",
      "   ------------------------------------ --- 274.7/300.9 MB 4.2 MB/s eta 0:00:07\n",
      "   ------------------------------------ --- 275.0/300.9 MB 4.2 MB/s eta 0:00:07\n",
      "   ------------------------------------ --- 275.2/300.9 MB 4.2 MB/s eta 0:00:07\n",
      "   ------------------------------------ --- 275.4/300.9 MB 4.3 MB/s eta 0:00:07\n",
      "   ------------------------------------ --- 275.6/300.9 MB 4.3 MB/s eta 0:00:06\n",
      "   ------------------------------------ --- 275.8/300.9 MB 4.3 MB/s eta 0:00:06\n",
      "   ------------------------------------ --- 276.0/300.9 MB 4.3 MB/s eta 0:00:06\n",
      "   ------------------------------------ --- 276.2/300.9 MB 4.3 MB/s eta 0:00:06\n",
      "   ------------------------------------ --- 276.4/300.9 MB 4.3 MB/s eta 0:00:06\n",
      "   ------------------------------------ --- 276.7/300.9 MB 4.3 MB/s eta 0:00:06\n",
      "   ------------------------------------ --- 276.9/300.9 MB 4.3 MB/s eta 0:00:06\n",
      "   ------------------------------------ --- 277.0/300.9 MB 4.3 MB/s eta 0:00:06\n",
      "   ------------------------------------ --- 277.2/300.9 MB 4.3 MB/s eta 0:00:06\n",
      "   ------------------------------------ --- 277.5/300.9 MB 4.3 MB/s eta 0:00:06\n",
      "   ------------------------------------ --- 277.6/300.9 MB 4.4 MB/s eta 0:00:06\n",
      "   ------------------------------------ --- 277.9/300.9 MB 4.4 MB/s eta 0:00:06\n",
      "   ------------------------------------ --- 278.1/300.9 MB 4.4 MB/s eta 0:00:06\n",
      "   ------------------------------------ --- 278.3/300.9 MB 4.4 MB/s eta 0:00:06\n",
      "   ------------------------------------- -- 278.5/300.9 MB 4.4 MB/s eta 0:00:06\n",
      "   ------------------------------------- -- 278.7/300.9 MB 4.5 MB/s eta 0:00:05\n",
      "   ------------------------------------- -- 278.9/300.9 MB 4.4 MB/s eta 0:00:05\n",
      "   ------------------------------------- -- 279.1/300.9 MB 4.4 MB/s eta 0:00:05\n",
      "   ------------------------------------- -- 279.3/300.9 MB 4.4 MB/s eta 0:00:05\n",
      "   ------------------------------------- -- 279.5/300.9 MB 4.4 MB/s eta 0:00:05\n",
      "   ------------------------------------- -- 279.7/300.9 MB 4.4 MB/s eta 0:00:05\n",
      "   ------------------------------------- -- 279.8/300.9 MB 4.4 MB/s eta 0:00:05\n",
      "   ------------------------------------- -- 280.0/300.9 MB 4.4 MB/s eta 0:00:05\n",
      "   ------------------------------------- -- 280.1/300.9 MB 4.3 MB/s eta 0:00:05\n",
      "   ------------------------------------- -- 280.3/300.9 MB 4.3 MB/s eta 0:00:05\n",
      "   ------------------------------------- -- 280.5/300.9 MB 4.3 MB/s eta 0:00:05\n",
      "   ------------------------------------- -- 280.7/300.9 MB 4.3 MB/s eta 0:00:05\n",
      "   ------------------------------------- -- 280.8/300.9 MB 4.3 MB/s eta 0:00:05\n",
      "   ------------------------------------- -- 281.0/300.9 MB 4.3 MB/s eta 0:00:05\n",
      "   ------------------------------------- -- 281.2/300.9 MB 4.3 MB/s eta 0:00:05\n",
      "   ------------------------------------- -- 281.4/300.9 MB 4.2 MB/s eta 0:00:05\n",
      "   ------------------------------------- -- 281.5/300.9 MB 4.2 MB/s eta 0:00:05\n",
      "   ------------------------------------- -- 281.7/300.9 MB 4.2 MB/s eta 0:00:05\n",
      "   ------------------------------------- -- 281.9/300.9 MB 4.1 MB/s eta 0:00:05\n",
      "   ------------------------------------- -- 282.1/300.9 MB 4.2 MB/s eta 0:00:05\n",
      "   ------------------------------------- -- 282.3/300.9 MB 4.2 MB/s eta 0:00:05\n",
      "   ------------------------------------- -- 282.4/300.9 MB 4.2 MB/s eta 0:00:05\n",
      "   ------------------------------------- -- 282.6/300.9 MB 4.1 MB/s eta 0:00:05\n",
      "   ------------------------------------- -- 282.8/300.9 MB 4.1 MB/s eta 0:00:05\n",
      "   ------------------------------------- -- 283.0/300.9 MB 4.1 MB/s eta 0:00:05\n",
      "   ------------------------------------- -- 283.2/300.9 MB 4.1 MB/s eta 0:00:05\n",
      "   ------------------------------------- -- 283.4/300.9 MB 4.1 MB/s eta 0:00:05\n",
      "   ------------------------------------- -- 283.6/300.9 MB 4.1 MB/s eta 0:00:05\n",
      "   ------------------------------------- -- 283.8/300.9 MB 4.1 MB/s eta 0:00:05\n",
      "   ------------------------------------- -- 283.9/300.9 MB 4.1 MB/s eta 0:00:05\n",
      "   ------------------------------------- -- 284.2/300.9 MB 4.1 MB/s eta 0:00:05\n",
      "   ------------------------------------- -- 284.3/300.9 MB 4.1 MB/s eta 0:00:05\n",
      "   ------------------------------------- -- 284.5/300.9 MB 4.1 MB/s eta 0:00:05\n",
      "   ------------------------------------- -- 284.7/300.9 MB 4.1 MB/s eta 0:00:04\n",
      "   ------------------------------------- -- 284.9/300.9 MB 4.0 MB/s eta 0:00:04\n",
      "   ------------------------------------- -- 285.1/300.9 MB 4.0 MB/s eta 0:00:04\n",
      "   ------------------------------------- -- 285.3/300.9 MB 4.0 MB/s eta 0:00:04\n",
      "   ------------------------------------- -- 285.5/300.9 MB 4.0 MB/s eta 0:00:04\n",
      "   ------------------------------------- -- 285.7/300.9 MB 4.0 MB/s eta 0:00:04\n",
      "   ------------------------------------- -- 285.8/300.9 MB 4.0 MB/s eta 0:00:04\n",
      "   -------------------------------------- - 286.0/300.9 MB 4.0 MB/s eta 0:00:04\n",
      "   -------------------------------------- - 286.2/300.9 MB 4.0 MB/s eta 0:00:04\n",
      "   -------------------------------------- - 286.5/300.9 MB 4.0 MB/s eta 0:00:04\n",
      "   -------------------------------------- - 286.6/300.9 MB 4.0 MB/s eta 0:00:04\n",
      "   -------------------------------------- - 286.8/300.9 MB 4.0 MB/s eta 0:00:04\n",
      "   -------------------------------------- - 287.0/300.9 MB 4.0 MB/s eta 0:00:04\n",
      "   -------------------------------------- - 287.2/300.9 MB 4.0 MB/s eta 0:00:04\n",
      "   -------------------------------------- - 287.4/300.9 MB 4.0 MB/s eta 0:00:04\n",
      "   -------------------------------------- - 287.6/300.9 MB 4.0 MB/s eta 0:00:04\n",
      "   -------------------------------------- - 287.8/300.9 MB 4.0 MB/s eta 0:00:04\n",
      "   -------------------------------------- - 288.0/300.9 MB 4.0 MB/s eta 0:00:04\n",
      "   -------------------------------------- - 288.2/300.9 MB 3.9 MB/s eta 0:00:04\n",
      "   -------------------------------------- - 288.4/300.9 MB 4.0 MB/s eta 0:00:04\n",
      "   -------------------------------------- - 288.6/300.9 MB 3.9 MB/s eta 0:00:04\n",
      "   -------------------------------------- - 288.8/300.9 MB 3.9 MB/s eta 0:00:04\n",
      "   -------------------------------------- - 288.9/300.9 MB 3.9 MB/s eta 0:00:04\n",
      "   -------------------------------------- - 289.1/300.9 MB 3.9 MB/s eta 0:00:04\n",
      "   -------------------------------------- - 289.3/300.9 MB 3.9 MB/s eta 0:00:03\n",
      "   -------------------------------------- - 289.5/300.9 MB 3.9 MB/s eta 0:00:03\n",
      "   -------------------------------------- - 289.7/300.9 MB 3.9 MB/s eta 0:00:03\n",
      "   -------------------------------------- - 289.9/300.9 MB 3.9 MB/s eta 0:00:03\n",
      "   -------------------------------------- - 290.1/300.9 MB 3.9 MB/s eta 0:00:03\n",
      "   -------------------------------------- - 290.3/300.9 MB 3.9 MB/s eta 0:00:03\n",
      "   -------------------------------------- - 290.5/300.9 MB 4.0 MB/s eta 0:00:03\n",
      "   -------------------------------------- - 290.7/300.9 MB 4.0 MB/s eta 0:00:03\n",
      "   -------------------------------------- - 290.8/300.9 MB 4.0 MB/s eta 0:00:03\n",
      "   -------------------------------------- - 291.0/300.9 MB 4.0 MB/s eta 0:00:03\n",
      "   -------------------------------------- - 291.2/300.9 MB 4.0 MB/s eta 0:00:03\n",
      "   -------------------------------------- - 291.4/300.9 MB 4.0 MB/s eta 0:00:03\n",
      "   -------------------------------------- - 291.6/300.9 MB 4.0 MB/s eta 0:00:03\n",
      "   -------------------------------------- - 291.8/300.9 MB 4.0 MB/s eta 0:00:03\n",
      "   -------------------------------------- - 292.0/300.9 MB 4.0 MB/s eta 0:00:03\n",
      "   -------------------------------------- - 292.1/300.9 MB 4.0 MB/s eta 0:00:03\n",
      "   -------------------------------------- - 292.3/300.9 MB 4.0 MB/s eta 0:00:03\n",
      "   -------------------------------------- - 292.5/300.9 MB 4.0 MB/s eta 0:00:03\n",
      "   -------------------------------------- - 292.7/300.9 MB 4.0 MB/s eta 0:00:03\n",
      "   -------------------------------------- - 292.8/300.9 MB 4.0 MB/s eta 0:00:03\n",
      "   -------------------------------------- - 293.0/300.9 MB 4.0 MB/s eta 0:00:02\n",
      "   -------------------------------------- - 293.2/300.9 MB 4.0 MB/s eta 0:00:02\n",
      "   -------------------------------------- - 293.4/300.9 MB 4.0 MB/s eta 0:00:02\n",
      "   ---------------------------------------  293.6/300.9 MB 4.0 MB/s eta 0:00:02\n",
      "   ---------------------------------------  293.8/300.9 MB 4.0 MB/s eta 0:00:02\n",
      "   ---------------------------------------  294.0/300.9 MB 4.0 MB/s eta 0:00:02\n",
      "   ---------------------------------------  294.2/300.9 MB 4.0 MB/s eta 0:00:02\n",
      "   ---------------------------------------  294.4/300.9 MB 4.0 MB/s eta 0:00:02\n",
      "   ---------------------------------------  294.6/300.9 MB 4.0 MB/s eta 0:00:02\n",
      "   ---------------------------------------  294.7/300.9 MB 4.0 MB/s eta 0:00:02\n",
      "   ---------------------------------------  295.0/300.9 MB 4.0 MB/s eta 0:00:02\n",
      "   ---------------------------------------  295.1/300.9 MB 4.0 MB/s eta 0:00:02\n",
      "   ---------------------------------------  295.3/300.9 MB 4.0 MB/s eta 0:00:02\n",
      "   ---------------------------------------  295.5/300.9 MB 4.0 MB/s eta 0:00:02\n",
      "   ---------------------------------------  295.7/300.9 MB 4.0 MB/s eta 0:00:02\n",
      "   ---------------------------------------  295.8/300.9 MB 4.0 MB/s eta 0:00:02\n",
      "   ---------------------------------------  296.0/300.9 MB 4.0 MB/s eta 0:00:02\n",
      "   ---------------------------------------  296.2/300.9 MB 3.9 MB/s eta 0:00:02\n",
      "   ---------------------------------------  296.4/300.9 MB 3.9 MB/s eta 0:00:02\n",
      "   ---------------------------------------  296.5/300.9 MB 3.9 MB/s eta 0:00:02\n",
      "   ---------------------------------------  296.8/300.9 MB 4.0 MB/s eta 0:00:02\n",
      "   ---------------------------------------  296.9/300.9 MB 3.9 MB/s eta 0:00:02\n",
      "   ---------------------------------------  297.1/300.9 MB 3.9 MB/s eta 0:00:01\n",
      "   ---------------------------------------  297.3/300.9 MB 3.9 MB/s eta 0:00:01\n",
      "   ---------------------------------------  297.5/300.9 MB 3.9 MB/s eta 0:00:01\n",
      "   ---------------------------------------  297.7/300.9 MB 4.0 MB/s eta 0:00:01\n",
      "   ---------------------------------------  298.0/300.9 MB 4.0 MB/s eta 0:00:01\n",
      "   ---------------------------------------  298.2/300.9 MB 4.0 MB/s eta 0:00:01\n",
      "   ---------------------------------------  298.4/300.9 MB 4.0 MB/s eta 0:00:01\n",
      "   ---------------------------------------  298.7/300.9 MB 4.0 MB/s eta 0:00:01\n",
      "   ---------------------------------------  298.9/300.9 MB 4.0 MB/s eta 0:00:01\n",
      "   ---------------------------------------  299.1/300.9 MB 4.0 MB/s eta 0:00:01\n",
      "   ---------------------------------------  299.4/300.9 MB 4.1 MB/s eta 0:00:01\n",
      "   ---------------------------------------  299.6/300.9 MB 4.1 MB/s eta 0:00:01\n",
      "   ---------------------------------------  299.8/300.9 MB 4.1 MB/s eta 0:00:01\n",
      "   ---------------------------------------  300.0/300.9 MB 4.1 MB/s eta 0:00:01\n",
      "   ---------------------------------------  300.3/300.9 MB 4.1 MB/s eta 0:00:01\n",
      "   ---------------------------------------  300.5/300.9 MB 4.2 MB/s eta 0:00:01\n",
      "   ---------------------------------------  300.7/300.9 MB 4.2 MB/s eta 0:00:01\n",
      "   ---------------------------------------  300.9/300.9 MB 4.2 MB/s eta 0:00:01\n",
      "   ---------------------------------------  300.9/300.9 MB 4.2 MB/s eta 0:00:01\n",
      "   ---------------------------------------  300.9/300.9 MB 4.2 MB/s eta 0:00:01\n",
      "   ---------------------------------------  300.9/300.9 MB 4.2 MB/s eta 0:00:01\n",
      "   ---------------------------------------  300.9/300.9 MB 4.2 MB/s eta 0:00:01\n",
      "   ---------------------------------------  300.9/300.9 MB 4.2 MB/s eta 0:00:01\n",
      "   ---------------------------------------  300.9/300.9 MB 4.2 MB/s eta 0:00:01\n",
      "   ---------------------------------------  300.9/300.9 MB 4.2 MB/s eta 0:00:01\n",
      "   ---------------------------------------  300.9/300.9 MB 4.2 MB/s eta 0:00:01\n",
      "   ---------------------------------------  300.9/300.9 MB 4.2 MB/s eta 0:00:01\n",
      "   ---------------------------------------  300.9/300.9 MB 4.2 MB/s eta 0:00:01\n",
      "   ---------------------------------------  300.9/300.9 MB 4.2 MB/s eta 0:00:01\n",
      "   ---------------------------------------  300.9/300.9 MB 4.2 MB/s eta 0:00:01\n",
      "   ---------------------------------------  300.9/300.9 MB 4.2 MB/s eta 0:00:01\n",
      "   ---------------------------------------  300.9/300.9 MB 4.2 MB/s eta 0:00:01\n",
      "   ---------------------------------------  300.9/300.9 MB 4.2 MB/s eta 0:00:01\n",
      "   ---------------------------------------  300.9/300.9 MB 4.2 MB/s eta 0:00:01\n",
      "   ---------------------------------------  300.9/300.9 MB 4.2 MB/s eta 0:00:01\n",
      "   ---------------------------------------  300.9/300.9 MB 4.2 MB/s eta 0:00:01\n",
      "   ---------------------------------------  300.9/300.9 MB 4.2 MB/s eta 0:00:01\n",
      "   ---------------------------------------  300.9/300.9 MB 4.2 MB/s eta 0:00:01\n",
      "   ---------------------------------------  300.9/300.9 MB 4.2 MB/s eta 0:00:01\n",
      "   ---------------------------------------  300.9/300.9 MB 4.2 MB/s eta 0:00:01\n",
      "   ---------------------------------------  300.9/300.9 MB 4.2 MB/s eta 0:00:01\n",
      "   ---------------------------------------  300.9/300.9 MB 4.2 MB/s eta 0:00:01\n",
      "   ---------------------------------------  300.9/300.9 MB 4.2 MB/s eta 0:00:01\n",
      "   ---------------------------------------  300.9/300.9 MB 4.2 MB/s eta 0:00:01\n",
      "   ---------------------------------------  300.9/300.9 MB 4.2 MB/s eta 0:00:01\n",
      "   ---------------------------------------  300.9/300.9 MB 4.2 MB/s eta 0:00:01\n",
      "   ---------------------------------------  300.9/300.9 MB 4.2 MB/s eta 0:00:01\n",
      "   ---------------------------------------  300.9/300.9 MB 4.2 MB/s eta 0:00:01\n",
      "   ---------------------------------------  300.9/300.9 MB 4.2 MB/s eta 0:00:01\n",
      "   ---------------------------------------  300.9/300.9 MB 4.2 MB/s eta 0:00:01\n",
      "   ---------------------------------------  300.9/300.9 MB 4.2 MB/s eta 0:00:01\n",
      "   ---------------------------------------  300.9/300.9 MB 4.2 MB/s eta 0:00:01\n",
      "   ---------------------------------------  300.9/300.9 MB 4.2 MB/s eta 0:00:01\n",
      "   ---------------------------------------  300.9/300.9 MB 4.2 MB/s eta 0:00:01\n",
      "   ---------------------------------------  300.9/300.9 MB 4.2 MB/s eta 0:00:01\n",
      "   ---------------------------------------  300.9/300.9 MB 4.2 MB/s eta 0:00:01\n",
      "   ---------------------------------------  300.9/300.9 MB 4.2 MB/s eta 0:00:01\n",
      "   ---------------------------------------  300.9/300.9 MB 4.2 MB/s eta 0:00:01\n",
      "   ---------------------------------------  300.9/300.9 MB 4.2 MB/s eta 0:00:01\n",
      "   ---------------------------------------  300.9/300.9 MB 4.2 MB/s eta 0:00:01\n",
      "   ---------------------------------------  300.9/300.9 MB 4.2 MB/s eta 0:00:01\n",
      "   ---------------------------------------  300.9/300.9 MB 4.2 MB/s eta 0:00:01\n",
      "   ---------------------------------------  300.9/300.9 MB 4.2 MB/s eta 0:00:01\n",
      "   ---------------------------------------  300.9/300.9 MB 4.2 MB/s eta 0:00:01\n",
      "   ---------------------------------------  300.9/300.9 MB 4.2 MB/s eta 0:00:01\n",
      "   ---------------------------------------  300.9/300.9 MB 4.2 MB/s eta 0:00:01\n",
      "   ---------------------------------------  300.9/300.9 MB 4.2 MB/s eta 0:00:01\n",
      "   ---------------------------------------  300.9/300.9 MB 4.2 MB/s eta 0:00:01\n",
      "   ---------------------------------------  300.9/300.9 MB 4.2 MB/s eta 0:00:01\n",
      "   ---------------------------------------  300.9/300.9 MB 4.2 MB/s eta 0:00:01\n",
      "   ---------------------------------------  300.9/300.9 MB 4.2 MB/s eta 0:00:01\n",
      "   ---------------------------------------  300.9/300.9 MB 4.2 MB/s eta 0:00:01\n",
      "   ---------------------------------------  300.9/300.9 MB 4.2 MB/s eta 0:00:01\n",
      "   ---------------------------------------  300.9/300.9 MB 4.2 MB/s eta 0:00:01\n",
      "   ---------------------------------------  300.9/300.9 MB 4.2 MB/s eta 0:00:01\n",
      "   ---------------------------------------  300.9/300.9 MB 4.2 MB/s eta 0:00:01\n",
      "   ---------------------------------------  300.9/300.9 MB 4.2 MB/s eta 0:00:01\n",
      "   ---------------------------------------  300.9/300.9 MB 4.2 MB/s eta 0:00:01\n",
      "   ---------------------------------------  300.9/300.9 MB 4.2 MB/s eta 0:00:01\n",
      "   ---------------------------------------  300.9/300.9 MB 4.2 MB/s eta 0:00:01\n",
      "   ---------------------------------------  300.9/300.9 MB 4.2 MB/s eta 0:00:01\n",
      "   ---------------------------------------  300.9/300.9 MB 4.2 MB/s eta 0:00:01\n",
      "   ---------------------------------------  300.9/300.9 MB 4.2 MB/s eta 0:00:01\n",
      "   ---------------------------------------  300.9/300.9 MB 4.2 MB/s eta 0:00:01\n",
      "   ---------------------------------------  300.9/300.9 MB 4.2 MB/s eta 0:00:01\n",
      "   ---------------------------------------  300.9/300.9 MB 4.2 MB/s eta 0:00:01\n",
      "   ---------------------------------------  300.9/300.9 MB 4.2 MB/s eta 0:00:01\n",
      "   ---------------------------------------  300.9/300.9 MB 4.2 MB/s eta 0:00:01\n",
      "   ---------------------------------------  300.9/300.9 MB 4.2 MB/s eta 0:00:01\n",
      "   ---------------------------------------  300.9/300.9 MB 4.2 MB/s eta 0:00:01\n",
      "   ---------------------------------------  300.9/300.9 MB 4.2 MB/s eta 0:00:01\n",
      "   ---------------------------------------  300.9/300.9 MB 4.2 MB/s eta 0:00:01\n",
      "   ---------------------------------------  300.9/300.9 MB 4.2 MB/s eta 0:00:01\n",
      "   ---------------------------------------  300.9/300.9 MB 4.2 MB/s eta 0:00:01\n",
      "   ---------------------------------------  300.9/300.9 MB 4.2 MB/s eta 0:00:01\n",
      "   ---------------------------------------  300.9/300.9 MB 4.2 MB/s eta 0:00:01\n",
      "   ---------------------------------------  300.9/300.9 MB 4.2 MB/s eta 0:00:01\n",
      "   ---------------------------------------- 300.9/300.9 MB 1.6 MB/s eta 0:00:00\n",
      "Downloading absl_py-2.0.0-py3-none-any.whl (130 kB)\n",
      "   ---------------------------------------- 0.0/130.2 kB ? eta -:--:--\n",
      "   ---------------------------------------- 130.2/130.2 kB 3.9 MB/s eta 0:00:00\n",
      "Downloading flatbuffers-23.5.26-py2.py3-none-any.whl (26 kB)\n",
      "Downloading grpcio-1.60.0-cp311-cp311-win_amd64.whl (3.7 MB)\n",
      "   ---------------------------------------- 0.0/3.7 MB ? eta -:--:--\n",
      "   -- ------------------------------------- 0.2/3.7 MB 5.9 MB/s eta 0:00:01\n",
      "   ---- ----------------------------------- 0.4/3.7 MB 4.5 MB/s eta 0:00:01\n",
      "   ------- -------------------------------- 0.7/3.7 MB 5.2 MB/s eta 0:00:01\n",
      "   --------- ------------------------------ 0.9/3.7 MB 4.7 MB/s eta 0:00:01\n",
      "   ------------ --------------------------- 1.1/3.7 MB 4.7 MB/s eta 0:00:01\n",
      "   --------------- ------------------------ 1.4/3.7 MB 4.7 MB/s eta 0:00:01\n",
      "   ----------------- ---------------------- 1.6/3.7 MB 4.8 MB/s eta 0:00:01\n",
      "   -------------------- ------------------- 1.9/3.7 MB 4.8 MB/s eta 0:00:01\n",
      "   ---------------------- ----------------- 2.1/3.7 MB 4.8 MB/s eta 0:00:01\n",
      "   ------------------------- -------------- 2.3/3.7 MB 4.8 MB/s eta 0:00:01\n",
      "   --------------------------- ------------ 2.6/3.7 MB 4.8 MB/s eta 0:00:01\n",
      "   ------------------------------ --------- 2.8/3.7 MB 4.8 MB/s eta 0:00:01\n",
      "   -------------------------------- ------- 3.0/3.7 MB 4.8 MB/s eta 0:00:01\n",
      "   ----------------------------------- ---- 3.3/3.7 MB 4.8 MB/s eta 0:00:01\n",
      "   ------------------------------------- -- 3.5/3.7 MB 4.9 MB/s eta 0:00:01\n",
      "   -------------------------------------- - 3.6/3.7 MB 4.7 MB/s eta 0:00:01\n",
      "   ---------------------------------------  3.7/3.7 MB 4.5 MB/s eta 0:00:01\n",
      "   ---------------------------------------  3.7/3.7 MB 4.5 MB/s eta 0:00:01\n",
      "   ---------------------------------------- 3.7/3.7 MB 4.2 MB/s eta 0:00:00\n",
      "Downloading keras-2.15.0-py3-none-any.whl (1.7 MB)\n",
      "   ---------------------------------------- 0.0/1.7 MB ? eta -:--:--\n",
      "   ---- ----------------------------------- 0.2/1.7 MB 3.9 MB/s eta 0:00:01\n",
      "   -------- ------------------------------- 0.4/1.7 MB 3.9 MB/s eta 0:00:01\n",
      "   ------------- -------------------------- 0.6/1.7 MB 3.9 MB/s eta 0:00:01\n",
      "   ----------------- ---------------------- 0.7/1.7 MB 3.9 MB/s eta 0:00:01\n",
      "   --------------------- ------------------ 0.9/1.7 MB 3.9 MB/s eta 0:00:01\n",
      "   -------------------------- ------------- 1.1/1.7 MB 3.7 MB/s eta 0:00:01\n",
      "   ------------------------------ --------- 1.3/1.7 MB 4.0 MB/s eta 0:00:01\n",
      "   ---------------------------------- ----- 1.5/1.7 MB 4.0 MB/s eta 0:00:01\n",
      "   ---------------------------------------  1.7/1.7 MB 3.9 MB/s eta 0:00:01\n",
      "   ---------------------------------------- 1.7/1.7 MB 3.6 MB/s eta 0:00:00\n",
      "Downloading libclang-16.0.6-py2.py3-none-win_amd64.whl (24.4 MB)\n",
      "   ---------------------------------------- 0.0/24.4 MB ? eta -:--:--\n",
      "   ---------------------------------------- 0.1/24.4 MB 2.4 MB/s eta 0:00:11\n",
      "   ---------------------------------------- 0.3/24.4 MB 3.4 MB/s eta 0:00:08\n",
      "    --------------------------------------- 0.5/24.4 MB 3.1 MB/s eta 0:00:08\n",
      "   - -------------------------------------- 0.7/24.4 MB 3.8 MB/s eta 0:00:07\n",
      "   - -------------------------------------- 0.9/24.4 MB 3.9 MB/s eta 0:00:06\n",
      "   - -------------------------------------- 1.1/24.4 MB 3.8 MB/s eta 0:00:07\n",
      "   -- ------------------------------------- 1.2/24.4 MB 3.8 MB/s eta 0:00:07\n",
      "   -- ------------------------------------- 1.5/24.4 MB 3.9 MB/s eta 0:00:06\n",
      "   -- ------------------------------------- 1.7/24.4 MB 3.9 MB/s eta 0:00:06\n",
      "   --- ------------------------------------ 1.9/24.4 MB 4.0 MB/s eta 0:00:06\n",
      "   --- ------------------------------------ 2.1/24.4 MB 4.1 MB/s eta 0:00:06\n",
      "   --- ------------------------------------ 2.3/24.4 MB 4.1 MB/s eta 0:00:06\n",
      "   ---- ----------------------------------- 2.5/24.4 MB 4.2 MB/s eta 0:00:06\n",
      "   ---- ----------------------------------- 2.8/24.4 MB 4.2 MB/s eta 0:00:06\n",
      "   ---- ----------------------------------- 3.0/24.4 MB 4.2 MB/s eta 0:00:06\n",
      "   ----- ---------------------------------- 3.2/24.4 MB 4.3 MB/s eta 0:00:05\n",
      "   ----- ---------------------------------- 3.4/24.4 MB 4.3 MB/s eta 0:00:05\n",
      "   ------ --------------------------------- 3.7/24.4 MB 4.4 MB/s eta 0:00:05\n",
      "   ------ --------------------------------- 3.9/24.4 MB 4.4 MB/s eta 0:00:05\n",
      "   ------ --------------------------------- 4.1/24.4 MB 4.4 MB/s eta 0:00:05\n",
      "   ------- -------------------------------- 4.4/24.4 MB 4.4 MB/s eta 0:00:05\n",
      "   ------- -------------------------------- 4.6/24.4 MB 4.4 MB/s eta 0:00:05\n",
      "   ------- -------------------------------- 4.8/24.4 MB 4.4 MB/s eta 0:00:05\n",
      "   -------- ------------------------------- 5.0/24.4 MB 4.5 MB/s eta 0:00:05\n",
      "   -------- ------------------------------- 5.3/24.4 MB 4.5 MB/s eta 0:00:05\n",
      "   --------- ------------------------------ 5.5/24.4 MB 4.5 MB/s eta 0:00:05\n",
      "   --------- ------------------------------ 5.7/24.4 MB 4.5 MB/s eta 0:00:05\n",
      "   --------- ------------------------------ 6.0/24.4 MB 4.5 MB/s eta 0:00:05\n",
      "   ---------- ----------------------------- 6.2/24.4 MB 4.5 MB/s eta 0:00:05\n",
      "   ---------- ----------------------------- 6.5/24.4 MB 4.6 MB/s eta 0:00:04\n",
      "   ---------- ----------------------------- 6.7/24.4 MB 4.5 MB/s eta 0:00:04\n",
      "   ----------- ---------------------------- 6.9/24.4 MB 4.5 MB/s eta 0:00:04\n",
      "   ----------- ---------------------------- 7.1/24.4 MB 4.6 MB/s eta 0:00:04\n",
      "   ------------ --------------------------- 7.4/24.4 MB 4.6 MB/s eta 0:00:04\n",
      "   ------------ --------------------------- 7.6/24.4 MB 4.6 MB/s eta 0:00:04\n",
      "   ------------ --------------------------- 7.8/24.4 MB 4.6 MB/s eta 0:00:04\n",
      "   ------------- -------------------------- 8.0/24.4 MB 4.6 MB/s eta 0:00:04\n",
      "   ------------- -------------------------- 8.3/24.4 MB 4.6 MB/s eta 0:00:04\n",
      "   ------------- -------------------------- 8.4/24.4 MB 4.6 MB/s eta 0:00:04\n",
      "   -------------- ------------------------- 8.7/24.4 MB 4.6 MB/s eta 0:00:04\n",
      "   -------------- ------------------------- 8.9/24.4 MB 4.6 MB/s eta 0:00:04\n",
      "   -------------- ------------------------- 9.1/24.4 MB 4.6 MB/s eta 0:00:04\n",
      "   --------------- ------------------------ 9.4/24.4 MB 4.6 MB/s eta 0:00:04\n",
      "   --------------- ------------------------ 9.6/24.4 MB 4.6 MB/s eta 0:00:04\n",
      "   ---------------- ----------------------- 9.8/24.4 MB 4.6 MB/s eta 0:00:04\n",
      "   ---------------- ----------------------- 10.1/24.4 MB 4.6 MB/s eta 0:00:04\n",
      "   ---------------- ----------------------- 10.3/24.4 MB 4.6 MB/s eta 0:00:04\n",
      "   ----------------- ---------------------- 10.5/24.4 MB 4.7 MB/s eta 0:00:03\n",
      "   ----------------- ---------------------- 10.8/24.4 MB 4.7 MB/s eta 0:00:03\n",
      "   ----------------- ---------------------- 11.0/24.4 MB 4.7 MB/s eta 0:00:03\n",
      "   ------------------ --------------------- 11.2/24.4 MB 4.7 MB/s eta 0:00:03\n",
      "   ------------------ --------------------- 11.4/24.4 MB 4.8 MB/s eta 0:00:03\n",
      "   ------------------- -------------------- 11.7/24.4 MB 4.7 MB/s eta 0:00:03\n",
      "   ------------------- -------------------- 11.9/24.4 MB 4.8 MB/s eta 0:00:03\n",
      "   ------------------- -------------------- 12.1/24.4 MB 4.8 MB/s eta 0:00:03\n",
      "   -------------------- ------------------- 12.4/24.4 MB 4.8 MB/s eta 0:00:03\n",
      "   -------------------- ------------------- 12.6/24.4 MB 4.8 MB/s eta 0:00:03\n",
      "   -------------------- ------------------- 12.8/24.4 MB 4.8 MB/s eta 0:00:03\n",
      "   --------------------- ------------------ 13.0/24.4 MB 4.8 MB/s eta 0:00:03\n",
      "   --------------------- ------------------ 13.3/24.4 MB 4.9 MB/s eta 0:00:03\n",
      "   ---------------------- ----------------- 13.5/24.4 MB 4.8 MB/s eta 0:00:03\n",
      "   ---------------------- ----------------- 13.7/24.4 MB 4.8 MB/s eta 0:00:03\n",
      "   ---------------------- ----------------- 14.0/24.4 MB 4.8 MB/s eta 0:00:03\n",
      "   ----------------------- ---------------- 14.2/24.4 MB 4.8 MB/s eta 0:00:03\n",
      "   ----------------------- ---------------- 14.4/24.4 MB 4.8 MB/s eta 0:00:03\n",
      "   ----------------------- ---------------- 14.6/24.4 MB 4.8 MB/s eta 0:00:03\n",
      "   ------------------------ --------------- 14.9/24.4 MB 4.8 MB/s eta 0:00:02\n",
      "   ------------------------ --------------- 15.1/24.4 MB 4.9 MB/s eta 0:00:02\n",
      "   ------------------------- -------------- 15.3/24.4 MB 4.8 MB/s eta 0:00:02\n",
      "   ------------------------- -------------- 15.5/24.4 MB 4.8 MB/s eta 0:00:02\n",
      "   ------------------------- -------------- 15.8/24.4 MB 4.8 MB/s eta 0:00:02\n",
      "   -------------------------- ------------- 16.0/24.4 MB 4.8 MB/s eta 0:00:02\n",
      "   -------------------------- ------------- 16.2/24.4 MB 4.8 MB/s eta 0:00:02\n",
      "   -------------------------- ------------- 16.4/24.4 MB 4.8 MB/s eta 0:00:02\n",
      "   --------------------------- ------------ 16.7/24.4 MB 4.8 MB/s eta 0:00:02\n",
      "   --------------------------- ------------ 16.9/24.4 MB 4.8 MB/s eta 0:00:02\n",
      "   ---------------------------- ----------- 17.2/24.4 MB 4.8 MB/s eta 0:00:02\n",
      "   ---------------------------- ----------- 17.4/24.4 MB 4.8 MB/s eta 0:00:02\n",
      "   ---------------------------- ----------- 17.6/24.4 MB 4.8 MB/s eta 0:00:02\n",
      "   ----------------------------- ---------- 17.8/24.4 MB 4.8 MB/s eta 0:00:02\n",
      "   ----------------------------- ---------- 18.1/24.4 MB 4.8 MB/s eta 0:00:02\n",
      "   ----------------------------- ---------- 18.3/24.4 MB 4.8 MB/s eta 0:00:02\n",
      "   ------------------------------ --------- 18.4/24.4 MB 4.7 MB/s eta 0:00:02\n",
      "   ------------------------------ --------- 18.5/24.4 MB 4.7 MB/s eta 0:00:02\n",
      "   ------------------------------ --------- 18.7/24.4 MB 4.7 MB/s eta 0:00:02\n",
      "   ------------------------------ --------- 18.9/24.4 MB 4.6 MB/s eta 0:00:02\n",
      "   ------------------------------- -------- 19.0/24.4 MB 4.6 MB/s eta 0:00:02\n",
      "   ------------------------------- -------- 19.2/24.4 MB 4.6 MB/s eta 0:00:02\n",
      "   ------------------------------- -------- 19.4/24.4 MB 4.6 MB/s eta 0:00:02\n",
      "   -------------------------------- ------- 19.6/24.4 MB 4.6 MB/s eta 0:00:02\n",
      "   -------------------------------- ------- 19.8/24.4 MB 4.5 MB/s eta 0:00:02\n",
      "   -------------------------------- ------- 20.0/24.4 MB 4.5 MB/s eta 0:00:01\n",
      "   -------------------------------- ------- 20.1/24.4 MB 4.5 MB/s eta 0:00:01\n",
      "   --------------------------------- ------ 20.3/24.4 MB 4.5 MB/s eta 0:00:01\n",
      "   --------------------------------- ------ 20.5/24.4 MB 4.5 MB/s eta 0:00:01\n",
      "   --------------------------------- ------ 20.7/24.4 MB 4.5 MB/s eta 0:00:01\n",
      "   ---------------------------------- ----- 20.9/24.4 MB 4.5 MB/s eta 0:00:01\n",
      "   ---------------------------------- ----- 21.1/24.4 MB 4.5 MB/s eta 0:00:01\n",
      "   ---------------------------------- ----- 21.3/24.4 MB 4.5 MB/s eta 0:00:01\n",
      "   ----------------------------------- ---- 21.5/24.4 MB 4.5 MB/s eta 0:00:01\n",
      "   ----------------------------------- ---- 21.7/24.4 MB 4.5 MB/s eta 0:00:01\n",
      "   ----------------------------------- ---- 21.9/24.4 MB 4.4 MB/s eta 0:00:01\n",
      "   ------------------------------------ --- 22.2/24.4 MB 4.4 MB/s eta 0:00:01\n",
      "   ------------------------------------ --- 22.4/24.4 MB 4.4 MB/s eta 0:00:01\n",
      "   ------------------------------------ --- 22.6/24.4 MB 4.4 MB/s eta 0:00:01\n",
      "   ------------------------------------- -- 22.8/24.4 MB 4.4 MB/s eta 0:00:01\n",
      "   ------------------------------------- -- 23.0/24.4 MB 4.4 MB/s eta 0:00:01\n",
      "   -------------------------------------- - 23.2/24.4 MB 4.4 MB/s eta 0:00:01\n",
      "   -------------------------------------- - 23.4/24.4 MB 4.4 MB/s eta 0:00:01\n",
      "   -------------------------------------- - 23.7/24.4 MB 4.4 MB/s eta 0:00:01\n",
      "   ---------------------------------------  23.9/24.4 MB 4.4 MB/s eta 0:00:01\n",
      "   ---------------------------------------  24.1/24.4 MB 4.4 MB/s eta 0:00:01\n",
      "   ---------------------------------------  24.3/24.4 MB 4.4 MB/s eta 0:00:01\n",
      "   ---------------------------------------  24.4/24.4 MB 4.4 MB/s eta 0:00:01\n",
      "   ---------------------------------------  24.4/24.4 MB 4.4 MB/s eta 0:00:01\n",
      "   ---------------------------------------  24.4/24.4 MB 4.4 MB/s eta 0:00:01\n",
      "   ---------------------------------------  24.4/24.4 MB 4.4 MB/s eta 0:00:01\n",
      "   ---------------------------------------- 24.4/24.4 MB 4.0 MB/s eta 0:00:00\n",
      "Downloading ml_dtypes-0.2.0-cp311-cp311-win_amd64.whl (938 kB)\n",
      "   ---------------------------------------- 0.0/938.7 kB ? eta -:--:--\n",
      "   ---------- ----------------------------- 235.5/938.7 kB 4.8 MB/s eta 0:00:01\n",
      "   ------------------- -------------------- 460.8/938.7 kB 4.8 MB/s eta 0:00:01\n",
      "   --------------------------- ------------ 645.1/938.7 kB 5.1 MB/s eta 0:00:01\n",
      "   --------------------------------- ------ 778.2/938.7 kB 4.5 MB/s eta 0:00:01\n",
      "   ------------------------------------- -- 890.9/938.7 kB 3.8 MB/s eta 0:00:01\n",
      "   ---------------------------------------- 938.7/938.7 kB 3.5 MB/s eta 0:00:00\n",
      "Downloading tensorboard-2.15.1-py3-none-any.whl (5.5 MB)\n",
      "   ---------------------------------------- 0.0/5.5 MB ? eta -:--:--\n",
      "   - -------------------------------------- 0.2/5.5 MB 3.1 MB/s eta 0:00:02\n",
      "   -- ------------------------------------- 0.3/5.5 MB 3.2 MB/s eta 0:00:02\n",
      "   --- ------------------------------------ 0.5/5.5 MB 3.4 MB/s eta 0:00:02\n",
      "   ----- ---------------------------------- 0.7/5.5 MB 3.7 MB/s eta 0:00:02\n",
      "   ------ --------------------------------- 0.9/5.5 MB 3.9 MB/s eta 0:00:02\n",
      "   -------- ------------------------------- 1.2/5.5 MB 4.1 MB/s eta 0:00:02\n",
      "   --------- ------------------------------ 1.3/5.5 MB 3.9 MB/s eta 0:00:02\n",
      "   ---------- ----------------------------- 1.5/5.5 MB 3.9 MB/s eta 0:00:02\n",
      "   ------------ --------------------------- 1.7/5.5 MB 4.0 MB/s eta 0:00:01\n",
      "   ------------- -------------------------- 1.9/5.5 MB 4.1 MB/s eta 0:00:01\n",
      "   --------------- ------------------------ 2.1/5.5 MB 4.2 MB/s eta 0:00:01\n",
      "   ---------------- ----------------------- 2.3/5.5 MB 4.1 MB/s eta 0:00:01\n",
      "   ------------------ --------------------- 2.5/5.5 MB 4.1 MB/s eta 0:00:01\n",
      "   ------------------- -------------------- 2.8/5.5 MB 4.2 MB/s eta 0:00:01\n",
      "   --------------------- ------------------ 3.0/5.5 MB 4.2 MB/s eta 0:00:01\n",
      "   ----------------------- ---------------- 3.2/5.5 MB 4.3 MB/s eta 0:00:01\n",
      "   ------------------------ --------------- 3.4/5.5 MB 4.3 MB/s eta 0:00:01\n",
      "   -------------------------- ------------- 3.6/5.5 MB 4.2 MB/s eta 0:00:01\n",
      "   --------------------------- ------------ 3.8/5.5 MB 4.3 MB/s eta 0:00:01\n",
      "   ----------------------------- ---------- 4.1/5.5 MB 4.3 MB/s eta 0:00:01\n",
      "   ------------------------------ --------- 4.2/5.5 MB 4.2 MB/s eta 0:00:01\n",
      "   ------------------------------- -------- 4.4/5.5 MB 4.3 MB/s eta 0:00:01\n",
      "   --------------------------------- ------ 4.6/5.5 MB 4.2 MB/s eta 0:00:01\n",
      "   ---------------------------------- ----- 4.8/5.5 MB 4.2 MB/s eta 0:00:01\n",
      "   ------------------------------------ --- 5.0/5.5 MB 4.2 MB/s eta 0:00:01\n",
      "   ------------------------------------- -- 5.2/5.5 MB 4.2 MB/s eta 0:00:01\n",
      "   -------------------------------------- - 5.4/5.5 MB 4.2 MB/s eta 0:00:01\n",
      "   ---------------------------------------  5.5/5.5 MB 4.2 MB/s eta 0:00:01\n",
      "   ---------------------------------------- 5.5/5.5 MB 4.0 MB/s eta 0:00:00\n",
      "Downloading protobuf-4.23.4-cp310-abi3-win_amd64.whl (422 kB)\n",
      "   ---------------------------------------- 0.0/422.5 kB ? eta -:--:--\n",
      "   --------------- ------------------------ 163.8/422.5 kB 3.3 MB/s eta 0:00:01\n",
      "   ----------------------------- ---------- 307.2/422.5 kB 3.2 MB/s eta 0:00:01\n",
      "   ---------------------------------------  419.8/422.5 kB 2.9 MB/s eta 0:00:01\n",
      "   ---------------------------------------- 422.5/422.5 kB 2.9 MB/s eta 0:00:00\n",
      "Downloading tensorflow_estimator-2.15.0-py2.py3-none-any.whl (441 kB)\n",
      "   ---------------------------------------- 0.0/442.0 kB ? eta -:--:--\n",
      "   ------------ --------------------------- 143.4/442.0 kB 2.8 MB/s eta 0:00:01\n",
      "   ---------------------- ----------------- 245.8/442.0 kB 2.5 MB/s eta 0:00:01\n",
      "   ------------------------------------ --- 399.4/442.0 kB 3.1 MB/s eta 0:00:01\n",
      "   ---------------------------------------- 442.0/442.0 kB 2.8 MB/s eta 0:00:00\n",
      "Downloading termcolor-2.4.0-py3-none-any.whl (7.7 kB)\n",
      "Downloading google_auth-2.26.2-py2.py3-none-any.whl (186 kB)\n",
      "   ---------------------------------------- 0.0/186.5 kB ? eta -:--:--\n",
      "   ---------------------------------------  184.3/186.5 kB 5.6 MB/s eta 0:00:01\n",
      "   ---------------------------------------- 186.5/186.5 kB 3.7 MB/s eta 0:00:00\n",
      "Downloading google_auth_oauthlib-1.2.0-py2.py3-none-any.whl (24 kB)\n",
      "Downloading tensorboard_data_server-0.7.2-py3-none-any.whl (2.4 kB)\n",
      "Downloading cachetools-5.3.2-py3-none-any.whl (9.3 kB)\n",
      "Installing collected packages: libclang, flatbuffers, termcolor, tensorflow-io-gcs-filesystem, tensorflow-estimator, tensorboard-data-server, rsa, protobuf, opt-einsum, oauthlib, ml-dtypes, keras, grpcio, google-pasta, gast, cachetools, astunparse, absl-py, requests-oauthlib, google-auth, google-auth-oauthlib, tensorboard, tensorflow-intel, tensorflow\n",
      "Successfully installed absl-py-2.0.0 astunparse-1.6.3 cachetools-5.3.2 flatbuffers-23.5.26 gast-0.5.4 google-auth-2.26.2 google-auth-oauthlib-1.2.0 google-pasta-0.2.0 grpcio-1.60.0 keras-2.15.0 libclang-16.0.6 ml-dtypes-0.2.0 oauthlib-3.2.2 opt-einsum-3.3.0 protobuf-4.23.4 requests-oauthlib-1.3.1 rsa-4.9 tensorboard-2.15.1 tensorboard-data-server-0.7.2 tensorflow-2.15.0 tensorflow-estimator-2.15.0 tensorflow-intel-2.15.0 tensorflow-io-gcs-filesystem-0.31.0 termcolor-2.4.0\n"
     ]
    }
   ],
   "source": [
    "!pip install tensorflow\n"
   ]
  },
  {
   "cell_type": "code",
   "execution_count": null,
   "id": "0a158c9d",
   "metadata": {},
   "outputs": [],
   "source": []
  }
 ],
 "metadata": {
  "kernelspec": {
   "display_name": "Python 3 (ipykernel)",
   "language": "python",
   "name": "python3"
  },
  "language_info": {
   "codemirror_mode": {
    "name": "ipython",
    "version": 3
   },
   "file_extension": ".py",
   "mimetype": "text/x-python",
   "name": "python",
   "nbconvert_exporter": "python",
   "pygments_lexer": "ipython3",
   "version": "3.11.5"
  }
 },
 "nbformat": 4,
 "nbformat_minor": 5
}
